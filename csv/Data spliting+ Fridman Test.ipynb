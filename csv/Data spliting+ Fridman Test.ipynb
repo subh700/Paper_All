{
 "cells": [
  {
   "cell_type": "code",
   "execution_count": 1,
   "id": "6903a7fe-f277-49f4-8a51-77143892ab10",
   "metadata": {
    "execution": {
     "iopub.execute_input": "2023-04-17T18:23:33.310767Z",
     "iopub.status.busy": "2023-04-17T18:23:33.310247Z",
     "iopub.status.idle": "2023-04-17T18:23:33.702747Z",
     "shell.execute_reply": "2023-04-17T18:23:33.701911Z",
     "shell.execute_reply.started": "2023-04-17T18:23:33.310710Z"
    },
    "tags": []
   },
   "outputs": [],
   "source": [
    "import pandas as pd\n",
    "import plotly.graph_objects as go"
   ]
  },
  {
   "cell_type": "code",
   "execution_count": 2,
   "id": "4a0312d4-6460-43ab-b132-8c8f932d7afe",
   "metadata": {
    "execution": {
     "iopub.execute_input": "2023-04-17T18:23:33.705192Z",
     "iopub.status.busy": "2023-04-17T18:23:33.704867Z",
     "iopub.status.idle": "2023-04-17T18:23:33.715185Z",
     "shell.execute_reply": "2023-04-17T18:23:33.714323Z",
     "shell.execute_reply.started": "2023-04-17T18:23:33.705168Z"
    },
    "tags": []
   },
   "outputs": [
    {
     "data": {
      "text/plain": [
       "['POWER_Point_Daily_Presure_Data/POWER_Point_Daily_Presure_Data_Results.csv',\n",
       " 'PRSA_data_2010_12_data/PRSA_data_2010_12_data_Results.csv',\n",
       " 'BeijingPM2.5_data/BeijingPM2.5_data_Results.csv',\n",
       " 'Healthy_control_heart_data/Healthy_control_heart_data_Results.csv',\n",
       " 'PM2.5_p09_data/PM2.5_p09_data_Results.csv',\n",
       " 'Daily_Sunspot_data/Daily_Sunspot_data_Results.csv',\n",
       " 'Myocardial_infarction_heart_data/Myocardial_infarction_heart_data_Results.csv',\n",
       " 'sale_uni_392_data/Sale_Uni_392_data_Results.csv',\n",
       " 'POWER_Point_Daily_WindSpeed_data/POWER_Point_Daily_WindSpeed_data_Results.csv',\n",
       " 'SunSpotMonthly_Data/SunSpotMonthly_Data_Results.csv',\n",
       " 'POWER_Point_Daily_Temperature/POWER_Point_Daily_Temperature_Data_Results.csv']"
      ]
     },
     "execution_count": 2,
     "metadata": {},
     "output_type": "execute_result"
    }
   ],
   "source": [
    "import glob\n",
    "all_f= glob.glob('*/*_Results.csv')\n",
    "all_f"
   ]
  },
  {
   "cell_type": "code",
   "execution_count": 113,
   "id": "aa0eef8c-6611-4ba0-8de8-508389fb0035",
   "metadata": {
    "execution": {
     "iopub.execute_input": "2023-04-17T18:32:08.365472Z",
     "iopub.status.busy": "2023-04-17T18:32:08.364895Z",
     "iopub.status.idle": "2023-04-17T18:32:08.375114Z",
     "shell.execute_reply": "2023-04-17T18:32:08.374093Z",
     "shell.execute_reply.started": "2023-04-17T18:32:08.365419Z"
    },
    "tags": []
   },
   "outputs": [
    {
     "data": {
      "text/plain": [
       "'POWER_Point_Daily_TemperaturePOWER'"
      ]
     },
     "execution_count": 113,
     "metadata": {},
     "output_type": "execute_result"
    }
   ],
   "source": [
    "fn=10\n",
    "d_n=all_f[fn].split(r'/')\n",
    "dn=d_n[0]+d_n[1]\n",
    "dn=dn.split(r'_')\n",
    "dn=dn[0]+'_'+dn[1]+'_'+dn[2]+'_'+dn[3]\n",
    "dn"
   ]
  },
  {
   "cell_type": "code",
   "execution_count": 114,
   "id": "062501f9-a0c9-4a65-ac14-dca64742757c",
   "metadata": {
    "execution": {
     "iopub.execute_input": "2023-04-17T18:32:10.918923Z",
     "iopub.status.busy": "2023-04-17T18:32:10.916854Z",
     "iopub.status.idle": "2023-04-17T18:32:10.970998Z",
     "shell.execute_reply": "2023-04-17T18:32:10.970224Z",
     "shell.execute_reply.started": "2023-04-17T18:32:10.918845Z"
    },
    "tags": []
   },
   "outputs": [],
   "source": [
    "li=[]\n",
    "for file_name in all_f:\n",
    "    df=pd.read_csv(file_name)\n",
    "    li.append(df)\n"
   ]
  },
  {
   "cell_type": "code",
   "execution_count": 115,
   "id": "eb63bf33-11dd-469a-862b-7f2a4ddd39e7",
   "metadata": {
    "execution": {
     "iopub.execute_input": "2023-04-17T18:32:11.357399Z",
     "iopub.status.busy": "2023-04-17T18:32:11.356806Z",
     "iopub.status.idle": "2023-04-17T18:32:11.398146Z",
     "shell.execute_reply": "2023-04-17T18:32:11.397285Z",
     "shell.execute_reply.started": "2023-04-17T18:32:11.357345Z"
    },
    "tags": []
   },
   "outputs": [
    {
     "data": {
      "text/html": [
       "<div>\n",
       "<style scoped>\n",
       "    .dataframe tbody tr th:only-of-type {\n",
       "        vertical-align: middle;\n",
       "    }\n",
       "\n",
       "    .dataframe tbody tr th {\n",
       "        vertical-align: top;\n",
       "    }\n",
       "\n",
       "    .dataframe thead th {\n",
       "        text-align: right;\n",
       "    }\n",
       "</style>\n",
       "<table border=\"1\" class=\"dataframe\">\n",
       "  <thead>\n",
       "    <tr style=\"text-align: right;\">\n",
       "      <th></th>\n",
       "      <th>Unnamed: 0</th>\n",
       "      <th>iteration_No</th>\n",
       "      <th>models</th>\n",
       "      <th>A_B_rmse</th>\n",
       "      <th>RMSE</th>\n",
       "      <th>A_B_mape</th>\n",
       "      <th>MAPE</th>\n",
       "    </tr>\n",
       "  </thead>\n",
       "  <tbody>\n",
       "    <tr>\n",
       "      <th>0</th>\n",
       "      <td>0</td>\n",
       "      <td>0</td>\n",
       "      <td>BiLSTM</td>\n",
       "      <td>0.324411</td>\n",
       "      <td>1.156632</td>\n",
       "      <td>1.145282</td>\n",
       "      <td>3.889643</td>\n",
       "    </tr>\n",
       "    <tr>\n",
       "      <th>1</th>\n",
       "      <td>1</td>\n",
       "      <td>0</td>\n",
       "      <td>LSTM</td>\n",
       "      <td>0.322015</td>\n",
       "      <td>1.160630</td>\n",
       "      <td>1.158062</td>\n",
       "      <td>3.935808</td>\n",
       "    </tr>\n",
       "    <tr>\n",
       "      <th>2</th>\n",
       "      <td>2</td>\n",
       "      <td>&lt;keras.engine.sequential.Sequential object at ...</td>\n",
       "      <td>GRU</td>\n",
       "      <td>0.276451</td>\n",
       "      <td>1.167924</td>\n",
       "      <td>0.979907</td>\n",
       "      <td>3.973660</td>\n",
       "    </tr>\n",
       "    <tr>\n",
       "      <th>3</th>\n",
       "      <td>3</td>\n",
       "      <td>0</td>\n",
       "      <td>CNN</td>\n",
       "      <td>0.265310</td>\n",
       "      <td>1.176331</td>\n",
       "      <td>0.951922</td>\n",
       "      <td>3.960865</td>\n",
       "    </tr>\n",
       "    <tr>\n",
       "      <th>4</th>\n",
       "      <td>4</td>\n",
       "      <td>0</td>\n",
       "      <td>RNN</td>\n",
       "      <td>0.271380</td>\n",
       "      <td>1.164102</td>\n",
       "      <td>0.976705</td>\n",
       "      <td>3.928579</td>\n",
       "    </tr>\n",
       "    <tr>\n",
       "      <th>5</th>\n",
       "      <td>5</td>\n",
       "      <td>1</td>\n",
       "      <td>BiLSTM</td>\n",
       "      <td>0.271946</td>\n",
       "      <td>1.162789</td>\n",
       "      <td>0.978479</td>\n",
       "      <td>3.941293</td>\n",
       "    </tr>\n",
       "    <tr>\n",
       "      <th>6</th>\n",
       "      <td>6</td>\n",
       "      <td>1</td>\n",
       "      <td>LSTM</td>\n",
       "      <td>0.291858</td>\n",
       "      <td>1.161279</td>\n",
       "      <td>1.063515</td>\n",
       "      <td>3.947222</td>\n",
       "    </tr>\n",
       "    <tr>\n",
       "      <th>7</th>\n",
       "      <td>7</td>\n",
       "      <td>&lt;keras.engine.sequential.Sequential object at ...</td>\n",
       "      <td>GRU</td>\n",
       "      <td>0.292384</td>\n",
       "      <td>1.164096</td>\n",
       "      <td>1.041850</td>\n",
       "      <td>3.948154</td>\n",
       "    </tr>\n",
       "    <tr>\n",
       "      <th>8</th>\n",
       "      <td>8</td>\n",
       "      <td>1</td>\n",
       "      <td>CNN</td>\n",
       "      <td>0.263157</td>\n",
       "      <td>1.174675</td>\n",
       "      <td>0.940239</td>\n",
       "      <td>3.958695</td>\n",
       "    </tr>\n",
       "    <tr>\n",
       "      <th>9</th>\n",
       "      <td>9</td>\n",
       "      <td>1</td>\n",
       "      <td>RNN</td>\n",
       "      <td>0.285363</td>\n",
       "      <td>1.164081</td>\n",
       "      <td>0.976444</td>\n",
       "      <td>3.909250</td>\n",
       "    </tr>\n",
       "    <tr>\n",
       "      <th>10</th>\n",
       "      <td>10</td>\n",
       "      <td>2</td>\n",
       "      <td>BiLSTM</td>\n",
       "      <td>0.264070</td>\n",
       "      <td>1.160980</td>\n",
       "      <td>0.947607</td>\n",
       "      <td>3.937060</td>\n",
       "    </tr>\n",
       "    <tr>\n",
       "      <th>11</th>\n",
       "      <td>11</td>\n",
       "      <td>2</td>\n",
       "      <td>LSTM</td>\n",
       "      <td>0.366316</td>\n",
       "      <td>1.157678</td>\n",
       "      <td>1.190221</td>\n",
       "      <td>3.940807</td>\n",
       "    </tr>\n",
       "    <tr>\n",
       "      <th>12</th>\n",
       "      <td>12</td>\n",
       "      <td>&lt;keras.engine.sequential.Sequential object at ...</td>\n",
       "      <td>GRU</td>\n",
       "      <td>0.301637</td>\n",
       "      <td>1.164457</td>\n",
       "      <td>1.067411</td>\n",
       "      <td>3.954742</td>\n",
       "    </tr>\n",
       "    <tr>\n",
       "      <th>13</th>\n",
       "      <td>13</td>\n",
       "      <td>2</td>\n",
       "      <td>CNN</td>\n",
       "      <td>0.230065</td>\n",
       "      <td>1.169097</td>\n",
       "      <td>0.804789</td>\n",
       "      <td>3.953834</td>\n",
       "    </tr>\n",
       "    <tr>\n",
       "      <th>14</th>\n",
       "      <td>14</td>\n",
       "      <td>2</td>\n",
       "      <td>RNN</td>\n",
       "      <td>0.284041</td>\n",
       "      <td>1.163554</td>\n",
       "      <td>0.936192</td>\n",
       "      <td>3.942459</td>\n",
       "    </tr>\n",
       "    <tr>\n",
       "      <th>15</th>\n",
       "      <td>15</td>\n",
       "      <td>3</td>\n",
       "      <td>BiLSTM</td>\n",
       "      <td>0.273323</td>\n",
       "      <td>1.163444</td>\n",
       "      <td>0.979961</td>\n",
       "      <td>3.961380</td>\n",
       "    </tr>\n",
       "    <tr>\n",
       "      <th>16</th>\n",
       "      <td>16</td>\n",
       "      <td>3</td>\n",
       "      <td>LSTM</td>\n",
       "      <td>0.380657</td>\n",
       "      <td>1.167734</td>\n",
       "      <td>1.379458</td>\n",
       "      <td>3.982739</td>\n",
       "    </tr>\n",
       "    <tr>\n",
       "      <th>17</th>\n",
       "      <td>17</td>\n",
       "      <td>&lt;keras.engine.sequential.Sequential object at ...</td>\n",
       "      <td>GRU</td>\n",
       "      <td>0.287852</td>\n",
       "      <td>1.160412</td>\n",
       "      <td>1.032916</td>\n",
       "      <td>3.944507</td>\n",
       "    </tr>\n",
       "    <tr>\n",
       "      <th>18</th>\n",
       "      <td>18</td>\n",
       "      <td>3</td>\n",
       "      <td>CNN</td>\n",
       "      <td>0.280968</td>\n",
       "      <td>1.177491</td>\n",
       "      <td>1.007259</td>\n",
       "      <td>3.964205</td>\n",
       "    </tr>\n",
       "    <tr>\n",
       "      <th>19</th>\n",
       "      <td>19</td>\n",
       "      <td>3</td>\n",
       "      <td>RNN</td>\n",
       "      <td>0.285113</td>\n",
       "      <td>1.162284</td>\n",
       "      <td>0.904408</td>\n",
       "      <td>3.960184</td>\n",
       "    </tr>\n",
       "    <tr>\n",
       "      <th>20</th>\n",
       "      <td>20</td>\n",
       "      <td>4</td>\n",
       "      <td>BiLSTM</td>\n",
       "      <td>0.288812</td>\n",
       "      <td>1.164308</td>\n",
       "      <td>1.051807</td>\n",
       "      <td>3.929823</td>\n",
       "    </tr>\n",
       "    <tr>\n",
       "      <th>21</th>\n",
       "      <td>21</td>\n",
       "      <td>4</td>\n",
       "      <td>LSTM</td>\n",
       "      <td>0.282411</td>\n",
       "      <td>1.159278</td>\n",
       "      <td>1.011304</td>\n",
       "      <td>3.942831</td>\n",
       "    </tr>\n",
       "    <tr>\n",
       "      <th>22</th>\n",
       "      <td>22</td>\n",
       "      <td>&lt;keras.engine.sequential.Sequential object at ...</td>\n",
       "      <td>GRU</td>\n",
       "      <td>0.335996</td>\n",
       "      <td>1.154036</td>\n",
       "      <td>1.188020</td>\n",
       "      <td>3.912813</td>\n",
       "    </tr>\n",
       "    <tr>\n",
       "      <th>23</th>\n",
       "      <td>23</td>\n",
       "      <td>4</td>\n",
       "      <td>CNN</td>\n",
       "      <td>0.244744</td>\n",
       "      <td>1.176713</td>\n",
       "      <td>0.860417</td>\n",
       "      <td>4.001757</td>\n",
       "    </tr>\n",
       "    <tr>\n",
       "      <th>24</th>\n",
       "      <td>24</td>\n",
       "      <td>4</td>\n",
       "      <td>RNN</td>\n",
       "      <td>0.376248</td>\n",
       "      <td>1.232769</td>\n",
       "      <td>1.469688</td>\n",
       "      <td>4.514861</td>\n",
       "    </tr>\n",
       "    <tr>\n",
       "      <th>25</th>\n",
       "      <td>25</td>\n",
       "      <td>5</td>\n",
       "      <td>BiLSTM</td>\n",
       "      <td>0.267541</td>\n",
       "      <td>1.163335</td>\n",
       "      <td>0.957843</td>\n",
       "      <td>3.946821</td>\n",
       "    </tr>\n",
       "    <tr>\n",
       "      <th>26</th>\n",
       "      <td>26</td>\n",
       "      <td>5</td>\n",
       "      <td>LSTM</td>\n",
       "      <td>0.335126</td>\n",
       "      <td>1.157437</td>\n",
       "      <td>1.102629</td>\n",
       "      <td>3.923126</td>\n",
       "    </tr>\n",
       "    <tr>\n",
       "      <th>27</th>\n",
       "      <td>27</td>\n",
       "      <td>&lt;keras.engine.sequential.Sequential object at ...</td>\n",
       "      <td>GRU</td>\n",
       "      <td>0.342676</td>\n",
       "      <td>1.160165</td>\n",
       "      <td>1.204307</td>\n",
       "      <td>3.972159</td>\n",
       "    </tr>\n",
       "    <tr>\n",
       "      <th>28</th>\n",
       "      <td>28</td>\n",
       "      <td>5</td>\n",
       "      <td>CNN</td>\n",
       "      <td>0.353022</td>\n",
       "      <td>1.196347</td>\n",
       "      <td>1.305763</td>\n",
       "      <td>4.019354</td>\n",
       "    </tr>\n",
       "    <tr>\n",
       "      <th>29</th>\n",
       "      <td>29</td>\n",
       "      <td>5</td>\n",
       "      <td>RNN</td>\n",
       "      <td>0.386417</td>\n",
       "      <td>1.283407</td>\n",
       "      <td>1.564379</td>\n",
       "      <td>4.805142</td>\n",
       "    </tr>\n",
       "    <tr>\n",
       "      <th>30</th>\n",
       "      <td>30</td>\n",
       "      <td>6</td>\n",
       "      <td>BiLSTM</td>\n",
       "      <td>0.264015</td>\n",
       "      <td>1.160067</td>\n",
       "      <td>0.938701</td>\n",
       "      <td>3.916467</td>\n",
       "    </tr>\n",
       "    <tr>\n",
       "      <th>31</th>\n",
       "      <td>31</td>\n",
       "      <td>6</td>\n",
       "      <td>LSTM</td>\n",
       "      <td>0.282970</td>\n",
       "      <td>1.154926</td>\n",
       "      <td>0.984424</td>\n",
       "      <td>3.873071</td>\n",
       "    </tr>\n",
       "    <tr>\n",
       "      <th>32</th>\n",
       "      <td>32</td>\n",
       "      <td>&lt;keras.engine.sequential.Sequential object at ...</td>\n",
       "      <td>GRU</td>\n",
       "      <td>0.287934</td>\n",
       "      <td>1.161572</td>\n",
       "      <td>1.016695</td>\n",
       "      <td>3.949666</td>\n",
       "    </tr>\n",
       "    <tr>\n",
       "      <th>33</th>\n",
       "      <td>33</td>\n",
       "      <td>6</td>\n",
       "      <td>CNN</td>\n",
       "      <td>0.233740</td>\n",
       "      <td>1.171245</td>\n",
       "      <td>0.831176</td>\n",
       "      <td>3.952292</td>\n",
       "    </tr>\n",
       "    <tr>\n",
       "      <th>34</th>\n",
       "      <td>34</td>\n",
       "      <td>6</td>\n",
       "      <td>RNN</td>\n",
       "      <td>0.340053</td>\n",
       "      <td>1.176771</td>\n",
       "      <td>1.208576</td>\n",
       "      <td>3.930152</td>\n",
       "    </tr>\n",
       "    <tr>\n",
       "      <th>35</th>\n",
       "      <td>35</td>\n",
       "      <td>7</td>\n",
       "      <td>BiLSTM</td>\n",
       "      <td>0.275222</td>\n",
       "      <td>1.163978</td>\n",
       "      <td>1.013897</td>\n",
       "      <td>3.927444</td>\n",
       "    </tr>\n",
       "    <tr>\n",
       "      <th>36</th>\n",
       "      <td>36</td>\n",
       "      <td>7</td>\n",
       "      <td>LSTM</td>\n",
       "      <td>0.335642</td>\n",
       "      <td>1.160430</td>\n",
       "      <td>1.142419</td>\n",
       "      <td>3.960067</td>\n",
       "    </tr>\n",
       "    <tr>\n",
       "      <th>37</th>\n",
       "      <td>37</td>\n",
       "      <td>&lt;keras.engine.sequential.Sequential object at ...</td>\n",
       "      <td>GRU</td>\n",
       "      <td>0.276178</td>\n",
       "      <td>1.165989</td>\n",
       "      <td>0.989247</td>\n",
       "      <td>4.002195</td>\n",
       "    </tr>\n",
       "    <tr>\n",
       "      <th>38</th>\n",
       "      <td>38</td>\n",
       "      <td>7</td>\n",
       "      <td>CNN</td>\n",
       "      <td>0.259212</td>\n",
       "      <td>1.172195</td>\n",
       "      <td>0.925507</td>\n",
       "      <td>3.955542</td>\n",
       "    </tr>\n",
       "    <tr>\n",
       "      <th>39</th>\n",
       "      <td>39</td>\n",
       "      <td>7</td>\n",
       "      <td>RNN</td>\n",
       "      <td>0.336219</td>\n",
       "      <td>1.176524</td>\n",
       "      <td>1.212073</td>\n",
       "      <td>4.011636</td>\n",
       "    </tr>\n",
       "    <tr>\n",
       "      <th>40</th>\n",
       "      <td>40</td>\n",
       "      <td>8</td>\n",
       "      <td>BiLSTM</td>\n",
       "      <td>0.276308</td>\n",
       "      <td>1.163579</td>\n",
       "      <td>0.989958</td>\n",
       "      <td>3.948626</td>\n",
       "    </tr>\n",
       "    <tr>\n",
       "      <th>41</th>\n",
       "      <td>41</td>\n",
       "      <td>8</td>\n",
       "      <td>LSTM</td>\n",
       "      <td>0.299775</td>\n",
       "      <td>1.161311</td>\n",
       "      <td>1.039635</td>\n",
       "      <td>3.958475</td>\n",
       "    </tr>\n",
       "    <tr>\n",
       "      <th>42</th>\n",
       "      <td>42</td>\n",
       "      <td>&lt;keras.engine.sequential.Sequential object at ...</td>\n",
       "      <td>GRU</td>\n",
       "      <td>0.336983</td>\n",
       "      <td>1.156584</td>\n",
       "      <td>1.230357</td>\n",
       "      <td>3.940319</td>\n",
       "    </tr>\n",
       "    <tr>\n",
       "      <th>43</th>\n",
       "      <td>43</td>\n",
       "      <td>8</td>\n",
       "      <td>CNN</td>\n",
       "      <td>0.260568</td>\n",
       "      <td>1.172048</td>\n",
       "      <td>0.923538</td>\n",
       "      <td>3.958752</td>\n",
       "    </tr>\n",
       "    <tr>\n",
       "      <th>44</th>\n",
       "      <td>44</td>\n",
       "      <td>8</td>\n",
       "      <td>RNN</td>\n",
       "      <td>0.392692</td>\n",
       "      <td>1.183419</td>\n",
       "      <td>1.510929</td>\n",
       "      <td>4.135278</td>\n",
       "    </tr>\n",
       "    <tr>\n",
       "      <th>45</th>\n",
       "      <td>45</td>\n",
       "      <td>9</td>\n",
       "      <td>BiLSTM</td>\n",
       "      <td>0.274122</td>\n",
       "      <td>1.161688</td>\n",
       "      <td>0.986124</td>\n",
       "      <td>3.930327</td>\n",
       "    </tr>\n",
       "    <tr>\n",
       "      <th>46</th>\n",
       "      <td>46</td>\n",
       "      <td>9</td>\n",
       "      <td>LSTM</td>\n",
       "      <td>0.351231</td>\n",
       "      <td>1.234094</td>\n",
       "      <td>1.255916</td>\n",
       "      <td>4.096205</td>\n",
       "    </tr>\n",
       "    <tr>\n",
       "      <th>47</th>\n",
       "      <td>47</td>\n",
       "      <td>&lt;keras.engine.sequential.Sequential object at ...</td>\n",
       "      <td>GRU</td>\n",
       "      <td>0.296729</td>\n",
       "      <td>1.161735</td>\n",
       "      <td>1.047243</td>\n",
       "      <td>3.944739</td>\n",
       "    </tr>\n",
       "    <tr>\n",
       "      <th>48</th>\n",
       "      <td>48</td>\n",
       "      <td>9</td>\n",
       "      <td>CNN</td>\n",
       "      <td>0.239715</td>\n",
       "      <td>1.169235</td>\n",
       "      <td>0.848538</td>\n",
       "      <td>3.951007</td>\n",
       "    </tr>\n",
       "    <tr>\n",
       "      <th>49</th>\n",
       "      <td>49</td>\n",
       "      <td>9</td>\n",
       "      <td>RNN</td>\n",
       "      <td>0.316299</td>\n",
       "      <td>1.168458</td>\n",
       "      <td>1.112653</td>\n",
       "      <td>3.965256</td>\n",
       "    </tr>\n",
       "  </tbody>\n",
       "</table>\n",
       "</div>"
      ],
      "text/plain": [
       "    Unnamed: 0                                       iteration_No  models  \\\n",
       "0            0                                                  0  BiLSTM   \n",
       "1            1                                                  0    LSTM   \n",
       "2            2  <keras.engine.sequential.Sequential object at ...     GRU   \n",
       "3            3                                                  0     CNN   \n",
       "4            4                                                  0     RNN   \n",
       "5            5                                                  1  BiLSTM   \n",
       "6            6                                                  1    LSTM   \n",
       "7            7  <keras.engine.sequential.Sequential object at ...     GRU   \n",
       "8            8                                                  1     CNN   \n",
       "9            9                                                  1     RNN   \n",
       "10          10                                                  2  BiLSTM   \n",
       "11          11                                                  2    LSTM   \n",
       "12          12  <keras.engine.sequential.Sequential object at ...     GRU   \n",
       "13          13                                                  2     CNN   \n",
       "14          14                                                  2     RNN   \n",
       "15          15                                                  3  BiLSTM   \n",
       "16          16                                                  3    LSTM   \n",
       "17          17  <keras.engine.sequential.Sequential object at ...     GRU   \n",
       "18          18                                                  3     CNN   \n",
       "19          19                                                  3     RNN   \n",
       "20          20                                                  4  BiLSTM   \n",
       "21          21                                                  4    LSTM   \n",
       "22          22  <keras.engine.sequential.Sequential object at ...     GRU   \n",
       "23          23                                                  4     CNN   \n",
       "24          24                                                  4     RNN   \n",
       "25          25                                                  5  BiLSTM   \n",
       "26          26                                                  5    LSTM   \n",
       "27          27  <keras.engine.sequential.Sequential object at ...     GRU   \n",
       "28          28                                                  5     CNN   \n",
       "29          29                                                  5     RNN   \n",
       "30          30                                                  6  BiLSTM   \n",
       "31          31                                                  6    LSTM   \n",
       "32          32  <keras.engine.sequential.Sequential object at ...     GRU   \n",
       "33          33                                                  6     CNN   \n",
       "34          34                                                  6     RNN   \n",
       "35          35                                                  7  BiLSTM   \n",
       "36          36                                                  7    LSTM   \n",
       "37          37  <keras.engine.sequential.Sequential object at ...     GRU   \n",
       "38          38                                                  7     CNN   \n",
       "39          39                                                  7     RNN   \n",
       "40          40                                                  8  BiLSTM   \n",
       "41          41                                                  8    LSTM   \n",
       "42          42  <keras.engine.sequential.Sequential object at ...     GRU   \n",
       "43          43                                                  8     CNN   \n",
       "44          44                                                  8     RNN   \n",
       "45          45                                                  9  BiLSTM   \n",
       "46          46                                                  9    LSTM   \n",
       "47          47  <keras.engine.sequential.Sequential object at ...     GRU   \n",
       "48          48                                                  9     CNN   \n",
       "49          49                                                  9     RNN   \n",
       "\n",
       "    A_B_rmse      RMSE  A_B_mape      MAPE  \n",
       "0   0.324411  1.156632  1.145282  3.889643  \n",
       "1   0.322015  1.160630  1.158062  3.935808  \n",
       "2   0.276451  1.167924  0.979907  3.973660  \n",
       "3   0.265310  1.176331  0.951922  3.960865  \n",
       "4   0.271380  1.164102  0.976705  3.928579  \n",
       "5   0.271946  1.162789  0.978479  3.941293  \n",
       "6   0.291858  1.161279  1.063515  3.947222  \n",
       "7   0.292384  1.164096  1.041850  3.948154  \n",
       "8   0.263157  1.174675  0.940239  3.958695  \n",
       "9   0.285363  1.164081  0.976444  3.909250  \n",
       "10  0.264070  1.160980  0.947607  3.937060  \n",
       "11  0.366316  1.157678  1.190221  3.940807  \n",
       "12  0.301637  1.164457  1.067411  3.954742  \n",
       "13  0.230065  1.169097  0.804789  3.953834  \n",
       "14  0.284041  1.163554  0.936192  3.942459  \n",
       "15  0.273323  1.163444  0.979961  3.961380  \n",
       "16  0.380657  1.167734  1.379458  3.982739  \n",
       "17  0.287852  1.160412  1.032916  3.944507  \n",
       "18  0.280968  1.177491  1.007259  3.964205  \n",
       "19  0.285113  1.162284  0.904408  3.960184  \n",
       "20  0.288812  1.164308  1.051807  3.929823  \n",
       "21  0.282411  1.159278  1.011304  3.942831  \n",
       "22  0.335996  1.154036  1.188020  3.912813  \n",
       "23  0.244744  1.176713  0.860417  4.001757  \n",
       "24  0.376248  1.232769  1.469688  4.514861  \n",
       "25  0.267541  1.163335  0.957843  3.946821  \n",
       "26  0.335126  1.157437  1.102629  3.923126  \n",
       "27  0.342676  1.160165  1.204307  3.972159  \n",
       "28  0.353022  1.196347  1.305763  4.019354  \n",
       "29  0.386417  1.283407  1.564379  4.805142  \n",
       "30  0.264015  1.160067  0.938701  3.916467  \n",
       "31  0.282970  1.154926  0.984424  3.873071  \n",
       "32  0.287934  1.161572  1.016695  3.949666  \n",
       "33  0.233740  1.171245  0.831176  3.952292  \n",
       "34  0.340053  1.176771  1.208576  3.930152  \n",
       "35  0.275222  1.163978  1.013897  3.927444  \n",
       "36  0.335642  1.160430  1.142419  3.960067  \n",
       "37  0.276178  1.165989  0.989247  4.002195  \n",
       "38  0.259212  1.172195  0.925507  3.955542  \n",
       "39  0.336219  1.176524  1.212073  4.011636  \n",
       "40  0.276308  1.163579  0.989958  3.948626  \n",
       "41  0.299775  1.161311  1.039635  3.958475  \n",
       "42  0.336983  1.156584  1.230357  3.940319  \n",
       "43  0.260568  1.172048  0.923538  3.958752  \n",
       "44  0.392692  1.183419  1.510929  4.135278  \n",
       "45  0.274122  1.161688  0.986124  3.930327  \n",
       "46  0.351231  1.234094  1.255916  4.096205  \n",
       "47  0.296729  1.161735  1.047243  3.944739  \n",
       "48  0.239715  1.169235  0.848538  3.951007  \n",
       "49  0.316299  1.168458  1.112653  3.965256  "
      ]
     },
     "execution_count": 115,
     "metadata": {},
     "output_type": "execute_result"
    }
   ],
   "source": [
    "df=li[fn]\n",
    "df"
   ]
  },
  {
   "cell_type": "markdown",
   "id": "3d419f51-9613-4f4a-adb4-549ba8dac118",
   "metadata": {
    "tags": []
   },
   "source": [
    "# vilon\n"
   ]
  },
  {
   "cell_type": "markdown",
   "id": "5c591883-bde0-4f8b-9d17-4f19514ee90c",
   "metadata": {
    "execution": {
     "iopub.execute_input": "2023-04-17T18:23:33.820025Z",
     "iopub.status.busy": "2023-04-17T18:23:33.819581Z",
     "iopub.status.idle": "2023-04-17T18:23:34.037719Z",
     "shell.execute_reply": "2023-04-17T18:23:34.036471Z",
     "shell.execute_reply.started": "2023-04-17T18:23:33.820001Z"
    },
    "tags": []
   },
   "source": [
    "import plotly.graph_objects as go\n",
    "\n",
    "import pandas as pd\n",
    "\n",
    "#df = pd.read_csv(\"https://raw.githubusercontent.com/plotly/datasets/master/violin_data.csv\")\n",
    "\n",
    "fig = go.Figure()\n",
    "\n",
    "fig.add_trace(go.Violin(x=df['1'],\n",
    "                        y=df['2'],\n",
    "                        legendgroup='with GAB', scalegroup='with GAB', name='with GAB',\n",
    "                        side='negative',\n",
    "                        line_color='blue')\n",
    "             )\n",
    "fig.add_trace(go.Violin(x=df['1'],\n",
    "                        y=df['3'],\n",
    "                        legendgroup='Normal', scalegroup='Normal', name='Normal',\n",
    "                        side='positive',\n",
    "                        line_color='orange')\n",
    "             )\n",
    "fig.update_traces(meanline_visible=True)\n",
    "fig.update_layout(violingap=0, violinmode='overlay')\n",
    "fig.show()"
   ]
  },
  {
   "cell_type": "code",
   "execution_count": 116,
   "id": "7b686020-77d8-4767-8ed8-eb40a68e55e2",
   "metadata": {
    "execution": {
     "iopub.execute_input": "2023-04-17T18:32:17.749115Z",
     "iopub.status.busy": "2023-04-17T18:32:17.748518Z",
     "iopub.status.idle": "2023-04-17T18:32:17.760009Z",
     "shell.execute_reply": "2023-04-17T18:32:17.758242Z",
     "shell.execute_reply.started": "2023-04-17T18:32:17.749059Z"
    },
    "tags": []
   },
   "outputs": [
    {
     "data": {
      "text/plain": [
       "\"df=pd.read_csv('BeijingPM2.5_data_Results.csv')\\ndf\""
      ]
     },
     "execution_count": 116,
     "metadata": {},
     "output_type": "execute_result"
    }
   ],
   "source": [
    "'''df=pd.read_csv('BeijingPM2.5_data_Results.csv')\n",
    "df'''"
   ]
  },
  {
   "cell_type": "markdown",
   "id": "eca6ee6c-810e-40e2-bca2-9ccfa2fb96fa",
   "metadata": {},
   "source": [
    "#"
   ]
  },
  {
   "cell_type": "code",
   "execution_count": 117,
   "id": "76e43dda-57fc-4edb-ac27-e67a0a5df7af",
   "metadata": {
    "execution": {
     "iopub.execute_input": "2023-04-17T18:32:38.040283Z",
     "iopub.status.busy": "2023-04-17T18:32:38.039624Z",
     "iopub.status.idle": "2023-04-17T18:32:38.060734Z",
     "shell.execute_reply": "2023-04-17T18:32:38.060005Z",
     "shell.execute_reply.started": "2023-04-17T18:32:38.040258Z"
    },
    "tags": []
   },
   "outputs": [
    {
     "data": {
      "text/html": [
       "<div>\n",
       "<style scoped>\n",
       "    .dataframe tbody tr th:only-of-type {\n",
       "        vertical-align: middle;\n",
       "    }\n",
       "\n",
       "    .dataframe tbody tr th {\n",
       "        vertical-align: top;\n",
       "    }\n",
       "\n",
       "    .dataframe thead th {\n",
       "        text-align: right;\n",
       "    }\n",
       "</style>\n",
       "<table border=\"1\" class=\"dataframe\">\n",
       "  <thead>\n",
       "    <tr style=\"text-align: right;\">\n",
       "      <th></th>\n",
       "      <th>BiLSTM</th>\n",
       "      <th>BiLSTM-std</th>\n",
       "    </tr>\n",
       "  </thead>\n",
       "  <tbody>\n",
       "    <tr>\n",
       "      <th>A_B_rmse</th>\n",
       "      <td>0.277977</td>\n",
       "      <td>0.017808</td>\n",
       "    </tr>\n",
       "    <tr>\n",
       "      <th>RMSE</th>\n",
       "      <td>1.162080</td>\n",
       "      <td>0.002353</td>\n",
       "    </tr>\n",
       "    <tr>\n",
       "      <th>A_B_mape</th>\n",
       "      <td>0.998966</td>\n",
       "      <td>0.060929</td>\n",
       "    </tr>\n",
       "    <tr>\n",
       "      <th>MAPE</th>\n",
       "      <td>3.932888</td>\n",
       "      <td>0.019796</td>\n",
       "    </tr>\n",
       "  </tbody>\n",
       "</table>\n",
       "</div>"
      ],
      "text/plain": [
       "            BiLSTM  BiLSTM-std\n",
       "A_B_rmse  0.277977    0.017808\n",
       "RMSE      1.162080    0.002353\n",
       "A_B_mape  0.998966    0.060929\n",
       "MAPE      3.932888    0.019796"
      ]
     },
     "execution_count": 117,
     "metadata": {},
     "output_type": "execute_result"
    }
   ],
   "source": [
    "m='BiLSTM' #model\n",
    "find='models' #find models in columns\n",
    "ind='iteration_No' #index\n",
    "mo=m\n",
    "mo = df.loc[df[find].isin([mo])] \n",
    "mo=mo.reset_index()\n",
    "mo=mo.drop(columns=['Unnamed: 0',find,'index'])\n",
    "mo=mo.set_index(ind)\n",
    "v=mo.mean(axis=0)\n",
    "ff=pd.DataFrame()\n",
    "ff[m]=v\n",
    "s=mo.std(axis=0)\n",
    "ff[m+'-std']=s\n",
    "ff"
   ]
  },
  {
   "cell_type": "code",
   "execution_count": 118,
   "id": "e7be666d-08cd-4026-9b37-68833baf6f00",
   "metadata": {
    "execution": {
     "iopub.execute_input": "2023-04-17T18:32:38.957038Z",
     "iopub.status.busy": "2023-04-17T18:32:38.955543Z",
     "iopub.status.idle": "2023-04-17T18:32:38.984907Z",
     "shell.execute_reply": "2023-04-17T18:32:38.983689Z",
     "shell.execute_reply.started": "2023-04-17T18:32:38.956973Z"
    },
    "tags": []
   },
   "outputs": [
    {
     "data": {
      "text/html": [
       "<div>\n",
       "<style scoped>\n",
       "    .dataframe tbody tr th:only-of-type {\n",
       "        vertical-align: middle;\n",
       "    }\n",
       "\n",
       "    .dataframe tbody tr th {\n",
       "        vertical-align: top;\n",
       "    }\n",
       "\n",
       "    .dataframe thead th {\n",
       "        text-align: right;\n",
       "    }\n",
       "</style>\n",
       "<table border=\"1\" class=\"dataframe\">\n",
       "  <thead>\n",
       "    <tr style=\"text-align: right;\">\n",
       "      <th></th>\n",
       "      <th>BiLSTM</th>\n",
       "      <th>BiLSTM-std</th>\n",
       "      <th>LSTM</th>\n",
       "      <th>LSTM-std</th>\n",
       "    </tr>\n",
       "  </thead>\n",
       "  <tbody>\n",
       "    <tr>\n",
       "      <th>A_B_rmse</th>\n",
       "      <td>0.277977</td>\n",
       "      <td>0.017808</td>\n",
       "      <td>0.324800</td>\n",
       "      <td>0.035011</td>\n",
       "    </tr>\n",
       "    <tr>\n",
       "      <th>RMSE</th>\n",
       "      <td>1.162080</td>\n",
       "      <td>0.002353</td>\n",
       "      <td>1.167480</td>\n",
       "      <td>0.023647</td>\n",
       "    </tr>\n",
       "    <tr>\n",
       "      <th>A_B_mape</th>\n",
       "      <td>0.998966</td>\n",
       "      <td>0.060929</td>\n",
       "      <td>1.132758</td>\n",
       "      <td>0.120735</td>\n",
       "    </tr>\n",
       "    <tr>\n",
       "      <th>MAPE</th>\n",
       "      <td>3.932888</td>\n",
       "      <td>0.019796</td>\n",
       "      <td>3.956035</td>\n",
       "      <td>0.057001</td>\n",
       "    </tr>\n",
       "  </tbody>\n",
       "</table>\n",
       "</div>"
      ],
      "text/plain": [
       "            BiLSTM  BiLSTM-std      LSTM  LSTM-std\n",
       "A_B_rmse  0.277977    0.017808  0.324800  0.035011\n",
       "RMSE      1.162080    0.002353  1.167480  0.023647\n",
       "A_B_mape  0.998966    0.060929  1.132758  0.120735\n",
       "MAPE      3.932888    0.019796  3.956035  0.057001"
      ]
     },
     "execution_count": 118,
     "metadata": {},
     "output_type": "execute_result"
    }
   ],
   "source": [
    "m='LSTM' #model\n",
    "mo=m\n",
    "mo = df.loc[df[find].isin([mo])] \n",
    "mo=mo.reset_index()\n",
    "mo=mo.drop(columns=['Unnamed: 0',find,'index'])\n",
    "mo=mo.set_index(ind)\n",
    "v=mo.mean(axis=0)\n",
    "ff[m]=v\n",
    "s=mo.std(axis=0)\n",
    "ff[m+'-std']=s\n",
    "ff"
   ]
  },
  {
   "cell_type": "code",
   "execution_count": 119,
   "id": "36b99b53-88af-4309-ab13-b6e750d9fa28",
   "metadata": {
    "execution": {
     "iopub.execute_input": "2023-04-17T18:32:39.131744Z",
     "iopub.status.busy": "2023-04-17T18:32:39.131164Z",
     "iopub.status.idle": "2023-04-17T18:32:39.153530Z",
     "shell.execute_reply": "2023-04-17T18:32:39.152479Z",
     "shell.execute_reply.started": "2023-04-17T18:32:39.131684Z"
    },
    "tags": []
   },
   "outputs": [
    {
     "data": {
      "text/html": [
       "<div>\n",
       "<style scoped>\n",
       "    .dataframe tbody tr th:only-of-type {\n",
       "        vertical-align: middle;\n",
       "    }\n",
       "\n",
       "    .dataframe tbody tr th {\n",
       "        vertical-align: top;\n",
       "    }\n",
       "\n",
       "    .dataframe thead th {\n",
       "        text-align: right;\n",
       "    }\n",
       "</style>\n",
       "<table border=\"1\" class=\"dataframe\">\n",
       "  <thead>\n",
       "    <tr style=\"text-align: right;\">\n",
       "      <th></th>\n",
       "      <th>BiLSTM</th>\n",
       "      <th>BiLSTM-std</th>\n",
       "      <th>LSTM</th>\n",
       "      <th>LSTM-std</th>\n",
       "      <th>GRU</th>\n",
       "      <th>GRU-std</th>\n",
       "    </tr>\n",
       "  </thead>\n",
       "  <tbody>\n",
       "    <tr>\n",
       "      <th>A_B_rmse</th>\n",
       "      <td>0.277977</td>\n",
       "      <td>0.017808</td>\n",
       "      <td>0.324800</td>\n",
       "      <td>0.035011</td>\n",
       "      <td>0.303482</td>\n",
       "      <td>0.025495</td>\n",
       "    </tr>\n",
       "    <tr>\n",
       "      <th>RMSE</th>\n",
       "      <td>1.162080</td>\n",
       "      <td>0.002353</td>\n",
       "      <td>1.167480</td>\n",
       "      <td>0.023647</td>\n",
       "      <td>1.161697</td>\n",
       "      <td>0.004209</td>\n",
       "    </tr>\n",
       "    <tr>\n",
       "      <th>A_B_mape</th>\n",
       "      <td>0.998966</td>\n",
       "      <td>0.060929</td>\n",
       "      <td>1.132758</td>\n",
       "      <td>0.120735</td>\n",
       "      <td>1.079795</td>\n",
       "      <td>0.092432</td>\n",
       "    </tr>\n",
       "    <tr>\n",
       "      <th>MAPE</th>\n",
       "      <td>3.932888</td>\n",
       "      <td>0.019796</td>\n",
       "      <td>3.956035</td>\n",
       "      <td>0.057001</td>\n",
       "      <td>3.954295</td>\n",
       "      <td>0.023924</td>\n",
       "    </tr>\n",
       "  </tbody>\n",
       "</table>\n",
       "</div>"
      ],
      "text/plain": [
       "            BiLSTM  BiLSTM-std      LSTM  LSTM-std       GRU   GRU-std\n",
       "A_B_rmse  0.277977    0.017808  0.324800  0.035011  0.303482  0.025495\n",
       "RMSE      1.162080    0.002353  1.167480  0.023647  1.161697  0.004209\n",
       "A_B_mape  0.998966    0.060929  1.132758  0.120735  1.079795  0.092432\n",
       "MAPE      3.932888    0.019796  3.956035  0.057001  3.954295  0.023924"
      ]
     },
     "execution_count": 119,
     "metadata": {},
     "output_type": "execute_result"
    }
   ],
   "source": [
    "m='GRU' #model\n",
    "mo=m\n",
    "mo = df.loc[df[find].isin([mo])] \n",
    "mo=mo.reset_index()\n",
    "mo=mo.drop(columns=['Unnamed: 0',find,'index'])\n",
    "mo=mo.set_index(ind)\n",
    "v=mo.mean(axis=0)\n",
    "ff[m]=v\n",
    "s=mo.std(axis=0)\n",
    "ff[m+'-std']=s\n",
    "ff"
   ]
  },
  {
   "cell_type": "code",
   "execution_count": 120,
   "id": "3fefc2e9-d8ab-4d5a-866e-ff0e94d2a69d",
   "metadata": {
    "execution": {
     "iopub.execute_input": "2023-04-17T18:32:39.296232Z",
     "iopub.status.busy": "2023-04-17T18:32:39.295674Z",
     "iopub.status.idle": "2023-04-17T18:32:39.316943Z",
     "shell.execute_reply": "2023-04-17T18:32:39.316050Z",
     "shell.execute_reply.started": "2023-04-17T18:32:39.296191Z"
    },
    "tags": []
   },
   "outputs": [
    {
     "data": {
      "text/html": [
       "<div>\n",
       "<style scoped>\n",
       "    .dataframe tbody tr th:only-of-type {\n",
       "        vertical-align: middle;\n",
       "    }\n",
       "\n",
       "    .dataframe tbody tr th {\n",
       "        vertical-align: top;\n",
       "    }\n",
       "\n",
       "    .dataframe thead th {\n",
       "        text-align: right;\n",
       "    }\n",
       "</style>\n",
       "<table border=\"1\" class=\"dataframe\">\n",
       "  <thead>\n",
       "    <tr style=\"text-align: right;\">\n",
       "      <th></th>\n",
       "      <th>BiLSTM</th>\n",
       "      <th>BiLSTM-std</th>\n",
       "      <th>LSTM</th>\n",
       "      <th>LSTM-std</th>\n",
       "      <th>GRU</th>\n",
       "      <th>GRU-std</th>\n",
       "      <th>CNN</th>\n",
       "      <th>CNN-std</th>\n",
       "    </tr>\n",
       "  </thead>\n",
       "  <tbody>\n",
       "    <tr>\n",
       "      <th>A_B_rmse</th>\n",
       "      <td>0.277977</td>\n",
       "      <td>0.017808</td>\n",
       "      <td>0.324800</td>\n",
       "      <td>0.035011</td>\n",
       "      <td>0.303482</td>\n",
       "      <td>0.025495</td>\n",
       "      <td>0.263050</td>\n",
       "      <td>0.035385</td>\n",
       "    </tr>\n",
       "    <tr>\n",
       "      <th>RMSE</th>\n",
       "      <td>1.162080</td>\n",
       "      <td>0.002353</td>\n",
       "      <td>1.167480</td>\n",
       "      <td>0.023647</td>\n",
       "      <td>1.161697</td>\n",
       "      <td>0.004209</td>\n",
       "      <td>1.175538</td>\n",
       "      <td>0.007906</td>\n",
       "    </tr>\n",
       "    <tr>\n",
       "      <th>A_B_mape</th>\n",
       "      <td>0.998966</td>\n",
       "      <td>0.060929</td>\n",
       "      <td>1.132758</td>\n",
       "      <td>0.120735</td>\n",
       "      <td>1.079795</td>\n",
       "      <td>0.092432</td>\n",
       "      <td>0.939914</td>\n",
       "      <td>0.142888</td>\n",
       "    </tr>\n",
       "    <tr>\n",
       "      <th>MAPE</th>\n",
       "      <td>3.932888</td>\n",
       "      <td>0.019796</td>\n",
       "      <td>3.956035</td>\n",
       "      <td>0.057001</td>\n",
       "      <td>3.954295</td>\n",
       "      <td>0.023924</td>\n",
       "      <td>3.967630</td>\n",
       "      <td>0.023343</td>\n",
       "    </tr>\n",
       "  </tbody>\n",
       "</table>\n",
       "</div>"
      ],
      "text/plain": [
       "            BiLSTM  BiLSTM-std      LSTM  LSTM-std       GRU   GRU-std  \\\n",
       "A_B_rmse  0.277977    0.017808  0.324800  0.035011  0.303482  0.025495   \n",
       "RMSE      1.162080    0.002353  1.167480  0.023647  1.161697  0.004209   \n",
       "A_B_mape  0.998966    0.060929  1.132758  0.120735  1.079795  0.092432   \n",
       "MAPE      3.932888    0.019796  3.956035  0.057001  3.954295  0.023924   \n",
       "\n",
       "               CNN   CNN-std  \n",
       "A_B_rmse  0.263050  0.035385  \n",
       "RMSE      1.175538  0.007906  \n",
       "A_B_mape  0.939914  0.142888  \n",
       "MAPE      3.967630  0.023343  "
      ]
     },
     "execution_count": 120,
     "metadata": {},
     "output_type": "execute_result"
    }
   ],
   "source": [
    "m='CNN' #model\n",
    "mo=m\n",
    "mo = df.loc[df[find].isin([mo])] \n",
    "mo=mo.reset_index()\n",
    "mo=mo.drop(columns=['Unnamed: 0',find,'index'])\n",
    "mo=mo.set_index(ind)\n",
    "v=mo.mean(axis=0)\n",
    "ff[m]=v\n",
    "s=mo.std(axis=0)\n",
    "ff[m+'-std']=s\n",
    "ff"
   ]
  },
  {
   "cell_type": "code",
   "execution_count": 121,
   "id": "792509a9-8209-43c6-b70f-fe68292e7dd4",
   "metadata": {
    "execution": {
     "iopub.execute_input": "2023-04-17T18:32:39.431906Z",
     "iopub.status.busy": "2023-04-17T18:32:39.431373Z",
     "iopub.status.idle": "2023-04-17T18:32:39.458091Z",
     "shell.execute_reply": "2023-04-17T18:32:39.457241Z",
     "shell.execute_reply.started": "2023-04-17T18:32:39.431877Z"
    },
    "tags": []
   },
   "outputs": [
    {
     "data": {
      "text/html": [
       "<div>\n",
       "<style scoped>\n",
       "    .dataframe tbody tr th:only-of-type {\n",
       "        vertical-align: middle;\n",
       "    }\n",
       "\n",
       "    .dataframe tbody tr th {\n",
       "        vertical-align: top;\n",
       "    }\n",
       "\n",
       "    .dataframe thead th {\n",
       "        text-align: right;\n",
       "    }\n",
       "</style>\n",
       "<table border=\"1\" class=\"dataframe\">\n",
       "  <thead>\n",
       "    <tr style=\"text-align: right;\">\n",
       "      <th></th>\n",
       "      <th>BiLSTM</th>\n",
       "      <th>BiLSTM-std</th>\n",
       "      <th>LSTM</th>\n",
       "      <th>LSTM-std</th>\n",
       "      <th>GRU</th>\n",
       "      <th>GRU-std</th>\n",
       "      <th>CNN</th>\n",
       "      <th>CNN-std</th>\n",
       "      <th>RNN</th>\n",
       "      <th>RNN-std</th>\n",
       "    </tr>\n",
       "  </thead>\n",
       "  <tbody>\n",
       "    <tr>\n",
       "      <th>A_B_rmse</th>\n",
       "      <td>0.277977</td>\n",
       "      <td>0.017808</td>\n",
       "      <td>0.324800</td>\n",
       "      <td>0.035011</td>\n",
       "      <td>0.303482</td>\n",
       "      <td>0.025495</td>\n",
       "      <td>0.263050</td>\n",
       "      <td>0.035385</td>\n",
       "      <td>0.327383</td>\n",
       "      <td>0.046028</td>\n",
       "    </tr>\n",
       "    <tr>\n",
       "      <th>RMSE</th>\n",
       "      <td>1.162080</td>\n",
       "      <td>0.002353</td>\n",
       "      <td>1.167480</td>\n",
       "      <td>0.023647</td>\n",
       "      <td>1.161697</td>\n",
       "      <td>0.004209</td>\n",
       "      <td>1.175538</td>\n",
       "      <td>0.007906</td>\n",
       "      <td>1.187537</td>\n",
       "      <td>0.039676</td>\n",
       "    </tr>\n",
       "    <tr>\n",
       "      <th>A_B_mape</th>\n",
       "      <td>0.998966</td>\n",
       "      <td>0.060929</td>\n",
       "      <td>1.132758</td>\n",
       "      <td>0.120735</td>\n",
       "      <td>1.079795</td>\n",
       "      <td>0.092432</td>\n",
       "      <td>0.939914</td>\n",
       "      <td>0.142888</td>\n",
       "      <td>1.187205</td>\n",
       "      <td>0.250599</td>\n",
       "    </tr>\n",
       "    <tr>\n",
       "      <th>MAPE</th>\n",
       "      <td>3.932888</td>\n",
       "      <td>0.019796</td>\n",
       "      <td>3.956035</td>\n",
       "      <td>0.057001</td>\n",
       "      <td>3.954295</td>\n",
       "      <td>0.023924</td>\n",
       "      <td>3.967630</td>\n",
       "      <td>0.023343</td>\n",
       "      <td>4.110280</td>\n",
       "      <td>0.304498</td>\n",
       "    </tr>\n",
       "  </tbody>\n",
       "</table>\n",
       "</div>"
      ],
      "text/plain": [
       "            BiLSTM  BiLSTM-std      LSTM  LSTM-std       GRU   GRU-std  \\\n",
       "A_B_rmse  0.277977    0.017808  0.324800  0.035011  0.303482  0.025495   \n",
       "RMSE      1.162080    0.002353  1.167480  0.023647  1.161697  0.004209   \n",
       "A_B_mape  0.998966    0.060929  1.132758  0.120735  1.079795  0.092432   \n",
       "MAPE      3.932888    0.019796  3.956035  0.057001  3.954295  0.023924   \n",
       "\n",
       "               CNN   CNN-std       RNN   RNN-std  \n",
       "A_B_rmse  0.263050  0.035385  0.327383  0.046028  \n",
       "RMSE      1.175538  0.007906  1.187537  0.039676  \n",
       "A_B_mape  0.939914  0.142888  1.187205  0.250599  \n",
       "MAPE      3.967630  0.023343  4.110280  0.304498  "
      ]
     },
     "execution_count": 121,
     "metadata": {},
     "output_type": "execute_result"
    }
   ],
   "source": [
    "m='RNN' #model\n",
    "mo=m\n",
    "mo = df.loc[df[find].isin([mo])] \n",
    "mo=mo.reset_index()\n",
    "mo=mo.drop(columns=['Unnamed: 0',find,'index'])\n",
    "mo=mo.set_index(ind)\n",
    "v=mo.mean(axis=0)\n",
    "ff[m]=v\n",
    "s=mo.std(axis=0)\n",
    "ff[m+'-std']=s\n",
    "ff"
   ]
  },
  {
   "cell_type": "code",
   "execution_count": 122,
   "id": "df5abe60-6e0c-442d-9e1e-afdc18a20ba9",
   "metadata": {
    "execution": {
     "iopub.execute_input": "2023-04-17T18:32:39.564525Z",
     "iopub.status.busy": "2023-04-17T18:32:39.564002Z",
     "iopub.status.idle": "2023-04-17T18:32:39.577754Z",
     "shell.execute_reply": "2023-04-17T18:32:39.576719Z",
     "shell.execute_reply.started": "2023-04-17T18:32:39.564485Z"
    },
    "tags": []
   },
   "outputs": [
    {
     "data": {
      "text/html": [
       "<div>\n",
       "<style scoped>\n",
       "    .dataframe tbody tr th:only-of-type {\n",
       "        vertical-align: middle;\n",
       "    }\n",
       "\n",
       "    .dataframe tbody tr th {\n",
       "        vertical-align: top;\n",
       "    }\n",
       "\n",
       "    .dataframe thead th {\n",
       "        text-align: right;\n",
       "    }\n",
       "</style>\n",
       "<table border=\"1\" class=\"dataframe\">\n",
       "  <thead>\n",
       "    <tr style=\"text-align: right;\">\n",
       "      <th></th>\n",
       "      <th>A_B_rmse</th>\n",
       "      <th>RMSE</th>\n",
       "      <th>A_B_mape</th>\n",
       "      <th>MAPE</th>\n",
       "    </tr>\n",
       "  </thead>\n",
       "  <tbody>\n",
       "    <tr>\n",
       "      <th>BiLSTM</th>\n",
       "      <td>0.277977</td>\n",
       "      <td>1.162080</td>\n",
       "      <td>0.998966</td>\n",
       "      <td>3.932888</td>\n",
       "    </tr>\n",
       "    <tr>\n",
       "      <th>BiLSTM-std</th>\n",
       "      <td>0.017808</td>\n",
       "      <td>0.002353</td>\n",
       "      <td>0.060929</td>\n",
       "      <td>0.019796</td>\n",
       "    </tr>\n",
       "    <tr>\n",
       "      <th>LSTM</th>\n",
       "      <td>0.324800</td>\n",
       "      <td>1.167480</td>\n",
       "      <td>1.132758</td>\n",
       "      <td>3.956035</td>\n",
       "    </tr>\n",
       "    <tr>\n",
       "      <th>LSTM-std</th>\n",
       "      <td>0.035011</td>\n",
       "      <td>0.023647</td>\n",
       "      <td>0.120735</td>\n",
       "      <td>0.057001</td>\n",
       "    </tr>\n",
       "    <tr>\n",
       "      <th>GRU</th>\n",
       "      <td>0.303482</td>\n",
       "      <td>1.161697</td>\n",
       "      <td>1.079795</td>\n",
       "      <td>3.954295</td>\n",
       "    </tr>\n",
       "    <tr>\n",
       "      <th>GRU-std</th>\n",
       "      <td>0.025495</td>\n",
       "      <td>0.004209</td>\n",
       "      <td>0.092432</td>\n",
       "      <td>0.023924</td>\n",
       "    </tr>\n",
       "    <tr>\n",
       "      <th>CNN</th>\n",
       "      <td>0.263050</td>\n",
       "      <td>1.175538</td>\n",
       "      <td>0.939914</td>\n",
       "      <td>3.967630</td>\n",
       "    </tr>\n",
       "    <tr>\n",
       "      <th>CNN-std</th>\n",
       "      <td>0.035385</td>\n",
       "      <td>0.007906</td>\n",
       "      <td>0.142888</td>\n",
       "      <td>0.023343</td>\n",
       "    </tr>\n",
       "    <tr>\n",
       "      <th>RNN</th>\n",
       "      <td>0.327383</td>\n",
       "      <td>1.187537</td>\n",
       "      <td>1.187205</td>\n",
       "      <td>4.110280</td>\n",
       "    </tr>\n",
       "    <tr>\n",
       "      <th>RNN-std</th>\n",
       "      <td>0.046028</td>\n",
       "      <td>0.039676</td>\n",
       "      <td>0.250599</td>\n",
       "      <td>0.304498</td>\n",
       "    </tr>\n",
       "  </tbody>\n",
       "</table>\n",
       "</div>"
      ],
      "text/plain": [
       "            A_B_rmse      RMSE  A_B_mape      MAPE\n",
       "BiLSTM      0.277977  1.162080  0.998966  3.932888\n",
       "BiLSTM-std  0.017808  0.002353  0.060929  0.019796\n",
       "LSTM        0.324800  1.167480  1.132758  3.956035\n",
       "LSTM-std    0.035011  0.023647  0.120735  0.057001\n",
       "GRU         0.303482  1.161697  1.079795  3.954295\n",
       "GRU-std     0.025495  0.004209  0.092432  0.023924\n",
       "CNN         0.263050  1.175538  0.939914  3.967630\n",
       "CNN-std     0.035385  0.007906  0.142888  0.023343\n",
       "RNN         0.327383  1.187537  1.187205  4.110280\n",
       "RNN-std     0.046028  0.039676  0.250599  0.304498"
      ]
     },
     "execution_count": 122,
     "metadata": {},
     "output_type": "execute_result"
    }
   ],
   "source": [
    "ff=ff.T\n",
    "ff.rename(columns = {'2':'A_B_rmse', '3':'RMSE','4':'A_B_mape','5':'MAPE'}, inplace = True)\n",
    "ff"
   ]
  },
  {
   "cell_type": "code",
   "execution_count": 123,
   "id": "307b6542-ee49-42e3-823b-1f89913ca0a2",
   "metadata": {
    "execution": {
     "iopub.execute_input": "2023-04-17T18:32:39.714523Z",
     "iopub.status.busy": "2023-04-17T18:32:39.714098Z",
     "iopub.status.idle": "2023-04-17T18:32:39.721740Z",
     "shell.execute_reply": "2023-04-17T18:32:39.720224Z",
     "shell.execute_reply.started": "2023-04-17T18:32:39.714482Z"
    },
    "tags": []
   },
   "outputs": [],
   "source": [
    "ff.to_csv('mean/'+dn+'_mean+std_r.csv')"
   ]
  },
  {
   "cell_type": "code",
   "execution_count": 111,
   "id": "7de46d9b-a0f3-43d4-bc54-fc2efc8e8e04",
   "metadata": {
    "execution": {
     "iopub.execute_input": "2023-04-17T18:31:48.641653Z",
     "iopub.status.busy": "2023-04-17T18:31:48.641322Z",
     "iopub.status.idle": "2023-04-17T18:31:48.665493Z",
     "shell.execute_reply": "2023-04-17T18:31:48.664625Z",
     "shell.execute_reply.started": "2023-04-17T18:31:48.641626Z"
    },
    "tags": []
   },
   "outputs": [
    {
     "data": {
      "text/html": [
       "<div>\n",
       "<style scoped>\n",
       "    .dataframe tbody tr th:only-of-type {\n",
       "        vertical-align: middle;\n",
       "    }\n",
       "\n",
       "    .dataframe tbody tr th {\n",
       "        vertical-align: top;\n",
       "    }\n",
       "\n",
       "    .dataframe thead th {\n",
       "        text-align: right;\n",
       "    }\n",
       "</style>\n",
       "<table border=\"1\" class=\"dataframe\">\n",
       "  <thead>\n",
       "    <tr style=\"text-align: right;\">\n",
       "      <th></th>\n",
       "      <th>Unnamed: 0</th>\n",
       "      <th>Gab_bilstm</th>\n",
       "      <th>BiLSTM</th>\n",
       "      <th>Gab_LSTM</th>\n",
       "      <th>LSTM</th>\n",
       "      <th>Gab_GRU</th>\n",
       "      <th>GRU</th>\n",
       "      <th>Gab_CNN</th>\n",
       "      <th>CNN</th>\n",
       "      <th>Gab_RNN</th>\n",
       "      <th>RNN</th>\n",
       "    </tr>\n",
       "  </thead>\n",
       "  <tbody>\n",
       "    <tr>\n",
       "      <th>0</th>\n",
       "      <td>Daily_Sunspot</td>\n",
       "      <td>13.285957</td>\n",
       "      <td>15.864325</td>\n",
       "      <td>17.342022</td>\n",
       "      <td>14.803266</td>\n",
       "      <td>14.375031</td>\n",
       "      <td>15.300614</td>\n",
       "      <td>6.052643</td>\n",
       "      <td>15.746551</td>\n",
       "      <td>19.060423</td>\n",
       "      <td>15.477639</td>\n",
       "    </tr>\n",
       "    <tr>\n",
       "      <th>1</th>\n",
       "      <td>POWER_Point_Daily</td>\n",
       "      <td>0.321964</td>\n",
       "      <td>1.071403</td>\n",
       "      <td>0.255968</td>\n",
       "      <td>1.064206</td>\n",
       "      <td>0.256985</td>\n",
       "      <td>1.061117</td>\n",
       "      <td>0.206267</td>\n",
       "      <td>1.077783</td>\n",
       "      <td>0.257879</td>\n",
       "      <td>1.066177</td>\n",
       "    </tr>\n",
       "    <tr>\n",
       "      <th>2</th>\n",
       "      <td>Myocardial_infarction_heart</td>\n",
       "      <td>0.005588</td>\n",
       "      <td>0.010684</td>\n",
       "      <td>0.004959</td>\n",
       "      <td>0.009841</td>\n",
       "      <td>0.005676</td>\n",
       "      <td>0.010138</td>\n",
       "      <td>0.014767</td>\n",
       "      <td>0.017736</td>\n",
       "      <td>0.005877</td>\n",
       "      <td>0.010580</td>\n",
       "    </tr>\n",
       "    <tr>\n",
       "      <th>3</th>\n",
       "      <td>Healthy_control_heart</td>\n",
       "      <td>0.014270</td>\n",
       "      <td>0.019373</td>\n",
       "      <td>0.014094</td>\n",
       "      <td>0.020826</td>\n",
       "      <td>0.007178</td>\n",
       "      <td>0.010571</td>\n",
       "      <td>0.017745</td>\n",
       "      <td>0.035809</td>\n",
       "      <td>0.014973</td>\n",
       "      <td>0.022439</td>\n",
       "    </tr>\n",
       "    <tr>\n",
       "      <th>4</th>\n",
       "      <td>POWER_Point_Daily_TemperaturePOWER</td>\n",
       "      <td>0.277977</td>\n",
       "      <td>1.162080</td>\n",
       "      <td>0.324800</td>\n",
       "      <td>1.167480</td>\n",
       "      <td>0.303482</td>\n",
       "      <td>1.161697</td>\n",
       "      <td>0.263050</td>\n",
       "      <td>1.175538</td>\n",
       "      <td>0.327383</td>\n",
       "      <td>1.187537</td>\n",
       "    </tr>\n",
       "    <tr>\n",
       "      <th>5</th>\n",
       "      <td>PM2.5_p09</td>\n",
       "      <td>2.143925</td>\n",
       "      <td>5.646221</td>\n",
       "      <td>2.805242</td>\n",
       "      <td>5.771116</td>\n",
       "      <td>2.782809</td>\n",
       "      <td>5.742161</td>\n",
       "      <td>1.162699</td>\n",
       "      <td>5.744082</td>\n",
       "      <td>2.627583</td>\n",
       "      <td>5.744347</td>\n",
       "    </tr>\n",
       "    <tr>\n",
       "      <th>6</th>\n",
       "      <td>POWER_Point_Daily_WindSpeed</td>\n",
       "      <td>0.453043</td>\n",
       "      <td>0.839468</td>\n",
       "      <td>0.467765</td>\n",
       "      <td>0.841504</td>\n",
       "      <td>0.477860</td>\n",
       "      <td>0.839367</td>\n",
       "      <td>0.452076</td>\n",
       "      <td>0.840946</td>\n",
       "      <td>0.538755</td>\n",
       "      <td>0.859119</td>\n",
       "    </tr>\n",
       "    <tr>\n",
       "      <th>7</th>\n",
       "      <td>BeijingPM2.5</td>\n",
       "      <td>12.217440</td>\n",
       "      <td>21.997516</td>\n",
       "      <td>12.002236</td>\n",
       "      <td>21.880042</td>\n",
       "      <td>10.080518</td>\n",
       "      <td>21.164406</td>\n",
       "      <td>6.867453</td>\n",
       "      <td>20.530845</td>\n",
       "      <td>11.564068</td>\n",
       "      <td>21.281941</td>\n",
       "    </tr>\n",
       "    <tr>\n",
       "      <th>8</th>\n",
       "      <td>SunSpotMonthly</td>\n",
       "      <td>10.639903</td>\n",
       "      <td>19.726802</td>\n",
       "      <td>12.131558</td>\n",
       "      <td>20.503575</td>\n",
       "      <td>11.388659</td>\n",
       "      <td>19.994580</td>\n",
       "      <td>6.111127</td>\n",
       "      <td>18.875042</td>\n",
       "      <td>11.114246</td>\n",
       "      <td>20.592871</td>\n",
       "    </tr>\n",
       "    <tr>\n",
       "      <th>9</th>\n",
       "      <td>PRSA_data_2010</td>\n",
       "      <td>12.223671</td>\n",
       "      <td>21.774813</td>\n",
       "      <td>15.412030</td>\n",
       "      <td>21.671801</td>\n",
       "      <td>15.858840</td>\n",
       "      <td>21.363689</td>\n",
       "      <td>6.848267</td>\n",
       "      <td>22.536632</td>\n",
       "      <td>11.248390</td>\n",
       "      <td>21.568556</td>\n",
       "    </tr>\n",
       "  </tbody>\n",
       "</table>\n",
       "</div>"
      ],
      "text/plain": [
       "                           Unnamed: 0  Gab_bilstm     BiLSTM   Gab_LSTM  \\\n",
       "0                       Daily_Sunspot   13.285957  15.864325  17.342022   \n",
       "1                   POWER_Point_Daily    0.321964   1.071403   0.255968   \n",
       "2         Myocardial_infarction_heart    0.005588   0.010684   0.004959   \n",
       "3               Healthy_control_heart    0.014270   0.019373   0.014094   \n",
       "4  POWER_Point_Daily_TemperaturePOWER    0.277977   1.162080   0.324800   \n",
       "5                           PM2.5_p09    2.143925   5.646221   2.805242   \n",
       "6         POWER_Point_Daily_WindSpeed    0.453043   0.839468   0.467765   \n",
       "7                        BeijingPM2.5   12.217440  21.997516  12.002236   \n",
       "8                      SunSpotMonthly   10.639903  19.726802  12.131558   \n",
       "9                      PRSA_data_2010   12.223671  21.774813  15.412030   \n",
       "\n",
       "        LSTM    Gab_GRU        GRU   Gab_CNN        CNN    Gab_RNN        RNN  \n",
       "0  14.803266  14.375031  15.300614  6.052643  15.746551  19.060423  15.477639  \n",
       "1   1.064206   0.256985   1.061117  0.206267   1.077783   0.257879   1.066177  \n",
       "2   0.009841   0.005676   0.010138  0.014767   0.017736   0.005877   0.010580  \n",
       "3   0.020826   0.007178   0.010571  0.017745   0.035809   0.014973   0.022439  \n",
       "4   1.167480   0.303482   1.161697  0.263050   1.175538   0.327383   1.187537  \n",
       "5   5.771116   2.782809   5.742161  1.162699   5.744082   2.627583   5.744347  \n",
       "6   0.841504   0.477860   0.839367  0.452076   0.840946   0.538755   0.859119  \n",
       "7  21.880042  10.080518  21.164406  6.867453  20.530845  11.564068  21.281941  \n",
       "8  20.503575  11.388659  19.994580  6.111127  18.875042  11.114246  20.592871  \n",
       "9  21.671801  15.858840  21.363689  6.848267  22.536632  11.248390  21.568556  "
      ]
     },
     "execution_count": 111,
     "metadata": {},
     "output_type": "execute_result"
    }
   ],
   "source": [
    "rmse=pd.read_csv('RMSE.csv')\n",
    "rmse"
   ]
  },
  {
   "cell_type": "code",
   "execution_count": 112,
   "id": "89caeb67-a76e-4b05-90d7-859009c9c3ae",
   "metadata": {
    "execution": {
     "iopub.execute_input": "2023-04-17T18:31:49.534981Z",
     "iopub.status.busy": "2023-04-17T18:31:49.534628Z",
     "iopub.status.idle": "2023-04-17T18:31:49.558423Z",
     "shell.execute_reply": "2023-04-17T18:31:49.557228Z",
     "shell.execute_reply.started": "2023-04-17T18:31:49.534953Z"
    },
    "tags": []
   },
   "outputs": [
    {
     "data": {
      "application/vnd.plotly.v1+json": {
       "config": {
        "plotlyServerURL": "https://plot.ly"
       },
       "data": [
        {
         "legendgroup": "with GAB",
         "line": {
          "color": "blue"
         },
         "meanline": {
          "visible": true
         },
         "name": "with GAB",
         "scalegroup": "with GAB",
         "side": "negative",
         "type": "violin",
         "x": [
          "Daily_Sunspot",
          "POWER_Point_Daily",
          "Myocardial_infarction_heart",
          "Healthy_control_heart",
          "POWER_Point_Daily_TemperaturePOWER",
          "PM2.5_p09",
          "POWER_Point_Daily_WindSpeed",
          "BeijingPM2.5",
          "SunSpotMonthly",
          "PRSA_data_2010"
         ],
         "y": [
          13.285956565752372,
          0.3219637958241569,
          0.0055883565523948,
          0.0142701407894131,
          0.2779769783305847,
          2.1439246919979813,
          0.4530427195939063,
          12.217439676769876,
          10.6399031239018,
          12.223671481505905
         ]
        },
        {
         "legendgroup": "Normal",
         "line": {
          "color": "orange"
         },
         "meanline": {
          "visible": true
         },
         "name": "Normal",
         "scalegroup": "Normal",
         "side": "positive",
         "type": "violin",
         "x": [
          "Daily_Sunspot",
          "POWER_Point_Daily",
          "Myocardial_infarction_heart",
          "Healthy_control_heart",
          "POWER_Point_Daily_TemperaturePOWER",
          "PM2.5_p09",
          "POWER_Point_Daily_WindSpeed",
          "BeijingPM2.5",
          "SunSpotMonthly",
          "PRSA_data_2010"
         ],
         "y": [
          15.864325120883253,
          1.071403392459824,
          0.0106843689630804,
          0.0193732691362996,
          1.1620799074423034,
          5.646221238205075,
          0.8394675329026755,
          21.997515738842893,
          19.72680163271012,
          21.77481337624308
         ]
        }
       ],
       "layout": {
        "autosize": true,
        "dragmode": "zoom",
        "template": {
         "data": {
          "bar": [
           {
            "error_x": {
             "color": "#2a3f5f"
            },
            "error_y": {
             "color": "#2a3f5f"
            },
            "marker": {
             "line": {
              "color": "#E5ECF6",
              "width": 0.5
             },
             "pattern": {
              "fillmode": "overlay",
              "size": 10,
              "solidity": 0.2
             }
            },
            "type": "bar"
           }
          ],
          "barpolar": [
           {
            "marker": {
             "line": {
              "color": "#E5ECF6",
              "width": 0.5
             },
             "pattern": {
              "fillmode": "overlay",
              "size": 10,
              "solidity": 0.2
             }
            },
            "type": "barpolar"
           }
          ],
          "carpet": [
           {
            "aaxis": {
             "endlinecolor": "#2a3f5f",
             "gridcolor": "white",
             "linecolor": "white",
             "minorgridcolor": "white",
             "startlinecolor": "#2a3f5f"
            },
            "baxis": {
             "endlinecolor": "#2a3f5f",
             "gridcolor": "white",
             "linecolor": "white",
             "minorgridcolor": "white",
             "startlinecolor": "#2a3f5f"
            },
            "type": "carpet"
           }
          ],
          "choropleth": [
           {
            "colorbar": {
             "outlinewidth": 0,
             "ticks": ""
            },
            "type": "choropleth"
           }
          ],
          "contour": [
           {
            "colorbar": {
             "outlinewidth": 0,
             "ticks": ""
            },
            "colorscale": [
             [
              0,
              "#0d0887"
             ],
             [
              0.1111111111111111,
              "#46039f"
             ],
             [
              0.2222222222222222,
              "#7201a8"
             ],
             [
              0.3333333333333333,
              "#9c179e"
             ],
             [
              0.4444444444444444,
              "#bd3786"
             ],
             [
              0.5555555555555556,
              "#d8576b"
             ],
             [
              0.6666666666666666,
              "#ed7953"
             ],
             [
              0.7777777777777778,
              "#fb9f3a"
             ],
             [
              0.8888888888888888,
              "#fdca26"
             ],
             [
              1,
              "#f0f921"
             ]
            ],
            "type": "contour"
           }
          ],
          "contourcarpet": [
           {
            "colorbar": {
             "outlinewidth": 0,
             "ticks": ""
            },
            "type": "contourcarpet"
           }
          ],
          "heatmap": [
           {
            "colorbar": {
             "outlinewidth": 0,
             "ticks": ""
            },
            "colorscale": [
             [
              0,
              "#0d0887"
             ],
             [
              0.1111111111111111,
              "#46039f"
             ],
             [
              0.2222222222222222,
              "#7201a8"
             ],
             [
              0.3333333333333333,
              "#9c179e"
             ],
             [
              0.4444444444444444,
              "#bd3786"
             ],
             [
              0.5555555555555556,
              "#d8576b"
             ],
             [
              0.6666666666666666,
              "#ed7953"
             ],
             [
              0.7777777777777778,
              "#fb9f3a"
             ],
             [
              0.8888888888888888,
              "#fdca26"
             ],
             [
              1,
              "#f0f921"
             ]
            ],
            "type": "heatmap"
           }
          ],
          "heatmapgl": [
           {
            "colorbar": {
             "outlinewidth": 0,
             "ticks": ""
            },
            "colorscale": [
             [
              0,
              "#0d0887"
             ],
             [
              0.1111111111111111,
              "#46039f"
             ],
             [
              0.2222222222222222,
              "#7201a8"
             ],
             [
              0.3333333333333333,
              "#9c179e"
             ],
             [
              0.4444444444444444,
              "#bd3786"
             ],
             [
              0.5555555555555556,
              "#d8576b"
             ],
             [
              0.6666666666666666,
              "#ed7953"
             ],
             [
              0.7777777777777778,
              "#fb9f3a"
             ],
             [
              0.8888888888888888,
              "#fdca26"
             ],
             [
              1,
              "#f0f921"
             ]
            ],
            "type": "heatmapgl"
           }
          ],
          "histogram": [
           {
            "marker": {
             "pattern": {
              "fillmode": "overlay",
              "size": 10,
              "solidity": 0.2
             }
            },
            "type": "histogram"
           }
          ],
          "histogram2d": [
           {
            "colorbar": {
             "outlinewidth": 0,
             "ticks": ""
            },
            "colorscale": [
             [
              0,
              "#0d0887"
             ],
             [
              0.1111111111111111,
              "#46039f"
             ],
             [
              0.2222222222222222,
              "#7201a8"
             ],
             [
              0.3333333333333333,
              "#9c179e"
             ],
             [
              0.4444444444444444,
              "#bd3786"
             ],
             [
              0.5555555555555556,
              "#d8576b"
             ],
             [
              0.6666666666666666,
              "#ed7953"
             ],
             [
              0.7777777777777778,
              "#fb9f3a"
             ],
             [
              0.8888888888888888,
              "#fdca26"
             ],
             [
              1,
              "#f0f921"
             ]
            ],
            "type": "histogram2d"
           }
          ],
          "histogram2dcontour": [
           {
            "colorbar": {
             "outlinewidth": 0,
             "ticks": ""
            },
            "colorscale": [
             [
              0,
              "#0d0887"
             ],
             [
              0.1111111111111111,
              "#46039f"
             ],
             [
              0.2222222222222222,
              "#7201a8"
             ],
             [
              0.3333333333333333,
              "#9c179e"
             ],
             [
              0.4444444444444444,
              "#bd3786"
             ],
             [
              0.5555555555555556,
              "#d8576b"
             ],
             [
              0.6666666666666666,
              "#ed7953"
             ],
             [
              0.7777777777777778,
              "#fb9f3a"
             ],
             [
              0.8888888888888888,
              "#fdca26"
             ],
             [
              1,
              "#f0f921"
             ]
            ],
            "type": "histogram2dcontour"
           }
          ],
          "mesh3d": [
           {
            "colorbar": {
             "outlinewidth": 0,
             "ticks": ""
            },
            "type": "mesh3d"
           }
          ],
          "parcoords": [
           {
            "line": {
             "colorbar": {
              "outlinewidth": 0,
              "ticks": ""
             }
            },
            "type": "parcoords"
           }
          ],
          "pie": [
           {
            "automargin": true,
            "type": "pie"
           }
          ],
          "scatter": [
           {
            "fillpattern": {
             "fillmode": "overlay",
             "size": 10,
             "solidity": 0.2
            },
            "type": "scatter"
           }
          ],
          "scatter3d": [
           {
            "line": {
             "colorbar": {
              "outlinewidth": 0,
              "ticks": ""
             }
            },
            "marker": {
             "colorbar": {
              "outlinewidth": 0,
              "ticks": ""
             }
            },
            "type": "scatter3d"
           }
          ],
          "scattercarpet": [
           {
            "marker": {
             "colorbar": {
              "outlinewidth": 0,
              "ticks": ""
             }
            },
            "type": "scattercarpet"
           }
          ],
          "scattergeo": [
           {
            "marker": {
             "colorbar": {
              "outlinewidth": 0,
              "ticks": ""
             }
            },
            "type": "scattergeo"
           }
          ],
          "scattergl": [
           {
            "marker": {
             "colorbar": {
              "outlinewidth": 0,
              "ticks": ""
             }
            },
            "type": "scattergl"
           }
          ],
          "scattermapbox": [
           {
            "marker": {
             "colorbar": {
              "outlinewidth": 0,
              "ticks": ""
             }
            },
            "type": "scattermapbox"
           }
          ],
          "scatterpolar": [
           {
            "marker": {
             "colorbar": {
              "outlinewidth": 0,
              "ticks": ""
             }
            },
            "type": "scatterpolar"
           }
          ],
          "scatterpolargl": [
           {
            "marker": {
             "colorbar": {
              "outlinewidth": 0,
              "ticks": ""
             }
            },
            "type": "scatterpolargl"
           }
          ],
          "scatterternary": [
           {
            "marker": {
             "colorbar": {
              "outlinewidth": 0,
              "ticks": ""
             }
            },
            "type": "scatterternary"
           }
          ],
          "surface": [
           {
            "colorbar": {
             "outlinewidth": 0,
             "ticks": ""
            },
            "colorscale": [
             [
              0,
              "#0d0887"
             ],
             [
              0.1111111111111111,
              "#46039f"
             ],
             [
              0.2222222222222222,
              "#7201a8"
             ],
             [
              0.3333333333333333,
              "#9c179e"
             ],
             [
              0.4444444444444444,
              "#bd3786"
             ],
             [
              0.5555555555555556,
              "#d8576b"
             ],
             [
              0.6666666666666666,
              "#ed7953"
             ],
             [
              0.7777777777777778,
              "#fb9f3a"
             ],
             [
              0.8888888888888888,
              "#fdca26"
             ],
             [
              1,
              "#f0f921"
             ]
            ],
            "type": "surface"
           }
          ],
          "table": [
           {
            "cells": {
             "fill": {
              "color": "#EBF0F8"
             },
             "line": {
              "color": "white"
             }
            },
            "header": {
             "fill": {
              "color": "#C8D4E3"
             },
             "line": {
              "color": "white"
             }
            },
            "type": "table"
           }
          ]
         },
         "layout": {
          "annotationdefaults": {
           "arrowcolor": "#2a3f5f",
           "arrowhead": 0,
           "arrowwidth": 1
          },
          "autotypenumbers": "strict",
          "coloraxis": {
           "colorbar": {
            "outlinewidth": 0,
            "ticks": ""
           }
          },
          "colorscale": {
           "diverging": [
            [
             0,
             "#8e0152"
            ],
            [
             0.1,
             "#c51b7d"
            ],
            [
             0.2,
             "#de77ae"
            ],
            [
             0.3,
             "#f1b6da"
            ],
            [
             0.4,
             "#fde0ef"
            ],
            [
             0.5,
             "#f7f7f7"
            ],
            [
             0.6,
             "#e6f5d0"
            ],
            [
             0.7,
             "#b8e186"
            ],
            [
             0.8,
             "#7fbc41"
            ],
            [
             0.9,
             "#4d9221"
            ],
            [
             1,
             "#276419"
            ]
           ],
           "sequential": [
            [
             0,
             "#0d0887"
            ],
            [
             0.1111111111111111,
             "#46039f"
            ],
            [
             0.2222222222222222,
             "#7201a8"
            ],
            [
             0.3333333333333333,
             "#9c179e"
            ],
            [
             0.4444444444444444,
             "#bd3786"
            ],
            [
             0.5555555555555556,
             "#d8576b"
            ],
            [
             0.6666666666666666,
             "#ed7953"
            ],
            [
             0.7777777777777778,
             "#fb9f3a"
            ],
            [
             0.8888888888888888,
             "#fdca26"
            ],
            [
             1,
             "#f0f921"
            ]
           ],
           "sequentialminus": [
            [
             0,
             "#0d0887"
            ],
            [
             0.1111111111111111,
             "#46039f"
            ],
            [
             0.2222222222222222,
             "#7201a8"
            ],
            [
             0.3333333333333333,
             "#9c179e"
            ],
            [
             0.4444444444444444,
             "#bd3786"
            ],
            [
             0.5555555555555556,
             "#d8576b"
            ],
            [
             0.6666666666666666,
             "#ed7953"
            ],
            [
             0.7777777777777778,
             "#fb9f3a"
            ],
            [
             0.8888888888888888,
             "#fdca26"
            ],
            [
             1,
             "#f0f921"
            ]
           ]
          },
          "colorway": [
           "#636efa",
           "#EF553B",
           "#00cc96",
           "#ab63fa",
           "#FFA15A",
           "#19d3f3",
           "#FF6692",
           "#B6E880",
           "#FF97FF",
           "#FECB52"
          ],
          "font": {
           "color": "#2a3f5f"
          },
          "geo": {
           "bgcolor": "white",
           "lakecolor": "white",
           "landcolor": "#E5ECF6",
           "showlakes": true,
           "showland": true,
           "subunitcolor": "white"
          },
          "hoverlabel": {
           "align": "left"
          },
          "hovermode": "closest",
          "mapbox": {
           "style": "light"
          },
          "paper_bgcolor": "white",
          "plot_bgcolor": "#E5ECF6",
          "polar": {
           "angularaxis": {
            "gridcolor": "white",
            "linecolor": "white",
            "ticks": ""
           },
           "bgcolor": "#E5ECF6",
           "radialaxis": {
            "gridcolor": "white",
            "linecolor": "white",
            "ticks": ""
           }
          },
          "scene": {
           "xaxis": {
            "backgroundcolor": "#E5ECF6",
            "gridcolor": "white",
            "gridwidth": 2,
            "linecolor": "white",
            "showbackground": true,
            "ticks": "",
            "zerolinecolor": "white"
           },
           "yaxis": {
            "backgroundcolor": "#E5ECF6",
            "gridcolor": "white",
            "gridwidth": 2,
            "linecolor": "white",
            "showbackground": true,
            "ticks": "",
            "zerolinecolor": "white"
           },
           "zaxis": {
            "backgroundcolor": "#E5ECF6",
            "gridcolor": "white",
            "gridwidth": 2,
            "linecolor": "white",
            "showbackground": true,
            "ticks": "",
            "zerolinecolor": "white"
           }
          },
          "shapedefaults": {
           "line": {
            "color": "#2a3f5f"
           }
          },
          "ternary": {
           "aaxis": {
            "gridcolor": "white",
            "linecolor": "white",
            "ticks": ""
           },
           "baxis": {
            "gridcolor": "white",
            "linecolor": "white",
            "ticks": ""
           },
           "bgcolor": "#E5ECF6",
           "caxis": {
            "gridcolor": "white",
            "linecolor": "white",
            "ticks": ""
           }
          },
          "title": {
           "x": 0.05
          },
          "xaxis": {
           "automargin": true,
           "gridcolor": "white",
           "linecolor": "white",
           "ticks": "",
           "title": {
            "standoff": 15
           },
           "zerolinecolor": "white",
           "zerolinewidth": 2
          },
          "yaxis": {
           "automargin": true,
           "gridcolor": "white",
           "linecolor": "white",
           "ticks": "",
           "title": {
            "standoff": 15
           },
           "zerolinecolor": "white",
           "zerolinewidth": 2
          }
         }
        },
        "violingap": 0,
        "violinmode": "overlay",
        "xaxis": {
         "autorange": true,
         "range": [
          -0.25,
          9.25
         ],
         "showspikes": false,
         "type": "category"
        },
        "yaxis": {
         "autorange": true,
         "range": [
          -1.2161853869081884,
          23.219289482303477
         ],
         "showspikes": false,
         "type": "linear"
        }
       }
      },
      "image/png": "[encoded data removed]",
      "text/html": [
       "<div>                            <div id=\"c64d4741-5849-4da5-9da1-d709a5b001e0\" class=\"plotly-graph-div\" style=\"height:525px; width:100%;\"></div>            <script type=\"text/javascript\">                require([\"plotly\"], function(Plotly) {                    window.PLOTLYENV=window.PLOTLYENV || {};                                    if (document.getElementById(\"c64d4741-5849-4da5-9da1-d709a5b001e0\")) {                    Plotly.newPlot(                        \"c64d4741-5849-4da5-9da1-d709a5b001e0\",                        [{\"legendgroup\":\"with GAB\",\"line\":{\"color\":\"blue\"},\"name\":\"with GAB\",\"scalegroup\":\"with GAB\",\"side\":\"negative\",\"x\":[\"Daily_Sunspot\",\"POWER_Point_Daily\",\"Myocardial_infarction_heart\",\"Healthy_control_heart\",\"POWER_Point_Daily_TemperaturePOWER\",\"PM2.5_p09\",\"POWER_Point_Daily_WindSpeed\",\"BeijingPM2.5\",\"SunSpotMonthly\",\"PRSA_data_2010\"],\"y\":[13.285956565752372,0.3219637958241569,0.0055883565523948,0.0142701407894131,0.2779769783305847,2.1439246919979813,0.4530427195939063,12.217439676769876,10.6399031239018,12.223671481505905],\"type\":\"violin\",\"meanline\":{\"visible\":true}},{\"legendgroup\":\"Normal\",\"line\":{\"color\":\"orange\"},\"name\":\"Normal\",\"scalegroup\":\"Normal\",\"side\":\"positive\",\"x\":[\"Daily_Sunspot\",\"POWER_Point_Daily\",\"Myocardial_infarction_heart\",\"Healthy_control_heart\",\"POWER_Point_Daily_TemperaturePOWER\",\"PM2.5_p09\",\"POWER_Point_Daily_WindSpeed\",\"BeijingPM2.5\",\"SunSpotMonthly\",\"PRSA_data_2010\"],\"y\":[15.864325120883253,1.071403392459824,0.0106843689630804,0.0193732691362996,1.1620799074423034,5.646221238205075,0.8394675329026755,21.997515738842893,19.72680163271012,21.77481337624308],\"type\":\"violin\",\"meanline\":{\"visible\":true}}],                        {\"template\":{\"data\":{\"histogram2dcontour\":[{\"type\":\"histogram2dcontour\",\"colorbar\":{\"outlinewidth\":0,\"ticks\":\"\"},\"colorscale\":[[0.0,\"#0d0887\"],[0.1111111111111111,\"#46039f\"],[0.2222222222222222,\"#7201a8\"],[0.3333333333333333,\"#9c179e\"],[0.4444444444444444,\"#bd3786\"],[0.5555555555555556,\"#d8576b\"],[0.6666666666666666,\"#ed7953\"],[0.7777777777777778,\"#fb9f3a\"],[0.8888888888888888,\"#fdca26\"],[1.0,\"#f0f921\"]]}],\"choropleth\":[{\"type\":\"choropleth\",\"colorbar\":{\"outlinewidth\":0,\"ticks\":\"\"}}],\"histogram2d\":[{\"type\":\"histogram2d\",\"colorbar\":{\"outlinewidth\":0,\"ticks\":\"\"},\"colorscale\":[[0.0,\"#0d0887\"],[0.1111111111111111,\"#46039f\"],[0.2222222222222222,\"#7201a8\"],[0.3333333333333333,\"#9c179e\"],[0.4444444444444444,\"#bd3786\"],[0.5555555555555556,\"#d8576b\"],[0.6666666666666666,\"#ed7953\"],[0.7777777777777778,\"#fb9f3a\"],[0.8888888888888888,\"#fdca26\"],[1.0,\"#f0f921\"]]}],\"heatmap\":[{\"type\":\"heatmap\",\"colorbar\":{\"outlinewidth\":0,\"ticks\":\"\"},\"colorscale\":[[0.0,\"#0d0887\"],[0.1111111111111111,\"#46039f\"],[0.2222222222222222,\"#7201a8\"],[0.3333333333333333,\"#9c179e\"],[0.4444444444444444,\"#bd3786\"],[0.5555555555555556,\"#d8576b\"],[0.6666666666666666,\"#ed7953\"],[0.7777777777777778,\"#fb9f3a\"],[0.8888888888888888,\"#fdca26\"],[1.0,\"#f0f921\"]]}],\"heatmapgl\":[{\"type\":\"heatmapgl\",\"colorbar\":{\"outlinewidth\":0,\"ticks\":\"\"},\"colorscale\":[[0.0,\"#0d0887\"],[0.1111111111111111,\"#46039f\"],[0.2222222222222222,\"#7201a8\"],[0.3333333333333333,\"#9c179e\"],[0.4444444444444444,\"#bd3786\"],[0.5555555555555556,\"#d8576b\"],[0.6666666666666666,\"#ed7953\"],[0.7777777777777778,\"#fb9f3a\"],[0.8888888888888888,\"#fdca26\"],[1.0,\"#f0f921\"]]}],\"contourcarpet\":[{\"type\":\"contourcarpet\",\"colorbar\":{\"outlinewidth\":0,\"ticks\":\"\"}}],\"contour\":[{\"type\":\"contour\",\"colorbar\":{\"outlinewidth\":0,\"ticks\":\"\"},\"colorscale\":[[0.0,\"#0d0887\"],[0.1111111111111111,\"#46039f\"],[0.2222222222222222,\"#7201a8\"],[0.3333333333333333,\"#9c179e\"],[0.4444444444444444,\"#bd3786\"],[0.5555555555555556,\"#d8576b\"],[0.6666666666666666,\"#ed7953\"],[0.7777777777777778,\"#fb9f3a\"],[0.8888888888888888,\"#fdca26\"],[1.0,\"#f0f921\"]]}],\"surface\":[{\"type\":\"surface\",\"colorbar\":{\"outlinewidth\":0,\"ticks\":\"\"},\"colorscale\":[[0.0,\"#0d0887\"],[0.1111111111111111,\"#46039f\"],[0.2222222222222222,\"#7201a8\"],[0.3333333333333333,\"#9c179e\"],[0.4444444444444444,\"#bd3786\"],[0.5555555555555556,\"#d8576b\"],[0.6666666666666666,\"#ed7953\"],[0.7777777777777778,\"#fb9f3a\"],[0.8888888888888888,\"#fdca26\"],[1.0,\"#f0f921\"]]}],\"mesh3d\":[{\"type\":\"mesh3d\",\"colorbar\":{\"outlinewidth\":0,\"ticks\":\"\"}}],\"scatter\":[{\"fillpattern\":{\"fillmode\":\"overlay\",\"size\":10,\"solidity\":0.2},\"type\":\"scatter\"}],\"parcoords\":[{\"type\":\"parcoords\",\"line\":{\"colorbar\":{\"outlinewidth\":0,\"ticks\":\"\"}}}],\"scatterpolargl\":[{\"type\":\"scatterpolargl\",\"marker\":{\"colorbar\":{\"outlinewidth\":0,\"ticks\":\"\"}}}],\"bar\":[{\"error_x\":{\"color\":\"#2a3f5f\"},\"error_y\":{\"color\":\"#2a3f5f\"},\"marker\":{\"line\":{\"color\":\"#E5ECF6\",\"width\":0.5},\"pattern\":{\"fillmode\":\"overlay\",\"size\":10,\"solidity\":0.2}},\"type\":\"bar\"}],\"scattergeo\":[{\"type\":\"scattergeo\",\"marker\":{\"colorbar\":{\"outlinewidth\":0,\"ticks\":\"\"}}}],\"scatterpolar\":[{\"type\":\"scatterpolar\",\"marker\":{\"colorbar\":{\"outlinewidth\":0,\"ticks\":\"\"}}}],\"histogram\":[{\"marker\":{\"pattern\":{\"fillmode\":\"overlay\",\"size\":10,\"solidity\":0.2}},\"type\":\"histogram\"}],\"scattergl\":[{\"type\":\"scattergl\",\"marker\":{\"colorbar\":{\"outlinewidth\":0,\"ticks\":\"\"}}}],\"scatter3d\":[{\"type\":\"scatter3d\",\"line\":{\"colorbar\":{\"outlinewidth\":0,\"ticks\":\"\"}},\"marker\":{\"colorbar\":{\"outlinewidth\":0,\"ticks\":\"\"}}}],\"scattermapbox\":[{\"type\":\"scattermapbox\",\"marker\":{\"colorbar\":{\"outlinewidth\":0,\"ticks\":\"\"}}}],\"scatterternary\":[{\"type\":\"scatterternary\",\"marker\":{\"colorbar\":{\"outlinewidth\":0,\"ticks\":\"\"}}}],\"scattercarpet\":[{\"type\":\"scattercarpet\",\"marker\":{\"colorbar\":{\"outlinewidth\":0,\"ticks\":\"\"}}}],\"carpet\":[{\"aaxis\":{\"endlinecolor\":\"#2a3f5f\",\"gridcolor\":\"white\",\"linecolor\":\"white\",\"minorgridcolor\":\"white\",\"startlinecolor\":\"#2a3f5f\"},\"baxis\":{\"endlinecolor\":\"#2a3f5f\",\"gridcolor\":\"white\",\"linecolor\":\"white\",\"minorgridcolor\":\"white\",\"startlinecolor\":\"#2a3f5f\"},\"type\":\"carpet\"}],\"table\":[{\"cells\":{\"fill\":{\"color\":\"#EBF0F8\"},\"line\":{\"color\":\"white\"}},\"header\":{\"fill\":{\"color\":\"#C8D4E3\"},\"line\":{\"color\":\"white\"}},\"type\":\"table\"}],\"barpolar\":[{\"marker\":{\"line\":{\"color\":\"#E5ECF6\",\"width\":0.5},\"pattern\":{\"fillmode\":\"overlay\",\"size\":10,\"solidity\":0.2}},\"type\":\"barpolar\"}],\"pie\":[{\"automargin\":true,\"type\":\"pie\"}]},\"layout\":{\"autotypenumbers\":\"strict\",\"colorway\":[\"#636efa\",\"#EF553B\",\"#00cc96\",\"#ab63fa\",\"#FFA15A\",\"#19d3f3\",\"#FF6692\",\"#B6E880\",\"#FF97FF\",\"#FECB52\"],\"font\":{\"color\":\"#2a3f5f\"},\"hovermode\":\"closest\",\"hoverlabel\":{\"align\":\"left\"},\"paper_bgcolor\":\"white\",\"plot_bgcolor\":\"#E5ECF6\",\"polar\":{\"bgcolor\":\"#E5ECF6\",\"angularaxis\":{\"gridcolor\":\"white\",\"linecolor\":\"white\",\"ticks\":\"\"},\"radialaxis\":{\"gridcolor\":\"white\",\"linecolor\":\"white\",\"ticks\":\"\"}},\"ternary\":{\"bgcolor\":\"#E5ECF6\",\"aaxis\":{\"gridcolor\":\"white\",\"linecolor\":\"white\",\"ticks\":\"\"},\"baxis\":{\"gridcolor\":\"white\",\"linecolor\":\"white\",\"ticks\":\"\"},\"caxis\":{\"gridcolor\":\"white\",\"linecolor\":\"white\",\"ticks\":\"\"}},\"coloraxis\":{\"colorbar\":{\"outlinewidth\":0,\"ticks\":\"\"}},\"colorscale\":{\"sequential\":[[0.0,\"#0d0887\"],[0.1111111111111111,\"#46039f\"],[0.2222222222222222,\"#7201a8\"],[0.3333333333333333,\"#9c179e\"],[0.4444444444444444,\"#bd3786\"],[0.5555555555555556,\"#d8576b\"],[0.6666666666666666,\"#ed7953\"],[0.7777777777777778,\"#fb9f3a\"],[0.8888888888888888,\"#fdca26\"],[1.0,\"#f0f921\"]],\"sequentialminus\":[[0.0,\"#0d0887\"],[0.1111111111111111,\"#46039f\"],[0.2222222222222222,\"#7201a8\"],[0.3333333333333333,\"#9c179e\"],[0.4444444444444444,\"#bd3786\"],[0.5555555555555556,\"#d8576b\"],[0.6666666666666666,\"#ed7953\"],[0.7777777777777778,\"#fb9f3a\"],[0.8888888888888888,\"#fdca26\"],[1.0,\"#f0f921\"]],\"diverging\":[[0,\"#8e0152\"],[0.1,\"#c51b7d\"],[0.2,\"#de77ae\"],[0.3,\"#f1b6da\"],[0.4,\"#fde0ef\"],[0.5,\"#f7f7f7\"],[0.6,\"#e6f5d0\"],[0.7,\"#b8e186\"],[0.8,\"#7fbc41\"],[0.9,\"#4d9221\"],[1,\"#276419\"]]},\"xaxis\":{\"gridcolor\":\"white\",\"linecolor\":\"white\",\"ticks\":\"\",\"title\":{\"standoff\":15},\"zerolinecolor\":\"white\",\"automargin\":true,\"zerolinewidth\":2},\"yaxis\":{\"gridcolor\":\"white\",\"linecolor\":\"white\",\"ticks\":\"\",\"title\":{\"standoff\":15},\"zerolinecolor\":\"white\",\"automargin\":true,\"zerolinewidth\":2},\"scene\":{\"xaxis\":{\"backgroundcolor\":\"#E5ECF6\",\"gridcolor\":\"white\",\"linecolor\":\"white\",\"showbackground\":true,\"ticks\":\"\",\"zerolinecolor\":\"white\",\"gridwidth\":2},\"yaxis\":{\"backgroundcolor\":\"#E5ECF6\",\"gridcolor\":\"white\",\"linecolor\":\"white\",\"showbackground\":true,\"ticks\":\"\",\"zerolinecolor\":\"white\",\"gridwidth\":2},\"zaxis\":{\"backgroundcolor\":\"#E5ECF6\",\"gridcolor\":\"white\",\"linecolor\":\"white\",\"showbackground\":true,\"ticks\":\"\",\"zerolinecolor\":\"white\",\"gridwidth\":2}},\"shapedefaults\":{\"line\":{\"color\":\"#2a3f5f\"}},\"annotationdefaults\":{\"arrowcolor\":\"#2a3f5f\",\"arrowhead\":0,\"arrowwidth\":1},\"geo\":{\"bgcolor\":\"white\",\"landcolor\":\"#E5ECF6\",\"subunitcolor\":\"white\",\"showland\":true,\"showlakes\":true,\"lakecolor\":\"white\"},\"title\":{\"x\":0.05},\"mapbox\":{\"style\":\"light\"}}},\"violingap\":0,\"violinmode\":\"overlay\"},                        {\"responsive\": true}                    ).then(function(){\n",
       "                            \n",
       "var gd = document.getElementById('c64d4741-5849-4da5-9da1-d709a5b001e0');\n",
       "var x = new MutationObserver(function (mutations, observer) {{\n",
       "        var display = window.getComputedStyle(gd).display;\n",
       "        if (!display || display === 'none') {{\n",
       "            console.log([gd, 'removed!']);\n",
       "            Plotly.purge(gd);\n",
       "            observer.disconnect();\n",
       "        }}\n",
       "}});\n",
       "\n",
       "// Listen for the removal of the full notebook cells\n",
       "var notebookContainer = gd.closest('#notebook-container');\n",
       "if (notebookContainer) {{\n",
       "    x.observe(notebookContainer, {childList: true});\n",
       "}}\n",
       "\n",
       "// Listen for the clearing of the current output cell\n",
       "var outputEl = gd.closest('.output');\n",
       "if (outputEl) {{\n",
       "    x.observe(outputEl, {childList: true});\n",
       "}}\n",
       "\n",
       "                        })                };                });            </script>        </div>"
      ]
     },
     "metadata": {},
     "output_type": "display_data"
    }
   ],
   "source": [
    "import plotly.graph_objects as go\n",
    "\n",
    "import pandas as pd\n",
    "\n",
    "#df = pd.read_csv(\"https://raw.githubusercontent.com/plotly/datasets/master/violin_data.csv\")\n",
    "\n",
    "fig = go.Figure()\n",
    "\n",
    "fig.add_trace(go.Violin(x=rmse['Unnamed: 0'],\n",
    "                        y=rmse['Gab_bilstm'],\n",
    "                        legendgroup='with GAB', scalegroup='with GAB', name='with GAB',\n",
    "                        side='negative',\n",
    "                        line_color='blue')\n",
    "             )\n",
    "fig.add_trace(go.Violin(x=rmse['Unnamed: 0'],\n",
    "                        y=rmse['BiLSTM'],\n",
    "                        legendgroup='Normal', scalegroup='Normal', name='Normal',\n",
    "                        side='positive',\n",
    "                        line_color='orange')\n",
    "             )\n",
    "fig.update_traces(meanline_visible=True)\n",
    "fig.update_layout(violingap=0, violinmode='overlay')\n",
    "fig.show()"
   ]
  },
  {
   "cell_type": "code",
   "execution_count": null,
   "id": "f1e01852-8230-4687-8f8e-2b65dca63ab7",
   "metadata": {
    "tags": []
   },
   "outputs": [],
   "source": []
  },
  {
   "cell_type": "code",
   "execution_count": null,
   "id": "d384da9a-4e68-4951-8237-39bb39f8c1d7",
   "metadata": {},
   "outputs": [],
   "source": []
  }
 ],
 "metadata": {
  "kernelspec": {
   "display_name": "Python 3 (ipykernel)",
   "language": "python",
   "name": "python3"
  },
  "language_info": {
   "codemirror_mode": {
    "name": "ipython",
    "version": 3
   },
   "file_extension": ".py",
   "mimetype": "text/x-python",
   "name": "python",
   "nbconvert_exporter": "python",
   "pygments_lexer": "ipython3",
   "version": "3.8.10"
  },
  "widgets": {
   "application/vnd.jupyter.widget-state+json": {
    "state": {},
    "version_major": 2,
    "version_minor": 0
   }
  }
 },
 "nbformat": 4,
 "nbformat_minor": 5
}
