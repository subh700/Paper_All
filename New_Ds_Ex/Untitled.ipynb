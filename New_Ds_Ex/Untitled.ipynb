{
 "cells": [
  {
   "cell_type": "code",
   "execution_count": 15,
   "id": "c4de5536-ca89-4bef-9a47-c26744290334",
   "metadata": {
    "execution": {
     "iopub.execute_input": "2023-03-26T07:59:33.372796Z",
     "iopub.status.busy": "2023-03-26T07:59:33.372513Z",
     "iopub.status.idle": "2023-03-26T07:59:33.378366Z",
     "shell.execute_reply": "2023-03-26T07:59:33.377719Z",
     "shell.execute_reply.started": "2023-03-26T07:59:33.372774Z"
    },
    "tags": []
   },
   "outputs": [],
   "source": [
    "import pandas as pd\n",
    "import numpy as np\n",
    "import plotly.express as px\n",
    "fig =px.line(df1, title='PM2.5 with slider', height=600)\n",
    "fig.update_xaxes(\n",
    "    rangeslider_visible=True,\n",
    "    rangeselector=dict()\n",
    ")\n",
    "# Change grid color and axis colors\n",
    "#fig.update_xaxes(showline=True, linewidth=2, linecolor='black', gridcolor='green')\n",
    "#fig.update_yaxes(showline=True, linewidth=2, linecolor='black', gridcolor='Red')\n",
    "fig.show()"
   ]
  },
  {
   "cell_type": "code",
   "execution_count": 16,
   "id": "c81f1f59-addf-4977-a172-08de9c22c118",
   "metadata": {
    "execution": {
     "iopub.execute_input": "2023-03-26T07:59:33.531173Z",
     "iopub.status.busy": "2023-03-26T07:59:33.530898Z",
     "iopub.status.idle": "2023-03-26T07:59:33.861270Z",
     "shell.execute_reply": "2023-03-26T07:59:33.860388Z",
     "shell.execute_reply.started": "2023-03-26T07:59:33.531148Z"
    },
    "tags": []
   },
   "outputs": [],
   "source": [
    "import glob\n",
    "all_f= glob.glob('DataSets/'+'*/'+'*/'+'*_INDEX_*.csv')\n",
    "all_f\n",
    "li=[]\n",
    "for file_name in all_f:\n",
    "    df=pd.read_csv(file_name)\n",
    "    li.append(df)"
   ]
  },
  {
   "cell_type": "code",
   "execution_count": 17,
   "id": "22440ac9-e0d0-4706-965e-ed39593d4b39",
   "metadata": {
    "execution": {
     "iopub.execute_input": "2023-03-26T07:59:33.929211Z",
     "iopub.status.busy": "2023-03-26T07:59:33.928843Z",
     "iopub.status.idle": "2023-03-26T07:59:33.935827Z",
     "shell.execute_reply": "2023-03-26T07:59:33.934951Z",
     "shell.execute_reply.started": "2023-03-26T07:59:33.929183Z"
    },
    "tags": []
   },
   "outputs": [],
   "source": [
    "df=li[1]\n",
    "\n",
    "df1=df.set_index('DATE')"
   ]
  },
  {
   "cell_type": "code",
   "execution_count": 18,
   "id": "5ad639df-340c-44f9-abfb-bfe9291a85a9",
   "metadata": {
    "execution": {
     "iopub.execute_input": "2023-03-26T07:59:34.365008Z",
     "iopub.status.busy": "2023-03-26T07:59:34.364297Z",
     "iopub.status.idle": "2023-03-26T07:59:34.417678Z",
     "shell.execute_reply": "2023-03-26T07:59:34.416420Z",
     "shell.execute_reply.started": "2023-03-26T07:59:34.364977Z"
    },
    "tags": []
   },
   "outputs": [
    {
     "ename": "ValueError",
     "evalue": "You must specify a period or x must be a pandas object with a PeriodIndex or a DatetimeIndex with a freq not set to None",
     "output_type": "error",
     "traceback": [
      "\u001b[0;31m---------------------------------------------------------------------------\u001b[0m",
      "\u001b[0;31mValueError\u001b[0m                                Traceback (most recent call last)",
      "Cell \u001b[0;32mIn[18], line 1\u001b[0m\n\u001b[0;32m----> 1\u001b[0m decomposition \u001b[38;5;241m=\u001b[39m \u001b[43msm\u001b[49m\u001b[38;5;241;43m.\u001b[39;49m\u001b[43mtsa\u001b[49m\u001b[38;5;241;43m.\u001b[39;49m\u001b[43mseasonal_decompose\u001b[49m\u001b[43m(\u001b[49m\u001b[43mdf\u001b[49m\u001b[43m[\u001b[49m\u001b[38;5;124;43m'\u001b[39;49m\u001b[38;5;124;43mPM2.5\u001b[39;49m\u001b[38;5;124;43m'\u001b[39;49m\u001b[43m]\u001b[49m\u001b[43m,\u001b[49m\u001b[43m \u001b[49m\u001b[43mmodel\u001b[49m\u001b[38;5;241;43m=\u001b[39;49m\u001b[38;5;124;43m'\u001b[39;49m\u001b[38;5;124;43madditive\u001b[39;49m\u001b[38;5;124;43m'\u001b[39;49m\u001b[43m)\u001b[49m\n\u001b[1;32m      2\u001b[0m plt\u001b[38;5;241m.\u001b[39mplot(df\u001b[38;5;241m.\u001b[39mindex, df[\u001b[38;5;124m'\u001b[39m\u001b[38;5;124mPM2.5\u001b[39m\u001b[38;5;124m'\u001b[39m],color\u001b[38;5;241m=\u001b[39m \u001b[38;5;124m\"\u001b[39m\u001b[38;5;124m#000000\u001b[39m\u001b[38;5;124m\"\u001b[39m)\n",
      "File \u001b[0;32m~/.local/lib/python3.11/site-packages/statsmodels/tsa/seasonal.py:159\u001b[0m, in \u001b[0;36mseasonal_decompose\u001b[0;34m(x, model, filt, period, two_sided, extrapolate_trend)\u001b[0m\n\u001b[1;32m    157\u001b[0m         period \u001b[38;5;241m=\u001b[39m pfreq\n\u001b[1;32m    158\u001b[0m     \u001b[38;5;28;01melse\u001b[39;00m:\n\u001b[0;32m--> 159\u001b[0m         \u001b[38;5;28;01mraise\u001b[39;00m \u001b[38;5;167;01mValueError\u001b[39;00m(\n\u001b[1;32m    160\u001b[0m             \u001b[38;5;124m\"\u001b[39m\u001b[38;5;124mYou must specify a period or x must be a pandas object with \u001b[39m\u001b[38;5;124m\"\u001b[39m\n\u001b[1;32m    161\u001b[0m             \u001b[38;5;124m\"\u001b[39m\u001b[38;5;124ma PeriodIndex or a DatetimeIndex with a freq not set to None\u001b[39m\u001b[38;5;124m\"\u001b[39m\n\u001b[1;32m    162\u001b[0m         )\n\u001b[1;32m    163\u001b[0m \u001b[38;5;28;01mif\u001b[39;00m x\u001b[38;5;241m.\u001b[39mshape[\u001b[38;5;241m0\u001b[39m] \u001b[38;5;241m<\u001b[39m \u001b[38;5;241m2\u001b[39m \u001b[38;5;241m*\u001b[39m pfreq:\n\u001b[1;32m    164\u001b[0m     \u001b[38;5;28;01mraise\u001b[39;00m \u001b[38;5;167;01mValueError\u001b[39;00m(\n\u001b[1;32m    165\u001b[0m         \u001b[38;5;124mf\u001b[39m\u001b[38;5;124m\"\u001b[39m\u001b[38;5;124mx must have 2 complete cycles requires \u001b[39m\u001b[38;5;132;01m{\u001b[39;00m\u001b[38;5;241m2\u001b[39m\u001b[38;5;250m \u001b[39m\u001b[38;5;241m*\u001b[39m\u001b[38;5;250m \u001b[39mpfreq\u001b[38;5;132;01m}\u001b[39;00m\u001b[38;5;124m \u001b[39m\u001b[38;5;124m\"\u001b[39m\n\u001b[1;32m    166\u001b[0m         \u001b[38;5;124mf\u001b[39m\u001b[38;5;124m\"\u001b[39m\u001b[38;5;124mobservations. x only has \u001b[39m\u001b[38;5;132;01m{\u001b[39;00mx\u001b[38;5;241m.\u001b[39mshape[\u001b[38;5;241m0\u001b[39m]\u001b[38;5;132;01m}\u001b[39;00m\u001b[38;5;124m observation(s)\u001b[39m\u001b[38;5;124m\"\u001b[39m\n\u001b[1;32m    167\u001b[0m     )\n",
      "\u001b[0;31mValueError\u001b[0m: You must specify a period or x must be a pandas object with a PeriodIndex or a DatetimeIndex with a freq not set to None"
     ]
    }
   ],
   "source": [
    "decomposition = sm.tsa.seasonal_decompose(df['PM2.5'], model='additive')\n",
    "plt.plot(df.index, df['PM2.5'],color= \"#000000\")"
   ]
  },
  {
   "cell_type": "code",
   "execution_count": 14,
   "id": "ab239bb5-df7a-4ba4-b7e0-8b548bed49ca",
   "metadata": {
    "execution": {
     "iopub.execute_input": "2023-03-26T07:46:46.060290Z",
     "iopub.status.busy": "2023-03-26T07:46:46.059542Z",
     "iopub.status.idle": "2023-03-26T07:46:47.543866Z",
     "shell.execute_reply": "2023-03-26T07:46:47.542961Z",
     "shell.execute_reply.started": "2023-03-26T07:46:46.060221Z"
    },
    "tags": []
   },
   "outputs": [
    {
     "data": {
      "text/plain": [
       "[<matplotlib.lines.Line2D at 0x7f89d03d97d0>]"
      ]
     },
     "execution_count": 14,
     "metadata": {},
     "output_type": "execute_result"
    },
    {
     "data": {
      "image/png": "[encoded data removed]",
      "text/plain": [
       "<Figure size 640x480 with 1 Axes>"
      ]
     },
     "metadata": {},
     "output_type": "display_data"
    }
   ],
   "source": [
    "decomposition = sm.tsa.seasonal_decompose(df1['PM2.5'], model='additive')\n",
    "plt.plot(df1.index, decomposition.seasonal,color= \"#000000\")"
   ]
  },
  {
   "cell_type": "code",
   "execution_count": null,
   "id": "d9a33d91-4e69-41a4-a6d1-004e009f9d94",
   "metadata": {},
   "outputs": [],
   "source": []
  }
 ],
 "metadata": {
  "kernelspec": {
   "display_name": "Python 3 (ipykernel)",
   "language": "python",
   "name": "python3"
  },
  "language_info": {
   "codemirror_mode": {
    "name": "ipython",
    "version": 3
   },
   "file_extension": ".py",
   "mimetype": "text/x-python",
   "name": "python",
   "nbconvert_exporter": "python",
   "pygments_lexer": "ipython3",
   "version": "3.8.10"
  },
  "widgets": {
   "application/vnd.jupyter.widget-state+json": {
    "state": {},
    "version_major": 2,
    "version_minor": 0
   }
  }
 },
 "nbformat": 4,
 "nbformat_minor": 5
}
