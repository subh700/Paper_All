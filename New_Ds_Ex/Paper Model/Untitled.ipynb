{
 "cells": [
  {
   "cell_type": "code",
   "execution_count": 1,
   "id": "e63ec78e-b038-4de4-9f23-0122af6681df",
   "metadata": {
    "execution": {
     "iopub.execute_input": "2023-03-30T10:34:43.777217Z",
     "iopub.status.busy": "2023-03-30T10:34:43.777029Z",
     "iopub.status.idle": "2023-03-30T10:34:47.193810Z",
     "shell.execute_reply": "2023-03-30T10:34:47.192987Z",
     "shell.execute_reply.started": "2023-03-30T10:34:43.777196Z"
    },
    "tags": []
   },
   "outputs": [
    {
     "name": "stderr",
     "output_type": "stream",
     "text": [
      "2023-03-30 16:04:45.156826: I tensorflow/tsl/cuda/cudart_stub.cc:28] Could not find cuda drivers on your machine, GPU will not be used.\n",
      "2023-03-30 16:04:45.201508: I tensorflow/tsl/cuda/cudart_stub.cc:28] Could not find cuda drivers on your machine, GPU will not be used.\n",
      "2023-03-30 16:04:45.202534: I tensorflow/core/platform/cpu_feature_guard.cc:182] This TensorFlow binary is optimized to use available CPU instructions in performance-critical operations.\n",
      "To enable the following instructions: AVX2 FMA, in other operations, rebuild TensorFlow with the appropriate compiler flags.\n",
      "2023-03-30 16:04:46.258938: W tensorflow/compiler/tf2tensorrt/utils/py_utils.cc:38] TF-TRT Warning: Could not find TensorRT\n"
     ]
    }
   ],
   "source": [
    "import pandas as pd\n",
    "import numpy as np\n",
    "import matplotlib.pyplot as plt\n",
    "%matplotlib inline\n",
    "import statsmodels.api as sm\n",
    "import random\n",
    "import tensorflow as tf\n",
    "from sklearn.model_selection import train_test_split\n",
    "from keras.preprocessing.sequence import TimeseriesGenerator\n",
    "from sklearn.preprocessing import MinMaxScaler,LabelEncoder\n",
    "from sklearn.metrics import mean_squared_error\n",
    "from tensorflow.keras.models import Sequential\n",
    "import plotly.express as px\n",
    "from keras.layers.convolutional import MaxPooling1D, Conv1D\n",
    "from tensorflow.keras.layers import Dense, Dropout, Flatten,LSTM, TimeDistributed, ConvLSTM2D\n",
    "\n",
    "from keras.regularizers import l1\n",
    "from keras.callbacks import EarlyStopping, TensorBoard, ReduceLROnPlateau, ModelCheckpoint"
   ]
  },
  {
   "cell_type": "code",
   "execution_count": 2,
   "id": "f2ed1fe1-3f3b-423e-a19d-247d93c37c51",
   "metadata": {
    "execution": {
     "iopub.execute_input": "2023-03-30T10:34:47.196541Z",
     "iopub.status.busy": "2023-03-30T10:34:47.195974Z",
     "iopub.status.idle": "2023-03-30T10:34:47.206306Z",
     "shell.execute_reply": "2023-03-30T10:34:47.205628Z",
     "shell.execute_reply.started": "2023-03-30T10:34:47.196510Z"
    },
    "tags": []
   },
   "outputs": [
    {
     "data": {
      "text/plain": [
       "['../DataSets/RAJASTHAN/BHIWADI/H_Bhiw_1_12_17-2_12_22-*01* (copy)_INDEX_Mean.csv',\n",
       " '../DataSets/RAJASTHAN/JODHPUR/H_Jodh_1_12_15-2_12_22-*10* (copy)_INDEX_Mean.csv',\n",
       " '../DataSets/MADHYA_PRADESH/SINGRAULI/H_Sing_1_12_17-2_12_22-*48* (copy)_INDEX_Mean.csv',\n",
       " '../DataSets/GUJARAT/ANKLESHWAR/H_Ankl_1_2_19-3_12_22-*41* (copy)_INDEX_Mean.csv',\n",
       " '../DataSets/PUNJAB/LUDHIANA/H_Ludh_1_5_17-_2_12_22-*07* (copy)_INDEX_Mean.csv',\n",
       " '../DataSets/WEST_BENGAL/DURGAPUR/H_Durg_1_12_17-2_12_22-*58* (copy)_INDEX_Median.csv',\n",
       " '../DataSets/HARYANA/YAMUNA_NAGAR/H_Yamu_1_1_19-2_12_22-*30* (copy)_INDEX_Mean.csv',\n",
       " '../DataSets/HARYANA/CHARKHI_DADRI/H_Char_1_3_20-2_12_22-*58* (copy)_INDEX_Mean.csv',\n",
       " '../DataSets/HARYANA/JIND/H_Jind_1_1_19-2_12_22-*56* (copy)_INDEX_Median.csv',\n",
       " '../DataSets/HARYANA/KURUKSHETRA/H_Kuru_1_1_19-2_12_12-*48* (copy)_INDEX_Mean.csv',\n",
       " '../DataSets/HARYANA/SONIPAT/H_Soni_1_1_19-2_12_22-*21* (copy)_INDEX_Mean.csv',\n",
       " '../DataSets/HARYANA/DHARUHERA/H_Dhar_1_1_19-2_12_22-*43* (copy)_INDEX_Mean.csv',\n",
       " '../DataSets/HARYANA/AMBALA/H_Amba_1_1_19-2_12_22-*29* (copy)_INDEX_Median.csv',\n",
       " '../DataSets/HARYANA/HISAR/H_Hisa_1_1_19-2_12_22-*10* (copy)_INDEX_Mean.csv',\n",
       " '../DataSets/HARYANA/FATEHABAD/H_Fate_1_1_19-2_12_22-*32* (copy)_INDEX_Median.csv',\n",
       " '../DataSets/UTTAR_PRADESH/BULANDSHAHR/H_Bula_1_5_18-2_12_22-*38* (copy)_INDEX_Median.csv',\n",
       " '../DataSets/UTTAR_PRADESH/MUZAFFARNAGAR/H_Muza_1_7_18-2_12_22-*07* (copy)_INDEX_Mean.csv']"
      ]
     },
     "execution_count": 2,
     "metadata": {},
     "output_type": "execute_result"
    }
   ],
   "source": [
    "import glob\n",
    "all_f= glob.glob('../'+'DataSets/'+'*/'+'*/'+'*_INDEX_*.csv')\n",
    "all_f"
   ]
  },
  {
   "cell_type": "code",
   "execution_count": 3,
   "id": "e2c38761-cce9-47a1-83d3-f9512269b9db",
   "metadata": {
    "execution": {
     "iopub.execute_input": "2023-03-30T10:34:47.208045Z",
     "iopub.status.busy": "2023-03-30T10:34:47.207181Z",
     "iopub.status.idle": "2023-03-30T10:34:47.604669Z",
     "shell.execute_reply": "2023-03-30T10:34:47.603816Z",
     "shell.execute_reply.started": "2023-03-30T10:34:47.208009Z"
    },
    "tags": []
   },
   "outputs": [],
   "source": [
    "li=[]\n",
    "for file_name in all_f:\n",
    "    df=pd.read_csv(file_name)\n",
    "    li.append(df)\n"
   ]
  },
  {
   "cell_type": "code",
   "execution_count": 4,
   "id": "52bb8770-2035-4bd0-b72a-f936091012f8",
   "metadata": {
    "execution": {
     "iopub.execute_input": "2023-03-30T10:34:47.606014Z",
     "iopub.status.busy": "2023-03-30T10:34:47.605758Z",
     "iopub.status.idle": "2023-03-30T10:34:47.616448Z",
     "shell.execute_reply": "2023-03-30T10:34:47.615632Z",
     "shell.execute_reply.started": "2023-03-30T10:34:47.605973Z"
    },
    "tags": []
   },
   "outputs": [
    {
     "data": {
      "text/plain": [
       "(                      DATE  PM2.5\n",
       " 0      2015-12-01 00:00:00  52.97\n",
       " 1      2015-12-01 01:00:00  50.10\n",
       " 2      2015-12-01 02:00:00  53.32\n",
       " 3      2015-12-01 03:00:00  55.84\n",
       " 4      2015-12-01 04:00:00  65.57\n",
       " ...                    ...    ...\n",
       " 61404  2022-12-02 12:00:00  75.94\n",
       " 61405  2022-12-02 13:00:00  58.98\n",
       " 61406  2022-12-02 14:00:00  48.72\n",
       " 61407  2022-12-02 15:00:00  36.51\n",
       " 61408  2022-12-02 16:00:00  18.57\n",
       " \n",
       " [61409 rows x 2 columns],\n",
       " '../DataSets/RAJASTHAN/JODHPUR/H_Jodh_1_12_15-2_12_22-*10* (copy)_INDEX_Mean.csv')"
      ]
     },
     "execution_count": 4,
     "metadata": {},
     "output_type": "execute_result"
    }
   ],
   "source": [
    "s_n=1\n",
    "df=li[s_n]\n",
    "df,all_f[s_n]"
   ]
  },
  {
   "cell_type": "code",
   "execution_count": 5,
   "id": "267e7567-0ab1-4bda-983e-78d18f1c4ed1",
   "metadata": {
    "execution": {
     "iopub.execute_input": "2023-03-30T10:34:47.617789Z",
     "iopub.status.busy": "2023-03-30T10:34:47.617441Z",
     "iopub.status.idle": "2023-03-30T10:34:47.640926Z",
     "shell.execute_reply": "2023-03-30T10:34:47.640005Z",
     "shell.execute_reply.started": "2023-03-30T10:34:47.617760Z"
    },
    "tags": []
   },
   "outputs": [
    {
     "data": {
      "text/plain": [
       "'../Results/RAJASTHAN/JODHPUR/'"
      ]
     },
     "execution_count": 5,
     "metadata": {},
     "output_type": "execute_result"
    }
   ],
   "source": [
    "#df = pd.read_csv('../../../../GitHub/Ds/PUNJAB/LUDHIANA/H_Ludh_1_5_17-_2_12_22-*07* (copy)_INDEX_Mean.csv')\n",
    "#df\n",
    "v=all_f[s_n].split(r\"/\")\n",
    "#u=v[3].split(r' ')\n",
    "Pre_Ds=v[0]+'/'+'Results/'+v[2]+'/'+v[3]+'/'\n",
    "Pre_Ds"
   ]
  },
  {
   "cell_type": "code",
   "execution_count": 6,
   "id": "ac69538c-55d9-4854-93b6-3fc5f9b7eb12",
   "metadata": {
    "execution": {
     "iopub.execute_input": "2023-03-30T10:34:47.641955Z",
     "iopub.status.busy": "2023-03-30T10:34:47.641748Z",
     "iopub.status.idle": "2023-03-30T10:34:47.703149Z",
     "shell.execute_reply": "2023-03-30T10:34:47.702199Z",
     "shell.execute_reply.started": "2023-03-30T10:34:47.641935Z"
    },
    "tags": []
   },
   "outputs": [
    {
     "name": "stdout",
     "output_type": "stream",
     "text": [
      "<class 'pandas.core.frame.DataFrame'>\n",
      "RangeIndex: 45221 entries, 0 to 45220\n",
      "Data columns (total 2 columns):\n",
      " #   Column  Non-Null Count  Dtype         \n",
      "---  ------  --------------  -----         \n",
      " 0   DATE    45221 non-null  datetime64[ns]\n",
      " 1   PM      45221 non-null  float32       \n",
      "dtypes: datetime64[ns](1), float32(1)\n",
      "memory usage: 530.1 KB\n"
     ]
    },
    {
     "name": "stderr",
     "output_type": "stream",
     "text": [
      "/tmp/ipykernel_6572/17490605.py:2: SettingWithCopyWarning: \n",
      "A value is trying to be set on a copy of a slice from a DataFrame.\n",
      "Try using .loc[row_indexer,col_indexer] = value instead\n",
      "\n",
      "See the caveats in the documentation: https://pandas.pydata.org/pandas-docs/stable/user_guide/indexing.html#returning-a-view-versus-a-copy\n",
      "  df['DATE']=pd.to_datetime(df['DATE'])\n"
     ]
    },
    {
     "data": {
      "text/html": [
       "<div>\n",
       "<style scoped>\n",
       "    .dataframe tbody tr th:only-of-type {\n",
       "        vertical-align: middle;\n",
       "    }\n",
       "\n",
       "    .dataframe tbody tr th {\n",
       "        vertical-align: top;\n",
       "    }\n",
       "\n",
       "    .dataframe thead th {\n",
       "        text-align: right;\n",
       "    }\n",
       "</style>\n",
       "<table border=\"1\" class=\"dataframe\">\n",
       "  <thead>\n",
       "    <tr style=\"text-align: right;\">\n",
       "      <th></th>\n",
       "      <th>DATE</th>\n",
       "      <th>PM</th>\n",
       "    </tr>\n",
       "  </thead>\n",
       "  <tbody>\n",
       "    <tr>\n",
       "      <th>0</th>\n",
       "      <td>2017-10-05 12:00:00</td>\n",
       "      <td>56.340000</td>\n",
       "    </tr>\n",
       "    <tr>\n",
       "      <th>1</th>\n",
       "      <td>2017-10-05 13:00:00</td>\n",
       "      <td>68.309998</td>\n",
       "    </tr>\n",
       "    <tr>\n",
       "      <th>2</th>\n",
       "      <td>2017-10-05 14:00:00</td>\n",
       "      <td>57.869999</td>\n",
       "    </tr>\n",
       "    <tr>\n",
       "      <th>3</th>\n",
       "      <td>2017-10-05 15:00:00</td>\n",
       "      <td>57.389999</td>\n",
       "    </tr>\n",
       "    <tr>\n",
       "      <th>4</th>\n",
       "      <td>2017-10-05 16:00:00</td>\n",
       "      <td>55.330002</td>\n",
       "    </tr>\n",
       "    <tr>\n",
       "      <th>...</th>\n",
       "      <td>...</td>\n",
       "      <td>...</td>\n",
       "    </tr>\n",
       "    <tr>\n",
       "      <th>45216</th>\n",
       "      <td>2022-12-02 12:00:00</td>\n",
       "      <td>75.940002</td>\n",
       "    </tr>\n",
       "    <tr>\n",
       "      <th>45217</th>\n",
       "      <td>2022-12-02 13:00:00</td>\n",
       "      <td>58.980000</td>\n",
       "    </tr>\n",
       "    <tr>\n",
       "      <th>45218</th>\n",
       "      <td>2022-12-02 14:00:00</td>\n",
       "      <td>48.720001</td>\n",
       "    </tr>\n",
       "    <tr>\n",
       "      <th>45219</th>\n",
       "      <td>2022-12-02 15:00:00</td>\n",
       "      <td>36.509998</td>\n",
       "    </tr>\n",
       "    <tr>\n",
       "      <th>45220</th>\n",
       "      <td>2022-12-02 16:00:00</td>\n",
       "      <td>18.570000</td>\n",
       "    </tr>\n",
       "  </tbody>\n",
       "</table>\n",
       "<p>45221 rows × 2 columns</p>\n",
       "</div>"
      ],
      "text/plain": [
       "                     DATE         PM\n",
       "0     2017-10-05 12:00:00  56.340000\n",
       "1     2017-10-05 13:00:00  68.309998\n",
       "2     2017-10-05 14:00:00  57.869999\n",
       "3     2017-10-05 15:00:00  57.389999\n",
       "4     2017-10-05 16:00:00  55.330002\n",
       "...                   ...        ...\n",
       "45216 2022-12-02 12:00:00  75.940002\n",
       "45217 2022-12-02 13:00:00  58.980000\n",
       "45218 2022-12-02 14:00:00  48.720001\n",
       "45219 2022-12-02 15:00:00  36.509998\n",
       "45220 2022-12-02 16:00:00  18.570000\n",
       "\n",
       "[45221 rows x 2 columns]"
      ]
     },
     "execution_count": 6,
     "metadata": {},
     "output_type": "execute_result"
    }
   ],
   "source": [
    "df=df.iloc[16188:,:]\n",
    "df['DATE']=pd.to_datetime(df['DATE'])\n",
    "df=df.rename(columns={'PM2.5':'PM'})\n",
    "df['PM']=df['PM'].astype('float32')\n",
    "df=df.reset_index()\n",
    "df=df.drop(['index'], axis = 1) \n",
    "#df.drop(['level_0'], axis = 1, inplace = True) \n",
    "df.info()\n",
    "df"
   ]
  },
  {
   "cell_type": "code",
   "execution_count": 7,
   "id": "e7fdc266-e8fd-4805-8f04-c223ea152d49",
   "metadata": {
    "execution": {
     "iopub.execute_input": "2023-03-30T10:34:47.706567Z",
     "iopub.status.busy": "2023-03-30T10:34:47.706105Z",
     "iopub.status.idle": "2023-03-30T10:34:47.710904Z",
     "shell.execute_reply": "2023-03-30T10:34:47.710028Z",
     "shell.execute_reply.started": "2023-03-30T10:34:47.706529Z"
    },
    "tags": []
   },
   "outputs": [],
   "source": [
    "df.set_index('DATE',inplace = True)"
   ]
  },
  {
   "cell_type": "code",
   "execution_count": 8,
   "id": "fb9ce511-f63d-4c27-a81e-ca2dba5fb618",
   "metadata": {
    "execution": {
     "iopub.execute_input": "2023-03-30T10:34:47.712836Z",
     "iopub.status.busy": "2023-03-30T10:34:47.712218Z",
     "iopub.status.idle": "2023-03-30T10:34:47.738662Z",
     "shell.execute_reply": "2023-03-30T10:34:47.737287Z",
     "shell.execute_reply.started": "2023-03-30T10:34:47.712793Z"
    },
    "tags": []
   },
   "outputs": [
    {
     "data": {
      "text/plain": [
       "(45221, 1)"
      ]
     },
     "execution_count": 8,
     "metadata": {},
     "output_type": "execute_result"
    }
   ],
   "source": [
    "df.shape"
   ]
  },
  {
   "cell_type": "code",
   "execution_count": 9,
   "id": "f93cdb9c-71cf-4af3-8e9b-d89834a78ca3",
   "metadata": {
    "execution": {
     "iopub.execute_input": "2023-03-30T10:34:47.740501Z",
     "iopub.status.busy": "2023-03-30T10:34:47.739991Z",
     "iopub.status.idle": "2023-03-30T10:34:47.769169Z",
     "shell.execute_reply": "2023-03-30T10:34:47.768400Z",
     "shell.execute_reply.started": "2023-03-30T10:34:47.740471Z"
    },
    "tags": []
   },
   "outputs": [],
   "source": [
    "values=df.values\n",
    "scaler=MinMaxScaler(feature_range=(0,1))\n",
    "scaled=scaler.fit_transform(values)"
   ]
  },
  {
   "cell_type": "code",
   "execution_count": 10,
   "id": "f6914cbf-64d7-4913-a965-9fe39b9f9c48",
   "metadata": {
    "execution": {
     "iopub.execute_input": "2023-03-30T10:34:47.771081Z",
     "iopub.status.busy": "2023-03-30T10:34:47.770279Z",
     "iopub.status.idle": "2023-03-30T10:34:47.791256Z",
     "shell.execute_reply": "2023-03-30T10:34:47.790223Z",
     "shell.execute_reply.started": "2023-03-30T10:34:47.771040Z"
    },
    "tags": []
   },
   "outputs": [
    {
     "data": {
      "text/plain": [
       "((31654, 1), (13567, 1))"
      ]
     },
     "execution_count": 10,
     "metadata": {},
     "output_type": "execute_result"
    }
   ],
   "source": [
    "train,test=train_test_split(scaled,test_size=0.30,shuffle=False)\n",
    "train_target=train[:]\n",
    "test_target=test[:]\n",
    "train_target.shape,test_target.shape"
   ]
  },
  {
   "cell_type": "code",
   "execution_count": 11,
   "id": "ed711819-53ba-4a5c-a0a2-836512e23997",
   "metadata": {
    "execution": {
     "iopub.execute_input": "2023-03-30T10:34:47.793304Z",
     "iopub.status.busy": "2023-03-30T10:34:47.792506Z",
     "iopub.status.idle": "2023-03-30T10:34:47.811767Z",
     "shell.execute_reply": "2023-03-30T10:34:47.810700Z",
     "shell.execute_reply.started": "2023-03-30T10:34:47.793270Z"
    },
    "tags": []
   },
   "outputs": [
    {
     "name": "stdout",
     "output_type": "stream",
     "text": [
      "31654 3163\n",
      "13567 1355\n",
      "(10, 24, 1) (10, 1) (13567, 1)\n"
     ]
    }
   ],
   "source": [
    "n_input = 24\n",
    "n_features =1\n",
    "b_size=10\n",
    "train_generator = TimeseriesGenerator(train, train_target, length = n_input, batch_size=b_size)\n",
    "print(len(train),len(train_generator))\n",
    "\n",
    "x,y=train_generator[50]\n",
    "\n",
    "test_genrator = TimeseriesGenerator(test,test_target,length= n_input,batch_size=b_size)\n",
    "print(len(test),len(test_genrator))\n",
    "test_genrator[0][0],test_genrator[0][1]\n",
    "\n",
    "x,y = test_genrator[0]\n",
    "\n",
    "print(x.shape,y.shape,test.shape)"
   ]
  },
  {
   "cell_type": "code",
   "execution_count": 12,
   "id": "1647eaa2-ef8f-4c61-96d6-cc9a6e283842",
   "metadata": {
    "execution": {
     "iopub.execute_input": "2023-03-30T10:34:47.813398Z",
     "iopub.status.busy": "2023-03-30T10:34:47.812837Z",
     "iopub.status.idle": "2023-03-30T10:34:47.836308Z",
     "shell.execute_reply": "2023-03-30T10:34:47.834028Z",
     "shell.execute_reply.started": "2023-03-30T10:34:47.813365Z"
    },
    "tags": []
   },
   "outputs": [],
   "source": [
    "# attention define by the machine learning mastery\n",
    "import keras.backend as K\n",
    "from keras.layers import Layer\n",
    "\n",
    "# Add attention layer to the deep learning network\n",
    "class attention(Layer):\n",
    "    def __init__(self,**kwargs):\n",
    "        super(attention,self).__init__(**kwargs)\n",
    "\n",
    "    def build(self,input_shape):\n",
    "        self.W=self.add_weight(name='attention_weight', shape=(input_shape[-1],1), \n",
    "                               initializer='random_normal', trainable=True)\n",
    "        self.b=self.add_weight(name='attention_bias', shape=(input_shape[1],1), \n",
    "                               initializer='zeros', trainable=True)        \n",
    "        super(attention, self).build(input_shape)\n",
    "\n",
    "    def call(self,x):\n",
    "        # Alignment scores. Pass them through tanh function\n",
    "        e = K.tanh(K.dot(x,self.W)+self.b)\n",
    "        # Remove dimension of size 1\n",
    "        e = K.squeeze(e, axis=-1)   \n",
    "        # Compute the weights\n",
    "        alpha = K.softmax(e)\n",
    "        # Reshape to tensorFlow format\n",
    "        alpha = K.expand_dims(alpha, axis=-1)\n",
    "        # Compute the context vector\n",
    "        context = x * alpha\n",
    "        context = K.sum(context, axis=1)\n",
    "        return context"
   ]
  },
  {
   "cell_type": "code",
   "execution_count": 13,
   "id": "13bf07cd-2cab-45d8-abe4-ebdc6131316c",
   "metadata": {
    "execution": {
     "iopub.execute_input": "2023-03-30T10:34:47.839325Z",
     "iopub.status.busy": "2023-03-30T10:34:47.838092Z",
     "iopub.status.idle": "2023-03-30T10:34:47.857518Z",
     "shell.execute_reply": "2023-03-30T10:34:47.856380Z",
     "shell.execute_reply.started": "2023-03-30T10:34:47.839284Z"
    },
    "tags": []
   },
   "outputs": [],
   "source": [
    "es = EarlyStopping(monitor='val_loss', mode='min', verbose=1, patience=10)"
   ]
  },
  {
   "cell_type": "code",
   "execution_count": 14,
   "id": "82b2ec7c-5967-4a5b-8331-48e5efe2dfce",
   "metadata": {
    "execution": {
     "iopub.execute_input": "2023-03-30T10:34:47.858699Z",
     "iopub.status.busy": "2023-03-30T10:34:47.858362Z",
     "iopub.status.idle": "2023-03-30T10:34:47.884363Z",
     "shell.execute_reply": "2023-03-30T10:34:47.883200Z",
     "shell.execute_reply.started": "2023-03-30T10:34:47.858671Z"
    },
    "tags": []
   },
   "outputs": [],
   "source": [
    "def my_checkpoint(Model):\n",
    "    mc = ModelCheckpoint('Model_' +'best_model.h5', monitor='val_loss', mode='min', verbose=1, save_best_only=True)\n",
    "    return mc"
   ]
  },
  {
   "cell_type": "code",
   "execution_count": 15,
   "id": "fffc2449-b476-4df4-8bea-b6c8c704d912",
   "metadata": {
    "execution": {
     "iopub.execute_input": "2023-03-30T10:34:47.885975Z",
     "iopub.status.busy": "2023-03-30T10:34:47.885411Z",
     "iopub.status.idle": "2023-03-30T10:34:47.914714Z",
     "shell.execute_reply": "2023-03-30T10:34:47.913730Z",
     "shell.execute_reply.started": "2023-03-30T10:34:47.885923Z"
    },
    "tags": []
   },
   "outputs": [],
   "source": [
    "mc=my_checkpoint(LSTM)"
   ]
  },
  {
   "cell_type": "code",
   "execution_count": 16,
   "id": "22f94a91-1e85-4b5d-95ef-f7fed12b336e",
   "metadata": {
    "execution": {
     "iopub.execute_input": "2023-03-30T10:34:47.915904Z",
     "iopub.status.busy": "2023-03-30T10:34:47.915587Z",
     "iopub.status.idle": "2023-03-30T10:34:47.978014Z",
     "shell.execute_reply": "2023-03-30T10:34:47.976924Z",
     "shell.execute_reply.started": "2023-03-30T10:34:47.915873Z"
    },
    "tags": []
   },
   "outputs": [],
   "source": [
    "model = tf.keras.models.Sequential()"
   ]
  },
  {
   "cell_type": "code",
   "execution_count": 18,
   "id": "208b27c9-0bcc-421a-8396-a97bc484f362",
   "metadata": {
    "execution": {
     "iopub.execute_input": "2023-03-30T10:34:57.782272Z",
     "iopub.status.busy": "2023-03-30T10:34:57.781873Z",
     "iopub.status.idle": "2023-03-30T10:34:58.029174Z",
     "shell.execute_reply": "2023-03-30T10:34:58.027378Z",
     "shell.execute_reply.started": "2023-03-30T10:34:57.782238Z"
    },
    "tags": []
   },
   "outputs": [
    {
     "ename": "ValueError",
     "evalue": "Input 0 of layer \"conv1d_1\" is incompatible with the layer: expected min_ndim=3, found ndim=2. Full shape received: (None, 256)",
     "output_type": "error",
     "traceback": [
      "\u001b[0;31m---------------------------------------------------------------------------\u001b[0m",
      "\u001b[0;31mValueError\u001b[0m                                Traceback (most recent call last)",
      "Cell \u001b[0;32mIn[18], line 1\u001b[0m\n\u001b[0;32m----> 1\u001b[0m \u001b[43mmodel\u001b[49m\u001b[38;5;241;43m.\u001b[39;49m\u001b[43madd\u001b[49m\u001b[43m(\u001b[49m\u001b[43mConv1D\u001b[49m\u001b[43m(\u001b[49m\u001b[43mfilters\u001b[49m\u001b[38;5;241;43m=\u001b[39;49m\u001b[38;5;241;43m256\u001b[39;49m\u001b[43m,\u001b[49m\u001b[43m \u001b[49m\u001b[43mkernel_size\u001b[49m\u001b[38;5;241;43m=\u001b[39;49m\u001b[38;5;241;43m5\u001b[39;49m\u001b[43m,\u001b[49m\u001b[43m \u001b[49m\u001b[43mactivation\u001b[49m\u001b[38;5;241;43m=\u001b[39;49m\u001b[38;5;124;43m'\u001b[39;49m\u001b[38;5;124;43mrelu\u001b[39;49m\u001b[38;5;124;43m'\u001b[39;49m\u001b[43m,\u001b[49m\u001b[43m \u001b[49m\u001b[43minput_shape\u001b[49m\u001b[38;5;241;43m=\u001b[39;49m\u001b[43m(\u001b[49m\u001b[43mn_input\u001b[49m\u001b[43m,\u001b[49m\u001b[43m \u001b[49m\u001b[43mn_features\u001b[49m\u001b[43m)\u001b[49m\u001b[43m,\u001b[49m\u001b[43m \u001b[49m\u001b[43mbias_regularizer\u001b[49m\u001b[38;5;241;43m=\u001b[39;49m\u001b[43ml1\u001b[49m\u001b[43m(\u001b[49m\u001b[38;5;241;43m0.4\u001b[39;49m\u001b[43m)\u001b[49m\u001b[43m)\u001b[49m\u001b[43m)\u001b[49m\n\u001b[1;32m      2\u001b[0m \u001b[38;5;66;03m#model.add(Dropout(0.3))\u001b[39;00m\n\u001b[1;32m      3\u001b[0m model\u001b[38;5;241m.\u001b[39madd(MaxPooling1D(pool_size\u001b[38;5;241m=\u001b[39m\u001b[38;5;241m1\u001b[39m))\n",
      "File \u001b[0;32m~/.local/lib/python3.11/site-packages/tensorflow/python/trackable/base.py:205\u001b[0m, in \u001b[0;36mno_automatic_dependency_tracking.<locals>._method_wrapper\u001b[0;34m(self, *args, **kwargs)\u001b[0m\n\u001b[1;32m    203\u001b[0m \u001b[38;5;28mself\u001b[39m\u001b[38;5;241m.\u001b[39m_self_setattr_tracking \u001b[38;5;241m=\u001b[39m \u001b[38;5;28;01mFalse\u001b[39;00m  \u001b[38;5;66;03m# pylint: disable=protected-access\u001b[39;00m\n\u001b[1;32m    204\u001b[0m \u001b[38;5;28;01mtry\u001b[39;00m:\n\u001b[0;32m--> 205\u001b[0m   result \u001b[38;5;241m=\u001b[39m \u001b[43mmethod\u001b[49m\u001b[43m(\u001b[49m\u001b[38;5;28;43mself\u001b[39;49m\u001b[43m,\u001b[49m\u001b[43m \u001b[49m\u001b[38;5;241;43m*\u001b[39;49m\u001b[43margs\u001b[49m\u001b[43m,\u001b[49m\u001b[43m \u001b[49m\u001b[38;5;241;43m*\u001b[39;49m\u001b[38;5;241;43m*\u001b[39;49m\u001b[43mkwargs\u001b[49m\u001b[43m)\u001b[49m\n\u001b[1;32m    206\u001b[0m \u001b[38;5;28;01mfinally\u001b[39;00m:\n\u001b[1;32m    207\u001b[0m   \u001b[38;5;28mself\u001b[39m\u001b[38;5;241m.\u001b[39m_self_setattr_tracking \u001b[38;5;241m=\u001b[39m previous_value  \u001b[38;5;66;03m# pylint: disable=protected-access\u001b[39;00m\n",
      "File \u001b[0;32m~/.local/lib/python3.11/site-packages/keras/utils/traceback_utils.py:70\u001b[0m, in \u001b[0;36mfilter_traceback.<locals>.error_handler\u001b[0;34m(*args, **kwargs)\u001b[0m\n\u001b[1;32m     67\u001b[0m     filtered_tb \u001b[38;5;241m=\u001b[39m _process_traceback_frames(e\u001b[38;5;241m.\u001b[39m__traceback__)\n\u001b[1;32m     68\u001b[0m     \u001b[38;5;66;03m# To get the full stack trace, call:\u001b[39;00m\n\u001b[1;32m     69\u001b[0m     \u001b[38;5;66;03m# `tf.debugging.disable_traceback_filtering()`\u001b[39;00m\n\u001b[0;32m---> 70\u001b[0m     \u001b[38;5;28;01mraise\u001b[39;00m e\u001b[38;5;241m.\u001b[39mwith_traceback(filtered_tb) \u001b[38;5;28;01mfrom\u001b[39;00m \u001b[38;5;28mNone\u001b[39m\n\u001b[1;32m     71\u001b[0m \u001b[38;5;28;01mfinally\u001b[39;00m:\n\u001b[1;32m     72\u001b[0m     \u001b[38;5;28;01mdel\u001b[39;00m filtered_tb\n",
      "File \u001b[0;32m~/.local/lib/python3.11/site-packages/keras/engine/input_spec.py:253\u001b[0m, in \u001b[0;36massert_input_compatibility\u001b[0;34m(input_spec, inputs, layer_name)\u001b[0m\n\u001b[1;32m    251\u001b[0m     ndim \u001b[38;5;241m=\u001b[39m x\u001b[38;5;241m.\u001b[39mshape\u001b[38;5;241m.\u001b[39mrank\n\u001b[1;32m    252\u001b[0m     \u001b[38;5;28;01mif\u001b[39;00m ndim \u001b[38;5;129;01mis\u001b[39;00m \u001b[38;5;129;01mnot\u001b[39;00m \u001b[38;5;28;01mNone\u001b[39;00m \u001b[38;5;129;01mand\u001b[39;00m ndim \u001b[38;5;241m<\u001b[39m spec\u001b[38;5;241m.\u001b[39mmin_ndim:\n\u001b[0;32m--> 253\u001b[0m         \u001b[38;5;28;01mraise\u001b[39;00m \u001b[38;5;167;01mValueError\u001b[39;00m(\n\u001b[1;32m    254\u001b[0m             \u001b[38;5;124mf\u001b[39m\u001b[38;5;124m'\u001b[39m\u001b[38;5;124mInput \u001b[39m\u001b[38;5;132;01m{\u001b[39;00minput_index\u001b[38;5;132;01m}\u001b[39;00m\u001b[38;5;124m of layer \u001b[39m\u001b[38;5;124m\"\u001b[39m\u001b[38;5;132;01m{\u001b[39;00mlayer_name\u001b[38;5;132;01m}\u001b[39;00m\u001b[38;5;124m\"\u001b[39m\u001b[38;5;124m \u001b[39m\u001b[38;5;124m'\u001b[39m\n\u001b[1;32m    255\u001b[0m             \u001b[38;5;124m\"\u001b[39m\u001b[38;5;124mis incompatible with the layer: \u001b[39m\u001b[38;5;124m\"\u001b[39m\n\u001b[1;32m    256\u001b[0m             \u001b[38;5;124mf\u001b[39m\u001b[38;5;124m\"\u001b[39m\u001b[38;5;124mexpected min_ndim=\u001b[39m\u001b[38;5;132;01m{\u001b[39;00mspec\u001b[38;5;241m.\u001b[39mmin_ndim\u001b[38;5;132;01m}\u001b[39;00m\u001b[38;5;124m, \u001b[39m\u001b[38;5;124m\"\u001b[39m\n\u001b[1;32m    257\u001b[0m             \u001b[38;5;124mf\u001b[39m\u001b[38;5;124m\"\u001b[39m\u001b[38;5;124mfound ndim=\u001b[39m\u001b[38;5;132;01m{\u001b[39;00mndim\u001b[38;5;132;01m}\u001b[39;00m\u001b[38;5;124m. \u001b[39m\u001b[38;5;124m\"\u001b[39m\n\u001b[1;32m    258\u001b[0m             \u001b[38;5;124mf\u001b[39m\u001b[38;5;124m\"\u001b[39m\u001b[38;5;124mFull shape received: \u001b[39m\u001b[38;5;132;01m{\u001b[39;00m\u001b[38;5;28mtuple\u001b[39m(shape)\u001b[38;5;132;01m}\u001b[39;00m\u001b[38;5;124m\"\u001b[39m\n\u001b[1;32m    259\u001b[0m         )\n\u001b[1;32m    260\u001b[0m \u001b[38;5;66;03m# Check dtype.\u001b[39;00m\n\u001b[1;32m    261\u001b[0m \u001b[38;5;28;01mif\u001b[39;00m spec\u001b[38;5;241m.\u001b[39mdtype \u001b[38;5;129;01mis\u001b[39;00m \u001b[38;5;129;01mnot\u001b[39;00m \u001b[38;5;28;01mNone\u001b[39;00m:\n",
      "\u001b[0;31mValueError\u001b[0m: Input 0 of layer \"conv1d_1\" is incompatible with the layer: expected min_ndim=3, found ndim=2. Full shape received: (None, 256)"
     ]
    }
   ],
   "source": [
    "model.add(Conv1D(filters=256, kernel_size=5, activation='relu', input_shape=(n_input, n_features), bias_regularizer=l1(0.4)))\n",
    "#model.add(Dropout(0.3))\n",
    "model.add(MaxPooling1D(pool_size=1))\n",
    "#model.add(Flatten())\n",
    "#model.add(TimeDistributed(Flatten()))\n",
    "model.add(LSTM(256, activation='relu', return_sequences=False, bias_regularizer=l1(0.4)))\n",
    "#model.add(Dropout(0.4))\n",
    "#model.add(LSTM(75, activation='relu', bias_regularizer=l1(0.01)))\n",
    "#model.add(Dropout(0.3))\n",
    "#model.add(Dense(1))\n",
    "model.compile(optimizer='rmsprop', loss='mse')\n",
    "\n",
    "model.summary()"
   ]
  },
  {
   "cell_type": "code",
   "execution_count": null,
   "id": "51799929-3f52-4627-8e3d-e0cc58f9b3a6",
   "metadata": {},
   "outputs": [],
   "source": []
  }
 ],
 "metadata": {
  "kernelspec": {
   "display_name": "Python 3 (ipykernel)",
   "language": "python",
   "name": "python3"
  },
  "language_info": {
   "codemirror_mode": {
    "name": "ipython",
    "version": 3
   },
   "file_extension": ".py",
   "mimetype": "text/x-python",
   "name": "python",
   "nbconvert_exporter": "python",
   "pygments_lexer": "ipython3",
   "version": "3.11.2"
  },
  "widgets": {
   "application/vnd.jupyter.widget-state+json": {
    "state": {},
    "version_major": 2,
    "version_minor": 0
   }
  }
 },
 "nbformat": 4,
 "nbformat_minor": 5
}
