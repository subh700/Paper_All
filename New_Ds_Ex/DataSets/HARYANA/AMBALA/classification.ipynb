{
 "cells": [
  {
   "cell_type": "code",
   "execution_count": 2,
   "id": "f225d74d-8533-4b7b-b681-ea4057e78dd7",
   "metadata": {
    "execution": {
     "iopub.execute_input": "2022-12-18T02:32:09.866855Z",
     "iopub.status.busy": "2022-12-18T02:32:09.866503Z",
     "iopub.status.idle": "2022-12-18T02:32:09.871482Z",
     "shell.execute_reply": "2022-12-18T02:32:09.870400Z",
     "shell.execute_reply.started": "2022-12-18T02:32:09.866828Z"
    },
    "tags": []
   },
   "outputs": [],
   "source": [
    "import pandas as pd\n",
    "import numpy as np"
   ]
  },
  {
   "cell_type": "code",
   "execution_count": 3,
   "id": "b53d034c-d6cc-4794-bc4c-078cbc88a059",
   "metadata": {
    "execution": {
     "iopub.execute_input": "2022-12-18T02:32:10.170704Z",
     "iopub.status.busy": "2022-12-18T02:32:10.170341Z",
     "iopub.status.idle": "2022-12-18T02:32:10.217707Z",
     "shell.execute_reply": "2022-12-18T02:32:10.216373Z",
     "shell.execute_reply.started": "2022-12-18T02:32:10.170680Z"
    },
    "tags": []
   },
   "outputs": [
    {
     "data": {
      "text/html": [
       "<div>\n",
       "<style scoped>\n",
       "    .dataframe tbody tr th:only-of-type {\n",
       "        vertical-align: middle;\n",
       "    }\n",
       "\n",
       "    .dataframe tbody tr th {\n",
       "        vertical-align: top;\n",
       "    }\n",
       "\n",
       "    .dataframe thead th {\n",
       "        text-align: right;\n",
       "    }\n",
       "</style>\n",
       "<table border=\"1\" class=\"dataframe\">\n",
       "  <thead>\n",
       "    <tr style=\"text-align: right;\">\n",
       "      <th></th>\n",
       "      <th>DATE</th>\n",
       "      <th>PM2.5</th>\n",
       "    </tr>\n",
       "  </thead>\n",
       "  <tbody>\n",
       "    <tr>\n",
       "      <th>0</th>\n",
       "      <td>2019-01-08 12:00:00</td>\n",
       "      <td>66.64</td>\n",
       "    </tr>\n",
       "    <tr>\n",
       "      <th>1</th>\n",
       "      <td>2019-01-08 13:00:00</td>\n",
       "      <td>51.27</td>\n",
       "    </tr>\n",
       "    <tr>\n",
       "      <th>2</th>\n",
       "      <td>2019-01-08 14:00:00</td>\n",
       "      <td>51.27</td>\n",
       "    </tr>\n",
       "    <tr>\n",
       "      <th>3</th>\n",
       "      <td>2019-01-08 15:00:00</td>\n",
       "      <td>51.27</td>\n",
       "    </tr>\n",
       "    <tr>\n",
       "      <th>4</th>\n",
       "      <td>2019-01-08 16:00:00</td>\n",
       "      <td>51.27</td>\n",
       "    </tr>\n",
       "    <tr>\n",
       "      <th>...</th>\n",
       "      <td>...</td>\n",
       "      <td>...</td>\n",
       "    </tr>\n",
       "    <tr>\n",
       "      <th>34169</th>\n",
       "      <td>2022-12-02 05:00:00</td>\n",
       "      <td>110.24</td>\n",
       "    </tr>\n",
       "    <tr>\n",
       "      <th>34170</th>\n",
       "      <td>2022-12-02 06:00:00</td>\n",
       "      <td>107.81</td>\n",
       "    </tr>\n",
       "    <tr>\n",
       "      <th>34171</th>\n",
       "      <td>2022-12-02 07:00:00</td>\n",
       "      <td>107.50</td>\n",
       "    </tr>\n",
       "    <tr>\n",
       "      <th>34172</th>\n",
       "      <td>2022-12-02 08:00:00</td>\n",
       "      <td>122.79</td>\n",
       "    </tr>\n",
       "    <tr>\n",
       "      <th>34173</th>\n",
       "      <td>2022-12-02 09:00:00</td>\n",
       "      <td>127.57</td>\n",
       "    </tr>\n",
       "  </tbody>\n",
       "</table>\n",
       "<p>34174 rows × 2 columns</p>\n",
       "</div>"
      ],
      "text/plain": [
       "                      DATE   PM2.5\n",
       "0      2019-01-08 12:00:00   66.64\n",
       "1      2019-01-08 13:00:00   51.27\n",
       "2      2019-01-08 14:00:00   51.27\n",
       "3      2019-01-08 15:00:00   51.27\n",
       "4      2019-01-08 16:00:00   51.27\n",
       "...                    ...     ...\n",
       "34169  2022-12-02 05:00:00  110.24\n",
       "34170  2022-12-02 06:00:00  107.81\n",
       "34171  2022-12-02 07:00:00  107.50\n",
       "34172  2022-12-02 08:00:00  122.79\n",
       "34173  2022-12-02 09:00:00  127.57\n",
       "\n",
       "[34174 rows x 2 columns]"
      ]
     },
     "execution_count": 3,
     "metadata": {},
     "output_type": "execute_result"
    }
   ],
   "source": [
    "df = pd.read_csv('H_Amba_1_1_19-2_12_22-*29* (copy)_INDEX_Median.csv')\n",
    "df"
   ]
  },
  {
   "cell_type": "code",
   "execution_count": 4,
   "id": "08b8789a-c4e8-48d5-b622-2de739efb096",
   "metadata": {
    "execution": {
     "iopub.execute_input": "2022-12-18T02:32:10.852425Z",
     "iopub.status.busy": "2022-12-18T02:32:10.851882Z",
     "iopub.status.idle": "2022-12-18T02:32:10.884995Z",
     "shell.execute_reply": "2022-12-18T02:32:10.883697Z",
     "shell.execute_reply.started": "2022-12-18T02:32:10.852387Z"
    },
    "tags": []
   },
   "outputs": [
    {
     "name": "stdout",
     "output_type": "stream",
     "text": [
      "<class 'pandas.core.frame.DataFrame'>\n",
      "RangeIndex: 34174 entries, 0 to 34173\n",
      "Data columns (total 2 columns):\n",
      " #   Column  Non-Null Count  Dtype  \n",
      "---  ------  --------------  -----  \n",
      " 0   DATE    34174 non-null  object \n",
      " 1   PM2.5   34174 non-null  float64\n",
      "dtypes: float64(1), object(1)\n",
      "memory usage: 534.1+ KB\n"
     ]
    }
   ],
   "source": [
    "df.info()"
   ]
  },
  {
   "cell_type": "code",
   "execution_count": 5,
   "id": "508395a3-2540-4041-a33f-b8c2b2c6e448",
   "metadata": {
    "execution": {
     "iopub.execute_input": "2022-12-18T02:32:11.427965Z",
     "iopub.status.busy": "2022-12-18T02:32:11.427211Z",
     "iopub.status.idle": "2022-12-18T02:32:11.442303Z",
     "shell.execute_reply": "2022-12-18T02:32:11.441537Z",
     "shell.execute_reply.started": "2022-12-18T02:32:11.427935Z"
    },
    "tags": []
   },
   "outputs": [],
   "source": [
    "df['DATE']= pd.to_datetime(df['DATE'])"
   ]
  },
  {
   "cell_type": "code",
   "execution_count": 6,
   "id": "fd85acd8-f87f-427b-855a-d45ead3da53a",
   "metadata": {
    "execution": {
     "iopub.execute_input": "2022-12-18T02:32:12.521895Z",
     "iopub.status.busy": "2022-12-18T02:32:12.520445Z",
     "iopub.status.idle": "2022-12-18T02:32:12.550210Z",
     "shell.execute_reply": "2022-12-18T02:32:12.548641Z",
     "shell.execute_reply.started": "2022-12-18T02:32:12.521808Z"
    },
    "tags": []
   },
   "outputs": [
    {
     "name": "stdout",
     "output_type": "stream",
     "text": [
      "<class 'pandas.core.frame.DataFrame'>\n",
      "RangeIndex: 34174 entries, 0 to 34173\n",
      "Data columns (total 2 columns):\n",
      " #   Column  Non-Null Count  Dtype         \n",
      "---  ------  --------------  -----         \n",
      " 0   DATE    34174 non-null  datetime64[ns]\n",
      " 1   PM2.5   34174 non-null  float64       \n",
      "dtypes: datetime64[ns](1), float64(1)\n",
      "memory usage: 534.1 KB\n"
     ]
    }
   ],
   "source": [
    "df.info()"
   ]
  },
  {
   "cell_type": "code",
   "execution_count": 11,
   "id": "301f21a0-10a5-4893-b644-7d3cd2e33e60",
   "metadata": {
    "execution": {
     "iopub.execute_input": "2022-12-17T09:05:02.267373Z",
     "iopub.status.busy": "2022-12-17T09:05:02.266953Z",
     "iopub.status.idle": "2022-12-17T09:05:02.555035Z",
     "shell.execute_reply": "2022-12-17T09:05:02.554302Z",
     "shell.execute_reply.started": "2022-12-17T09:05:02.267316Z"
    }
   },
   "outputs": [
    {
     "data": {
      "text/html": [
       "<style type=\"text/css\">\n",
       "#T_9d771_row5_col1 {\n",
       "  background-color: lightgreen;\n",
       "}\n",
       "</style>\n",
       "<table id=\"T_9d771\">\n",
       "  <thead>\n",
       "    <tr>\n",
       "      <th class=\"blank level0\" >&nbsp;</th>\n",
       "      <th id=\"T_9d771_level0_col0\" class=\"col_heading level0 col0\" >Description</th>\n",
       "      <th id=\"T_9d771_level0_col1\" class=\"col_heading level0 col1\" >Value</th>\n",
       "    </tr>\n",
       "  </thead>\n",
       "  <tbody>\n",
       "    <tr>\n",
       "      <th id=\"T_9d771_level0_row0\" class=\"row_heading level0 row0\" >0</th>\n",
       "      <td id=\"T_9d771_row0_col0\" class=\"data row0 col0\" >Session id</td>\n",
       "      <td id=\"T_9d771_row0_col1\" class=\"data row0 col1\" >848</td>\n",
       "    </tr>\n",
       "    <tr>\n",
       "      <th id=\"T_9d771_level0_row1\" class=\"row_heading level0 row1\" >1</th>\n",
       "      <td id=\"T_9d771_row1_col0\" class=\"data row1 col0\" >Original data shape</td>\n",
       "      <td id=\"T_9d771_row1_col1\" class=\"data row1 col1\" >(33535, 2)</td>\n",
       "    </tr>\n",
       "    <tr>\n",
       "      <th id=\"T_9d771_level0_row2\" class=\"row_heading level0 row2\" >2</th>\n",
       "      <td id=\"T_9d771_row2_col0\" class=\"data row2 col0\" >Transformed data shape</td>\n",
       "      <td id=\"T_9d771_row2_col1\" class=\"data row2 col1\" >(33535, 4)</td>\n",
       "    </tr>\n",
       "    <tr>\n",
       "      <th id=\"T_9d771_level0_row3\" class=\"row_heading level0 row3\" >3</th>\n",
       "      <td id=\"T_9d771_row3_col0\" class=\"data row3 col0\" >Numeric features</td>\n",
       "      <td id=\"T_9d771_row3_col1\" class=\"data row3 col1\" >1</td>\n",
       "    </tr>\n",
       "    <tr>\n",
       "      <th id=\"T_9d771_level0_row4\" class=\"row_heading level0 row4\" >4</th>\n",
       "      <td id=\"T_9d771_row4_col0\" class=\"data row4 col0\" >Date features</td>\n",
       "      <td id=\"T_9d771_row4_col1\" class=\"data row4 col1\" >1</td>\n",
       "    </tr>\n",
       "    <tr>\n",
       "      <th id=\"T_9d771_level0_row5\" class=\"row_heading level0 row5\" >5</th>\n",
       "      <td id=\"T_9d771_row5_col0\" class=\"data row5 col0\" >Preprocess</td>\n",
       "      <td id=\"T_9d771_row5_col1\" class=\"data row5 col1\" >True</td>\n",
       "    </tr>\n",
       "    <tr>\n",
       "      <th id=\"T_9d771_level0_row6\" class=\"row_heading level0 row6\" >6</th>\n",
       "      <td id=\"T_9d771_row6_col0\" class=\"data row6 col0\" >Imputation type</td>\n",
       "      <td id=\"T_9d771_row6_col1\" class=\"data row6 col1\" >simple</td>\n",
       "    </tr>\n",
       "    <tr>\n",
       "      <th id=\"T_9d771_level0_row7\" class=\"row_heading level0 row7\" >7</th>\n",
       "      <td id=\"T_9d771_row7_col0\" class=\"data row7 col0\" >Numeric imputation</td>\n",
       "      <td id=\"T_9d771_row7_col1\" class=\"data row7 col1\" >mean</td>\n",
       "    </tr>\n",
       "    <tr>\n",
       "      <th id=\"T_9d771_level0_row8\" class=\"row_heading level0 row8\" >8</th>\n",
       "      <td id=\"T_9d771_row8_col0\" class=\"data row8 col0\" >Categorical imputation</td>\n",
       "      <td id=\"T_9d771_row8_col1\" class=\"data row8 col1\" >constant</td>\n",
       "    </tr>\n",
       "    <tr>\n",
       "      <th id=\"T_9d771_level0_row9\" class=\"row_heading level0 row9\" >9</th>\n",
       "      <td id=\"T_9d771_row9_col0\" class=\"data row9 col0\" >Low variance threshold</td>\n",
       "      <td id=\"T_9d771_row9_col1\" class=\"data row9 col1\" >0</td>\n",
       "    </tr>\n",
       "    <tr>\n",
       "      <th id=\"T_9d771_level0_row10\" class=\"row_heading level0 row10\" >10</th>\n",
       "      <td id=\"T_9d771_row10_col0\" class=\"data row10 col0\" >CPU Jobs</td>\n",
       "      <td id=\"T_9d771_row10_col1\" class=\"data row10 col1\" >-1</td>\n",
       "    </tr>\n",
       "    <tr>\n",
       "      <th id=\"T_9d771_level0_row11\" class=\"row_heading level0 row11\" >11</th>\n",
       "      <td id=\"T_9d771_row11_col0\" class=\"data row11 col0\" >Use GPU</td>\n",
       "      <td id=\"T_9d771_row11_col1\" class=\"data row11 col1\" >False</td>\n",
       "    </tr>\n",
       "    <tr>\n",
       "      <th id=\"T_9d771_level0_row12\" class=\"row_heading level0 row12\" >12</th>\n",
       "      <td id=\"T_9d771_row12_col0\" class=\"data row12 col0\" >Log Experiment</td>\n",
       "      <td id=\"T_9d771_row12_col1\" class=\"data row12 col1\" >False</td>\n",
       "    </tr>\n",
       "    <tr>\n",
       "      <th id=\"T_9d771_level0_row13\" class=\"row_heading level0 row13\" >13</th>\n",
       "      <td id=\"T_9d771_row13_col0\" class=\"data row13 col0\" >Experiment Name</td>\n",
       "      <td id=\"T_9d771_row13_col1\" class=\"data row13 col1\" >anomaly-default-name</td>\n",
       "    </tr>\n",
       "    <tr>\n",
       "      <th id=\"T_9d771_level0_row14\" class=\"row_heading level0 row14\" >14</th>\n",
       "      <td id=\"T_9d771_row14_col0\" class=\"data row14 col0\" >USI</td>\n",
       "      <td id=\"T_9d771_row14_col1\" class=\"data row14 col1\" >3eb6</td>\n",
       "    </tr>\n",
       "  </tbody>\n",
       "</table>\n"
      ],
      "text/plain": [
       "<pandas.io.formats.style.Styler at 0x7f1acb733310>"
      ]
     },
     "metadata": {},
     "output_type": "display_data"
    }
   ],
   "source": [
    "from pycaret.anomaly import *\n",
    "s = setup(df)"
   ]
  },
  {
   "cell_type": "code",
   "execution_count": 12,
   "id": "5181197b-222f-4c5b-8f3f-6d8678fd921b",
   "metadata": {
    "execution": {
     "iopub.execute_input": "2022-12-17T09:05:51.157924Z",
     "iopub.status.busy": "2022-12-17T09:05:51.156820Z",
     "iopub.status.idle": "2022-12-17T09:05:52.954972Z",
     "shell.execute_reply": "2022-12-17T09:05:52.954218Z",
     "shell.execute_reply.started": "2022-12-17T09:05:51.157875Z"
    }
   },
   "outputs": [
    {
     "data": {
      "text/html": [],
      "text/plain": [
       "<IPython.core.display.HTML object>"
      ]
     },
     "metadata": {},
     "output_type": "display_data"
    },
    {
     "data": {
      "text/html": [],
      "text/plain": [
       "<IPython.core.display.HTML object>"
      ]
     },
     "metadata": {},
     "output_type": "display_data"
    },
    {
     "data": {
      "text/html": [],
      "text/plain": [
       "<IPython.core.display.HTML object>"
      ]
     },
     "metadata": {},
     "output_type": "display_data"
    },
    {
     "name": "stdout",
     "output_type": "stream",
     "text": [
      "IForest(behaviour='new', bootstrap=False, contamination=0.05,\n",
      "    max_features=1.0, max_samples='auto', n_estimators=100, n_jobs=-1,\n",
      "    random_state=848, verbose=0)\n"
     ]
    }
   ],
   "source": [
    "iforest = create_model('iforest')\n",
    "print(iforest)"
   ]
  },
  {
   "cell_type": "code",
   "execution_count": 13,
   "id": "dff8bb88-a9c4-4ab2-ae05-4c50fa922407",
   "metadata": {
    "execution": {
     "iopub.execute_input": "2022-12-17T09:06:11.767146Z",
     "iopub.status.busy": "2022-12-17T09:06:11.766732Z",
     "iopub.status.idle": "2022-12-17T09:06:11.781100Z",
     "shell.execute_reply": "2022-12-17T09:06:11.779960Z",
     "shell.execute_reply.started": "2022-12-17T09:06:11.767114Z"
    }
   },
   "outputs": [
    {
     "data": {
      "text/html": [
       "<div>\n",
       "<style scoped>\n",
       "    .dataframe tbody tr th:only-of-type {\n",
       "        vertical-align: middle;\n",
       "    }\n",
       "\n",
       "    .dataframe tbody tr th {\n",
       "        vertical-align: top;\n",
       "    }\n",
       "\n",
       "    .dataframe thead th {\n",
       "        text-align: right;\n",
       "    }\n",
       "</style>\n",
       "<table border=\"1\" class=\"dataframe\">\n",
       "  <thead>\n",
       "    <tr style=\"text-align: right;\">\n",
       "      <th></th>\n",
       "      <th>Name</th>\n",
       "      <th>Reference</th>\n",
       "    </tr>\n",
       "    <tr>\n",
       "      <th>ID</th>\n",
       "      <th></th>\n",
       "      <th></th>\n",
       "    </tr>\n",
       "  </thead>\n",
       "  <tbody>\n",
       "    <tr>\n",
       "      <th>abod</th>\n",
       "      <td>Angle-base Outlier Detection</td>\n",
       "      <td>pyod.models.abod.ABOD</td>\n",
       "    </tr>\n",
       "    <tr>\n",
       "      <th>cluster</th>\n",
       "      <td>Clustering-Based Local Outlier</td>\n",
       "      <td>pyod.models.cblof.CBLOF</td>\n",
       "    </tr>\n",
       "    <tr>\n",
       "      <th>cof</th>\n",
       "      <td>Connectivity-Based Local Outlier</td>\n",
       "      <td>pyod.models.cof.COF</td>\n",
       "    </tr>\n",
       "    <tr>\n",
       "      <th>iforest</th>\n",
       "      <td>Isolation Forest</td>\n",
       "      <td>pyod.models.iforest.IForest</td>\n",
       "    </tr>\n",
       "    <tr>\n",
       "      <th>histogram</th>\n",
       "      <td>Histogram-based Outlier Detection</td>\n",
       "      <td>pyod.models.hbos.HBOS</td>\n",
       "    </tr>\n",
       "    <tr>\n",
       "      <th>knn</th>\n",
       "      <td>K-Nearest Neighbors Detector</td>\n",
       "      <td>pyod.models.knn.KNN</td>\n",
       "    </tr>\n",
       "    <tr>\n",
       "      <th>lof</th>\n",
       "      <td>Local Outlier Factor</td>\n",
       "      <td>pyod.models.lof.LOF</td>\n",
       "    </tr>\n",
       "    <tr>\n",
       "      <th>svm</th>\n",
       "      <td>One-class SVM detector</td>\n",
       "      <td>pyod.models.ocsvm.OCSVM</td>\n",
       "    </tr>\n",
       "    <tr>\n",
       "      <th>pca</th>\n",
       "      <td>Principal Component Analysis</td>\n",
       "      <td>pyod.models.pca.PCA</td>\n",
       "    </tr>\n",
       "    <tr>\n",
       "      <th>mcd</th>\n",
       "      <td>Minimum Covariance Determinant</td>\n",
       "      <td>pyod.models.mcd.MCD</td>\n",
       "    </tr>\n",
       "    <tr>\n",
       "      <th>sod</th>\n",
       "      <td>Subspace Outlier Detection</td>\n",
       "      <td>pyod.models.sod.SOD</td>\n",
       "    </tr>\n",
       "    <tr>\n",
       "      <th>sos</th>\n",
       "      <td>Stochastic Outlier Selection</td>\n",
       "      <td>pyod.models.sos.SOS</td>\n",
       "    </tr>\n",
       "  </tbody>\n",
       "</table>\n",
       "</div>"
      ],
      "text/plain": [
       "                                        Name                    Reference\n",
       "ID                                                                       \n",
       "abod            Angle-base Outlier Detection        pyod.models.abod.ABOD\n",
       "cluster       Clustering-Based Local Outlier      pyod.models.cblof.CBLOF\n",
       "cof         Connectivity-Based Local Outlier          pyod.models.cof.COF\n",
       "iforest                     Isolation Forest  pyod.models.iforest.IForest\n",
       "histogram  Histogram-based Outlier Detection        pyod.models.hbos.HBOS\n",
       "knn             K-Nearest Neighbors Detector          pyod.models.knn.KNN\n",
       "lof                     Local Outlier Factor          pyod.models.lof.LOF\n",
       "svm                   One-class SVM detector      pyod.models.ocsvm.OCSVM\n",
       "pca             Principal Component Analysis          pyod.models.pca.PCA\n",
       "mcd           Minimum Covariance Determinant          pyod.models.mcd.MCD\n",
       "sod               Subspace Outlier Detection          pyod.models.sod.SOD\n",
       "sos             Stochastic Outlier Selection          pyod.models.sos.SOS"
      ]
     },
     "execution_count": 13,
     "metadata": {},
     "output_type": "execute_result"
    }
   ],
   "source": [
    "models()"
   ]
  },
  {
   "cell_type": "code",
   "execution_count": 14,
   "id": "5f4a4598-21c2-4907-8ded-f4e04896dff5",
   "metadata": {
    "execution": {
     "iopub.execute_input": "2022-12-17T09:06:56.334703Z",
     "iopub.status.busy": "2022-12-17T09:06:56.333824Z",
     "iopub.status.idle": "2022-12-17T09:12:00.383448Z",
     "shell.execute_reply": "2022-12-17T09:12:00.381307Z",
     "shell.execute_reply.started": "2022-12-17T09:06:56.334628Z"
    },
    "tags": []
   },
   "outputs": [
    {
     "data": {
      "text/html": [],
      "text/plain": [
       "<IPython.core.display.HTML object>"
      ]
     },
     "metadata": {},
     "output_type": "display_data"
    },
    {
     "ename": "KeyboardInterrupt",
     "evalue": "",
     "output_type": "error",
     "traceback": [
      "\u001b[0;31m---------------------------------------------------------------------------\u001b[0m",
      "\u001b[0;31mKeyboardInterrupt\u001b[0m                         Traceback (most recent call last)",
      "Cell \u001b[0;32mIn [14], line 1\u001b[0m\n\u001b[0;32m----> 1\u001b[0m \u001b[43mplot_model\u001b[49m\u001b[43m(\u001b[49m\u001b[43miforest\u001b[49m\u001b[43m,\u001b[49m\u001b[43m \u001b[49m\u001b[43mplot\u001b[49m\u001b[43m \u001b[49m\u001b[38;5;241;43m=\u001b[39;49m\u001b[43m \u001b[49m\u001b[38;5;124;43m'\u001b[39;49m\u001b[38;5;124;43mtsne\u001b[39;49m\u001b[38;5;124;43m'\u001b[39;49m\u001b[43m)\u001b[49m\n",
      "File \u001b[0;32m~/.local/lib/python3.10/site-packages/pycaret/utils/generic.py:950\u001b[0m, in \u001b[0;36mcheck_if_global_is_not_none.<locals>.decorator.<locals>.wrapper\u001b[0;34m(*args, **kwargs)\u001b[0m\n\u001b[1;32m    948\u001b[0m     \u001b[38;5;28;01mif\u001b[39;00m globals_d[name] \u001b[38;5;129;01mis\u001b[39;00m \u001b[38;5;28;01mNone\u001b[39;00m:\n\u001b[1;32m    949\u001b[0m         \u001b[38;5;28;01mraise\u001b[39;00m \u001b[38;5;167;01mValueError\u001b[39;00m(message)\n\u001b[0;32m--> 950\u001b[0m \u001b[38;5;28;01mreturn\u001b[39;00m \u001b[43mfunc\u001b[49m\u001b[43m(\u001b[49m\u001b[38;5;241;43m*\u001b[39;49m\u001b[43margs\u001b[49m\u001b[43m,\u001b[49m\u001b[43m \u001b[49m\u001b[38;5;241;43m*\u001b[39;49m\u001b[38;5;241;43m*\u001b[39;49m\u001b[43mkwargs\u001b[49m\u001b[43m)\u001b[49m\n",
      "File \u001b[0;32m~/.local/lib/python3.10/site-packages/pycaret/anomaly/functional.py:682\u001b[0m, in \u001b[0;36mplot_model\u001b[0;34m(model, plot, feature, label, scale, save, display_format)\u001b[0m\n\u001b[1;32m    619\u001b[0m \u001b[38;5;129m@check_if_global_is_not_none\u001b[39m(\u001b[38;5;28mglobals\u001b[39m(), _CURRENT_EXPERIMENT_DECORATOR_DICT)\n\u001b[1;32m    620\u001b[0m \u001b[38;5;28;01mdef\u001b[39;00m \u001b[38;5;21mplot_model\u001b[39m(\n\u001b[1;32m    621\u001b[0m     model,\n\u001b[0;32m   (...)\u001b[0m\n\u001b[1;32m    627\u001b[0m     display_format: Optional[\u001b[38;5;28mstr\u001b[39m] \u001b[38;5;241m=\u001b[39m \u001b[38;5;28;01mNone\u001b[39;00m,\n\u001b[1;32m    628\u001b[0m ) \u001b[38;5;241m-\u001b[39m\u001b[38;5;241m>\u001b[39m Optional[\u001b[38;5;28mstr\u001b[39m]:\n\u001b[1;32m    630\u001b[0m     \u001b[38;5;124;03m\"\"\"\u001b[39;00m\n\u001b[1;32m    631\u001b[0m \u001b[38;5;124;03m    This function analyzes the performance of a trained model.\u001b[39;00m\n\u001b[1;32m    632\u001b[0m \n\u001b[0;32m   (...)\u001b[0m\n\u001b[1;32m    680\u001b[0m \n\u001b[1;32m    681\u001b[0m \u001b[38;5;124;03m    \"\"\"\u001b[39;00m\n\u001b[0;32m--> 682\u001b[0m     \u001b[38;5;28;01mreturn\u001b[39;00m \u001b[43m_CURRENT_EXPERIMENT\u001b[49m\u001b[38;5;241;43m.\u001b[39;49m\u001b[43mplot_model\u001b[49m\u001b[43m(\u001b[49m\n\u001b[1;32m    683\u001b[0m \u001b[43m        \u001b[49m\u001b[43mmodel\u001b[49m\u001b[43m,\u001b[49m\n\u001b[1;32m    684\u001b[0m \u001b[43m        \u001b[49m\u001b[43mplot\u001b[49m\u001b[38;5;241;43m=\u001b[39;49m\u001b[43mplot\u001b[49m\u001b[43m,\u001b[49m\n\u001b[1;32m    685\u001b[0m \u001b[43m        \u001b[49m\u001b[43mfeature_name\u001b[49m\u001b[38;5;241;43m=\u001b[39;49m\u001b[43mfeature\u001b[49m\u001b[43m,\u001b[49m\n\u001b[1;32m    686\u001b[0m \u001b[43m        \u001b[49m\u001b[43mlabel\u001b[49m\u001b[38;5;241;43m=\u001b[39;49m\u001b[43mlabel\u001b[49m\u001b[43m,\u001b[49m\n\u001b[1;32m    687\u001b[0m \u001b[43m        \u001b[49m\u001b[43mscale\u001b[49m\u001b[38;5;241;43m=\u001b[39;49m\u001b[43mscale\u001b[49m\u001b[43m,\u001b[49m\n\u001b[1;32m    688\u001b[0m \u001b[43m        \u001b[49m\u001b[43msave\u001b[49m\u001b[38;5;241;43m=\u001b[39;49m\u001b[43msave\u001b[49m\u001b[43m,\u001b[49m\n\u001b[1;32m    689\u001b[0m \u001b[43m        \u001b[49m\u001b[43mdisplay_format\u001b[49m\u001b[38;5;241;43m=\u001b[39;49m\u001b[43mdisplay_format\u001b[49m\u001b[43m,\u001b[49m\n\u001b[1;32m    690\u001b[0m \u001b[43m    \u001b[49m\u001b[43m)\u001b[49m\n",
      "File \u001b[0;32m~/.local/lib/python3.10/site-packages/pycaret/anomaly/oop.py:157\u001b[0m, in \u001b[0;36mAnomalyExperiment.plot_model\u001b[0;34m(self, estimator, plot, scale, save, fold, fit_kwargs, plot_kwargs, groups, feature_name, label, use_train_data, verbose, display_format)\u001b[0m\n\u001b[1;32m     89\u001b[0m \u001b[38;5;28;01mdef\u001b[39;00m \u001b[38;5;21mplot_model\u001b[39m(\n\u001b[1;32m     90\u001b[0m     \u001b[38;5;28mself\u001b[39m,\n\u001b[1;32m     91\u001b[0m     estimator,\n\u001b[0;32m   (...)\u001b[0m\n\u001b[1;32m    103\u001b[0m     display_format: Optional[\u001b[38;5;28mstr\u001b[39m] \u001b[38;5;241m=\u001b[39m \u001b[38;5;28;01mNone\u001b[39;00m,\n\u001b[1;32m    104\u001b[0m ) \u001b[38;5;241m-\u001b[39m\u001b[38;5;241m>\u001b[39m Optional[\u001b[38;5;28mstr\u001b[39m]:\n\u001b[1;32m    105\u001b[0m     \u001b[38;5;124;03m\"\"\"\u001b[39;00m\n\u001b[1;32m    106\u001b[0m \u001b[38;5;124;03m    This function analyzes the performance of a trained model.\u001b[39;00m\n\u001b[1;32m    107\u001b[0m \n\u001b[0;32m   (...)\u001b[0m\n\u001b[1;32m    155\u001b[0m \n\u001b[1;32m    156\u001b[0m \u001b[38;5;124;03m    \"\"\"\u001b[39;00m\n\u001b[0;32m--> 157\u001b[0m     \u001b[38;5;28;01mreturn\u001b[39;00m \u001b[38;5;28;43msuper\u001b[39;49m\u001b[43m(\u001b[49m\u001b[43m)\u001b[49m\u001b[38;5;241;43m.\u001b[39;49m\u001b[43mplot_model\u001b[49m\u001b[43m(\u001b[49m\n\u001b[1;32m    158\u001b[0m \u001b[43m        \u001b[49m\u001b[43mestimator\u001b[49m\u001b[43m,\u001b[49m\n\u001b[1;32m    159\u001b[0m \u001b[43m        \u001b[49m\u001b[43mplot\u001b[49m\u001b[43m,\u001b[49m\n\u001b[1;32m    160\u001b[0m \u001b[43m        \u001b[49m\u001b[43mscale\u001b[49m\u001b[43m,\u001b[49m\n\u001b[1;32m    161\u001b[0m \u001b[43m        \u001b[49m\u001b[43msave\u001b[49m\u001b[43m,\u001b[49m\n\u001b[1;32m    162\u001b[0m \u001b[43m        \u001b[49m\u001b[43mfold\u001b[49m\u001b[43m,\u001b[49m\n\u001b[1;32m    163\u001b[0m \u001b[43m        \u001b[49m\u001b[43mfit_kwargs\u001b[49m\u001b[43m,\u001b[49m\n\u001b[1;32m    164\u001b[0m \u001b[43m        \u001b[49m\u001b[43mplot_kwargs\u001b[49m\u001b[43m,\u001b[49m\n\u001b[1;32m    165\u001b[0m \u001b[43m        \u001b[49m\u001b[43mgroups\u001b[49m\u001b[43m,\u001b[49m\n\u001b[1;32m    166\u001b[0m \u001b[43m        \u001b[49m\u001b[43mfeature_name\u001b[49m\u001b[43m,\u001b[49m\n\u001b[1;32m    167\u001b[0m \u001b[43m        \u001b[49m\u001b[43mlabel\u001b[49m\u001b[43m,\u001b[49m\n\u001b[1;32m    168\u001b[0m \u001b[43m        \u001b[49m\u001b[43muse_train_data\u001b[49m\u001b[43m,\u001b[49m\n\u001b[1;32m    169\u001b[0m \u001b[43m        \u001b[49m\u001b[43mverbose\u001b[49m\u001b[43m,\u001b[49m\n\u001b[1;32m    170\u001b[0m \u001b[43m        \u001b[49m\u001b[43mdisplay_format\u001b[49m\u001b[43m,\u001b[49m\n\u001b[1;32m    171\u001b[0m \u001b[43m    \u001b[49m\u001b[43m)\u001b[49m\n",
      "File \u001b[0;32m~/.local/lib/python3.10/site-packages/pycaret/internal/pycaret_experiment/tabular_experiment.py:2094\u001b[0m, in \u001b[0;36m_TabularExperiment.plot_model\u001b[0;34m(self, estimator, plot, scale, save, fold, fit_kwargs, plot_kwargs, groups, feature_name, label, use_train_data, verbose, display_format)\u001b[0m\n\u001b[1;32m   1980\u001b[0m \u001b[38;5;28;01mdef\u001b[39;00m \u001b[38;5;21mplot_model\u001b[39m(\n\u001b[1;32m   1981\u001b[0m     \u001b[38;5;28mself\u001b[39m,\n\u001b[1;32m   1982\u001b[0m     estimator,\n\u001b[0;32m   (...)\u001b[0m\n\u001b[1;32m   1994\u001b[0m     display_format: Optional[\u001b[38;5;28mstr\u001b[39m] \u001b[38;5;241m=\u001b[39m \u001b[38;5;28;01mNone\u001b[39;00m,\n\u001b[1;32m   1995\u001b[0m ) \u001b[38;5;241m-\u001b[39m\u001b[38;5;241m>\u001b[39m Optional[\u001b[38;5;28mstr\u001b[39m]:\n\u001b[1;32m   1997\u001b[0m     \u001b[38;5;124;03m\"\"\"\u001b[39;00m\n\u001b[1;32m   1998\u001b[0m \u001b[38;5;124;03m    This function takes a trained model object and returns a plot based on the\u001b[39;00m\n\u001b[1;32m   1999\u001b[0m \u001b[38;5;124;03m    test / hold-out set. The process may require the model to be re-trained in\u001b[39;00m\n\u001b[0;32m   (...)\u001b[0m\n\u001b[1;32m   2092\u001b[0m \n\u001b[1;32m   2093\u001b[0m \u001b[38;5;124;03m    \"\"\"\u001b[39;00m\n\u001b[0;32m-> 2094\u001b[0m     \u001b[38;5;28;01mreturn\u001b[39;00m \u001b[38;5;28;43mself\u001b[39;49m\u001b[38;5;241;43m.\u001b[39;49m\u001b[43m_plot_model\u001b[49m\u001b[43m(\u001b[49m\n\u001b[1;32m   2095\u001b[0m \u001b[43m        \u001b[49m\u001b[43mestimator\u001b[49m\u001b[38;5;241;43m=\u001b[39;49m\u001b[43mestimator\u001b[49m\u001b[43m,\u001b[49m\n\u001b[1;32m   2096\u001b[0m \u001b[43m        \u001b[49m\u001b[43mplot\u001b[49m\u001b[38;5;241;43m=\u001b[39;49m\u001b[43mplot\u001b[49m\u001b[43m,\u001b[49m\n\u001b[1;32m   2097\u001b[0m \u001b[43m        \u001b[49m\u001b[43mscale\u001b[49m\u001b[38;5;241;43m=\u001b[39;49m\u001b[43mscale\u001b[49m\u001b[43m,\u001b[49m\n\u001b[1;32m   2098\u001b[0m \u001b[43m        \u001b[49m\u001b[43msave\u001b[49m\u001b[38;5;241;43m=\u001b[39;49m\u001b[43msave\u001b[49m\u001b[43m,\u001b[49m\n\u001b[1;32m   2099\u001b[0m \u001b[43m        \u001b[49m\u001b[43mfold\u001b[49m\u001b[38;5;241;43m=\u001b[39;49m\u001b[43mfold\u001b[49m\u001b[43m,\u001b[49m\n\u001b[1;32m   2100\u001b[0m \u001b[43m        \u001b[49m\u001b[43mfit_kwargs\u001b[49m\u001b[38;5;241;43m=\u001b[39;49m\u001b[43mfit_kwargs\u001b[49m\u001b[43m,\u001b[49m\n\u001b[1;32m   2101\u001b[0m \u001b[43m        \u001b[49m\u001b[43mplot_kwargs\u001b[49m\u001b[38;5;241;43m=\u001b[39;49m\u001b[43mplot_kwargs\u001b[49m\u001b[43m,\u001b[49m\n\u001b[1;32m   2102\u001b[0m \u001b[43m        \u001b[49m\u001b[43mgroups\u001b[49m\u001b[38;5;241;43m=\u001b[39;49m\u001b[43mgroups\u001b[49m\u001b[43m,\u001b[49m\n\u001b[1;32m   2103\u001b[0m \u001b[43m        \u001b[49m\u001b[43mfeature_name\u001b[49m\u001b[38;5;241;43m=\u001b[39;49m\u001b[43mfeature_name\u001b[49m\u001b[43m,\u001b[49m\n\u001b[1;32m   2104\u001b[0m \u001b[43m        \u001b[49m\u001b[43mlabel\u001b[49m\u001b[38;5;241;43m=\u001b[39;49m\u001b[43mlabel\u001b[49m\u001b[43m,\u001b[49m\n\u001b[1;32m   2105\u001b[0m \u001b[43m        \u001b[49m\u001b[43muse_train_data\u001b[49m\u001b[38;5;241;43m=\u001b[39;49m\u001b[43muse_train_data\u001b[49m\u001b[43m,\u001b[49m\n\u001b[1;32m   2106\u001b[0m \u001b[43m        \u001b[49m\u001b[43mverbose\u001b[49m\u001b[38;5;241;43m=\u001b[39;49m\u001b[43mverbose\u001b[49m\u001b[43m,\u001b[49m\n\u001b[1;32m   2107\u001b[0m \u001b[43m        \u001b[49m\u001b[43mdisplay_format\u001b[49m\u001b[38;5;241;43m=\u001b[39;49m\u001b[43mdisplay_format\u001b[49m\u001b[43m,\u001b[49m\n\u001b[1;32m   2108\u001b[0m \u001b[43m    \u001b[49m\u001b[43m)\u001b[49m\n",
      "File \u001b[0;32m~/.local/lib/python3.10/site-packages/pycaret/internal/pycaret_experiment/tabular_experiment.py:1960\u001b[0m, in \u001b[0;36m_TabularExperiment._plot_model\u001b[0;34m(self, estimator, plot, scale, save, fold, fit_kwargs, plot_kwargs, groups, feature_name, label, use_train_data, verbose, system, display, display_format)\u001b[0m\n\u001b[1;32m   1958\u001b[0m \u001b[38;5;66;03m# execute the plot method\u001b[39;00m\n\u001b[1;32m   1959\u001b[0m \u001b[38;5;28;01mwith\u001b[39;00m redirect_output(\u001b[38;5;28mself\u001b[39m\u001b[38;5;241m.\u001b[39mlogger):\n\u001b[0;32m-> 1960\u001b[0m     ret \u001b[38;5;241m=\u001b[39m \u001b[38;5;28;43mlocals\u001b[39;49m\u001b[43m(\u001b[49m\u001b[43m)\u001b[49m\u001b[43m[\u001b[49m\u001b[43mplot\u001b[49m\u001b[43m]\u001b[49m\u001b[43m(\u001b[49m\u001b[43m)\u001b[49m\n\u001b[1;32m   1961\u001b[0m \u001b[38;5;28;01mif\u001b[39;00m ret:\n\u001b[1;32m   1962\u001b[0m     plot_filename \u001b[38;5;241m=\u001b[39m ret\n",
      "File \u001b[0;32m~/.local/lib/python3.10/site-packages/pycaret/internal/pycaret_experiment/tabular_experiment.py:794\u001b[0m, in \u001b[0;36m_TabularExperiment._plot_model.<locals>.tsne\u001b[0;34m()\u001b[0m\n\u001b[1;32m    792\u001b[0m     \u001b[38;5;28;01mreturn\u001b[39;00m _tsne_clustering()\n\u001b[1;32m    793\u001b[0m \u001b[38;5;28;01melse\u001b[39;00m:\n\u001b[0;32m--> 794\u001b[0m     \u001b[38;5;28;01mreturn\u001b[39;00m \u001b[43m_tsne_anomaly\u001b[49m\u001b[43m(\u001b[49m\u001b[43m)\u001b[49m\n",
      "File \u001b[0;32m~/.local/lib/python3.10/site-packages/pycaret/internal/pycaret_experiment/tabular_experiment.py:815\u001b[0m, in \u001b[0;36m_TabularExperiment._plot_model.<locals>._tsne_anomaly\u001b[0;34m()\u001b[0m\n\u001b[1;32m    812\u001b[0m \u001b[38;5;28;01mfrom\u001b[39;00m \u001b[38;5;21;01msklearn\u001b[39;00m\u001b[38;5;21;01m.\u001b[39;00m\u001b[38;5;21;01mmanifold\u001b[39;00m \u001b[38;5;28;01mimport\u001b[39;00m TSNE\n\u001b[1;32m    814\u001b[0m \u001b[38;5;28mself\u001b[39m\u001b[38;5;241m.\u001b[39mlogger\u001b[38;5;241m.\u001b[39minfo(\u001b[38;5;124m\"\u001b[39m\u001b[38;5;124mFitting TSNE()\u001b[39m\u001b[38;5;124m\"\u001b[39m)\n\u001b[0;32m--> 815\u001b[0m X_embedded \u001b[38;5;241m=\u001b[39m \u001b[43mTSNE\u001b[49m\u001b[43m(\u001b[49m\u001b[43mn_components\u001b[49m\u001b[38;5;241;43m=\u001b[39;49m\u001b[38;5;241;43m3\u001b[39;49m\u001b[43m)\u001b[49m\u001b[38;5;241;43m.\u001b[39;49m\u001b[43mfit_transform\u001b[49m\u001b[43m(\u001b[49m\u001b[43mb\u001b[49m\u001b[43m)\u001b[49m\n\u001b[1;32m    817\u001b[0m X \u001b[38;5;241m=\u001b[39m pd\u001b[38;5;241m.\u001b[39mDataFrame(X_embedded)\n\u001b[1;32m    818\u001b[0m X[\u001b[38;5;124m\"\u001b[39m\u001b[38;5;124mAnomaly\u001b[39m\u001b[38;5;124m\"\u001b[39m] \u001b[38;5;241m=\u001b[39m cluster\n",
      "File \u001b[0;32m~/.local/lib/python3.10/site-packages/sklearn/manifold/_t_sne.py:1123\u001b[0m, in \u001b[0;36mTSNE.fit_transform\u001b[0;34m(self, X, y)\u001b[0m\n\u001b[1;32m   1103\u001b[0m \u001b[38;5;124;03m\"\"\"Fit X into an embedded space and return that transformed output.\u001b[39;00m\n\u001b[1;32m   1104\u001b[0m \n\u001b[1;32m   1105\u001b[0m \u001b[38;5;124;03mParameters\u001b[39;00m\n\u001b[0;32m   (...)\u001b[0m\n\u001b[1;32m   1120\u001b[0m \u001b[38;5;124;03m    Embedding of the training data in low-dimensional space.\u001b[39;00m\n\u001b[1;32m   1121\u001b[0m \u001b[38;5;124;03m\"\"\"\u001b[39;00m\n\u001b[1;32m   1122\u001b[0m \u001b[38;5;28mself\u001b[39m\u001b[38;5;241m.\u001b[39m_check_params_vs_input(X)\n\u001b[0;32m-> 1123\u001b[0m embedding \u001b[38;5;241m=\u001b[39m \u001b[38;5;28;43mself\u001b[39;49m\u001b[38;5;241;43m.\u001b[39;49m\u001b[43m_fit\u001b[49m\u001b[43m(\u001b[49m\u001b[43mX\u001b[49m\u001b[43m)\u001b[49m\n\u001b[1;32m   1124\u001b[0m \u001b[38;5;28mself\u001b[39m\u001b[38;5;241m.\u001b[39membedding_ \u001b[38;5;241m=\u001b[39m embedding\n\u001b[1;32m   1125\u001b[0m \u001b[38;5;28;01mreturn\u001b[39;00m \u001b[38;5;28mself\u001b[39m\u001b[38;5;241m.\u001b[39membedding_\n",
      "File \u001b[0;32m~/.local/lib/python3.10/site-packages/sklearn/manifold/_t_sne.py:1018\u001b[0m, in \u001b[0;36mTSNE._fit\u001b[0;34m(self, X, skip_num_points)\u001b[0m\n\u001b[1;32m   1012\u001b[0m \u001b[38;5;66;03m# Degrees of freedom of the Student's t-distribution. The suggestion\u001b[39;00m\n\u001b[1;32m   1013\u001b[0m \u001b[38;5;66;03m# degrees_of_freedom = n_components - 1 comes from\u001b[39;00m\n\u001b[1;32m   1014\u001b[0m \u001b[38;5;66;03m# \"Learning a Parametric Embedding by Preserving Local Structure\"\u001b[39;00m\n\u001b[1;32m   1015\u001b[0m \u001b[38;5;66;03m# Laurens van der Maaten, 2009.\u001b[39;00m\n\u001b[1;32m   1016\u001b[0m degrees_of_freedom \u001b[38;5;241m=\u001b[39m \u001b[38;5;28mmax\u001b[39m(\u001b[38;5;28mself\u001b[39m\u001b[38;5;241m.\u001b[39mn_components \u001b[38;5;241m-\u001b[39m \u001b[38;5;241m1\u001b[39m, \u001b[38;5;241m1\u001b[39m)\n\u001b[0;32m-> 1018\u001b[0m \u001b[38;5;28;01mreturn\u001b[39;00m \u001b[38;5;28;43mself\u001b[39;49m\u001b[38;5;241;43m.\u001b[39;49m\u001b[43m_tsne\u001b[49m\u001b[43m(\u001b[49m\n\u001b[1;32m   1019\u001b[0m \u001b[43m    \u001b[49m\u001b[43mP\u001b[49m\u001b[43m,\u001b[49m\n\u001b[1;32m   1020\u001b[0m \u001b[43m    \u001b[49m\u001b[43mdegrees_of_freedom\u001b[49m\u001b[43m,\u001b[49m\n\u001b[1;32m   1021\u001b[0m \u001b[43m    \u001b[49m\u001b[43mn_samples\u001b[49m\u001b[43m,\u001b[49m\n\u001b[1;32m   1022\u001b[0m \u001b[43m    \u001b[49m\u001b[43mX_embedded\u001b[49m\u001b[38;5;241;43m=\u001b[39;49m\u001b[43mX_embedded\u001b[49m\u001b[43m,\u001b[49m\n\u001b[1;32m   1023\u001b[0m \u001b[43m    \u001b[49m\u001b[43mneighbors\u001b[49m\u001b[38;5;241;43m=\u001b[39;49m\u001b[43mneighbors_nn\u001b[49m\u001b[43m,\u001b[49m\n\u001b[1;32m   1024\u001b[0m \u001b[43m    \u001b[49m\u001b[43mskip_num_points\u001b[49m\u001b[38;5;241;43m=\u001b[39;49m\u001b[43mskip_num_points\u001b[49m\u001b[43m,\u001b[49m\n\u001b[1;32m   1025\u001b[0m \u001b[43m\u001b[49m\u001b[43m)\u001b[49m\n",
      "File \u001b[0;32m~/.local/lib/python3.10/site-packages/sklearn/manifold/_t_sne.py:1086\u001b[0m, in \u001b[0;36mTSNE._tsne\u001b[0;34m(self, P, degrees_of_freedom, n_samples, X_embedded, neighbors, skip_num_points)\u001b[0m\n\u001b[1;32m   1084\u001b[0m     opt_args[\u001b[38;5;124m\"\u001b[39m\u001b[38;5;124mmomentum\u001b[39m\u001b[38;5;124m\"\u001b[39m] \u001b[38;5;241m=\u001b[39m \u001b[38;5;241m0.8\u001b[39m\n\u001b[1;32m   1085\u001b[0m     opt_args[\u001b[38;5;124m\"\u001b[39m\u001b[38;5;124mn_iter_without_progress\u001b[39m\u001b[38;5;124m\"\u001b[39m] \u001b[38;5;241m=\u001b[39m \u001b[38;5;28mself\u001b[39m\u001b[38;5;241m.\u001b[39mn_iter_without_progress\n\u001b[0;32m-> 1086\u001b[0m     params, kl_divergence, it \u001b[38;5;241m=\u001b[39m \u001b[43m_gradient_descent\u001b[49m\u001b[43m(\u001b[49m\u001b[43mobj_func\u001b[49m\u001b[43m,\u001b[49m\u001b[43m \u001b[49m\u001b[43mparams\u001b[49m\u001b[43m,\u001b[49m\u001b[43m \u001b[49m\u001b[38;5;241;43m*\u001b[39;49m\u001b[38;5;241;43m*\u001b[39;49m\u001b[43mopt_args\u001b[49m\u001b[43m)\u001b[49m\n\u001b[1;32m   1088\u001b[0m \u001b[38;5;66;03m# Save the final number of iterations\u001b[39;00m\n\u001b[1;32m   1089\u001b[0m \u001b[38;5;28mself\u001b[39m\u001b[38;5;241m.\u001b[39mn_iter_ \u001b[38;5;241m=\u001b[39m it\n",
      "File \u001b[0;32m~/.local/lib/python3.10/site-packages/sklearn/manifold/_t_sne.py:398\u001b[0m, in \u001b[0;36m_gradient_descent\u001b[0;34m(objective, p0, it, n_iter, n_iter_check, n_iter_without_progress, momentum, learning_rate, min_gain, min_grad_norm, verbose, args, kwargs)\u001b[0m\n\u001b[1;32m    395\u001b[0m \u001b[38;5;66;03m# only compute the error when needed\u001b[39;00m\n\u001b[1;32m    396\u001b[0m kwargs[\u001b[38;5;124m\"\u001b[39m\u001b[38;5;124mcompute_error\u001b[39m\u001b[38;5;124m\"\u001b[39m] \u001b[38;5;241m=\u001b[39m check_convergence \u001b[38;5;129;01mor\u001b[39;00m i \u001b[38;5;241m==\u001b[39m n_iter \u001b[38;5;241m-\u001b[39m \u001b[38;5;241m1\u001b[39m\n\u001b[0;32m--> 398\u001b[0m error, grad \u001b[38;5;241m=\u001b[39m \u001b[43mobjective\u001b[49m\u001b[43m(\u001b[49m\u001b[43mp\u001b[49m\u001b[43m,\u001b[49m\u001b[43m \u001b[49m\u001b[38;5;241;43m*\u001b[39;49m\u001b[43margs\u001b[49m\u001b[43m,\u001b[49m\u001b[43m \u001b[49m\u001b[38;5;241;43m*\u001b[39;49m\u001b[38;5;241;43m*\u001b[39;49m\u001b[43mkwargs\u001b[49m\u001b[43m)\u001b[49m\n\u001b[1;32m    399\u001b[0m grad_norm \u001b[38;5;241m=\u001b[39m linalg\u001b[38;5;241m.\u001b[39mnorm(grad)\n\u001b[1;32m    401\u001b[0m inc \u001b[38;5;241m=\u001b[39m update \u001b[38;5;241m*\u001b[39m grad \u001b[38;5;241m<\u001b[39m \u001b[38;5;241m0.0\u001b[39m\n",
      "File \u001b[0;32m~/.local/lib/python3.10/site-packages/sklearn/manifold/_t_sne.py:279\u001b[0m, in \u001b[0;36m_kl_divergence_bh\u001b[0;34m(params, P, degrees_of_freedom, n_samples, n_components, angle, skip_num_points, verbose, compute_error, num_threads)\u001b[0m\n\u001b[1;32m    276\u001b[0m indptr \u001b[38;5;241m=\u001b[39m P\u001b[38;5;241m.\u001b[39mindptr\u001b[38;5;241m.\u001b[39mastype(np\u001b[38;5;241m.\u001b[39mint64, copy\u001b[38;5;241m=\u001b[39m\u001b[38;5;28;01mFalse\u001b[39;00m)\n\u001b[1;32m    278\u001b[0m grad \u001b[38;5;241m=\u001b[39m np\u001b[38;5;241m.\u001b[39mzeros(X_embedded\u001b[38;5;241m.\u001b[39mshape, dtype\u001b[38;5;241m=\u001b[39mnp\u001b[38;5;241m.\u001b[39mfloat32)\n\u001b[0;32m--> 279\u001b[0m error \u001b[38;5;241m=\u001b[39m \u001b[43m_barnes_hut_tsne\u001b[49m\u001b[38;5;241;43m.\u001b[39;49m\u001b[43mgradient\u001b[49m\u001b[43m(\u001b[49m\n\u001b[1;32m    280\u001b[0m \u001b[43m    \u001b[49m\u001b[43mval_P\u001b[49m\u001b[43m,\u001b[49m\n\u001b[1;32m    281\u001b[0m \u001b[43m    \u001b[49m\u001b[43mX_embedded\u001b[49m\u001b[43m,\u001b[49m\n\u001b[1;32m    282\u001b[0m \u001b[43m    \u001b[49m\u001b[43mneighbors\u001b[49m\u001b[43m,\u001b[49m\n\u001b[1;32m    283\u001b[0m \u001b[43m    \u001b[49m\u001b[43mindptr\u001b[49m\u001b[43m,\u001b[49m\n\u001b[1;32m    284\u001b[0m \u001b[43m    \u001b[49m\u001b[43mgrad\u001b[49m\u001b[43m,\u001b[49m\n\u001b[1;32m    285\u001b[0m \u001b[43m    \u001b[49m\u001b[43mangle\u001b[49m\u001b[43m,\u001b[49m\n\u001b[1;32m    286\u001b[0m \u001b[43m    \u001b[49m\u001b[43mn_components\u001b[49m\u001b[43m,\u001b[49m\n\u001b[1;32m    287\u001b[0m \u001b[43m    \u001b[49m\u001b[43mverbose\u001b[49m\u001b[43m,\u001b[49m\n\u001b[1;32m    288\u001b[0m \u001b[43m    \u001b[49m\u001b[43mdof\u001b[49m\u001b[38;5;241;43m=\u001b[39;49m\u001b[43mdegrees_of_freedom\u001b[49m\u001b[43m,\u001b[49m\n\u001b[1;32m    289\u001b[0m \u001b[43m    \u001b[49m\u001b[43mcompute_error\u001b[49m\u001b[38;5;241;43m=\u001b[39;49m\u001b[43mcompute_error\u001b[49m\u001b[43m,\u001b[49m\n\u001b[1;32m    290\u001b[0m \u001b[43m    \u001b[49m\u001b[43mnum_threads\u001b[49m\u001b[38;5;241;43m=\u001b[39;49m\u001b[43mnum_threads\u001b[49m\u001b[43m,\u001b[49m\n\u001b[1;32m    291\u001b[0m \u001b[43m\u001b[49m\u001b[43m)\u001b[49m\n\u001b[1;32m    292\u001b[0m c \u001b[38;5;241m=\u001b[39m \u001b[38;5;241m2.0\u001b[39m \u001b[38;5;241m*\u001b[39m (degrees_of_freedom \u001b[38;5;241m+\u001b[39m \u001b[38;5;241m1.0\u001b[39m) \u001b[38;5;241m/\u001b[39m degrees_of_freedom\n\u001b[1;32m    293\u001b[0m grad \u001b[38;5;241m=\u001b[39m grad\u001b[38;5;241m.\u001b[39mravel()\n",
      "\u001b[0;31mKeyboardInterrupt\u001b[0m: "
     ]
    }
   ],
   "source": [
    "plot_model(iforest, plot = 'tsne')"
   ]
  },
  {
   "cell_type": "code",
   "execution_count": 15,
   "id": "8ae0beb3-4ba9-444e-bb76-af0a50700232",
   "metadata": {
    "execution": {
     "iopub.execute_input": "2022-12-17T09:12:07.152811Z",
     "iopub.status.busy": "2022-12-17T09:12:07.152203Z",
     "iopub.status.idle": "2022-12-17T09:12:15.979034Z",
     "shell.execute_reply": "2022-12-17T09:12:15.977471Z",
     "shell.execute_reply.started": "2022-12-17T09:12:07.152776Z"
    },
    "tags": []
   },
   "outputs": [
    {
     "data": {
      "text/html": [],
      "text/plain": [
       "<IPython.core.display.HTML object>"
      ]
     },
     "metadata": {},
     "output_type": "display_data"
    },
    {
     "name": "stderr",
     "output_type": "stream",
     "text": [
      "\n",
      "KeyboardInterrupt\n",
      "\n"
     ]
    }
   ],
   "source": [
    "plot_model(iforest, plot = 'umap')"
   ]
  },
  {
   "cell_type": "code",
   "execution_count": 16,
   "id": "d6901520-ee5c-4261-b7c7-aed1b40eab53",
   "metadata": {
    "execution": {
     "iopub.execute_input": "2022-12-17T09:12:19.011289Z",
     "iopub.status.busy": "2022-12-17T09:12:19.010371Z",
     "iopub.status.idle": "2022-12-17T09:12:19.027793Z",
     "shell.execute_reply": "2022-12-17T09:12:19.026552Z",
     "shell.execute_reply.started": "2022-12-17T09:12:19.011253Z"
    },
    "tags": []
   },
   "outputs": [
    {
     "data": {
      "text/html": [
       "<div>\n",
       "<style scoped>\n",
       "    .dataframe tbody tr th:only-of-type {\n",
       "        vertical-align: middle;\n",
       "    }\n",
       "\n",
       "    .dataframe tbody tr th {\n",
       "        vertical-align: top;\n",
       "    }\n",
       "\n",
       "    .dataframe thead th {\n",
       "        text-align: right;\n",
       "    }\n",
       "</style>\n",
       "<table border=\"1\" class=\"dataframe\">\n",
       "  <thead>\n",
       "    <tr style=\"text-align: right;\">\n",
       "      <th></th>\n",
       "      <th>DATE</th>\n",
       "      <th>PM2.5</th>\n",
       "      <th>Anomaly</th>\n",
       "      <th>Anomaly_Score</th>\n",
       "    </tr>\n",
       "  </thead>\n",
       "  <tbody>\n",
       "    <tr>\n",
       "      <th>0</th>\n",
       "      <td>2019-02-04 18:00:00</td>\n",
       "      <td>70.519997</td>\n",
       "      <td>0</td>\n",
       "      <td>-0.004651</td>\n",
       "    </tr>\n",
       "    <tr>\n",
       "      <th>1</th>\n",
       "      <td>2019-02-04 19:00:00</td>\n",
       "      <td>61.389999</td>\n",
       "      <td>0</td>\n",
       "      <td>-0.017837</td>\n",
       "    </tr>\n",
       "    <tr>\n",
       "      <th>2</th>\n",
       "      <td>2019-02-04 20:00:00</td>\n",
       "      <td>59.939999</td>\n",
       "      <td>0</td>\n",
       "      <td>-0.022678</td>\n",
       "    </tr>\n",
       "    <tr>\n",
       "      <th>3</th>\n",
       "      <td>2019-02-04 21:00:00</td>\n",
       "      <td>76.440002</td>\n",
       "      <td>0</td>\n",
       "      <td>-0.003718</td>\n",
       "    </tr>\n",
       "    <tr>\n",
       "      <th>4</th>\n",
       "      <td>2019-02-04 22:00:00</td>\n",
       "      <td>98.540001</td>\n",
       "      <td>1</td>\n",
       "      <td>0.008602</td>\n",
       "    </tr>\n",
       "  </tbody>\n",
       "</table>\n",
       "</div>"
      ],
      "text/plain": [
       "                 DATE      PM2.5  Anomaly  Anomaly_Score\n",
       "0 2019-02-04 18:00:00  70.519997        0      -0.004651\n",
       "1 2019-02-04 19:00:00  61.389999        0      -0.017837\n",
       "2 2019-02-04 20:00:00  59.939999        0      -0.022678\n",
       "3 2019-02-04 21:00:00  76.440002        0      -0.003718\n",
       "4 2019-02-04 22:00:00  98.540001        1       0.008602"
      ]
     },
     "execution_count": 16,
     "metadata": {},
     "output_type": "execute_result"
    }
   ],
   "source": [
    "result = assign_model(iforest)\n",
    "result.head()"
   ]
  },
  {
   "cell_type": "code",
   "execution_count": 17,
   "id": "cbac5783-bdbf-46ed-b4cd-7931053cf219",
   "metadata": {
    "execution": {
     "iopub.execute_input": "2022-12-17T09:12:26.665788Z",
     "iopub.status.busy": "2022-12-17T09:12:26.663319Z",
     "iopub.status.idle": "2022-12-17T09:12:27.871007Z",
     "shell.execute_reply": "2022-12-17T09:12:27.870070Z",
     "shell.execute_reply.started": "2022-12-17T09:12:26.665676Z"
    },
    "tags": []
   },
   "outputs": [
    {
     "data": {
      "text/html": [
       "<div>\n",
       "<style scoped>\n",
       "    .dataframe tbody tr th:only-of-type {\n",
       "        vertical-align: middle;\n",
       "    }\n",
       "\n",
       "    .dataframe tbody tr th {\n",
       "        vertical-align: top;\n",
       "    }\n",
       "\n",
       "    .dataframe thead th {\n",
       "        text-align: right;\n",
       "    }\n",
       "</style>\n",
       "<table border=\"1\" class=\"dataframe\">\n",
       "  <thead>\n",
       "    <tr style=\"text-align: right;\">\n",
       "      <th></th>\n",
       "      <th>DATE_year</th>\n",
       "      <th>DATE_month</th>\n",
       "      <th>DATE_day</th>\n",
       "      <th>PM2.5</th>\n",
       "      <th>Anomaly</th>\n",
       "      <th>Anomaly_Score</th>\n",
       "    </tr>\n",
       "  </thead>\n",
       "  <tbody>\n",
       "    <tr>\n",
       "      <th>0</th>\n",
       "      <td>2019.0</td>\n",
       "      <td>2.0</td>\n",
       "      <td>4.0</td>\n",
       "      <td>70.519997</td>\n",
       "      <td>0</td>\n",
       "      <td>-0.004651</td>\n",
       "    </tr>\n",
       "    <tr>\n",
       "      <th>1</th>\n",
       "      <td>2019.0</td>\n",
       "      <td>2.0</td>\n",
       "      <td>4.0</td>\n",
       "      <td>61.389999</td>\n",
       "      <td>0</td>\n",
       "      <td>-0.017837</td>\n",
       "    </tr>\n",
       "    <tr>\n",
       "      <th>2</th>\n",
       "      <td>2019.0</td>\n",
       "      <td>2.0</td>\n",
       "      <td>4.0</td>\n",
       "      <td>59.939999</td>\n",
       "      <td>0</td>\n",
       "      <td>-0.022678</td>\n",
       "    </tr>\n",
       "    <tr>\n",
       "      <th>3</th>\n",
       "      <td>2019.0</td>\n",
       "      <td>2.0</td>\n",
       "      <td>4.0</td>\n",
       "      <td>76.440002</td>\n",
       "      <td>0</td>\n",
       "      <td>-0.003718</td>\n",
       "    </tr>\n",
       "    <tr>\n",
       "      <th>4</th>\n",
       "      <td>2019.0</td>\n",
       "      <td>2.0</td>\n",
       "      <td>4.0</td>\n",
       "      <td>98.540001</td>\n",
       "      <td>1</td>\n",
       "      <td>0.008602</td>\n",
       "    </tr>\n",
       "  </tbody>\n",
       "</table>\n",
       "</div>"
      ],
      "text/plain": [
       "   DATE_year  DATE_month  DATE_day      PM2.5  Anomaly  Anomaly_Score\n",
       "0     2019.0         2.0       4.0  70.519997        0      -0.004651\n",
       "1     2019.0         2.0       4.0  61.389999        0      -0.017837\n",
       "2     2019.0         2.0       4.0  59.939999        0      -0.022678\n",
       "3     2019.0         2.0       4.0  76.440002        0      -0.003718\n",
       "4     2019.0         2.0       4.0  98.540001        1       0.008602"
      ]
     },
     "execution_count": 17,
     "metadata": {},
     "output_type": "execute_result"
    }
   ],
   "source": [
    "predictions = predict_model(iforest, data = df)\n",
    "predictions.head()"
   ]
  },
  {
   "cell_type": "code",
   "execution_count": 7,
   "id": "8f7c4e6a-6fe9-4e53-bf8b-524374bd7b44",
   "metadata": {
    "execution": {
     "iopub.execute_input": "2022-12-18T02:32:20.771423Z",
     "iopub.status.busy": "2022-12-18T02:32:20.769770Z",
     "iopub.status.idle": "2022-12-18T02:32:20.784677Z",
     "shell.execute_reply": "2022-12-18T02:32:20.782217Z",
     "shell.execute_reply.started": "2022-12-18T02:32:20.771336Z"
    },
    "tags": []
   },
   "outputs": [],
   "source": [
    "df=df.set_index('DATE')"
   ]
  },
  {
   "cell_type": "code",
   "execution_count": 8,
   "id": "8d1c4e68-4d3e-4b37-adcb-cabc16652b23",
   "metadata": {
    "execution": {
     "iopub.execute_input": "2022-12-18T02:32:20.995271Z",
     "iopub.status.busy": "2022-12-18T02:32:20.992334Z",
     "iopub.status.idle": "2022-12-18T02:32:58.380316Z",
     "shell.execute_reply": "2022-12-18T02:32:58.379404Z",
     "shell.execute_reply.started": "2022-12-18T02:32:20.995155Z"
    },
    "tags": []
   },
   "outputs": [
    {
     "data": {
      "text/html": [
       "<style type=\"text/css\">\n",
       "#T_56d12_row13_col1 {\n",
       "  background-color: lightgreen;\n",
       "}\n",
       "</style>\n",
       "<table id=\"T_56d12\">\n",
       "  <thead>\n",
       "    <tr>\n",
       "      <th class=\"blank level0\" >&nbsp;</th>\n",
       "      <th id=\"T_56d12_level0_col0\" class=\"col_heading level0 col0\" >Description</th>\n",
       "      <th id=\"T_56d12_level0_col1\" class=\"col_heading level0 col1\" >Value</th>\n",
       "    </tr>\n",
       "  </thead>\n",
       "  <tbody>\n",
       "    <tr>\n",
       "      <th id=\"T_56d12_level0_row0\" class=\"row_heading level0 row0\" >0</th>\n",
       "      <td id=\"T_56d12_row0_col0\" class=\"data row0 col0\" >session_id</td>\n",
       "      <td id=\"T_56d12_row0_col1\" class=\"data row0 col1\" >123</td>\n",
       "    </tr>\n",
       "    <tr>\n",
       "      <th id=\"T_56d12_level0_row1\" class=\"row_heading level0 row1\" >1</th>\n",
       "      <td id=\"T_56d12_row1_col0\" class=\"data row1 col0\" >Target</td>\n",
       "      <td id=\"T_56d12_row1_col1\" class=\"data row1 col1\" >PM2.5</td>\n",
       "    </tr>\n",
       "    <tr>\n",
       "      <th id=\"T_56d12_level0_row2\" class=\"row_heading level0 row2\" >2</th>\n",
       "      <td id=\"T_56d12_row2_col0\" class=\"data row2 col0\" >Approach</td>\n",
       "      <td id=\"T_56d12_row2_col1\" class=\"data row2 col1\" >Univariate</td>\n",
       "    </tr>\n",
       "    <tr>\n",
       "      <th id=\"T_56d12_level0_row3\" class=\"row_heading level0 row3\" >3</th>\n",
       "      <td id=\"T_56d12_row3_col0\" class=\"data row3 col0\" >Exogenous Variables</td>\n",
       "      <td id=\"T_56d12_row3_col1\" class=\"data row3 col1\" >Not Present</td>\n",
       "    </tr>\n",
       "    <tr>\n",
       "      <th id=\"T_56d12_level0_row4\" class=\"row_heading level0 row4\" >4</th>\n",
       "      <td id=\"T_56d12_row4_col0\" class=\"data row4 col0\" >Original data shape</td>\n",
       "      <td id=\"T_56d12_row4_col1\" class=\"data row4 col1\" >(34174, 1)</td>\n",
       "    </tr>\n",
       "    <tr>\n",
       "      <th id=\"T_56d12_level0_row5\" class=\"row_heading level0 row5\" >5</th>\n",
       "      <td id=\"T_56d12_row5_col0\" class=\"data row5 col0\" >Transformed data shape</td>\n",
       "      <td id=\"T_56d12_row5_col1\" class=\"data row5 col1\" >(34174, 1)</td>\n",
       "    </tr>\n",
       "    <tr>\n",
       "      <th id=\"T_56d12_level0_row6\" class=\"row_heading level0 row6\" >6</th>\n",
       "      <td id=\"T_56d12_row6_col0\" class=\"data row6 col0\" >Transformed train set shape</td>\n",
       "      <td id=\"T_56d12_row6_col1\" class=\"data row6 col1\" >(34171, 1)</td>\n",
       "    </tr>\n",
       "    <tr>\n",
       "      <th id=\"T_56d12_level0_row7\" class=\"row_heading level0 row7\" >7</th>\n",
       "      <td id=\"T_56d12_row7_col0\" class=\"data row7 col0\" >Transformed test set shape</td>\n",
       "      <td id=\"T_56d12_row7_col1\" class=\"data row7 col1\" >(3, 1)</td>\n",
       "    </tr>\n",
       "    <tr>\n",
       "      <th id=\"T_56d12_level0_row8\" class=\"row_heading level0 row8\" >8</th>\n",
       "      <td id=\"T_56d12_row8_col0\" class=\"data row8 col0\" >Rows with missing values</td>\n",
       "      <td id=\"T_56d12_row8_col1\" class=\"data row8 col1\" >0.0%</td>\n",
       "    </tr>\n",
       "    <tr>\n",
       "      <th id=\"T_56d12_level0_row9\" class=\"row_heading level0 row9\" >9</th>\n",
       "      <td id=\"T_56d12_row9_col0\" class=\"data row9 col0\" >Fold Generator</td>\n",
       "      <td id=\"T_56d12_row9_col1\" class=\"data row9 col1\" >ExpandingWindowSplitter</td>\n",
       "    </tr>\n",
       "    <tr>\n",
       "      <th id=\"T_56d12_level0_row10\" class=\"row_heading level0 row10\" >10</th>\n",
       "      <td id=\"T_56d12_row10_col0\" class=\"data row10 col0\" >Fold Number</td>\n",
       "      <td id=\"T_56d12_row10_col1\" class=\"data row10 col1\" >5</td>\n",
       "    </tr>\n",
       "    <tr>\n",
       "      <th id=\"T_56d12_level0_row11\" class=\"row_heading level0 row11\" >11</th>\n",
       "      <td id=\"T_56d12_row11_col0\" class=\"data row11 col0\" >Enforce Prediction Interval</td>\n",
       "      <td id=\"T_56d12_row11_col1\" class=\"data row11 col1\" >False</td>\n",
       "    </tr>\n",
       "    <tr>\n",
       "      <th id=\"T_56d12_level0_row12\" class=\"row_heading level0 row12\" >12</th>\n",
       "      <td id=\"T_56d12_row12_col0\" class=\"data row12 col0\" >Seasonal Period(s) Tested</td>\n",
       "      <td id=\"T_56d12_row12_col1\" class=\"data row12 col1\" >24</td>\n",
       "    </tr>\n",
       "    <tr>\n",
       "      <th id=\"T_56d12_level0_row13\" class=\"row_heading level0 row13\" >13</th>\n",
       "      <td id=\"T_56d12_row13_col0\" class=\"data row13 col0\" >Seasonality Present</td>\n",
       "      <td id=\"T_56d12_row13_col1\" class=\"data row13 col1\" >True</td>\n",
       "    </tr>\n",
       "    <tr>\n",
       "      <th id=\"T_56d12_level0_row14\" class=\"row_heading level0 row14\" >14</th>\n",
       "      <td id=\"T_56d12_row14_col0\" class=\"data row14 col0\" >Seasonalities Detected</td>\n",
       "      <td id=\"T_56d12_row14_col1\" class=\"data row14 col1\" >[24]</td>\n",
       "    </tr>\n",
       "    <tr>\n",
       "      <th id=\"T_56d12_level0_row15\" class=\"row_heading level0 row15\" >15</th>\n",
       "      <td id=\"T_56d12_row15_col0\" class=\"data row15 col0\" >Primary Seasonality</td>\n",
       "      <td id=\"T_56d12_row15_col1\" class=\"data row15 col1\" >24</td>\n",
       "    </tr>\n",
       "    <tr>\n",
       "      <th id=\"T_56d12_level0_row16\" class=\"row_heading level0 row16\" >16</th>\n",
       "      <td id=\"T_56d12_row16_col0\" class=\"data row16 col0\" >Target Strictly Positive</td>\n",
       "      <td id=\"T_56d12_row16_col1\" class=\"data row16 col1\" >True</td>\n",
       "    </tr>\n",
       "    <tr>\n",
       "      <th id=\"T_56d12_level0_row17\" class=\"row_heading level0 row17\" >17</th>\n",
       "      <td id=\"T_56d12_row17_col0\" class=\"data row17 col0\" >Target White Noise</td>\n",
       "      <td id=\"T_56d12_row17_col1\" class=\"data row17 col1\" >No</td>\n",
       "    </tr>\n",
       "    <tr>\n",
       "      <th id=\"T_56d12_level0_row18\" class=\"row_heading level0 row18\" >18</th>\n",
       "      <td id=\"T_56d12_row18_col0\" class=\"data row18 col0\" >Recommended d</td>\n",
       "      <td id=\"T_56d12_row18_col1\" class=\"data row18 col1\" >1</td>\n",
       "    </tr>\n",
       "    <tr>\n",
       "      <th id=\"T_56d12_level0_row19\" class=\"row_heading level0 row19\" >19</th>\n",
       "      <td id=\"T_56d12_row19_col0\" class=\"data row19 col0\" >Recommended Seasonal D</td>\n",
       "      <td id=\"T_56d12_row19_col1\" class=\"data row19 col1\" >0</td>\n",
       "    </tr>\n",
       "    <tr>\n",
       "      <th id=\"T_56d12_level0_row20\" class=\"row_heading level0 row20\" >20</th>\n",
       "      <td id=\"T_56d12_row20_col0\" class=\"data row20 col0\" >Preprocess</td>\n",
       "      <td id=\"T_56d12_row20_col1\" class=\"data row20 col1\" >False</td>\n",
       "    </tr>\n",
       "    <tr>\n",
       "      <th id=\"T_56d12_level0_row21\" class=\"row_heading level0 row21\" >21</th>\n",
       "      <td id=\"T_56d12_row21_col0\" class=\"data row21 col0\" >CPU Jobs</td>\n",
       "      <td id=\"T_56d12_row21_col1\" class=\"data row21 col1\" >-1</td>\n",
       "    </tr>\n",
       "    <tr>\n",
       "      <th id=\"T_56d12_level0_row22\" class=\"row_heading level0 row22\" >22</th>\n",
       "      <td id=\"T_56d12_row22_col0\" class=\"data row22 col0\" >Use GPU</td>\n",
       "      <td id=\"T_56d12_row22_col1\" class=\"data row22 col1\" >False</td>\n",
       "    </tr>\n",
       "    <tr>\n",
       "      <th id=\"T_56d12_level0_row23\" class=\"row_heading level0 row23\" >23</th>\n",
       "      <td id=\"T_56d12_row23_col0\" class=\"data row23 col0\" >Log Experiment</td>\n",
       "      <td id=\"T_56d12_row23_col1\" class=\"data row23 col1\" >False</td>\n",
       "    </tr>\n",
       "    <tr>\n",
       "      <th id=\"T_56d12_level0_row24\" class=\"row_heading level0 row24\" >24</th>\n",
       "      <td id=\"T_56d12_row24_col0\" class=\"data row24 col0\" >Experiment Name</td>\n",
       "      <td id=\"T_56d12_row24_col1\" class=\"data row24 col1\" >ts-default-name</td>\n",
       "    </tr>\n",
       "    <tr>\n",
       "      <th id=\"T_56d12_level0_row25\" class=\"row_heading level0 row25\" >25</th>\n",
       "      <td id=\"T_56d12_row25_col0\" class=\"data row25 col0\" >USI</td>\n",
       "      <td id=\"T_56d12_row25_col1\" class=\"data row25 col1\" >a120</td>\n",
       "    </tr>\n",
       "  </tbody>\n",
       "</table>\n"
      ],
      "text/plain": [
       "<pandas.io.formats.style.Styler at 0x7fbb43f5e380>"
      ]
     },
     "metadata": {},
     "output_type": "display_data"
    }
   ],
   "source": [
    "from pycaret.time_series import *\n",
    "s = setup(df, fh = 3, fold = 5, session_id = 123)"
   ]
  },
  {
   "cell_type": "code",
   "execution_count": 9,
   "id": "5b737bb1-4217-4e24-9f29-12da4ce9ac70",
   "metadata": {
    "execution": {
     "iopub.execute_input": "2022-12-18T02:32:58.383263Z",
     "iopub.status.busy": "2022-12-18T02:32:58.382562Z",
     "iopub.status.idle": "2022-12-18T03:49:25.088238Z",
     "shell.execute_reply": "2022-12-18T03:49:25.086803Z",
     "shell.execute_reply.started": "2022-12-18T02:32:58.383221Z"
    },
    "tags": []
   },
   "outputs": [
    {
     "data": {
      "text/html": [],
      "text/plain": [
       "<IPython.core.display.HTML object>"
      ]
     },
     "metadata": {},
     "output_type": "display_data"
    },
    {
     "data": {
      "text/html": [
       "<style type=\"text/css\">\n",
       "#T_f9dda th {\n",
       "  text-align: left;\n",
       "}\n",
       "#T_f9dda_row0_col0, #T_f9dda_row0_col5, #T_f9dda_row0_col6, #T_f9dda_row0_col7, #T_f9dda_row1_col0, #T_f9dda_row1_col1, #T_f9dda_row1_col2, #T_f9dda_row1_col3, #T_f9dda_row1_col4, #T_f9dda_row1_col5, #T_f9dda_row2_col0, #T_f9dda_row2_col1, #T_f9dda_row2_col2, #T_f9dda_row2_col3, #T_f9dda_row2_col4, #T_f9dda_row2_col5, #T_f9dda_row2_col6, #T_f9dda_row2_col7, #T_f9dda_row3_col0, #T_f9dda_row3_col1, #T_f9dda_row3_col2, #T_f9dda_row3_col3, #T_f9dda_row3_col4, #T_f9dda_row3_col6, #T_f9dda_row3_col7, #T_f9dda_row4_col0, #T_f9dda_row4_col1, #T_f9dda_row4_col2, #T_f9dda_row4_col3, #T_f9dda_row4_col4, #T_f9dda_row4_col5, #T_f9dda_row4_col6, #T_f9dda_row4_col7, #T_f9dda_row5_col0, #T_f9dda_row5_col1, #T_f9dda_row5_col2, #T_f9dda_row5_col3, #T_f9dda_row5_col4, #T_f9dda_row5_col5, #T_f9dda_row5_col6, #T_f9dda_row5_col7, #T_f9dda_row6_col0, #T_f9dda_row6_col1, #T_f9dda_row6_col2, #T_f9dda_row6_col3, #T_f9dda_row6_col4, #T_f9dda_row6_col5, #T_f9dda_row6_col6, #T_f9dda_row6_col7, #T_f9dda_row7_col0, #T_f9dda_row7_col1, #T_f9dda_row7_col2, #T_f9dda_row7_col3, #T_f9dda_row7_col4, #T_f9dda_row7_col5, #T_f9dda_row7_col6, #T_f9dda_row7_col7, #T_f9dda_row8_col0, #T_f9dda_row8_col1, #T_f9dda_row8_col2, #T_f9dda_row8_col3, #T_f9dda_row8_col4, #T_f9dda_row8_col5, #T_f9dda_row8_col6, #T_f9dda_row8_col7, #T_f9dda_row9_col0, #T_f9dda_row9_col1, #T_f9dda_row9_col2, #T_f9dda_row9_col3, #T_f9dda_row9_col4, #T_f9dda_row9_col5, #T_f9dda_row9_col6, #T_f9dda_row9_col7, #T_f9dda_row10_col0, #T_f9dda_row10_col1, #T_f9dda_row10_col2, #T_f9dda_row10_col3, #T_f9dda_row10_col4, #T_f9dda_row10_col5, #T_f9dda_row10_col6, #T_f9dda_row10_col7, #T_f9dda_row11_col0, #T_f9dda_row11_col1, #T_f9dda_row11_col2, #T_f9dda_row11_col3, #T_f9dda_row11_col4, #T_f9dda_row11_col5, #T_f9dda_row11_col6, #T_f9dda_row11_col7, #T_f9dda_row12_col0, #T_f9dda_row12_col1, #T_f9dda_row12_col2, #T_f9dda_row12_col3, #T_f9dda_row12_col4, #T_f9dda_row12_col5, #T_f9dda_row12_col6, #T_f9dda_row12_col7, #T_f9dda_row13_col0, #T_f9dda_row13_col1, #T_f9dda_row13_col2, #T_f9dda_row13_col3, #T_f9dda_row13_col4, #T_f9dda_row13_col5, #T_f9dda_row13_col6, #T_f9dda_row13_col7, #T_f9dda_row14_col0, #T_f9dda_row14_col1, #T_f9dda_row14_col2, #T_f9dda_row14_col3, #T_f9dda_row14_col4, #T_f9dda_row14_col5, #T_f9dda_row14_col6, #T_f9dda_row14_col7, #T_f9dda_row15_col0, #T_f9dda_row15_col1, #T_f9dda_row15_col2, #T_f9dda_row15_col3, #T_f9dda_row15_col4, #T_f9dda_row15_col5, #T_f9dda_row15_col6, #T_f9dda_row15_col7, #T_f9dda_row16_col0, #T_f9dda_row16_col1, #T_f9dda_row16_col2, #T_f9dda_row16_col3, #T_f9dda_row16_col4, #T_f9dda_row16_col5, #T_f9dda_row16_col6, #T_f9dda_row16_col7, #T_f9dda_row17_col0, #T_f9dda_row17_col1, #T_f9dda_row17_col2, #T_f9dda_row17_col3, #T_f9dda_row17_col4, #T_f9dda_row17_col5, #T_f9dda_row17_col6, #T_f9dda_row17_col7, #T_f9dda_row18_col0, #T_f9dda_row18_col1, #T_f9dda_row18_col2, #T_f9dda_row18_col3, #T_f9dda_row18_col4, #T_f9dda_row18_col5, #T_f9dda_row18_col6, #T_f9dda_row18_col7, #T_f9dda_row19_col0, #T_f9dda_row19_col1, #T_f9dda_row19_col2, #T_f9dda_row19_col3, #T_f9dda_row19_col4, #T_f9dda_row19_col5, #T_f9dda_row19_col6, #T_f9dda_row19_col7, #T_f9dda_row20_col0, #T_f9dda_row20_col1, #T_f9dda_row20_col2, #T_f9dda_row20_col3, #T_f9dda_row20_col4, #T_f9dda_row20_col5, #T_f9dda_row20_col6, #T_f9dda_row20_col7, #T_f9dda_row21_col0, #T_f9dda_row21_col1, #T_f9dda_row21_col2, #T_f9dda_row21_col3, #T_f9dda_row21_col4, #T_f9dda_row21_col5, #T_f9dda_row21_col6, #T_f9dda_row21_col7, #T_f9dda_row22_col0, #T_f9dda_row22_col1, #T_f9dda_row22_col2, #T_f9dda_row22_col3, #T_f9dda_row22_col4, #T_f9dda_row22_col5, #T_f9dda_row22_col6, #T_f9dda_row22_col7, #T_f9dda_row23_col0, #T_f9dda_row23_col1, #T_f9dda_row23_col2, #T_f9dda_row23_col3, #T_f9dda_row23_col4, #T_f9dda_row23_col5, #T_f9dda_row23_col6, #T_f9dda_row23_col7, #T_f9dda_row24_col0, #T_f9dda_row24_col1, #T_f9dda_row24_col2, #T_f9dda_row24_col3, #T_f9dda_row24_col4, #T_f9dda_row24_col5, #T_f9dda_row24_col6, #T_f9dda_row24_col7, #T_f9dda_row25_col0, #T_f9dda_row25_col1, #T_f9dda_row25_col2, #T_f9dda_row25_col3, #T_f9dda_row25_col4, #T_f9dda_row25_col5, #T_f9dda_row25_col6, #T_f9dda_row25_col7, #T_f9dda_row26_col0, #T_f9dda_row26_col1, #T_f9dda_row26_col2, #T_f9dda_row26_col3, #T_f9dda_row26_col4, #T_f9dda_row26_col5, #T_f9dda_row26_col6, #T_f9dda_row26_col7, #T_f9dda_row27_col0, #T_f9dda_row27_col1, #T_f9dda_row27_col2, #T_f9dda_row27_col3, #T_f9dda_row27_col4, #T_f9dda_row27_col5, #T_f9dda_row27_col6, #T_f9dda_row27_col7 {\n",
       "  text-align: left;\n",
       "}\n",
       "#T_f9dda_row0_col1, #T_f9dda_row0_col2, #T_f9dda_row0_col3, #T_f9dda_row0_col4, #T_f9dda_row1_col6, #T_f9dda_row1_col7, #T_f9dda_row3_col5 {\n",
       "  text-align: left;\n",
       "  background-color: yellow;\n",
       "}\n",
       "#T_f9dda_row0_col8, #T_f9dda_row1_col8, #T_f9dda_row2_col8, #T_f9dda_row3_col8, #T_f9dda_row4_col8, #T_f9dda_row5_col8, #T_f9dda_row6_col8, #T_f9dda_row7_col8, #T_f9dda_row8_col8, #T_f9dda_row9_col8, #T_f9dda_row10_col8, #T_f9dda_row11_col8, #T_f9dda_row12_col8, #T_f9dda_row13_col8, #T_f9dda_row14_col8, #T_f9dda_row15_col8, #T_f9dda_row16_col8, #T_f9dda_row17_col8, #T_f9dda_row18_col8, #T_f9dda_row19_col8, #T_f9dda_row20_col8, #T_f9dda_row21_col8, #T_f9dda_row23_col8, #T_f9dda_row24_col8, #T_f9dda_row25_col8, #T_f9dda_row26_col8, #T_f9dda_row27_col8 {\n",
       "  text-align: left;\n",
       "  background-color: lightgrey;\n",
       "}\n",
       "#T_f9dda_row22_col8 {\n",
       "  text-align: left;\n",
       "  background-color: yellow;\n",
       "  background-color: lightgrey;\n",
       "}\n",
       "</style>\n",
       "<table id=\"T_f9dda\">\n",
       "  <thead>\n",
       "    <tr>\n",
       "      <th class=\"blank level0\" >&nbsp;</th>\n",
       "      <th id=\"T_f9dda_level0_col0\" class=\"col_heading level0 col0\" >Model</th>\n",
       "      <th id=\"T_f9dda_level0_col1\" class=\"col_heading level0 col1\" >MASE</th>\n",
       "      <th id=\"T_f9dda_level0_col2\" class=\"col_heading level0 col2\" >RMSSE</th>\n",
       "      <th id=\"T_f9dda_level0_col3\" class=\"col_heading level0 col3\" >MAE</th>\n",
       "      <th id=\"T_f9dda_level0_col4\" class=\"col_heading level0 col4\" >RMSE</th>\n",
       "      <th id=\"T_f9dda_level0_col5\" class=\"col_heading level0 col5\" >MAPE</th>\n",
       "      <th id=\"T_f9dda_level0_col6\" class=\"col_heading level0 col6\" >SMAPE</th>\n",
       "      <th id=\"T_f9dda_level0_col7\" class=\"col_heading level0 col7\" >R2</th>\n",
       "      <th id=\"T_f9dda_level0_col8\" class=\"col_heading level0 col8\" >TT (Sec)</th>\n",
       "    </tr>\n",
       "  </thead>\n",
       "  <tbody>\n",
       "    <tr>\n",
       "      <th id=\"T_f9dda_level0_row0\" class=\"row_heading level0 row0\" >xgboost_cds_dt</th>\n",
       "      <td id=\"T_f9dda_row0_col0\" class=\"data row0 col0\" >Extreme Gradient Boosting w/ Cond. Deseasonalize & Detrending</td>\n",
       "      <td id=\"T_f9dda_row0_col1\" class=\"data row0 col1\" >0.3527</td>\n",
       "      <td id=\"T_f9dda_row0_col2\" class=\"data row0 col2\" >0.2184</td>\n",
       "      <td id=\"T_f9dda_row0_col3\" class=\"data row0 col3\" >7.9919</td>\n",
       "      <td id=\"T_f9dda_row0_col4\" class=\"data row0 col4\" >8.8604</td>\n",
       "      <td id=\"T_f9dda_row0_col5\" class=\"data row0 col5\" >0.0745</td>\n",
       "      <td id=\"T_f9dda_row0_col6\" class=\"data row0 col6\" >0.0778</td>\n",
       "      <td id=\"T_f9dda_row0_col7\" class=\"data row0 col7\" >-30.9776</td>\n",
       "      <td id=\"T_f9dda_row0_col8\" class=\"data row0 col8\" >29.6720</td>\n",
       "    </tr>\n",
       "    <tr>\n",
       "      <th id=\"T_f9dda_level0_row1\" class=\"row_heading level0 row1\" >rf_cds_dt</th>\n",
       "      <td id=\"T_f9dda_row1_col0\" class=\"data row1 col0\" >Random Forest w/ Cond. Deseasonalize & Detrending</td>\n",
       "      <td id=\"T_f9dda_row1_col1\" class=\"data row1 col1\" >0.3659</td>\n",
       "      <td id=\"T_f9dda_row1_col2\" class=\"data row1 col2\" >0.2261</td>\n",
       "      <td id=\"T_f9dda_row1_col3\" class=\"data row1 col3\" >8.2906</td>\n",
       "      <td id=\"T_f9dda_row1_col4\" class=\"data row1 col4\" >9.1740</td>\n",
       "      <td id=\"T_f9dda_row1_col5\" class=\"data row1 col5\" >0.0735</td>\n",
       "      <td id=\"T_f9dda_row1_col6\" class=\"data row1 col6\" >0.0770</td>\n",
       "      <td id=\"T_f9dda_row1_col7\" class=\"data row1 col7\" >-22.7003</td>\n",
       "      <td id=\"T_f9dda_row1_col8\" class=\"data row1 col8\" >65.7000</td>\n",
       "    </tr>\n",
       "    <tr>\n",
       "      <th id=\"T_f9dda_level0_row2\" class=\"row_heading level0 row2\" >et_cds_dt</th>\n",
       "      <td id=\"T_f9dda_row2_col0\" class=\"data row2 col0\" >Extra Trees w/ Cond. Deseasonalize & Detrending</td>\n",
       "      <td id=\"T_f9dda_row2_col1\" class=\"data row2 col1\" >0.3752</td>\n",
       "      <td id=\"T_f9dda_row2_col2\" class=\"data row2 col2\" >0.2336</td>\n",
       "      <td id=\"T_f9dda_row2_col3\" class=\"data row2 col3\" >8.5012</td>\n",
       "      <td id=\"T_f9dda_row2_col4\" class=\"data row2 col4\" >9.4756</td>\n",
       "      <td id=\"T_f9dda_row2_col5\" class=\"data row2 col5\" >0.0798</td>\n",
       "      <td id=\"T_f9dda_row2_col6\" class=\"data row2 col6\" >0.0832</td>\n",
       "      <td id=\"T_f9dda_row2_col7\" class=\"data row2 col7\" >-23.2015</td>\n",
       "      <td id=\"T_f9dda_row2_col8\" class=\"data row2 col8\" >26.8000</td>\n",
       "    </tr>\n",
       "    <tr>\n",
       "      <th id=\"T_f9dda_level0_row3\" class=\"row_heading level0 row3\" >lightgbm_cds_dt</th>\n",
       "      <td id=\"T_f9dda_row3_col0\" class=\"data row3 col0\" >Light Gradient Boosting w/ Cond. Deseasonalize & Detrending</td>\n",
       "      <td id=\"T_f9dda_row3_col1\" class=\"data row3 col1\" >0.3918</td>\n",
       "      <td id=\"T_f9dda_row3_col2\" class=\"data row3 col2\" >0.2355</td>\n",
       "      <td id=\"T_f9dda_row3_col3\" class=\"data row3 col3\" >8.8771</td>\n",
       "      <td id=\"T_f9dda_row3_col4\" class=\"data row3 col4\" >9.5547</td>\n",
       "      <td id=\"T_f9dda_row3_col5\" class=\"data row3 col5\" >0.0727</td>\n",
       "      <td id=\"T_f9dda_row3_col6\" class=\"data row3 col6\" >0.0791</td>\n",
       "      <td id=\"T_f9dda_row3_col7\" class=\"data row3 col7\" >-59.7274</td>\n",
       "      <td id=\"T_f9dda_row3_col8\" class=\"data row3 col8\" >18.9460</td>\n",
       "    </tr>\n",
       "    <tr>\n",
       "      <th id=\"T_f9dda_level0_row4\" class=\"row_heading level0 row4\" >catboost_cds_dt</th>\n",
       "      <td id=\"T_f9dda_row4_col0\" class=\"data row4 col0\" >CatBoost Regressor w/ Cond. Deseasonalize & Detrending</td>\n",
       "      <td id=\"T_f9dda_row4_col1\" class=\"data row4 col1\" >0.4043</td>\n",
       "      <td id=\"T_f9dda_row4_col2\" class=\"data row4 col2\" >0.2422</td>\n",
       "      <td id=\"T_f9dda_row4_col3\" class=\"data row4 col3\" >9.1622</td>\n",
       "      <td id=\"T_f9dda_row4_col4\" class=\"data row4 col4\" >9.8245</td>\n",
       "      <td id=\"T_f9dda_row4_col5\" class=\"data row4 col5\" >0.0814</td>\n",
       "      <td id=\"T_f9dda_row4_col6\" class=\"data row4 col6\" >0.0856</td>\n",
       "      <td id=\"T_f9dda_row4_col7\" class=\"data row4 col7\" >-49.0984</td>\n",
       "      <td id=\"T_f9dda_row4_col8\" class=\"data row4 col8\" >87.3740</td>\n",
       "    </tr>\n",
       "    <tr>\n",
       "      <th id=\"T_f9dda_level0_row5\" class=\"row_heading level0 row5\" >huber_cds_dt</th>\n",
       "      <td id=\"T_f9dda_row5_col0\" class=\"data row5 col0\" >Huber w/ Cond. Deseasonalize & Detrending</td>\n",
       "      <td id=\"T_f9dda_row5_col1\" class=\"data row5 col1\" >0.4074</td>\n",
       "      <td id=\"T_f9dda_row5_col2\" class=\"data row5 col2\" >0.2471</td>\n",
       "      <td id=\"T_f9dda_row5_col3\" class=\"data row5 col3\" >9.2309</td>\n",
       "      <td id=\"T_f9dda_row5_col4\" class=\"data row5 col4\" >10.0259</td>\n",
       "      <td id=\"T_f9dda_row5_col5\" class=\"data row5 col5\" >0.0762</td>\n",
       "      <td id=\"T_f9dda_row5_col6\" class=\"data row5 col6\" >0.0829</td>\n",
       "      <td id=\"T_f9dda_row5_col7\" class=\"data row5 col7\" >-56.8685</td>\n",
       "      <td id=\"T_f9dda_row5_col8\" class=\"data row5 col8\" >18.3120</td>\n",
       "    </tr>\n",
       "    <tr>\n",
       "      <th id=\"T_f9dda_level0_row6\" class=\"row_heading level0 row6\" >gbr_cds_dt</th>\n",
       "      <td id=\"T_f9dda_row6_col0\" class=\"data row6 col0\" >Gradient Boosting w/ Cond. Deseasonalize & Detrending</td>\n",
       "      <td id=\"T_f9dda_row6_col1\" class=\"data row6 col1\" >0.4175</td>\n",
       "      <td id=\"T_f9dda_row6_col2\" class=\"data row6 col2\" >0.2486</td>\n",
       "      <td id=\"T_f9dda_row6_col3\" class=\"data row6 col3\" >9.4617</td>\n",
       "      <td id=\"T_f9dda_row6_col4\" class=\"data row6 col4\" >10.0880</td>\n",
       "      <td id=\"T_f9dda_row6_col5\" class=\"data row6 col5\" >0.0785</td>\n",
       "      <td id=\"T_f9dda_row6_col6\" class=\"data row6 col6\" >0.0862</td>\n",
       "      <td id=\"T_f9dda_row6_col7\" class=\"data row6 col7\" >-69.8301</td>\n",
       "      <td id=\"T_f9dda_row6_col8\" class=\"data row6 col8\" >34.7220</td>\n",
       "    </tr>\n",
       "    <tr>\n",
       "      <th id=\"T_f9dda_level0_row7\" class=\"row_heading level0 row7\" >theta</th>\n",
       "      <td id=\"T_f9dda_row7_col0\" class=\"data row7 col0\" >Theta Forecaster</td>\n",
       "      <td id=\"T_f9dda_row7_col1\" class=\"data row7 col1\" >0.5177</td>\n",
       "      <td id=\"T_f9dda_row7_col2\" class=\"data row7 col2\" >0.3115</td>\n",
       "      <td id=\"T_f9dda_row7_col3\" class=\"data row7 col3\" >11.7306</td>\n",
       "      <td id=\"T_f9dda_row7_col4\" class=\"data row7 col4\" >12.6369</td>\n",
       "      <td id=\"T_f9dda_row7_col5\" class=\"data row7 col5\" >0.1062</td>\n",
       "      <td id=\"T_f9dda_row7_col6\" class=\"data row7 col6\" >0.1142</td>\n",
       "      <td id=\"T_f9dda_row7_col7\" class=\"data row7 col7\" >-65.1208</td>\n",
       "      <td id=\"T_f9dda_row7_col8\" class=\"data row7 col8\" >8.7500</td>\n",
       "    </tr>\n",
       "    <tr>\n",
       "      <th id=\"T_f9dda_level0_row8\" class=\"row_heading level0 row8\" >ridge_cds_dt</th>\n",
       "      <td id=\"T_f9dda_row8_col0\" class=\"data row8 col0\" >Ridge w/ Cond. Deseasonalize & Detrending</td>\n",
       "      <td id=\"T_f9dda_row8_col1\" class=\"data row8 col1\" >0.5238</td>\n",
       "      <td id=\"T_f9dda_row8_col2\" class=\"data row8 col2\" >0.3103</td>\n",
       "      <td id=\"T_f9dda_row8_col3\" class=\"data row8 col3\" >11.8695</td>\n",
       "      <td id=\"T_f9dda_row8_col4\" class=\"data row8 col4\" >12.5896</td>\n",
       "      <td id=\"T_f9dda_row8_col5\" class=\"data row8 col5\" >0.0985</td>\n",
       "      <td id=\"T_f9dda_row8_col6\" class=\"data row8 col6\" >0.1079</td>\n",
       "      <td id=\"T_f9dda_row8_col7\" class=\"data row8 col7\" >-84.0738</td>\n",
       "      <td id=\"T_f9dda_row8_col8\" class=\"data row8 col8\" >18.3740</td>\n",
       "    </tr>\n",
       "    <tr>\n",
       "      <th id=\"T_f9dda_level0_row9\" class=\"row_heading level0 row9\" >lar_cds_dt</th>\n",
       "      <td id=\"T_f9dda_row9_col0\" class=\"data row9 col0\" >Least Angular Regressor w/ Cond. Deseasonalize & Detrending</td>\n",
       "      <td id=\"T_f9dda_row9_col1\" class=\"data row9 col1\" >0.5238</td>\n",
       "      <td id=\"T_f9dda_row9_col2\" class=\"data row9 col2\" >0.3103</td>\n",
       "      <td id=\"T_f9dda_row9_col3\" class=\"data row9 col3\" >11.8695</td>\n",
       "      <td id=\"T_f9dda_row9_col4\" class=\"data row9 col4\" >12.5896</td>\n",
       "      <td id=\"T_f9dda_row9_col5\" class=\"data row9 col5\" >0.0985</td>\n",
       "      <td id=\"T_f9dda_row9_col6\" class=\"data row9 col6\" >0.1079</td>\n",
       "      <td id=\"T_f9dda_row9_col7\" class=\"data row9 col7\" >-84.0738</td>\n",
       "      <td id=\"T_f9dda_row9_col8\" class=\"data row9 col8\" >17.9380</td>\n",
       "    </tr>\n",
       "    <tr>\n",
       "      <th id=\"T_f9dda_level0_row10\" class=\"row_heading level0 row10\" >lr_cds_dt</th>\n",
       "      <td id=\"T_f9dda_row10_col0\" class=\"data row10 col0\" >Linear w/ Cond. Deseasonalize & Detrending</td>\n",
       "      <td id=\"T_f9dda_row10_col1\" class=\"data row10 col1\" >0.5238</td>\n",
       "      <td id=\"T_f9dda_row10_col2\" class=\"data row10 col2\" >0.3103</td>\n",
       "      <td id=\"T_f9dda_row10_col3\" class=\"data row10 col3\" >11.8695</td>\n",
       "      <td id=\"T_f9dda_row10_col4\" class=\"data row10 col4\" >12.5896</td>\n",
       "      <td id=\"T_f9dda_row10_col5\" class=\"data row10 col5\" >0.0985</td>\n",
       "      <td id=\"T_f9dda_row10_col6\" class=\"data row10 col6\" >0.1079</td>\n",
       "      <td id=\"T_f9dda_row10_col7\" class=\"data row10 col7\" >-84.0738</td>\n",
       "      <td id=\"T_f9dda_row10_col8\" class=\"data row10 col8\" >18.6760</td>\n",
       "    </tr>\n",
       "    <tr>\n",
       "      <th id=\"T_f9dda_level0_row11\" class=\"row_heading level0 row11\" >br_cds_dt</th>\n",
       "      <td id=\"T_f9dda_row11_col0\" class=\"data row11 col0\" >Bayesian Ridge w/ Cond. Deseasonalize & Detrending</td>\n",
       "      <td id=\"T_f9dda_row11_col1\" class=\"data row11 col1\" >0.5240</td>\n",
       "      <td id=\"T_f9dda_row11_col2\" class=\"data row11 col2\" >0.3104</td>\n",
       "      <td id=\"T_f9dda_row11_col3\" class=\"data row11 col3\" >11.8737</td>\n",
       "      <td id=\"T_f9dda_row11_col4\" class=\"data row11 col4\" >12.5939</td>\n",
       "      <td id=\"T_f9dda_row11_col5\" class=\"data row11 col5\" >0.0985</td>\n",
       "      <td id=\"T_f9dda_row11_col6\" class=\"data row11 col6\" >0.1080</td>\n",
       "      <td id=\"T_f9dda_row11_col7\" class=\"data row11 col7\" >-84.1207</td>\n",
       "      <td id=\"T_f9dda_row11_col8\" class=\"data row11 col8\" >18.1360</td>\n",
       "    </tr>\n",
       "    <tr>\n",
       "      <th id=\"T_f9dda_level0_row12\" class=\"row_heading level0 row12\" >en_cds_dt</th>\n",
       "      <td id=\"T_f9dda_row12_col0\" class=\"data row12 col0\" >Elastic Net w/ Cond. Deseasonalize & Detrending</td>\n",
       "      <td id=\"T_f9dda_row12_col1\" class=\"data row12 col1\" >0.5247</td>\n",
       "      <td id=\"T_f9dda_row12_col2\" class=\"data row12 col2\" >0.3108</td>\n",
       "      <td id=\"T_f9dda_row12_col3\" class=\"data row12 col3\" >11.8905</td>\n",
       "      <td id=\"T_f9dda_row12_col4\" class=\"data row12 col4\" >12.6090</td>\n",
       "      <td id=\"T_f9dda_row12_col5\" class=\"data row12 col5\" >0.0987</td>\n",
       "      <td id=\"T_f9dda_row12_col6\" class=\"data row12 col6\" >0.1082</td>\n",
       "      <td id=\"T_f9dda_row12_col7\" class=\"data row12 col7\" >-84.3105</td>\n",
       "      <td id=\"T_f9dda_row12_col8\" class=\"data row12 col8\" >18.4360</td>\n",
       "    </tr>\n",
       "    <tr>\n",
       "      <th id=\"T_f9dda_level0_row13\" class=\"row_heading level0 row13\" >lasso_cds_dt</th>\n",
       "      <td id=\"T_f9dda_row13_col0\" class=\"data row13 col0\" >Lasso w/ Cond. Deseasonalize & Detrending</td>\n",
       "      <td id=\"T_f9dda_row13_col1\" class=\"data row13 col1\" >0.5253</td>\n",
       "      <td id=\"T_f9dda_row13_col2\" class=\"data row13 col2\" >0.3111</td>\n",
       "      <td id=\"T_f9dda_row13_col3\" class=\"data row13 col3\" >11.9030</td>\n",
       "      <td id=\"T_f9dda_row13_col4\" class=\"data row13 col4\" >12.6198</td>\n",
       "      <td id=\"T_f9dda_row13_col5\" class=\"data row13 col5\" >0.0988</td>\n",
       "      <td id=\"T_f9dda_row13_col6\" class=\"data row13 col6\" >0.1083</td>\n",
       "      <td id=\"T_f9dda_row13_col7\" class=\"data row13 col7\" >-84.4223</td>\n",
       "      <td id=\"T_f9dda_row13_col8\" class=\"data row13 col8\" >18.3100</td>\n",
       "    </tr>\n",
       "    <tr>\n",
       "      <th id=\"T_f9dda_level0_row14\" class=\"row_heading level0 row14\" >omp_cds_dt</th>\n",
       "      <td id=\"T_f9dda_row14_col0\" class=\"data row14 col0\" >Orthogonal Matching Pursuit w/ Cond. Deseasonalize & Detrending</td>\n",
       "      <td id=\"T_f9dda_row14_col1\" class=\"data row14 col1\" >0.5437</td>\n",
       "      <td id=\"T_f9dda_row14_col2\" class=\"data row14 col2\" >0.3230</td>\n",
       "      <td id=\"T_f9dda_row14_col3\" class=\"data row14 col3\" >12.3204</td>\n",
       "      <td id=\"T_f9dda_row14_col4\" class=\"data row14 col4\" >13.1031</td>\n",
       "      <td id=\"T_f9dda_row14_col5\" class=\"data row14 col5\" >0.1048</td>\n",
       "      <td id=\"T_f9dda_row14_col6\" class=\"data row14 col6\" >0.1139</td>\n",
       "      <td id=\"T_f9dda_row14_col7\" class=\"data row14 col7\" >-83.6533</td>\n",
       "      <td id=\"T_f9dda_row14_col8\" class=\"data row14 col8\" >18.0080</td>\n",
       "    </tr>\n",
       "    <tr>\n",
       "      <th id=\"T_f9dda_level0_row15\" class=\"row_heading level0 row15\" >arima</th>\n",
       "      <td id=\"T_f9dda_row15_col0\" class=\"data row15 col0\" >ARIMA</td>\n",
       "      <td id=\"T_f9dda_row15_col1\" class=\"data row15 col1\" >0.5845</td>\n",
       "      <td id=\"T_f9dda_row15_col2\" class=\"data row15 col2\" >0.3540</td>\n",
       "      <td id=\"T_f9dda_row15_col3\" class=\"data row15 col3\" >13.2452</td>\n",
       "      <td id=\"T_f9dda_row15_col4\" class=\"data row15 col4\" >14.3616</td>\n",
       "      <td id=\"T_f9dda_row15_col5\" class=\"data row15 col5\" >0.1226</td>\n",
       "      <td id=\"T_f9dda_row15_col6\" class=\"data row15 col6\" >0.1262</td>\n",
       "      <td id=\"T_f9dda_row15_col7\" class=\"data row15 col7\" >-37.0402</td>\n",
       "      <td id=\"T_f9dda_row15_col8\" class=\"data row15 col8\" >15.8740</td>\n",
       "    </tr>\n",
       "    <tr>\n",
       "      <th id=\"T_f9dda_level0_row16\" class=\"row_heading level0 row16\" >dt_cds_dt</th>\n",
       "      <td id=\"T_f9dda_row16_col0\" class=\"data row16 col0\" >Decision Tree w/ Cond. Deseasonalize & Detrending</td>\n",
       "      <td id=\"T_f9dda_row16_col1\" class=\"data row16 col1\" >0.6589</td>\n",
       "      <td id=\"T_f9dda_row16_col2\" class=\"data row16 col2\" >0.3996</td>\n",
       "      <td id=\"T_f9dda_row16_col3\" class=\"data row16 col3\" >14.9304</td>\n",
       "      <td id=\"T_f9dda_row16_col4\" class=\"data row16 col4\" >16.2117</td>\n",
       "      <td id=\"T_f9dda_row16_col5\" class=\"data row16 col5\" >0.1464</td>\n",
       "      <td id=\"T_f9dda_row16_col6\" class=\"data row16 col6\" >0.1491</td>\n",
       "      <td id=\"T_f9dda_row16_col7\" class=\"data row16 col7\" >-59.4995</td>\n",
       "      <td id=\"T_f9dda_row16_col8\" class=\"data row16 col8\" >20.9520</td>\n",
       "    </tr>\n",
       "    <tr>\n",
       "      <th id=\"T_f9dda_level0_row17\" class=\"row_heading level0 row17\" >naive</th>\n",
       "      <td id=\"T_f9dda_row17_col0\" class=\"data row17 col0\" >Naive Forecaster</td>\n",
       "      <td id=\"T_f9dda_row17_col1\" class=\"data row17 col1\" >0.6624</td>\n",
       "      <td id=\"T_f9dda_row17_col2\" class=\"data row17 col2\" >0.4031</td>\n",
       "      <td id=\"T_f9dda_row17_col3\" class=\"data row17 col3\" >15.0093</td>\n",
       "      <td id=\"T_f9dda_row17_col4\" class=\"data row17 col4\" >16.3534</td>\n",
       "      <td id=\"T_f9dda_row17_col5\" class=\"data row17 col5\" >0.1370</td>\n",
       "      <td id=\"T_f9dda_row17_col6\" class=\"data row17 col6\" >0.1491</td>\n",
       "      <td id=\"T_f9dda_row17_col7\" class=\"data row17 col7\" >-74.3484</td>\n",
       "      <td id=\"T_f9dda_row17_col8\" class=\"data row17 col8\" >7.8680</td>\n",
       "    </tr>\n",
       "    <tr>\n",
       "      <th id=\"T_f9dda_level0_row18\" class=\"row_heading level0 row18\" >knn_cds_dt</th>\n",
       "      <td id=\"T_f9dda_row18_col0\" class=\"data row18 col0\" >K Neighbors w/ Cond. Deseasonalize & Detrending</td>\n",
       "      <td id=\"T_f9dda_row18_col1\" class=\"data row18 col1\" >0.6908</td>\n",
       "      <td id=\"T_f9dda_row18_col2\" class=\"data row18 col2\" >0.4239</td>\n",
       "      <td id=\"T_f9dda_row18_col3\" class=\"data row18 col3\" >15.6533</td>\n",
       "      <td id=\"T_f9dda_row18_col4\" class=\"data row18 col4\" >17.1980</td>\n",
       "      <td id=\"T_f9dda_row18_col5\" class=\"data row18 col5\" >0.1352</td>\n",
       "      <td id=\"T_f9dda_row18_col6\" class=\"data row18 col6\" >0.1394</td>\n",
       "      <td id=\"T_f9dda_row18_col7\" class=\"data row18 col7\" >-87.2867</td>\n",
       "      <td id=\"T_f9dda_row18_col8\" class=\"data row18 col8\" >70.0760</td>\n",
       "    </tr>\n",
       "    <tr>\n",
       "      <th id=\"T_f9dda_level0_row19\" class=\"row_heading level0 row19\" >exp_smooth</th>\n",
       "      <td id=\"T_f9dda_row19_col0\" class=\"data row19 col0\" >Exponential Smoothing</td>\n",
       "      <td id=\"T_f9dda_row19_col1\" class=\"data row19 col1\" >0.8424</td>\n",
       "      <td id=\"T_f9dda_row19_col2\" class=\"data row19 col2\" >0.5065</td>\n",
       "      <td id=\"T_f9dda_row19_col3\" class=\"data row19 col3\" >19.0889</td>\n",
       "      <td id=\"T_f9dda_row19_col4\" class=\"data row19 col4\" >20.5509</td>\n",
       "      <td id=\"T_f9dda_row19_col5\" class=\"data row19 col5\" >0.1693</td>\n",
       "      <td id=\"T_f9dda_row19_col6\" class=\"data row19 col6\" >0.1788</td>\n",
       "      <td id=\"T_f9dda_row19_col7\" class=\"data row19 col7\" >-124.7016</td>\n",
       "      <td id=\"T_f9dda_row19_col8\" class=\"data row19 col8\" >9.8340</td>\n",
       "    </tr>\n",
       "    <tr>\n",
       "      <th id=\"T_f9dda_level0_row20\" class=\"row_heading level0 row20\" >par_cds_dt</th>\n",
       "      <td id=\"T_f9dda_row20_col0\" class=\"data row20 col0\" >Passive Aggressive w/ Cond. Deseasonalize & Detrending</td>\n",
       "      <td id=\"T_f9dda_row20_col1\" class=\"data row20 col1\" >0.8562</td>\n",
       "      <td id=\"T_f9dda_row20_col2\" class=\"data row20 col2\" >0.5192</td>\n",
       "      <td id=\"T_f9dda_row20_col3\" class=\"data row20 col3\" >19.4015</td>\n",
       "      <td id=\"T_f9dda_row20_col4\" class=\"data row20 col4\" >21.0627</td>\n",
       "      <td id=\"T_f9dda_row20_col5\" class=\"data row20 col5\" >0.1889</td>\n",
       "      <td id=\"T_f9dda_row20_col6\" class=\"data row20 col6\" >0.2034</td>\n",
       "      <td id=\"T_f9dda_row20_col7\" class=\"data row20 col7\" >-55.1782</td>\n",
       "      <td id=\"T_f9dda_row20_col8\" class=\"data row20 col8\" >17.9620</td>\n",
       "    </tr>\n",
       "    <tr>\n",
       "      <th id=\"T_f9dda_level0_row21\" class=\"row_heading level0 row21\" >snaive</th>\n",
       "      <td id=\"T_f9dda_row21_col0\" class=\"data row21 col0\" >Seasonal Naive Forecaster</td>\n",
       "      <td id=\"T_f9dda_row21_col1\" class=\"data row21 col1\" >0.8822</td>\n",
       "      <td id=\"T_f9dda_row21_col2\" class=\"data row21 col2\" >0.5091</td>\n",
       "      <td id=\"T_f9dda_row21_col3\" class=\"data row21 col3\" >19.9900</td>\n",
       "      <td id=\"T_f9dda_row21_col4\" class=\"data row21 col4\" >20.6526</td>\n",
       "      <td id=\"T_f9dda_row21_col5\" class=\"data row21 col5\" >0.1850</td>\n",
       "      <td id=\"T_f9dda_row21_col6\" class=\"data row21 col6\" >0.1996</td>\n",
       "      <td id=\"T_f9dda_row21_col7\" class=\"data row21 col7\" >-61.0722</td>\n",
       "      <td id=\"T_f9dda_row21_col8\" class=\"data row21 col8\" >5.8820</td>\n",
       "    </tr>\n",
       "    <tr>\n",
       "      <th id=\"T_f9dda_level0_row22\" class=\"row_heading level0 row22\" >croston</th>\n",
       "      <td id=\"T_f9dda_row22_col0\" class=\"data row22 col0\" >Croston</td>\n",
       "      <td id=\"T_f9dda_row22_col1\" class=\"data row22 col1\" >1.1986</td>\n",
       "      <td id=\"T_f9dda_row22_col2\" class=\"data row22 col2\" >0.6961</td>\n",
       "      <td id=\"T_f9dda_row22_col3\" class=\"data row22 col3\" >27.1603</td>\n",
       "      <td id=\"T_f9dda_row22_col4\" class=\"data row22 col4\" >28.2429</td>\n",
       "      <td id=\"T_f9dda_row22_col5\" class=\"data row22 col5\" >0.2434</td>\n",
       "      <td id=\"T_f9dda_row22_col6\" class=\"data row22 col6\" >0.2781</td>\n",
       "      <td id=\"T_f9dda_row22_col7\" class=\"data row22 col7\" >-266.9865</td>\n",
       "      <td id=\"T_f9dda_row22_col8\" class=\"data row22 col8\" >5.3140</td>\n",
       "    </tr>\n",
       "    <tr>\n",
       "      <th id=\"T_f9dda_level0_row23\" class=\"row_heading level0 row23\" >llar_cds_dt</th>\n",
       "      <td id=\"T_f9dda_row23_col0\" class=\"data row23 col0\" >Lasso Least Angular Regressor w/ Cond. Deseasonalize & Detrending</td>\n",
       "      <td id=\"T_f9dda_row23_col1\" class=\"data row23 col1\" >1.4154</td>\n",
       "      <td id=\"T_f9dda_row23_col2\" class=\"data row23 col2\" >0.8052</td>\n",
       "      <td id=\"T_f9dda_row23_col3\" class=\"data row23 col3\" >32.0727</td>\n",
       "      <td id=\"T_f9dda_row23_col4\" class=\"data row23 col4\" >32.6676</td>\n",
       "      <td id=\"T_f9dda_row23_col5\" class=\"data row23 col5\" >0.2668</td>\n",
       "      <td id=\"T_f9dda_row23_col6\" class=\"data row23 col6\" >0.3248</td>\n",
       "      <td id=\"T_f9dda_row23_col7\" class=\"data row23 col7\" >-284.3857</td>\n",
       "      <td id=\"T_f9dda_row23_col8\" class=\"data row23 col8\" >18.0920</td>\n",
       "    </tr>\n",
       "    <tr>\n",
       "      <th id=\"T_f9dda_level0_row24\" class=\"row_heading level0 row24\" >polytrend</th>\n",
       "      <td id=\"T_f9dda_row24_col0\" class=\"data row24 col0\" >Polynomial Trend Forecaster</td>\n",
       "      <td id=\"T_f9dda_row24_col1\" class=\"data row24 col1\" >1.6499</td>\n",
       "      <td id=\"T_f9dda_row24_col2\" class=\"data row24 col2\" >0.9476</td>\n",
       "      <td id=\"T_f9dda_row24_col3\" class=\"data row24 col3\" >37.3860</td>\n",
       "      <td id=\"T_f9dda_row24_col4\" class=\"data row24 col4\" >38.4453</td>\n",
       "      <td id=\"T_f9dda_row24_col5\" class=\"data row24 col5\" >0.3239</td>\n",
       "      <td id=\"T_f9dda_row24_col6\" class=\"data row24 col6\" >0.3954</td>\n",
       "      <td id=\"T_f9dda_row24_col7\" class=\"data row24 col7\" >-369.1277</td>\n",
       "      <td id=\"T_f9dda_row24_col8\" class=\"data row24 col8\" >5.4860</td>\n",
       "    </tr>\n",
       "    <tr>\n",
       "      <th id=\"T_f9dda_level0_row25\" class=\"row_heading level0 row25\" >ets</th>\n",
       "      <td id=\"T_f9dda_row25_col0\" class=\"data row25 col0\" >ETS</td>\n",
       "      <td id=\"T_f9dda_row25_col1\" class=\"data row25 col1\" >1.8913</td>\n",
       "      <td id=\"T_f9dda_row25_col2\" class=\"data row25 col2\" >1.0878</td>\n",
       "      <td id=\"T_f9dda_row25_col3\" class=\"data row25 col3\" >42.8572</td>\n",
       "      <td id=\"T_f9dda_row25_col4\" class=\"data row25 col4\" >44.1325</td>\n",
       "      <td id=\"T_f9dda_row25_col5\" class=\"data row25 col5\" >0.3779</td>\n",
       "      <td id=\"T_f9dda_row25_col6\" class=\"data row25 col6\" >0.4167</td>\n",
       "      <td id=\"T_f9dda_row25_col7\" class=\"data row25 col7\" >-546.8063</td>\n",
       "      <td id=\"T_f9dda_row25_col8\" class=\"data row25 col8\" >10.7260</td>\n",
       "    </tr>\n",
       "    <tr>\n",
       "      <th id=\"T_f9dda_level0_row26\" class=\"row_heading level0 row26\" >grand_means</th>\n",
       "      <td id=\"T_f9dda_row26_col0\" class=\"data row26 col0\" >Grand Means Forecaster</td>\n",
       "      <td id=\"T_f9dda_row26_col1\" class=\"data row26 col1\" >1.9361</td>\n",
       "      <td id=\"T_f9dda_row26_col2\" class=\"data row26 col2\" >1.0968</td>\n",
       "      <td id=\"T_f9dda_row26_col3\" class=\"data row26 col3\" >43.8725</td>\n",
       "      <td id=\"T_f9dda_row26_col4\" class=\"data row26 col4\" >44.4983</td>\n",
       "      <td id=\"T_f9dda_row26_col5\" class=\"data row26 col5\" >0.3717</td>\n",
       "      <td id=\"T_f9dda_row26_col6\" class=\"data row26 col6\" >0.4848</td>\n",
       "      <td id=\"T_f9dda_row26_col7\" class=\"data row26 col7\" >-499.8703</td>\n",
       "      <td id=\"T_f9dda_row26_col8\" class=\"data row26 col8\" >5.8220</td>\n",
       "    </tr>\n",
       "    <tr>\n",
       "      <th id=\"T_f9dda_level0_row27\" class=\"row_heading level0 row27\" >ada_cds_dt</th>\n",
       "      <td id=\"T_f9dda_row27_col0\" class=\"data row27 col0\" >AdaBoost w/ Cond. Deseasonalize & Detrending</td>\n",
       "      <td id=\"T_f9dda_row27_col1\" class=\"data row27 col1\" >2.1283</td>\n",
       "      <td id=\"T_f9dda_row27_col2\" class=\"data row27 col2\" >1.2191</td>\n",
       "      <td id=\"T_f9dda_row27_col3\" class=\"data row27 col3\" >48.2296</td>\n",
       "      <td id=\"T_f9dda_row27_col4\" class=\"data row27 col4\" >49.4622</td>\n",
       "      <td id=\"T_f9dda_row27_col5\" class=\"data row27 col5\" >0.5733</td>\n",
       "      <td id=\"T_f9dda_row27_col6\" class=\"data row27 col6\" >0.4089</td>\n",
       "      <td id=\"T_f9dda_row27_col7\" class=\"data row27 col7\" >-166.4735</td>\n",
       "      <td id=\"T_f9dda_row27_col8\" class=\"data row27 col8\" >20.8020</td>\n",
       "    </tr>\n",
       "  </tbody>\n",
       "</table>\n"
      ],
      "text/plain": [
       "<pandas.io.formats.style.Styler at 0x7fbb23f2fac0>"
      ]
     },
     "metadata": {},
     "output_type": "display_data"
    },
    {
     "data": {
      "text/html": [],
      "text/plain": [
       "<IPython.core.display.HTML object>"
      ]
     },
     "metadata": {},
     "output_type": "display_data"
    }
   ],
   "source": [
    "best = compare_models()"
   ]
  },
  {
   "cell_type": "code",
   "execution_count": 11,
   "id": "25cd0529-37da-43a1-883f-c02ba59bab39",
   "metadata": {
    "execution": {
     "iopub.execute_input": "2022-12-18T03:49:38.997903Z",
     "iopub.status.busy": "2022-12-18T03:49:38.996851Z",
     "iopub.status.idle": "2022-12-18T03:49:40.214813Z",
     "shell.execute_reply": "2022-12-18T03:49:40.213935Z",
     "shell.execute_reply.started": "2022-12-18T03:49:38.997849Z"
    },
    "tags": []
   },
   "outputs": [],
   "source": [
    "plot_model(best, plot = 'forecast', data_kwargs = {'fh' : 24})"
   ]
  },
  {
   "cell_type": "code",
   "execution_count": 14,
   "id": "0f72ae80-8a6c-47f5-891e-ac66e6b3d508",
   "metadata": {
    "execution": {
     "iopub.execute_input": "2022-12-18T04:04:59.467498Z",
     "iopub.status.busy": "2022-12-18T04:04:59.466967Z",
     "iopub.status.idle": "2022-12-18T04:04:59.605215Z",
     "shell.execute_reply": "2022-12-18T04:04:59.603496Z",
     "shell.execute_reply.started": "2022-12-18T04:04:59.467452Z"
    },
    "tags": []
   },
   "outputs": [
    {
     "ename": "ValueError",
     "evalue": "_CURRENT_EXPERIMENT global variable is not set. Please run setup() first.",
     "output_type": "error",
     "traceback": [
      "\u001b[0;31m---------------------------------------------------------------------------\u001b[0m",
      "\u001b[0;31mValueError\u001b[0m                                Traceback (most recent call last)",
      "Cell \u001b[0;32mIn [14], line 1\u001b[0m\n\u001b[0;32m----> 1\u001b[0m \u001b[43mplot_model\u001b[49m\u001b[43m(\u001b[49m\u001b[43mbest\u001b[49m\u001b[43m,\u001b[49m\u001b[43m \u001b[49m\u001b[43mplot\u001b[49m\u001b[43m \u001b[49m\u001b[38;5;241;43m=\u001b[39;49m\u001b[43m \u001b[49m\u001b[38;5;124;43m'\u001b[39;49m\u001b[38;5;124;43mPM2.5\u001b[39;49m\u001b[38;5;124;43m'\u001b[39;49m\u001b[43m)\u001b[49m\n",
      "File \u001b[0;32m~/.local/lib/python3.10/site-packages/pycaret/utils/generic.py:949\u001b[0m, in \u001b[0;36mcheck_if_global_is_not_none.<locals>.decorator.<locals>.wrapper\u001b[0;34m(*args, **kwargs)\u001b[0m\n\u001b[1;32m    947\u001b[0m \u001b[38;5;28;01mfor\u001b[39;00m name, message \u001b[38;5;129;01min\u001b[39;00m global_names\u001b[38;5;241m.\u001b[39mitems():\n\u001b[1;32m    948\u001b[0m     \u001b[38;5;28;01mif\u001b[39;00m globals_d[name] \u001b[38;5;129;01mis\u001b[39;00m \u001b[38;5;28;01mNone\u001b[39;00m:\n\u001b[0;32m--> 949\u001b[0m         \u001b[38;5;28;01mraise\u001b[39;00m \u001b[38;5;167;01mValueError\u001b[39;00m(message)\n\u001b[1;32m    950\u001b[0m \u001b[38;5;28;01mreturn\u001b[39;00m func(\u001b[38;5;241m*\u001b[39margs, \u001b[38;5;241m*\u001b[39m\u001b[38;5;241m*\u001b[39mkwargs)\n",
      "\u001b[0;31mValueError\u001b[0m: _CURRENT_EXPERIMENT global variable is not set. Please run setup() first."
     ]
    }
   ],
   "source": [
    "plot_model(best, plot = 'PM2.5')"
   ]
  },
  {
   "cell_type": "code",
   "execution_count": 15,
   "id": "1b8c05d0-9064-4eb0-b61c-394bcfef3e6d",
   "metadata": {
    "execution": {
     "iopub.execute_input": "2022-12-18T04:05:57.278330Z",
     "iopub.status.busy": "2022-12-18T04:05:57.247260Z",
     "iopub.status.idle": "2022-12-18T04:05:57.713813Z",
     "shell.execute_reply": "2022-12-18T04:05:57.709429Z",
     "shell.execute_reply.started": "2022-12-18T04:05:57.277526Z"
    }
   },
   "outputs": [
    {
     "ename": "ValueError",
     "evalue": "_CURRENT_EXPERIMENT global variable is not set. Please run setup() first.",
     "output_type": "error",
     "traceback": [
      "\u001b[0;31m---------------------------------------------------------------------------\u001b[0m",
      "\u001b[0;31mValueError\u001b[0m                                Traceback (most recent call last)",
      "Cell \u001b[0;32mIn [15], line 1\u001b[0m\n\u001b[0;32m----> 1\u001b[0m \u001b[43mplot_model\u001b[49m\u001b[43m(\u001b[49m\u001b[43mbest\u001b[49m\u001b[43m,\u001b[49m\u001b[43m \u001b[49m\u001b[43mplot\u001b[49m\u001b[43m \u001b[49m\u001b[38;5;241;43m=\u001b[39;49m\u001b[43m \u001b[49m\u001b[38;5;124;43m'\u001b[39;49m\u001b[38;5;124;43mforecast\u001b[39;49m\u001b[38;5;124;43m'\u001b[39;49m\u001b[43m,\u001b[49m\u001b[43m \u001b[49m\u001b[43mdata_kwargs\u001b[49m\u001b[43m \u001b[49m\u001b[38;5;241;43m=\u001b[39;49m\u001b[43m \u001b[49m\u001b[43m{\u001b[49m\u001b[38;5;124;43m'\u001b[39;49m\u001b[38;5;124;43mfh\u001b[39;49m\u001b[38;5;124;43m'\u001b[39;49m\u001b[43m \u001b[49m\u001b[43m:\u001b[49m\u001b[43m \u001b[49m\u001b[38;5;241;43m24\u001b[39;49m\u001b[43m}\u001b[49m\u001b[43m)\u001b[49m\n",
      "File \u001b[0;32m~/.local/lib/python3.10/site-packages/pycaret/utils/generic.py:949\u001b[0m, in \u001b[0;36mcheck_if_global_is_not_none.<locals>.decorator.<locals>.wrapper\u001b[0;34m(*args, **kwargs)\u001b[0m\n\u001b[1;32m    947\u001b[0m \u001b[38;5;28;01mfor\u001b[39;00m name, message \u001b[38;5;129;01min\u001b[39;00m global_names\u001b[38;5;241m.\u001b[39mitems():\n\u001b[1;32m    948\u001b[0m     \u001b[38;5;28;01mif\u001b[39;00m globals_d[name] \u001b[38;5;129;01mis\u001b[39;00m \u001b[38;5;28;01mNone\u001b[39;00m:\n\u001b[0;32m--> 949\u001b[0m         \u001b[38;5;28;01mraise\u001b[39;00m \u001b[38;5;167;01mValueError\u001b[39;00m(message)\n\u001b[1;32m    950\u001b[0m \u001b[38;5;28;01mreturn\u001b[39;00m func(\u001b[38;5;241m*\u001b[39margs, \u001b[38;5;241m*\u001b[39m\u001b[38;5;241m*\u001b[39mkwargs)\n",
      "\u001b[0;31mValueError\u001b[0m: _CURRENT_EXPERIMENT global variable is not set. Please run setup() first."
     ]
    }
   ],
   "source": [
    "plot_model(best, plot = 'forecast', data_kwargs = {'fh' : 24})"
   ]
  },
  {
   "cell_type": "code",
   "execution_count": null,
   "id": "91ed03f5-b7a6-445e-b16a-498280348465",
   "metadata": {},
   "outputs": [],
   "source": []
  }
 ],
 "metadata": {
  "kernelspec": {
   "display_name": "Python 3 (ipykernel)",
   "language": "python",
   "name": "python3"
  },
  "language_info": {
   "codemirror_mode": {
    "name": "ipython",
    "version": 3
   },
   "file_extension": ".py",
   "mimetype": "text/x-python",
   "name": "python",
   "nbconvert_exporter": "python",
   "pygments_lexer": "ipython3",
   "version": "3.10.8"
  },
  "widgets": {
   "application/vnd.jupyter.widget-state+json": {
    "state": {
     "1ad8cca885d3438e8833787bd5abd580": {
      "model_module": "@jupyter-widgets/base",
      "model_module_version": "2.0.0",
      "model_name": "LayoutModel",
      "state": {}
     },
     "2628c395998d43a38cc0cccf42f25cf4": {
      "model_module": "@jupyter-widgets/controls",
      "model_module_version": "2.0.0",
      "model_name": "FloatProgressModel",
      "state": {
       "bar_style": "danger",
       "layout": "IPY_MODEL_ca98471a912d4ce1a71394756425fb2f",
       "max": 125,
       "style": "IPY_MODEL_598ba414cc0d47308e69088c4592ff5a",
       "value": 121
      }
     },
     "598ba414cc0d47308e69088c4592ff5a": {
      "model_module": "@jupyter-widgets/controls",
      "model_module_version": "2.0.0",
      "model_name": "ProgressStyleModel",
      "state": {
       "description_width": ""
      }
     },
     "5e3fa2c5631f4c988e61813876ef57f6": {
      "model_module": "@jupyter-widgets/base",
      "model_module_version": "2.0.0",
      "model_name": "LayoutModel",
      "state": {}
     },
     "6826a0a1a9c34f9594231875b387ed1d": {
      "model_module": "@jupyter-widgets/controls",
      "model_module_version": "2.0.0",
      "model_name": "HTMLStyleModel",
      "state": {
       "description_width": "",
       "font_size": null,
       "text_color": null
      }
     },
     "69419104349f4b5d9d620ea96b9631a8": {
      "model_module": "@jupyter-widgets/controls",
      "model_module_version": "2.0.0",
      "model_name": "HTMLStyleModel",
      "state": {
       "description_width": "",
       "font_size": null,
       "text_color": null
      }
     },
     "7a2330a8bd3d48269367f4051e17aef0": {
      "model_module": "@jupyter-widgets/controls",
      "model_module_version": "2.0.0",
      "model_name": "HTMLModel",
      "state": {
       "layout": "IPY_MODEL_1ad8cca885d3438e8833787bd5abd580",
       "style": "IPY_MODEL_6826a0a1a9c34f9594231875b387ed1d",
       "value": "Processing:  97%"
      }
     },
     "9aa77d5bad924300811c59b3502017ce": {
      "model_module": "@jupyter-widgets/base",
      "model_module_version": "2.0.0",
      "model_name": "LayoutModel",
      "state": {}
     },
     "c4900d8960644c13bddffc3c10abe491": {
      "model_module": "@jupyter-widgets/controls",
      "model_module_version": "2.0.0",
      "model_name": "HTMLModel",
      "state": {
       "layout": "IPY_MODEL_9aa77d5bad924300811c59b3502017ce",
       "style": "IPY_MODEL_69419104349f4b5d9d620ea96b9631a8",
       "value": " 121/125 [1:16:26&lt;03:06, 46.63s/it]"
      }
     },
     "ca98471a912d4ce1a71394756425fb2f": {
      "model_module": "@jupyter-widgets/base",
      "model_module_version": "2.0.0",
      "model_name": "LayoutModel",
      "state": {}
     }
    },
    "version_major": 2,
    "version_minor": 0
   }
  }
 },
 "nbformat": 4,
 "nbformat_minor": 5
}
