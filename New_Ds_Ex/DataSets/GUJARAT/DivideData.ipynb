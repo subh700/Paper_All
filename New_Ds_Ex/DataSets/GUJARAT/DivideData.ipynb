{
 "cells": [
  {
   "cell_type": "code",
   "execution_count": null,
   "metadata": {
    "id": "WpH4O0gTO4Gl"
   },
   "outputs": [],
   "source": [
    "def DivideData(df):\n",
    "\n",
    "  TotalLength=len(df)\n",
    "  print(\"Total Size of DataFrame \"+str(TotalLength))\n",
    "  ChunkSize=int((0.1*TotalLength))\n",
    "  print(\"Chunk Size of Dataframe \"+str(ChunkSize))\n",
    "  X_train1=df.iloc[0*ChunkSize:1*ChunkSize,0:1]\n",
    "  X_train2=df.iloc[1*ChunkSize:2*ChunkSize,0:1]\n",
    "  X_train3=df.iloc[2*ChunkSize:3*ChunkSize,0:1]\n",
    "  X_train4=df.iloc[3*ChunkSize:4*ChunkSize,0:1]\n",
    "  X_train5=df.iloc[4*ChunkSize:5*ChunkSize,0:1]\n",
    "  X_train6=df.iloc[5*ChunkSize:6*ChunkSize,0:1]\n",
    "  X_train7=df.iloc[6*ChunkSize:7*ChunkSize,0:1]\n",
    "  X_train8=df.iloc[7*ChunkSize:8*ChunkSize,0:1]\n",
    "  X_train9=df.iloc[8*ChunkSize:9*ChunkSize,0:1]\n",
    "  X_train10=df.iloc[9*ChunkSize:10*ChunkSize,0:1]\n",
    "\n",
    "  X_test1=X_train1.copy()\n",
    "  X_test2=X_train2.copy()\n",
    "  X_test3=X_train3.copy()\n",
    "  X_test4=X_train4.copy()\n",
    "  X_test5=X_train5.copy()\n",
    "  X_test6=X_train6.copy()\n",
    "  X_test7=X_train7.copy()\n",
    "  X_test8=X_train8.copy()\n",
    "  X_test9=X_train9.copy()\n",
    "  X_test10=X_train10.copy()\n",
    "\n",
    " \n",
    "  X_train1.iloc[:, 0:1] = np.nan\n",
    "  X_train2.iloc[:, 0:1] = np.nan\n",
    "  X_train3.iloc[:, 0:1] = np.nan\n",
    "  X_train4.iloc[:, 0:1] = np.nan\n",
    "  X_train5.iloc[:, 0:1] = np.nan\n",
    "  X_train6.iloc[:, 0:1] = np.nan\n",
    "  X_train7.iloc[:, 0:1] = np.nan\n",
    "  X_train8.iloc[:, 0:1] = np.nan\n",
    "  X_train9.iloc[:, 0:1] = np.nan\n",
    "  X_train10.iloc[:, 0:1] = np.nan\n",
    "\n",
    "  DF1=pd.concat([X_train1, X_test2, X_test3, X_test4, X_test5, X_test6, X_test7, X_test8, X_test9, X_test10])\n",
    "  DF2=pd.concat([X_test1, X_train2, X_test3, X_test4, X_test5, X_test6, X_test7, X_test8, X_test9, X_test10])\n",
    "  DF3=pd.concat([X_test1, X_test2, X_train3, X_test4, X_test5, X_test6, X_test7, X_test8, X_test9, X_test10])\n",
    "  DF4=pd.concat([X_test1, X_test2, X_test3, X_train4, X_test5, X_test6, X_test7, X_test8, X_test9, X_test10])\n",
    "  DF5=pd.concat([X_test1, X_test2, X_test3, X_test4, X_train5, X_test6, X_test7, X_test8, X_test9, X_test10])\n",
    "  DF6=pd.concat([X_test1, X_test2, X_test3, X_test4, X_test5, X_train6, X_test7, X_test8, X_test9, X_test10])\n",
    "  DF7=pd.concat([X_test1, X_test2, X_test3, X_test4, X_test5, X_test6, X_train7, X_test8, X_test9, X_test10])\n",
    "  DF8=pd.concat([X_test1, X_test2, X_test3, X_test4, X_test5, X_test6, X_test7, X_train8, X_test9, X_test10])\n",
    "  DF9=pd.concat([X_test1, X_test2, X_test3, X_test4, X_test5, X_test6, X_test7, X_test8, X_train9, X_test10])\n",
    "  DF10=pd.concat([X_test1, X_test2, X_test3, X_test4, X_test5, X_test6, X_test7, X_test8, X_test9, X_train10])\n",
    "\n",
    "  return DF1, DF2, DF3, DF4, DF5, DF6, DF7, DF8, DF9, DF10, X_test1, X_test2, X_test3, X_test4, X_test5, X_test6, X_test7, X_test8, X_test9, X_test10\n",
    "    \n"
   ]
  }
 ],
 "metadata": {
  "colab": {
   "authorship_tag": "ABX9TyOgVPv/CJmXb67scIlknb6c",
   "provenance": []
  },
  "kernelspec": {
   "display_name": "Python 3 (ipykernel)",
   "language": "python",
   "name": "python3"
  },
  "language_info": {
   "codemirror_mode": {
    "name": "ipython",
    "version": 3
   },
   "file_extension": ".py",
   "mimetype": "text/x-python",
   "name": "python",
   "nbconvert_exporter": "python",
   "pygments_lexer": "ipython3",
   "version": "3.10.8"
  },
  "widgets": {
   "application/vnd.jupyter.widget-state+json": {
    "state": {},
    "version_major": 2,
    "version_minor": 0
   }
  }
 },
 "nbformat": 4,
 "nbformat_minor": 4
}
