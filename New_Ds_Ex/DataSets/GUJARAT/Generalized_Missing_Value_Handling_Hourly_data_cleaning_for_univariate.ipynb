{
 "cells": [
  {
   "cell_type": "code",
   "execution_count": 1,
   "id": "cffdd4c2-9f3e-487a-84fd-0b4d63dd5c1f",
   "metadata": {
    "colab": {
     "background_save": true
    },
    "executionInfo": {
     "elapsed": 21,
     "status": "aborted",
     "timestamp": 1670588294545,
     "user": {
      "displayName": "Abhijeet Kumar",
      "userId": "18174877903277820406"
     },
     "user_tz": -330
    },
    "id": "cffdd4c2-9f3e-487a-84fd-0b4d63dd5c1f",
    "outputId": "355c9424-4fa1-42ef-b3b0-df6605af73b6"
   },
   "outputs": [
    {
     "name": "stdout",
     "output_type": "stream",
     "text": [
      "Defaulting to user installation because normal site-packages is not writeable\n",
      "Requirement already satisfied: pandasql in /home/subham/.local/lib/python3.10/site-packages (0.7.3)\n",
      "Requirement already satisfied: sqlalchemy in /usr/local/lib/python3.10/dist-packages (from pandasql) (1.4.44)\n",
      "Requirement already satisfied: pandas in /home/subham/.local/lib/python3.10/site-packages (from pandasql) (1.4.4)\n",
      "Requirement already satisfied: numpy in /home/subham/.local/lib/python3.10/site-packages (from pandasql) (1.22.4)\n",
      "Requirement already satisfied: python-dateutil>=2.8.1 in /home/subham/.local/lib/python3.10/site-packages (from pandas->pandasql) (2.8.2)\n",
      "Requirement already satisfied: pytz>=2020.1 in /home/subham/.local/lib/python3.10/site-packages (from pandas->pandasql) (2022.6)\n",
      "Requirement already satisfied: greenlet!=0.4.17 in /usr/local/lib/python3.10/dist-packages (from sqlalchemy->pandasql) (2.0.1)\n",
      "Requirement already satisfied: six>=1.5 in /usr/lib/python3/dist-packages (from python-dateutil>=2.8.1->pandas->pandasql) (1.16.0)\n"
     ]
    }
   ],
   "source": [
    "import pandas as pd\n",
    "import numpy as np\n",
    "import time\n",
    "!pip install pandasql\n",
    "import pandasql as ps\n",
    "import matplotlib as mpl\n",
    "import matplotlib.pyplot as plt\n",
    "from pandasql import sqldf\n",
    "pysqldf = lambda q: sqldf(q, globals()) \n",
    "from sklearn.metrics import mean_squared_error\n",
    "from statsmodels.tsa.arima_model import ARIMA"
   ]
  },
  {
   "cell_type": "code",
   "execution_count": 3,
   "id": "f881e9e5-f798-4eb8-8495-285d0703e042",
   "metadata": {
    "colab": {
     "base_uri": "https://localhost:8080/"
    },
    "executionInfo": {
     "elapsed": 25398,
     "status": "ok",
     "timestamp": 1670578291615,
     "user": {
      "displayName": "Abhijeet Kumar",
      "userId": "18174877903277820406"
     },
     "user_tz": -330
    },
    "id": "f881e9e5-f798-4eb8-8495-285d0703e042",
    "outputId": "44a759e8-05db-4679-85d4-9b89a709eeab"
   },
   "outputs": [
    {
     "name": "stderr",
     "output_type": "stream",
     "text": [
      "/tmp/ipykernel_5338/1083768975.py:33: SettingWithCopyWarning: \n",
      "A value is trying to be set on a copy of a slice from a DataFrame\n",
      "\n",
      "See the caveats in the documentation: https://pandas.pydata.org/pandas-docs/stable/user_guide/indexing.html#returning-a-view-versus-a-copy\n",
      "  df.PM[df.PM == 'None'] = 0\n",
      "/tmp/ipykernel_5338/1083768975.py:34: SettingWithCopyWarning: \n",
      "A value is trying to be set on a copy of a slice from a DataFrame\n",
      "\n",
      "See the caveats in the documentation: https://pandas.pydata.org/pandas-docs/stable/user_guide/indexing.html#returning-a-view-versus-a-copy\n",
      "  df.replace(0, np.NaN,inplace=True)\n"
     ]
    }
   ],
   "source": [
    "df=pd.read_excel('ANKLESHWAR/H_Ankl_1_2_19-3_12_22-*41* (copy).xlsx',usecols={'CENTRAL POLLUTION CONTROL BOARD','Unnamed: 2'}) #read excel spacfioc colume and import\n",
    "N=1+15\n",
    "df.drop(index=df.index[:N], axis=0, inplace=True) # Drop row through N    (axis = o)=row\n",
    "d = df.rename(columns={'CENTRAL POLLUTION CONTROL BOARD':'Date','Unnamed: 2':'PM'}) # Colume ReName \n",
    "d['DD'] = d['Date'].str.split('-').str[0]   \n",
    "d['MM'] = d['Date'].str.split('-').str[1]\n",
    "d['YYYY'] = d['Date'].str.split('-').str[2]\n",
    "d['YYYY'] = d['YYYY'].map(lambda x: str(x)[:-6])\n",
    "d['Hour'] = d['Date'].str.split(' ').str[1]\n",
    "d['DATE']=d['YYYY']+'-'+d['MM']+'-'+d['DD']+' '+d['Hour']\n",
    "d['DATE']= pd.to_datetime(d['DATE'])\n",
    "d=d.drop(['Date','YYYY','DD','MM','Hour'],axis=1)\n",
    "d['row_num']=np.arange(len(d))\n",
    "q=\"\"\"SELECT row_num from d where PM is null limit 1\"\"\"    #sql query ########################Changes####################\n",
    "df1=ps.sqldf(q, locals())\n",
    "a=df1.values.flatten()\n",
    "b=(a[0])\n",
    "b\n",
    "d=d.iloc[:b,:] \n",
    "d['PM']=d['PM'].replace(0,'None')\n",
    "#q=\"\"\"SELECT row_num from d where PM is null limit 1\"\"\"    #sql query\n",
    "q=\"\"\"SELECT row_num from d where PM <>'None' limit 1\"\"\"    #sql query ########################Changes####################\n",
    "df1=ps.sqldf(q, locals())\n",
    "a=df1.values.flatten()\n",
    "b=(a[0])\n",
    "b\n",
    "q=\"\"\"SELECT row_num from d where PM <>'None' order by row_num desc limit 1\"\"\" \n",
    "dl2=ps.sqldf(q, locals())\n",
    "a=dl2.values.flatten()\n",
    "e=(a[0])\n",
    "e\n",
    "df=d.iloc[b:e,:] \n",
    "df.PM[df.PM == 'None'] = 0\n",
    "df.replace(0, np.NaN,inplace=True)"
   ]
  },
  {
   "cell_type": "code",
   "execution_count": 4,
   "id": "69080d27-a8fe-49c5-b482-28a0398f61b7",
   "metadata": {
    "id": "69080d27-a8fe-49c5-b482-28a0398f61b7"
   },
   "outputs": [],
   "source": [
    "#df.replace('None', np.NaN,inplace=True)\n",
    "#df[df['PM']== 'None']['PM'] = 0"
   ]
  },
  {
   "cell_type": "code",
   "execution_count": 5,
   "id": "c2354cb9-35e0-4de2-b2a6-8615a56dadf1",
   "metadata": {
    "colab": {
     "base_uri": "https://localhost:8080/",
     "height": 424
    },
    "executionInfo": {
     "elapsed": 618,
     "status": "ok",
     "timestamp": 1670574212039,
     "user": {
      "displayName": "Abhijeet Kumar",
      "userId": "18174877903277820406"
     },
     "user_tz": -330
    },
    "id": "c2354cb9-35e0-4de2-b2a6-8615a56dadf1",
    "outputId": "326ebdf6-07aa-4a42-f03a-6d2cf26c9e73"
   },
   "outputs": [
    {
     "data": {
      "text/html": [
       "<div>\n",
       "<style scoped>\n",
       "    .dataframe tbody tr th:only-of-type {\n",
       "        vertical-align: middle;\n",
       "    }\n",
       "\n",
       "    .dataframe tbody tr th {\n",
       "        vertical-align: top;\n",
       "    }\n",
       "\n",
       "    .dataframe thead th {\n",
       "        text-align: right;\n",
       "    }\n",
       "</style>\n",
       "<table border=\"1\" class=\"dataframe\">\n",
       "  <thead>\n",
       "    <tr style=\"text-align: right;\">\n",
       "      <th></th>\n",
       "      <th>PM</th>\n",
       "      <th>DATE</th>\n",
       "      <th>row_num</th>\n",
       "    </tr>\n",
       "  </thead>\n",
       "  <tbody>\n",
       "    <tr>\n",
       "      <th>106</th>\n",
       "      <td>70.52</td>\n",
       "      <td>2019-02-04 18:00:00</td>\n",
       "      <td>90</td>\n",
       "    </tr>\n",
       "    <tr>\n",
       "      <th>107</th>\n",
       "      <td>61.39</td>\n",
       "      <td>2019-02-04 19:00:00</td>\n",
       "      <td>91</td>\n",
       "    </tr>\n",
       "    <tr>\n",
       "      <th>108</th>\n",
       "      <td>59.94</td>\n",
       "      <td>2019-02-04 20:00:00</td>\n",
       "      <td>92</td>\n",
       "    </tr>\n",
       "    <tr>\n",
       "      <th>109</th>\n",
       "      <td>76.44</td>\n",
       "      <td>2019-02-04 21:00:00</td>\n",
       "      <td>93</td>\n",
       "    </tr>\n",
       "    <tr>\n",
       "      <th>110</th>\n",
       "      <td>98.54</td>\n",
       "      <td>2019-02-04 22:00:00</td>\n",
       "      <td>94</td>\n",
       "    </tr>\n",
       "    <tr>\n",
       "      <th>...</th>\n",
       "      <td>...</td>\n",
       "      <td>...</td>\n",
       "      <td>...</td>\n",
       "    </tr>\n",
       "    <tr>\n",
       "      <th>33636</th>\n",
       "      <td>120.98</td>\n",
       "      <td>2022-12-02 20:00:00</td>\n",
       "      <td>33620</td>\n",
       "    </tr>\n",
       "    <tr>\n",
       "      <th>33637</th>\n",
       "      <td>115.37</td>\n",
       "      <td>2022-12-02 21:00:00</td>\n",
       "      <td>33621</td>\n",
       "    </tr>\n",
       "    <tr>\n",
       "      <th>33638</th>\n",
       "      <td>104.06</td>\n",
       "      <td>2022-12-02 22:00:00</td>\n",
       "      <td>33622</td>\n",
       "    </tr>\n",
       "    <tr>\n",
       "      <th>33639</th>\n",
       "      <td>110.59</td>\n",
       "      <td>2022-12-02 23:00:00</td>\n",
       "      <td>33623</td>\n",
       "    </tr>\n",
       "    <tr>\n",
       "      <th>33640</th>\n",
       "      <td>122.87</td>\n",
       "      <td>2022-12-03 00:00:00</td>\n",
       "      <td>33624</td>\n",
       "    </tr>\n",
       "  </tbody>\n",
       "</table>\n",
       "<p>33535 rows × 3 columns</p>\n",
       "</div>"
      ],
      "text/plain": [
       "           PM                DATE  row_num\n",
       "106     70.52 2019-02-04 18:00:00       90\n",
       "107     61.39 2019-02-04 19:00:00       91\n",
       "108     59.94 2019-02-04 20:00:00       92\n",
       "109     76.44 2019-02-04 21:00:00       93\n",
       "110     98.54 2019-02-04 22:00:00       94\n",
       "...       ...                 ...      ...\n",
       "33636  120.98 2022-12-02 20:00:00    33620\n",
       "33637  115.37 2022-12-02 21:00:00    33621\n",
       "33638  104.06 2022-12-02 22:00:00    33622\n",
       "33639  110.59 2022-12-02 23:00:00    33623\n",
       "33640  122.87 2022-12-03 00:00:00    33624\n",
       "\n",
       "[33535 rows x 3 columns]"
      ]
     },
     "execution_count": 5,
     "metadata": {},
     "output_type": "execute_result"
    }
   ],
   "source": [
    "df.isna().sum()\n",
    "df.isnull().sum()\n",
    "df"
   ]
  },
  {
   "cell_type": "code",
   "execution_count": 9,
   "id": "lh_a_JXUWYRH",
   "metadata": {
    "id": "lh_a_JXUWYRH"
   },
   "outputs": [],
   "source": [
    "'''\n",
    "q=\"\"\"SELECT PM, DATE from df where  row_num < 11869 \"\"\" \n",
    "dl2=ps.sqldf(q, locals())\n",
    "\n",
    "q=\"\"\"SELECT PM, DATE from df where  row_num > 12979 \"\"\" \n",
    "dl3=ps.sqldf(q, locals())\n",
    "dl3\n",
    "\n",
    "q=\"\"\"SELECT PM, DATE from df where  row_num > 11869 and row_num<12979\"\"\" \n",
    "dl4=ps.sqldf(q, locals());\n",
    "''';"
   ]
  },
  {
   "cell_type": "code",
   "execution_count": 10,
   "id": "6c3932ae-dbd8-4b8b-ae49-25aae1094c6c",
   "metadata": {
    "id": "6c3932ae-dbd8-4b8b-ae49-25aae1094c6c"
   },
   "outputs": [],
   "source": [
    "#df['ffill']=df['PM'].fillna(method='ffill')\n",
    "#df['bfill']=df['PM'].fillna(method='bfill')"
   ]
  },
  {
   "cell_type": "code",
   "execution_count": 11,
   "id": "61b3d082-6c51-4ad9-a279-c7efcb67762b",
   "metadata": {
    "id": "61b3d082-6c51-4ad9-a279-c7efcb67762b"
   },
   "outputs": [],
   "source": [
    "#df['final']=((df['ffill']+df['bfill'])/2)"
   ]
  },
  {
   "cell_type": "code",
   "execution_count": 12,
   "id": "7ceadc52-772b-4621-bf89-63f668de9313",
   "metadata": {
    "id": "7ceadc52-772b-4621-bf89-63f668de9313"
   },
   "outputs": [],
   "source": [
    "#df.to_csv('Final.csv')"
   ]
  },
  {
   "cell_type": "code",
   "execution_count": 13,
   "id": "ed1ce288-9e86-4269-bf70-8d4e7dec51ee",
   "metadata": {
    "id": "ed1ce288-9e86-4269-bf70-8d4e7dec51ee"
   },
   "outputs": [],
   "source": [
    "#df[['PM','final']].plot()"
   ]
  },
  {
   "cell_type": "code",
   "execution_count": 14,
   "id": "n8VXBzeer1-M",
   "metadata": {
    "id": "n8VXBzeer1-M"
   },
   "outputs": [],
   "source": [
    "#y_pred=df['final'].tolist()\n",
    "#y_true=df['final'].tolist()\n",
    "#mean_squared_error(y_true, y_pred)**0.5"
   ]
  },
  {
   "cell_type": "code",
   "execution_count": 15,
   "id": "e17135fe-40e9-4180-8ed4-6a7b95d2f1e3",
   "metadata": {
    "id": "e17135fe-40e9-4180-8ed4-6a7b95d2f1e3"
   },
   "outputs": [],
   "source": [
    "from sklearn.linear_model import LinearRegression"
   ]
  },
  {
   "cell_type": "code",
   "execution_count": 16,
   "id": "RMCI23EVrQkC",
   "metadata": {
    "colab": {
     "base_uri": "https://localhost:8080/",
     "height": 235
    },
    "executionInfo": {
     "elapsed": 23,
     "status": "error",
     "timestamp": 1670588294539,
     "user": {
      "displayName": "Abhijeet Kumar",
      "userId": "18174877903277820406"
     },
     "user_tz": -330
    },
    "id": "RMCI23EVrQkC",
    "outputId": "033c450b-6c62-488a-b624-147ecb02b2e3"
   },
   "outputs": [
    {
     "data": {
      "text/html": [
       "<div>\n",
       "<style scoped>\n",
       "    .dataframe tbody tr th:only-of-type {\n",
       "        vertical-align: middle;\n",
       "    }\n",
       "\n",
       "    .dataframe tbody tr th {\n",
       "        vertical-align: top;\n",
       "    }\n",
       "\n",
       "    .dataframe thead th {\n",
       "        text-align: right;\n",
       "    }\n",
       "</style>\n",
       "<table border=\"1\" class=\"dataframe\">\n",
       "  <thead>\n",
       "    <tr style=\"text-align: right;\">\n",
       "      <th></th>\n",
       "      <th>PM</th>\n",
       "    </tr>\n",
       "  </thead>\n",
       "  <tbody>\n",
       "    <tr>\n",
       "      <th>106</th>\n",
       "      <td>70.52</td>\n",
       "    </tr>\n",
       "    <tr>\n",
       "      <th>107</th>\n",
       "      <td>61.39</td>\n",
       "    </tr>\n",
       "    <tr>\n",
       "      <th>108</th>\n",
       "      <td>59.94</td>\n",
       "    </tr>\n",
       "    <tr>\n",
       "      <th>109</th>\n",
       "      <td>76.44</td>\n",
       "    </tr>\n",
       "    <tr>\n",
       "      <th>110</th>\n",
       "      <td>98.54</td>\n",
       "    </tr>\n",
       "    <tr>\n",
       "      <th>...</th>\n",
       "      <td>...</td>\n",
       "    </tr>\n",
       "    <tr>\n",
       "      <th>3454</th>\n",
       "      <td>31.79</td>\n",
       "    </tr>\n",
       "    <tr>\n",
       "      <th>3455</th>\n",
       "      <td>28.46</td>\n",
       "    </tr>\n",
       "    <tr>\n",
       "      <th>3456</th>\n",
       "      <td>35.99</td>\n",
       "    </tr>\n",
       "    <tr>\n",
       "      <th>3457</th>\n",
       "      <td>36.10</td>\n",
       "    </tr>\n",
       "    <tr>\n",
       "      <th>3458</th>\n",
       "      <td>29.75</td>\n",
       "    </tr>\n",
       "  </tbody>\n",
       "</table>\n",
       "<p>3353 rows × 1 columns</p>\n",
       "</div>"
      ],
      "text/plain": [
       "         PM\n",
       "106   70.52\n",
       "107   61.39\n",
       "108   59.94\n",
       "109   76.44\n",
       "110   98.54\n",
       "...     ...\n",
       "3454  31.79\n",
       "3455  28.46\n",
       "3456  35.99\n",
       "3457  36.10\n",
       "3458  29.75\n",
       "\n",
       "[3353 rows x 1 columns]"
      ]
     },
     "execution_count": 16,
     "metadata": {},
     "output_type": "execute_result"
    }
   ],
   "source": [
    "\n",
    "def divideData(df):\n",
    "  df.dropna()\n",
    "  a=len(df)\n",
    "  #print(a)\n",
    "  form=['X_train2', 'X_train3', 'X_train4', 'X_train5', 'X_train6', 'X_train7', 'X_train8', 'X_train9', 'X_train10']\n",
    "  Testing=[ 'X_test2', 'X_test3', 'X_test4', 'X_test5', 'X_test6', 'X_test7', 'X_test8', 'X_test9', 'X_test10']\n",
    "  #list_of_df = list()\n",
    "  x=int(0.1*a)\n",
    "  #print(x)\n",
    "  j=1\n",
    "  X_train1 = df.iloc[0:x,0:1]\n",
    "  #print(X_train1)\n",
    "  X_test1=X_train1.iloc[:,0:1].copy()\n",
    "  #X_train1.loc[X_train1.index[:], 0:1] = np.nan\n",
    "  X_train1.iloc[:, 0:1] = np.nan\n",
    "  '''\n",
    "  for (a, b) in zip(form, Testing):\n",
    "    b=pd.DataFrame()\n",
    "    b=a.iloc[:,0:1].copy()\n",
    "  '''\n",
    "\n",
    "  #print(\"Training\")\n",
    "  #print(X_train1)\n",
    "  DF = pd.concat([X_train1])\n",
    "  for i in form:\n",
    "    t=x*j\n",
    "    s=((j+1)*x)\n",
    "    #print(t)\n",
    "    #print(s)\n",
    "    i=df.iloc[t:s,0:1] ######  Creating Chuncks of Dataframe to be concatenated with DF \n",
    "    for b in Testing:\n",
    "      b=i ######  Creating 9 different test data sets stored in X_test2 to X_test9\n",
    "    j += 1\n",
    "    DF=pd.concat([DF, i]) ##### Combination of dataframe with First DataFrame as NaN\n",
    "    #print(DF)\n",
    "    #a.dropna()\n",
    "  \n",
    "  \n",
    "  \n",
    "  return DF, X_test1\n",
    "\n",
    "DF, X_test1 =divideData(df)\n",
    "DF\n",
    "X_test1"
   ]
  },
  {
   "cell_type": "code",
   "execution_count": 17,
   "id": "b0376673-e7c5-4ab8-a5b7-7081cdadc173",
   "metadata": {
    "colab": {
     "base_uri": "https://localhost:8080/"
    },
    "executionInfo": {
     "elapsed": 814,
     "status": "ok",
     "timestamp": 1670495510369,
     "user": {
      "displayName": "Abhijeet Kumar",
      "userId": "18174877903277820406"
     },
     "user_tz": -330
    },
    "id": "b0376673-e7c5-4ab8-a5b7-7081cdadc173",
    "outputId": "be5c1822-f120-44d7-cfd3-d5a582c9062f"
   },
   "outputs": [
    {
     "name": "stdout",
     "output_type": "stream",
     "text": [
      "PM      1067\n",
      "DATE    1111\n",
      "dtype: int64\n",
      "PM      1057\n",
      "DATE    1111\n",
      "dtype: int64\n",
      "PM       997\n",
      "DATE    1111\n",
      "dtype: int64\n",
      "PM       953\n",
      "DATE    1111\n",
      "dtype: int64\n",
      "PM       784\n",
      "DATE    1111\n",
      "dtype: int64\n",
      "PM       984\n",
      "DATE    1111\n",
      "dtype: int64\n",
      "PM       889\n",
      "DATE    1111\n",
      "dtype: int64\n",
      "PM      1082\n",
      "DATE    1111\n",
      "dtype: int64\n"
     ]
    }
   ],
   "source": [
    "# Training data\n",
    "\n",
    "X = df.loc[:, ['PM','DATE']]  # features\n",
    "X_train1 = df.loc[0:1110, ['PM','DATE']]\n",
    "X_train2 = df.loc[1110:2220, ['PM','DATE']]\n",
    "X_train3 = df.loc[2220:3330, ['PM','DATE']]\n",
    "X_train4 = df.loc[3330:4440, ['PM','DATE']]\n",
    "X_train5 = df.loc[4440:5550, ['PM','DATE']]\n",
    "X_train6 = df.loc[5550:6660, ['PM','DATE']]\n",
    "X_train7 = df.loc[6660:7770, ['PM','DATE']]\n",
    "X_train8 = df.loc[7770:8880, ['PM','DATE']]\n",
    "X_train9 = df.loc[8880:9990, ['PM','DATE']]\n",
    "X_test1=X_train1.copy()\n",
    "X_train2.dropna()\n",
    "print(X_train2.count())\n",
    "X_train3.dropna()\n",
    "print(X_train3.count())\n",
    "X_train4.dropna()\n",
    "print(X_train4.count())\n",
    "X_train5.dropna()\n",
    "print(X_train5.count())\n",
    "X_train6.dropna()\n",
    "print(X_train6.count())\n",
    "X_train7.dropna()\n",
    "print(X_train7.count())\n",
    "X_train8.dropna()\n",
    "print(X_train8.count())\n",
    "X_train9.dropna()\n",
    "print(X_train9.count())\n",
    "X_train1.loc[X_train1.index[:], 'PM'] = np.nan\n",
    "DF = pd.concat([X_train1, X_train2, X_train3, X_train4, X_train5, X_train6, X_train7, X_train8, X_train9])\n",
    "\n",
    "#y = df.loc[11779:12890, 'PM']  # target\n",
    "#print(X)\n",
    "#print(y)\n",
    "#X.dropna()\n",
    "#y.dropna()\n",
    "# Train the model\n",
    "#model = LinearRegression()\n",
    "#model.fit(X, y)\n",
    "\n",
    "# Store the fitted values as a time series with the same time index as\n",
    "# the training data\n",
    "#y_pred = pd.Series(model.predict(X), index=X.index)"
   ]
  },
  {
   "cell_type": "code",
   "execution_count": 18,
   "id": "00878773-1a83-4ea5-b005-b7ee49b12476",
   "metadata": {
    "id": "00878773-1a83-4ea5-b005-b7ee49b12476"
   },
   "outputs": [],
   "source": [
    "#DF['Mode']=DF['PM'].fillna(DF['PM'].mode()[0])\n",
    "#DF['ffill']=DF['PM'].fillna(method='ffill')\n",
    "#DF['bfill']=DF['PM'].fillna(method='bfill')\n",
    "#DF['bffill']=DF['PM'].fillna(((DF['ffill']+DF['bfill'])/2))\n",
    "interpolations=['linear', 'nearest']\n",
    "for intp in interpolations:\n",
    "    DF[intp]=DF['PM'].interpolate(method=intp)"
   ]
  },
  {
   "cell_type": "code",
   "execution_count": 19,
   "id": "NeyJaWh_Ra9d",
   "metadata": {
    "id": "NeyJaWh_Ra9d"
   },
   "outputs": [
    {
     "ename": "NameError",
     "evalue": "name 'ExtraTreesRegressor' is not defined",
     "output_type": "error",
     "traceback": [
      "\u001b[0;31m---------------------------------------------------------------------------\u001b[0m",
      "\u001b[0;31mNameError\u001b[0m                                 Traceback (most recent call last)",
      "Cell \u001b[0;32mIn [19], line 1\u001b[0m\n\u001b[0;32m----> 1\u001b[0m estimators\u001b[38;5;241m=\u001b[39m[(\u001b[38;5;124m'\u001b[39m\u001b[38;5;124mextra_trees\u001b[39m\u001b[38;5;124m'\u001b[39m, \u001b[43mExtraTreesRegressor\u001b[49m(n_estimators\u001b[38;5;241m=\u001b[39m\u001b[38;5;241m10\u001b[39m)), (\u001b[38;5;124m'\u001b[39m\u001b[38;5;124mbagging\u001b[39m\u001b[38;5;124m'\u001b[39m, BaggingRegressor(n_estimators\u001b[38;5;241m=\u001b[39m\u001b[38;5;241m10\u001b[39m)),(\u001b[38;5;124m'\u001b[39m\u001b[38;5;124melastic_net\u001b[39m\u001b[38;5;124m'\u001b[39m, ElasticNet()),(\u001b[38;5;124m'\u001b[39m\u001b[38;5;124mlinear_regression\u001b[39m\u001b[38;5;124m'\u001b[39m, LinearRegression()), (\u001b[38;5;124m'\u001b[39m\u001b[38;5;124mknn\u001b[39m\u001b[38;5;124m'\u001b[39m,KNeighborsRegressor(n_neighbors\u001b[38;5;241m=\u001b[39m\u001b[38;5;241m3\u001b[39m)) ]\n\u001b[1;32m      2\u001b[0m PM_vals\u001b[38;5;241m=\u001b[39mDF\u001b[38;5;241m.\u001b[39miloc[:,\u001b[38;5;241m0\u001b[39m:\u001b[38;5;241m1\u001b[39m]\u001b[38;5;241m.\u001b[39mvalues\n\u001b[1;32m      3\u001b[0m \u001b[38;5;28;01mfor\u001b[39;00m e_name, e \u001b[38;5;129;01min\u001b[39;00m estimators:\n",
      "\u001b[0;31mNameError\u001b[0m: name 'ExtraTreesRegressor' is not defined"
     ]
    }
   ],
   "source": [
    "estimators=[('extra_trees', ExtraTreesRegressor(n_estimators=10)), ('bagging', BaggingRegressor(n_estimators=10)),('elastic_net', ElasticNet()),('linear_regression', LinearRegression()), ('knn',KNeighborsRegressor(n_neighbors=3)) ]\n",
    "PM_vals=DF.iloc[:,0:1].values\n",
    "for e_name, e in estimators:\n",
    "    est=IterativeImputer(random_state=15, estimator=e).fit(PM_vals)\n",
    "    DF[e_name]=est.transform(PM_vals)[:,0]"
   ]
  },
  {
   "cell_type": "code",
   "execution_count": 20,
   "id": "ENbUjCDpH68u",
   "metadata": {
    "colab": {
     "base_uri": "https://localhost:8080/"
    },
    "executionInfo": {
     "elapsed": 2612,
     "status": "ok",
     "timestamp": 1670495035657,
     "user": {
      "displayName": "Abhijeet Kumar",
      "userId": "18174877903277820406"
     },
     "user_tz": -330
    },
    "id": "ENbUjCDpH68u",
    "outputId": "ae9cb66d-9149-4f8e-a62b-a1c571e01ea4"
   },
   "outputs": [
    {
     "data": {
      "text/plain": [
       "PM         3\n",
       "DATE       0\n",
       "linear     0\n",
       "nearest    0\n",
       "dtype: int64"
      ]
     },
     "execution_count": 20,
     "metadata": {},
     "output_type": "execute_result"
    }
   ],
   "source": [
    "#X_test1['PM']=X_test1['PM'].fillna(X_test1['PM'].mode()[0])\n",
    "#X_test1.isnull().sum()\n",
    "\n",
    "#X_test1['PM']=X_test1['PM'].fillna(method='ffill')\n",
    "for intp in interpolations:\n",
    "    X_test1[intp]=X_test1['PM'].interpolate(method=intp)\n",
    "X_test1.isnull().sum()"
   ]
  },
  {
   "cell_type": "code",
   "execution_count": 21,
   "id": "DdpW4eLLSt7E",
   "metadata": {
    "id": "DdpW4eLLSt7E"
   },
   "outputs": [],
   "source": [
    "X_test1['PM']=X_test1['PM'].fillna(X_test1['PM'].mean())"
   ]
  },
  {
   "cell_type": "code",
   "execution_count": 22,
   "id": "Tppe5Tw3SHuS",
   "metadata": {
    "id": "Tppe5Tw3SHuS"
   },
   "outputs": [
    {
     "ename": "NameError",
     "evalue": "name 'estimators' is not defined",
     "output_type": "error",
     "traceback": [
      "\u001b[0;31m---------------------------------------------------------------------------\u001b[0m",
      "\u001b[0;31mNameError\u001b[0m                                 Traceback (most recent call last)",
      "Cell \u001b[0;32mIn [22], line 2\u001b[0m\n\u001b[1;32m      1\u001b[0m PM_vals\u001b[38;5;241m=\u001b[39mX_test1\u001b[38;5;241m.\u001b[39miloc[:,\u001b[38;5;241m0\u001b[39m:\u001b[38;5;241m1\u001b[39m]\u001b[38;5;241m.\u001b[39mvalues\n\u001b[0;32m----> 2\u001b[0m \u001b[38;5;28;01mfor\u001b[39;00m e_name, e \u001b[38;5;129;01min\u001b[39;00m \u001b[43mestimators\u001b[49m:\n\u001b[1;32m      3\u001b[0m     est\u001b[38;5;241m=\u001b[39mIterativeImputer(random_state\u001b[38;5;241m=\u001b[39m\u001b[38;5;241m15\u001b[39m, estimator\u001b[38;5;241m=\u001b[39me)\u001b[38;5;241m.\u001b[39mfit(PM_vals)\n\u001b[1;32m      4\u001b[0m     X_test1[e_name]\u001b[38;5;241m=\u001b[39mest\u001b[38;5;241m.\u001b[39mtransform(PM_vals)[:,\u001b[38;5;241m0\u001b[39m]\n",
      "\u001b[0;31mNameError\u001b[0m: name 'estimators' is not defined"
     ]
    }
   ],
   "source": [
    "PM_vals=X_test1.iloc[:,0:1].values\n",
    "for e_name, e in estimators:\n",
    "    est=IterativeImputer(random_state=15, estimator=e).fit(PM_vals)\n",
    "    X_test1[e_name]=est.transform(PM_vals)[:,0]"
   ]
  },
  {
   "cell_type": "code",
   "execution_count": null,
   "id": "ce84bcfe-a2e5-478a-b394-7db40298c36f",
   "metadata": {
    "colab": {
     "base_uri": "https://localhost:8080/"
    },
    "executionInfo": {
     "elapsed": 1427,
     "status": "ok",
     "timestamp": 1670495767233,
     "user": {
      "displayName": "Abhijeet Kumar",
      "userId": "18174877903277820406"
     },
     "user_tz": -330
    },
    "id": "ce84bcfe-a2e5-478a-b394-7db40298c36f",
    "outputId": "ed8708ab-7016-4a6f-dc57-8da117d90e05"
   },
   "outputs": [
    {
     "name": "stdout",
     "output_type": "stream",
     "text": [
      "1000 1000\n"
     ]
    },
    {
     "data": {
      "text/plain": [
       "32.009530551368336"
      ]
     },
     "execution_count": 113,
     "metadata": {},
     "output_type": "execute_result"
    }
   ],
   "source": [
    "\n",
    "\n",
    "y_true=X_test1.loc[0:1105,['PM']].values.tolist()\n",
    "y_pred=DF.loc[0:1105, ['knn']].values.tolist()\n",
    "DF.isnull().sum()\n",
    "print(len(y_pred), len(y_true))\n",
    "mean_squared_error(y_true, y_pred)**0.5"
   ]
  },
  {
   "cell_type": "code",
   "execution_count": null,
   "id": "qymfsfGEH52s",
   "metadata": {
    "id": "qymfsfGEH52s"
   },
   "outputs": [],
   "source": []
  },
  {
   "cell_type": "code",
   "execution_count": null,
   "id": "8932f5b0-9789-47ab-bacb-5b1807138949",
   "metadata": {
    "id": "8932f5b0-9789-47ab-bacb-5b1807138949"
   },
   "outputs": [],
   "source": [
    "interpolations=['linear','quadratic','nearest','cubic']\n",
    "for intp in interpolations:\n",
    "    DF[intp]=DF['PM'].interpolate(method=intp)"
   ]
  },
  {
   "cell_type": "code",
   "execution_count": null,
   "id": "f48ea414-0cc1-4435-81ac-157ef8e93d67",
   "metadata": {
    "id": "f48ea414-0cc1-4435-81ac-157ef8e93d67"
   },
   "outputs": [],
   "source": [
    "df1_train['spline1']=df1_train['PM'].interpolate(method='spline', order=1)"
   ]
  },
  {
   "cell_type": "code",
   "execution_count": null,
   "id": "61fd1f06-efe7-4706-a995-4b6b82bb0ead",
   "metadata": {
    "id": "61fd1f06-efe7-4706-a995-4b6b82bb0ead"
   },
   "outputs": [],
   "source": [
    "#df1_train[['PM','forecast2']].plot()"
   ]
  },
  {
   "cell_type": "code",
   "execution_count": null,
   "id": "03eab448-43e8-4486-939d-62cc34f93d49",
   "metadata": {
    "id": "03eab448-43e8-4486-939d-62cc34f93d49"
   },
   "outputs": [],
   "source": [
    "df1_train.to_csv('df1_train.csv')\n"
   ]
  },
  {
   "cell_type": "code",
   "execution_count": null,
   "id": "35cbe4a1-0dc4-48cd-be4a-bc6804033012",
   "metadata": {
    "id": "35cbe4a1-0dc4-48cd-be4a-bc6804033012"
   },
   "outputs": [],
   "source": [
    "from sklearn.experimental import enable_iterative_imputer"
   ]
  },
  {
   "cell_type": "code",
   "execution_count": null,
   "id": "b1028612-7417-49ec-87fe-17e41752c757",
   "metadata": {
    "id": "b1028612-7417-49ec-87fe-17e41752c757"
   },
   "outputs": [],
   "source": [
    "from sklearn.impute import IterativeImputer\n",
    "from sklearn.ensemble import ExtraTreesRegressor, BaggingRegressor\n",
    "from sklearn.linear_model import ElasticNet, LinearRegression"
   ]
  },
  {
   "cell_type": "code",
   "execution_count": null,
   "id": "d8be05ad-88ad-41ea-8393-2198a26e6374",
   "metadata": {
    "id": "d8be05ad-88ad-41ea-8393-2198a26e6374"
   },
   "outputs": [],
   "source": [
    "from sklearn.neighbors import *"
   ]
  },
  {
   "cell_type": "code",
   "execution_count": null,
   "id": "261fb9fa-028a-4bfe-bfda-03e84946142e",
   "metadata": {
    "id": "261fb9fa-028a-4bfe-bfda-03e84946142e"
   },
   "outputs": [],
   "source": [
    "estimators=[('extra_trees', ExtraTreesRegressor(n_estimators=10)), ('bagging', BaggingRegressor(n_estimators=10)),('elastic_net', ElasticNet()),('linear_regression ', LinearRegression()), ('knn',KNeighborsRegressor(n_neighbors=3)) ]"
   ]
  },
  {
   "cell_type": "code",
   "execution_count": null,
   "id": "2e305de8-5faa-4b3c-b2a7-5358a2d80e6b",
   "metadata": {
    "id": "2e305de8-5faa-4b3c-b2a7-5358a2d80e6b"
   },
   "outputs": [],
   "source": [
    "PM_vals=df1_train.iloc[:,0:1].values"
   ]
  },
  {
   "cell_type": "code",
   "execution_count": null,
   "id": "98ee53a0-4a5f-4880-a8fc-20b643017f44",
   "metadata": {
    "colab": {
     "base_uri": "https://localhost:8080/"
    },
    "executionInfo": {
     "elapsed": 22,
     "status": "ok",
     "timestamp": 1670430078998,
     "user": {
      "displayName": "Abhijeet Kumar",
      "userId": "18174877903277820406"
     },
     "user_tz": -330
    },
    "id": "98ee53a0-4a5f-4880-a8fc-20b643017f44",
    "outputId": "c2c46de6-ada2-4d2a-832b-6d28b8e718eb"
   },
   "outputs": [
    {
     "data": {
      "text/plain": [
       "array([[ 70.52],\n",
       "       [ 61.39],\n",
       "       [ 59.94],\n",
       "       ...,\n",
       "       [104.06],\n",
       "       [110.59],\n",
       "       [122.87]])"
      ]
     },
     "execution_count": 59,
     "metadata": {},
     "output_type": "execute_result"
    }
   ],
   "source": [
    "PM_vals"
   ]
  },
  {
   "cell_type": "code",
   "execution_count": null,
   "id": "b2a5c7b3-cda5-4799-b07a-953c343d5090",
   "metadata": {
    "id": "b2a5c7b3-cda5-4799-b07a-953c343d5090"
   },
   "outputs": [],
   "source": [
    "for e_name, e in estimators:\n",
    "    est=IterativeImputer(random_state=15, estimator=e).fit(PM_vals)\n",
    "    df1_train[e_name]=est.transform(PM_vals)[:,0]"
   ]
  },
  {
   "cell_type": "code",
   "execution_count": null,
   "id": "70db3c9c-c663-4a23-866f-c44bef593c55",
   "metadata": {
    "colab": {
     "base_uri": "https://localhost:8080/",
     "height": 424
    },
    "executionInfo": {
     "elapsed": 21,
     "status": "ok",
     "timestamp": 1670430078999,
     "user": {
      "displayName": "Abhijeet Kumar",
      "userId": "18174877903277820406"
     },
     "user_tz": -330
    },
    "id": "70db3c9c-c663-4a23-866f-c44bef593c55",
    "outputId": "a9febfb0-9bdb-48f8-cd54-971c6e798927"
   },
   "outputs": [
    {
     "data": {
      "text/html": [
       "\n",
       "  <div id=\"df-c6c1da8b-060d-4196-87e7-f7cf28b286c2\">\n",
       "    <div class=\"colab-df-container\">\n",
       "      <div>\n",
       "<style scoped>\n",
       "    .dataframe tbody tr th:only-of-type {\n",
       "        vertical-align: middle;\n",
       "    }\n",
       "\n",
       "    .dataframe tbody tr th {\n",
       "        vertical-align: top;\n",
       "    }\n",
       "\n",
       "    .dataframe thead th {\n",
       "        text-align: right;\n",
       "    }\n",
       "</style>\n",
       "<table border=\"1\" class=\"dataframe\">\n",
       "  <thead>\n",
       "    <tr style=\"text-align: right;\">\n",
       "      <th></th>\n",
       "      <th>PM</th>\n",
       "      <th>DATE</th>\n",
       "      <th>Mode2</th>\n",
       "      <th>linear</th>\n",
       "      <th>quadratic</th>\n",
       "      <th>nearest</th>\n",
       "      <th>cubic</th>\n",
       "      <th>spline1</th>\n",
       "      <th>extra_trees</th>\n",
       "      <th>bagging</th>\n",
       "      <th>elastic_net</th>\n",
       "      <th>linear_regression</th>\n",
       "      <th>knn</th>\n",
       "    </tr>\n",
       "  </thead>\n",
       "  <tbody>\n",
       "    <tr>\n",
       "      <th>106</th>\n",
       "      <td>70.52</td>\n",
       "      <td>2019-02-04 18:00:00</td>\n",
       "      <td>70.52</td>\n",
       "      <td>70.52</td>\n",
       "      <td>70.52</td>\n",
       "      <td>70.52</td>\n",
       "      <td>70.52</td>\n",
       "      <td>70.52</td>\n",
       "      <td>70.52</td>\n",
       "      <td>70.52</td>\n",
       "      <td>70.52</td>\n",
       "      <td>70.52</td>\n",
       "      <td>70.52</td>\n",
       "    </tr>\n",
       "    <tr>\n",
       "      <th>107</th>\n",
       "      <td>61.39</td>\n",
       "      <td>2019-02-04 19:00:00</td>\n",
       "      <td>61.39</td>\n",
       "      <td>61.39</td>\n",
       "      <td>61.39</td>\n",
       "      <td>61.39</td>\n",
       "      <td>61.39</td>\n",
       "      <td>61.39</td>\n",
       "      <td>61.39</td>\n",
       "      <td>61.39</td>\n",
       "      <td>61.39</td>\n",
       "      <td>61.39</td>\n",
       "      <td>61.39</td>\n",
       "    </tr>\n",
       "    <tr>\n",
       "      <th>108</th>\n",
       "      <td>59.94</td>\n",
       "      <td>2019-02-04 20:00:00</td>\n",
       "      <td>59.94</td>\n",
       "      <td>59.94</td>\n",
       "      <td>59.94</td>\n",
       "      <td>59.94</td>\n",
       "      <td>59.94</td>\n",
       "      <td>59.94</td>\n",
       "      <td>59.94</td>\n",
       "      <td>59.94</td>\n",
       "      <td>59.94</td>\n",
       "      <td>59.94</td>\n",
       "      <td>59.94</td>\n",
       "    </tr>\n",
       "    <tr>\n",
       "      <th>109</th>\n",
       "      <td>76.44</td>\n",
       "      <td>2019-02-04 21:00:00</td>\n",
       "      <td>76.44</td>\n",
       "      <td>76.44</td>\n",
       "      <td>76.44</td>\n",
       "      <td>76.44</td>\n",
       "      <td>76.44</td>\n",
       "      <td>76.44</td>\n",
       "      <td>76.44</td>\n",
       "      <td>76.44</td>\n",
       "      <td>76.44</td>\n",
       "      <td>76.44</td>\n",
       "      <td>76.44</td>\n",
       "    </tr>\n",
       "    <tr>\n",
       "      <th>110</th>\n",
       "      <td>98.54</td>\n",
       "      <td>2019-02-04 22:00:00</td>\n",
       "      <td>98.54</td>\n",
       "      <td>98.54</td>\n",
       "      <td>98.54</td>\n",
       "      <td>98.54</td>\n",
       "      <td>98.54</td>\n",
       "      <td>98.54</td>\n",
       "      <td>98.54</td>\n",
       "      <td>98.54</td>\n",
       "      <td>98.54</td>\n",
       "      <td>98.54</td>\n",
       "      <td>98.54</td>\n",
       "    </tr>\n",
       "    <tr>\n",
       "      <th>...</th>\n",
       "      <td>...</td>\n",
       "      <td>...</td>\n",
       "      <td>...</td>\n",
       "      <td>...</td>\n",
       "      <td>...</td>\n",
       "      <td>...</td>\n",
       "      <td>...</td>\n",
       "      <td>...</td>\n",
       "      <td>...</td>\n",
       "      <td>...</td>\n",
       "      <td>...</td>\n",
       "      <td>...</td>\n",
       "      <td>...</td>\n",
       "    </tr>\n",
       "    <tr>\n",
       "      <th>33636</th>\n",
       "      <td>120.98</td>\n",
       "      <td>2022-12-02 20:00:00</td>\n",
       "      <td>120.98</td>\n",
       "      <td>120.98</td>\n",
       "      <td>120.98</td>\n",
       "      <td>120.98</td>\n",
       "      <td>120.98</td>\n",
       "      <td>120.98</td>\n",
       "      <td>120.98</td>\n",
       "      <td>120.98</td>\n",
       "      <td>120.98</td>\n",
       "      <td>120.98</td>\n",
       "      <td>120.98</td>\n",
       "    </tr>\n",
       "    <tr>\n",
       "      <th>33637</th>\n",
       "      <td>115.37</td>\n",
       "      <td>2022-12-02 21:00:00</td>\n",
       "      <td>115.37</td>\n",
       "      <td>115.37</td>\n",
       "      <td>115.37</td>\n",
       "      <td>115.37</td>\n",
       "      <td>115.37</td>\n",
       "      <td>115.37</td>\n",
       "      <td>115.37</td>\n",
       "      <td>115.37</td>\n",
       "      <td>115.37</td>\n",
       "      <td>115.37</td>\n",
       "      <td>115.37</td>\n",
       "    </tr>\n",
       "    <tr>\n",
       "      <th>33638</th>\n",
       "      <td>104.06</td>\n",
       "      <td>2022-12-02 22:00:00</td>\n",
       "      <td>104.06</td>\n",
       "      <td>104.06</td>\n",
       "      <td>104.06</td>\n",
       "      <td>104.06</td>\n",
       "      <td>104.06</td>\n",
       "      <td>104.06</td>\n",
       "      <td>104.06</td>\n",
       "      <td>104.06</td>\n",
       "      <td>104.06</td>\n",
       "      <td>104.06</td>\n",
       "      <td>104.06</td>\n",
       "    </tr>\n",
       "    <tr>\n",
       "      <th>33639</th>\n",
       "      <td>110.59</td>\n",
       "      <td>2022-12-02 23:00:00</td>\n",
       "      <td>110.59</td>\n",
       "      <td>110.59</td>\n",
       "      <td>110.59</td>\n",
       "      <td>110.59</td>\n",
       "      <td>110.59</td>\n",
       "      <td>110.59</td>\n",
       "      <td>110.59</td>\n",
       "      <td>110.59</td>\n",
       "      <td>110.59</td>\n",
       "      <td>110.59</td>\n",
       "      <td>110.59</td>\n",
       "    </tr>\n",
       "    <tr>\n",
       "      <th>33640</th>\n",
       "      <td>122.87</td>\n",
       "      <td>2022-12-03 00:00:00</td>\n",
       "      <td>122.87</td>\n",
       "      <td>122.87</td>\n",
       "      <td>122.87</td>\n",
       "      <td>122.87</td>\n",
       "      <td>122.87</td>\n",
       "      <td>122.87</td>\n",
       "      <td>122.87</td>\n",
       "      <td>122.87</td>\n",
       "      <td>122.87</td>\n",
       "      <td>122.87</td>\n",
       "      <td>122.87</td>\n",
       "    </tr>\n",
       "  </tbody>\n",
       "</table>\n",
       "<p>33535 rows × 13 columns</p>\n",
       "</div>\n",
       "      <button class=\"colab-df-convert\" onclick=\"convertToInteractive('df-c6c1da8b-060d-4196-87e7-f7cf28b286c2')\"\n",
       "              title=\"Convert this dataframe to an interactive table.\"\n",
       "              style=\"display:none;\">\n",
       "        \n",
       "  <svg xmlns=\"http://www.w3.org/2000/svg\" height=\"24px\"viewBox=\"0 0 24 24\"\n",
       "       width=\"24px\">\n",
       "    <path d=\"M0 0h24v24H0V0z\" fill=\"none\"/>\n",
       "    <path d=\"M18.56 5.44l.94 2.06.94-2.06 2.06-.94-2.06-.94-.94-2.06-.94 2.06-2.06.94zm-11 1L8.5 8.5l.94-2.06 2.06-.94-2.06-.94L8.5 2.5l-.94 2.06-2.06.94zm10 10l.94 2.06.94-2.06 2.06-.94-2.06-.94-.94-2.06-.94 2.06-2.06.94z\"/><path d=\"M17.41 7.96l-1.37-1.37c-.4-.4-.92-.59-1.43-.59-.52 0-1.04.2-1.43.59L10.3 9.45l-7.72 7.72c-.78.78-.78 2.05 0 2.83L4 21.41c.39.39.9.59 1.41.59.51 0 1.02-.2 1.41-.59l7.78-7.78 2.81-2.81c.8-.78.8-2.07 0-2.86zM5.41 20L4 18.59l7.72-7.72 1.47 1.35L5.41 20z\"/>\n",
       "  </svg>\n",
       "      </button>\n",
       "      \n",
       "  <style>\n",
       "    .colab-df-container {\n",
       "      display:flex;\n",
       "      flex-wrap:wrap;\n",
       "      gap: 12px;\n",
       "    }\n",
       "\n",
       "    .colab-df-convert {\n",
       "      background-color: #E8F0FE;\n",
       "      border: none;\n",
       "      border-radius: 50%;\n",
       "      cursor: pointer;\n",
       "      display: none;\n",
       "      fill: #1967D2;\n",
       "      height: 32px;\n",
       "      padding: 0 0 0 0;\n",
       "      width: 32px;\n",
       "    }\n",
       "\n",
       "    .colab-df-convert:hover {\n",
       "      background-color: #E2EBFA;\n",
       "      box-shadow: 0px 1px 2px rgba(60, 64, 67, 0.3), 0px 1px 3px 1px rgba(60, 64, 67, 0.15);\n",
       "      fill: #174EA6;\n",
       "    }\n",
       "\n",
       "    [theme=dark] .colab-df-convert {\n",
       "      background-color: #3B4455;\n",
       "      fill: #D2E3FC;\n",
       "    }\n",
       "\n",
       "    [theme=dark] .colab-df-convert:hover {\n",
       "      background-color: #434B5C;\n",
       "      box-shadow: 0px 1px 3px 1px rgba(0, 0, 0, 0.15);\n",
       "      filter: drop-shadow(0px 1px 2px rgba(0, 0, 0, 0.3));\n",
       "      fill: #FFFFFF;\n",
       "    }\n",
       "  </style>\n",
       "\n",
       "      <script>\n",
       "        const buttonEl =\n",
       "          document.querySelector('#df-c6c1da8b-060d-4196-87e7-f7cf28b286c2 button.colab-df-convert');\n",
       "        buttonEl.style.display =\n",
       "          google.colab.kernel.accessAllowed ? 'block' : 'none';\n",
       "\n",
       "        async function convertToInteractive(key) {\n",
       "          const element = document.querySelector('#df-c6c1da8b-060d-4196-87e7-f7cf28b286c2');\n",
       "          const dataTable =\n",
       "            await google.colab.kernel.invokeFunction('convertToInteractive',\n",
       "                                                     [key], {});\n",
       "          if (!dataTable) return;\n",
       "\n",
       "          const docLinkHtml = 'Like what you see? Visit the ' +\n",
       "            '<a target=\"_blank\" href=https://colab.research.google.com/notebooks/data_table.ipynb>data table notebook</a>'\n",
       "            + ' to learn more about interactive tables.';\n",
       "          element.innerHTML = '';\n",
       "          dataTable['output_type'] = 'display_data';\n",
       "          await google.colab.output.renderOutput(dataTable, element);\n",
       "          const docLink = document.createElement('div');\n",
       "          docLink.innerHTML = docLinkHtml;\n",
       "          element.appendChild(docLink);\n",
       "        }\n",
       "      </script>\n",
       "    </div>\n",
       "  </div>\n",
       "  "
      ],
      "text/plain": [
       "           PM                DATE   Mode2  linear  quadratic  nearest   cubic  \\\n",
       "106     70.52 2019-02-04 18:00:00   70.52   70.52      70.52    70.52   70.52   \n",
       "107     61.39 2019-02-04 19:00:00   61.39   61.39      61.39    61.39   61.39   \n",
       "108     59.94 2019-02-04 20:00:00   59.94   59.94      59.94    59.94   59.94   \n",
       "109     76.44 2019-02-04 21:00:00   76.44   76.44      76.44    76.44   76.44   \n",
       "110     98.54 2019-02-04 22:00:00   98.54   98.54      98.54    98.54   98.54   \n",
       "...       ...                 ...     ...     ...        ...      ...     ...   \n",
       "33636  120.98 2022-12-02 20:00:00  120.98  120.98     120.98   120.98  120.98   \n",
       "33637  115.37 2022-12-02 21:00:00  115.37  115.37     115.37   115.37  115.37   \n",
       "33638  104.06 2022-12-02 22:00:00  104.06  104.06     104.06   104.06  104.06   \n",
       "33639  110.59 2022-12-02 23:00:00  110.59  110.59     110.59   110.59  110.59   \n",
       "33640  122.87 2022-12-03 00:00:00  122.87  122.87     122.87   122.87  122.87   \n",
       "\n",
       "       spline1  extra_trees  bagging  elastic_net  linear_regression      knn  \n",
       "106      70.52        70.52    70.52        70.52               70.52   70.52  \n",
       "107      61.39        61.39    61.39        61.39               61.39   61.39  \n",
       "108      59.94        59.94    59.94        59.94               59.94   59.94  \n",
       "109      76.44        76.44    76.44        76.44               76.44   76.44  \n",
       "110      98.54        98.54    98.54        98.54               98.54   98.54  \n",
       "...        ...          ...      ...          ...                 ...     ...  \n",
       "33636   120.98       120.98   120.98       120.98              120.98  120.98  \n",
       "33637   115.37       115.37   115.37       115.37              115.37  115.37  \n",
       "33638   104.06       104.06   104.06       104.06              104.06  104.06  \n",
       "33639   110.59       110.59   110.59       110.59              110.59  110.59  \n",
       "33640   122.87       122.87   122.87       122.87              122.87  122.87  \n",
       "\n",
       "[33535 rows x 13 columns]"
      ]
     },
     "execution_count": 61,
     "metadata": {},
     "output_type": "execute_result"
    }
   ],
   "source": [
    "df1_train"
   ]
  },
  {
   "cell_type": "code",
   "execution_count": null,
   "id": "24c78b57-025c-40f4-be9d-33c866342927",
   "metadata": {
    "colab": {
     "base_uri": "https://localhost:8080/",
     "height": 455
    },
    "executionInfo": {
     "elapsed": 21,
     "status": "ok",
     "timestamp": 1670430079000,
     "user": {
      "displayName": "Abhijeet Kumar",
      "userId": "18174877903277820406"
     },
     "user_tz": -330
    },
    "id": "24c78b57-025c-40f4-be9d-33c866342927",
    "outputId": "883fbc9d-0674-4be6-e1c2-8ec5d78999a6"
   },
   "outputs": [
    {
     "data": {
      "text/html": [
       "\n",
       "  <div id=\"df-6aad2f31-b188-4e92-a091-98a0cffc5b15\">\n",
       "    <div class=\"colab-df-container\">\n",
       "      <div>\n",
       "<style scoped>\n",
       "    .dataframe tbody tr th:only-of-type {\n",
       "        vertical-align: middle;\n",
       "    }\n",
       "\n",
       "    .dataframe tbody tr th {\n",
       "        vertical-align: top;\n",
       "    }\n",
       "\n",
       "    .dataframe thead th {\n",
       "        text-align: right;\n",
       "    }\n",
       "</style>\n",
       "<table border=\"1\" class=\"dataframe\">\n",
       "  <thead>\n",
       "    <tr style=\"text-align: right;\">\n",
       "      <th></th>\n",
       "      <th>PM</th>\n",
       "      <th>Mode2</th>\n",
       "      <th>linear</th>\n",
       "      <th>quadratic</th>\n",
       "      <th>nearest</th>\n",
       "      <th>cubic</th>\n",
       "      <th>spline1</th>\n",
       "      <th>extra_trees</th>\n",
       "      <th>bagging</th>\n",
       "      <th>elastic_net</th>\n",
       "      <th>linear_regression</th>\n",
       "      <th>knn</th>\n",
       "    </tr>\n",
       "    <tr>\n",
       "      <th>DATE</th>\n",
       "      <th></th>\n",
       "      <th></th>\n",
       "      <th></th>\n",
       "      <th></th>\n",
       "      <th></th>\n",
       "      <th></th>\n",
       "      <th></th>\n",
       "      <th></th>\n",
       "      <th></th>\n",
       "      <th></th>\n",
       "      <th></th>\n",
       "      <th></th>\n",
       "    </tr>\n",
       "  </thead>\n",
       "  <tbody>\n",
       "    <tr>\n",
       "      <th>2019-02-04 18:00:00</th>\n",
       "      <td>70.52</td>\n",
       "      <td>70.52</td>\n",
       "      <td>70.52</td>\n",
       "      <td>70.52</td>\n",
       "      <td>70.52</td>\n",
       "      <td>70.52</td>\n",
       "      <td>70.52</td>\n",
       "      <td>70.52</td>\n",
       "      <td>70.52</td>\n",
       "      <td>70.52</td>\n",
       "      <td>70.52</td>\n",
       "      <td>70.52</td>\n",
       "    </tr>\n",
       "    <tr>\n",
       "      <th>2019-02-04 19:00:00</th>\n",
       "      <td>61.39</td>\n",
       "      <td>61.39</td>\n",
       "      <td>61.39</td>\n",
       "      <td>61.39</td>\n",
       "      <td>61.39</td>\n",
       "      <td>61.39</td>\n",
       "      <td>61.39</td>\n",
       "      <td>61.39</td>\n",
       "      <td>61.39</td>\n",
       "      <td>61.39</td>\n",
       "      <td>61.39</td>\n",
       "      <td>61.39</td>\n",
       "    </tr>\n",
       "    <tr>\n",
       "      <th>2019-02-04 20:00:00</th>\n",
       "      <td>59.94</td>\n",
       "      <td>59.94</td>\n",
       "      <td>59.94</td>\n",
       "      <td>59.94</td>\n",
       "      <td>59.94</td>\n",
       "      <td>59.94</td>\n",
       "      <td>59.94</td>\n",
       "      <td>59.94</td>\n",
       "      <td>59.94</td>\n",
       "      <td>59.94</td>\n",
       "      <td>59.94</td>\n",
       "      <td>59.94</td>\n",
       "    </tr>\n",
       "    <tr>\n",
       "      <th>2019-02-04 21:00:00</th>\n",
       "      <td>76.44</td>\n",
       "      <td>76.44</td>\n",
       "      <td>76.44</td>\n",
       "      <td>76.44</td>\n",
       "      <td>76.44</td>\n",
       "      <td>76.44</td>\n",
       "      <td>76.44</td>\n",
       "      <td>76.44</td>\n",
       "      <td>76.44</td>\n",
       "      <td>76.44</td>\n",
       "      <td>76.44</td>\n",
       "      <td>76.44</td>\n",
       "    </tr>\n",
       "    <tr>\n",
       "      <th>2019-02-04 22:00:00</th>\n",
       "      <td>98.54</td>\n",
       "      <td>98.54</td>\n",
       "      <td>98.54</td>\n",
       "      <td>98.54</td>\n",
       "      <td>98.54</td>\n",
       "      <td>98.54</td>\n",
       "      <td>98.54</td>\n",
       "      <td>98.54</td>\n",
       "      <td>98.54</td>\n",
       "      <td>98.54</td>\n",
       "      <td>98.54</td>\n",
       "      <td>98.54</td>\n",
       "    </tr>\n",
       "    <tr>\n",
       "      <th>...</th>\n",
       "      <td>...</td>\n",
       "      <td>...</td>\n",
       "      <td>...</td>\n",
       "      <td>...</td>\n",
       "      <td>...</td>\n",
       "      <td>...</td>\n",
       "      <td>...</td>\n",
       "      <td>...</td>\n",
       "      <td>...</td>\n",
       "      <td>...</td>\n",
       "      <td>...</td>\n",
       "      <td>...</td>\n",
       "    </tr>\n",
       "    <tr>\n",
       "      <th>2022-12-02 20:00:00</th>\n",
       "      <td>120.98</td>\n",
       "      <td>120.98</td>\n",
       "      <td>120.98</td>\n",
       "      <td>120.98</td>\n",
       "      <td>120.98</td>\n",
       "      <td>120.98</td>\n",
       "      <td>120.98</td>\n",
       "      <td>120.98</td>\n",
       "      <td>120.98</td>\n",
       "      <td>120.98</td>\n",
       "      <td>120.98</td>\n",
       "      <td>120.98</td>\n",
       "    </tr>\n",
       "    <tr>\n",
       "      <th>2022-12-02 21:00:00</th>\n",
       "      <td>115.37</td>\n",
       "      <td>115.37</td>\n",
       "      <td>115.37</td>\n",
       "      <td>115.37</td>\n",
       "      <td>115.37</td>\n",
       "      <td>115.37</td>\n",
       "      <td>115.37</td>\n",
       "      <td>115.37</td>\n",
       "      <td>115.37</td>\n",
       "      <td>115.37</td>\n",
       "      <td>115.37</td>\n",
       "      <td>115.37</td>\n",
       "    </tr>\n",
       "    <tr>\n",
       "      <th>2022-12-02 22:00:00</th>\n",
       "      <td>104.06</td>\n",
       "      <td>104.06</td>\n",
       "      <td>104.06</td>\n",
       "      <td>104.06</td>\n",
       "      <td>104.06</td>\n",
       "      <td>104.06</td>\n",
       "      <td>104.06</td>\n",
       "      <td>104.06</td>\n",
       "      <td>104.06</td>\n",
       "      <td>104.06</td>\n",
       "      <td>104.06</td>\n",
       "      <td>104.06</td>\n",
       "    </tr>\n",
       "    <tr>\n",
       "      <th>2022-12-02 23:00:00</th>\n",
       "      <td>110.59</td>\n",
       "      <td>110.59</td>\n",
       "      <td>110.59</td>\n",
       "      <td>110.59</td>\n",
       "      <td>110.59</td>\n",
       "      <td>110.59</td>\n",
       "      <td>110.59</td>\n",
       "      <td>110.59</td>\n",
       "      <td>110.59</td>\n",
       "      <td>110.59</td>\n",
       "      <td>110.59</td>\n",
       "      <td>110.59</td>\n",
       "    </tr>\n",
       "    <tr>\n",
       "      <th>2022-12-03 00:00:00</th>\n",
       "      <td>122.87</td>\n",
       "      <td>122.87</td>\n",
       "      <td>122.87</td>\n",
       "      <td>122.87</td>\n",
       "      <td>122.87</td>\n",
       "      <td>122.87</td>\n",
       "      <td>122.87</td>\n",
       "      <td>122.87</td>\n",
       "      <td>122.87</td>\n",
       "      <td>122.87</td>\n",
       "      <td>122.87</td>\n",
       "      <td>122.87</td>\n",
       "    </tr>\n",
       "  </tbody>\n",
       "</table>\n",
       "<p>33535 rows × 12 columns</p>\n",
       "</div>\n",
       "      <button class=\"colab-df-convert\" onclick=\"convertToInteractive('df-6aad2f31-b188-4e92-a091-98a0cffc5b15')\"\n",
       "              title=\"Convert this dataframe to an interactive table.\"\n",
       "              style=\"display:none;\">\n",
       "        \n",
       "  <svg xmlns=\"http://www.w3.org/2000/svg\" height=\"24px\"viewBox=\"0 0 24 24\"\n",
       "       width=\"24px\">\n",
       "    <path d=\"M0 0h24v24H0V0z\" fill=\"none\"/>\n",
       "    <path d=\"M18.56 5.44l.94 2.06.94-2.06 2.06-.94-2.06-.94-.94-2.06-.94 2.06-2.06.94zm-11 1L8.5 8.5l.94-2.06 2.06-.94-2.06-.94L8.5 2.5l-.94 2.06-2.06.94zm10 10l.94 2.06.94-2.06 2.06-.94-2.06-.94-.94-2.06-.94 2.06-2.06.94z\"/><path d=\"M17.41 7.96l-1.37-1.37c-.4-.4-.92-.59-1.43-.59-.52 0-1.04.2-1.43.59L10.3 9.45l-7.72 7.72c-.78.78-.78 2.05 0 2.83L4 21.41c.39.39.9.59 1.41.59.51 0 1.02-.2 1.41-.59l7.78-7.78 2.81-2.81c.8-.78.8-2.07 0-2.86zM5.41 20L4 18.59l7.72-7.72 1.47 1.35L5.41 20z\"/>\n",
       "  </svg>\n",
       "      </button>\n",
       "      \n",
       "  <style>\n",
       "    .colab-df-container {\n",
       "      display:flex;\n",
       "      flex-wrap:wrap;\n",
       "      gap: 12px;\n",
       "    }\n",
       "\n",
       "    .colab-df-convert {\n",
       "      background-color: #E8F0FE;\n",
       "      border: none;\n",
       "      border-radius: 50%;\n",
       "      cursor: pointer;\n",
       "      display: none;\n",
       "      fill: #1967D2;\n",
       "      height: 32px;\n",
       "      padding: 0 0 0 0;\n",
       "      width: 32px;\n",
       "    }\n",
       "\n",
       "    .colab-df-convert:hover {\n",
       "      background-color: #E2EBFA;\n",
       "      box-shadow: 0px 1px 2px rgba(60, 64, 67, 0.3), 0px 1px 3px 1px rgba(60, 64, 67, 0.15);\n",
       "      fill: #174EA6;\n",
       "    }\n",
       "\n",
       "    [theme=dark] .colab-df-convert {\n",
       "      background-color: #3B4455;\n",
       "      fill: #D2E3FC;\n",
       "    }\n",
       "\n",
       "    [theme=dark] .colab-df-convert:hover {\n",
       "      background-color: #434B5C;\n",
       "      box-shadow: 0px 1px 3px 1px rgba(0, 0, 0, 0.15);\n",
       "      filter: drop-shadow(0px 1px 2px rgba(0, 0, 0, 0.3));\n",
       "      fill: #FFFFFF;\n",
       "    }\n",
       "  </style>\n",
       "\n",
       "      <script>\n",
       "        const buttonEl =\n",
       "          document.querySelector('#df-6aad2f31-b188-4e92-a091-98a0cffc5b15 button.colab-df-convert');\n",
       "        buttonEl.style.display =\n",
       "          google.colab.kernel.accessAllowed ? 'block' : 'none';\n",
       "\n",
       "        async function convertToInteractive(key) {\n",
       "          const element = document.querySelector('#df-6aad2f31-b188-4e92-a091-98a0cffc5b15');\n",
       "          const dataTable =\n",
       "            await google.colab.kernel.invokeFunction('convertToInteractive',\n",
       "                                                     [key], {});\n",
       "          if (!dataTable) return;\n",
       "\n",
       "          const docLinkHtml = 'Like what you see? Visit the ' +\n",
       "            '<a target=\"_blank\" href=https://colab.research.google.com/notebooks/data_table.ipynb>data table notebook</a>'\n",
       "            + ' to learn more about interactive tables.';\n",
       "          element.innerHTML = '';\n",
       "          dataTable['output_type'] = 'display_data';\n",
       "          await google.colab.output.renderOutput(dataTable, element);\n",
       "          const docLink = document.createElement('div');\n",
       "          docLink.innerHTML = docLinkHtml;\n",
       "          element.appendChild(docLink);\n",
       "        }\n",
       "      </script>\n",
       "    </div>\n",
       "  </div>\n",
       "  "
      ],
      "text/plain": [
       "                         PM   Mode2  linear  quadratic  nearest   cubic  \\\n",
       "DATE                                                                      \n",
       "2019-02-04 18:00:00   70.52   70.52   70.52      70.52    70.52   70.52   \n",
       "2019-02-04 19:00:00   61.39   61.39   61.39      61.39    61.39   61.39   \n",
       "2019-02-04 20:00:00   59.94   59.94   59.94      59.94    59.94   59.94   \n",
       "2019-02-04 21:00:00   76.44   76.44   76.44      76.44    76.44   76.44   \n",
       "2019-02-04 22:00:00   98.54   98.54   98.54      98.54    98.54   98.54   \n",
       "...                     ...     ...     ...        ...      ...     ...   \n",
       "2022-12-02 20:00:00  120.98  120.98  120.98     120.98   120.98  120.98   \n",
       "2022-12-02 21:00:00  115.37  115.37  115.37     115.37   115.37  115.37   \n",
       "2022-12-02 22:00:00  104.06  104.06  104.06     104.06   104.06  104.06   \n",
       "2022-12-02 23:00:00  110.59  110.59  110.59     110.59   110.59  110.59   \n",
       "2022-12-03 00:00:00  122.87  122.87  122.87     122.87   122.87  122.87   \n",
       "\n",
       "                     spline1  extra_trees  bagging  elastic_net  \\\n",
       "DATE                                                              \n",
       "2019-02-04 18:00:00    70.52        70.52    70.52        70.52   \n",
       "2019-02-04 19:00:00    61.39        61.39    61.39        61.39   \n",
       "2019-02-04 20:00:00    59.94        59.94    59.94        59.94   \n",
       "2019-02-04 21:00:00    76.44        76.44    76.44        76.44   \n",
       "2019-02-04 22:00:00    98.54        98.54    98.54        98.54   \n",
       "...                      ...          ...      ...          ...   \n",
       "2022-12-02 20:00:00   120.98       120.98   120.98       120.98   \n",
       "2022-12-02 21:00:00   115.37       115.37   115.37       115.37   \n",
       "2022-12-02 22:00:00   104.06       104.06   104.06       104.06   \n",
       "2022-12-02 23:00:00   110.59       110.59   110.59       110.59   \n",
       "2022-12-03 00:00:00   122.87       122.87   122.87       122.87   \n",
       "\n",
       "                     linear_regression      knn  \n",
       "DATE                                             \n",
       "2019-02-04 18:00:00               70.52   70.52  \n",
       "2019-02-04 19:00:00               61.39   61.39  \n",
       "2019-02-04 20:00:00               59.94   59.94  \n",
       "2019-02-04 21:00:00               76.44   76.44  \n",
       "2019-02-04 22:00:00               98.54   98.54  \n",
       "...                                 ...     ...  \n",
       "2022-12-02 20:00:00              120.98  120.98  \n",
       "2022-12-02 21:00:00              115.37  115.37  \n",
       "2022-12-02 22:00:00              104.06  104.06  \n",
       "2022-12-02 23:00:00              110.59  110.59  \n",
       "2022-12-03 00:00:00              122.87  122.87  \n",
       "\n",
       "[33535 rows x 12 columns]"
      ]
     },
     "execution_count": 62,
     "metadata": {},
     "output_type": "execute_result"
    }
   ],
   "source": [
    "df1_train.set_index('DATE')"
   ]
  },
  {
   "cell_type": "code",
   "execution_count": null,
   "id": "R8kZ6Wf40Er5",
   "metadata": {
    "id": "R8kZ6Wf40Er5"
   },
   "outputs": [],
   "source": [
    "a=df1_train['PM'].mode()\n",
    "a\n",
    "df1_train['Median'] = df1_train['PM'].fillna(df1_train['PM'].median())"
   ]
  },
  {
   "cell_type": "code",
   "execution_count": null,
   "id": "2f98e76b-3603-4809-afa6-beb83da16c95",
   "metadata": {
    "colab": {
     "base_uri": "https://localhost:8080/",
     "height": 282
    },
    "executionInfo": {
     "elapsed": 21,
     "status": "ok",
     "timestamp": 1670430079001,
     "user": {
      "displayName": "Abhijeet Kumar",
      "userId": "18174877903277820406"
     },
     "user_tz": -330
    },
    "id": "2f98e76b-3603-4809-afa6-beb83da16c95",
    "outputId": "ebc3ed88-f149-4830-d3e7-b8123eda64bc"
   },
   "outputs": [
    {
     "data": {
      "text/plain": [
       "<matplotlib.axes._subplots.AxesSubplot at 0x7f226dbcaf10>"
      ]
     },
     "execution_count": 64,
     "metadata": {},
     "output_type": "execute_result"
    },
    {
     "data": {
      "image/png": "[encoded data removed]",
      "text/plain": [
       "<Figure size 432x288 with 1 Axes>"
      ]
     },
     "metadata": {},
     "output_type": "display_data"
    }
   ],
   "source": [
    "df1_train[['Median', 'PM']].plot()"
   ]
  },
  {
   "cell_type": "code",
   "execution_count": null,
   "id": "0cdb8340-50ab-4f3c-8e73-383b4799c18f",
   "metadata": {
    "id": "0cdb8340-50ab-4f3c-8e73-383b4799c18f"
   },
   "outputs": [],
   "source": []
  },
  {
   "cell_type": "code",
   "execution_count": null,
   "id": "78c2ffac-cc07-44f2-beec-774457e2d747",
   "metadata": {
    "colab": {
     "base_uri": "https://localhost:8080/"
    },
    "executionInfo": {
     "elapsed": 461,
     "status": "ok",
     "timestamp": 1670432693992,
     "user": {
      "displayName": "Abhijeet Kumar",
      "userId": "18174877903277820406"
     },
     "user_tz": -330
    },
    "id": "78c2ffac-cc07-44f2-beec-774457e2d747",
    "outputId": "0c47322c-4ec2-4b59-d05f-d455dfd9fba4"
   },
   "outputs": [
    {
     "name": "stderr",
     "output_type": "stream",
     "text": [
      "/usr/local/lib/python3.8/dist-packages/statsmodels/tsa/base/tsa_model.py:578: ValueWarning: An unsupported index was provided and will be ignored when e.g. forecasting.\n",
      "  warnings.warn('An unsupported index was provided and will be'\n",
      "/usr/local/lib/python3.8/dist-packages/statsmodels/tsa/base/tsa_model.py:578: ValueWarning: An unsupported index was provided and will be ignored when e.g. forecasting.\n",
      "  warnings.warn('An unsupported index was provided and will be'\n",
      "/usr/local/lib/python3.8/dist-packages/statsmodels/tsa/base/tsa_model.py:578: ValueWarning: An unsupported index was provided and will be ignored when e.g. forecasting.\n",
      "  warnings.warn('An unsupported index was provided and will be'\n"
     ]
    }
   ],
   "source": [
    "from statsmodels.tsa.arima.model import ARIMA\n",
    "model=ARIMA(df1_train['PM'], order=(24,0,1))"
   ]
  },
  {
   "cell_type": "code",
   "execution_count": null,
   "id": "71a9323b-2dd7-4b80-b72d-6ea48968a85f",
   "metadata": {
    "colab": {
     "base_uri": "https://localhost:8080/"
    },
    "executionInfo": {
     "elapsed": 426852,
     "status": "ok",
     "timestamp": 1670433123728,
     "user": {
      "displayName": "Abhijeet Kumar",
      "userId": "18174877903277820406"
     },
     "user_tz": -330
    },
    "id": "71a9323b-2dd7-4b80-b72d-6ea48968a85f",
    "outputId": "2b772d0d-45b3-43a2-8aba-32a1e860380b"
   },
   "outputs": [
    {
     "name": "stderr",
     "output_type": "stream",
     "text": [
      "/usr/local/lib/python3.8/dist-packages/statsmodels/base/model.py:566: ConvergenceWarning: Maximum Likelihood optimization failed to converge. Check mle_retvals\n",
      "  warnings.warn(\"Maximum Likelihood optimization failed to \"\n"
     ]
    }
   ],
   "source": [
    "model_fit=model.fit()"
   ]
  },
  {
   "cell_type": "code",
   "execution_count": null,
   "id": "181e0424-db16-4f01-b483-a29ce7afafaf",
   "metadata": {
    "colab": {
     "base_uri": "https://localhost:8080/",
     "height": 943
    },
    "executionInfo": {
     "elapsed": 1011,
     "status": "ok",
     "timestamp": 1670433130138,
     "user": {
      "displayName": "Abhijeet Kumar",
      "userId": "18174877903277820406"
     },
     "user_tz": -330
    },
    "id": "181e0424-db16-4f01-b483-a29ce7afafaf",
    "outputId": "9375e981-4a0b-4d1c-b756-4ae258a4a830"
   },
   "outputs": [
    {
     "data": {
      "text/html": [
       "<table class=\"simpletable\">\n",
       "<caption>SARIMAX Results</caption>\n",
       "<tr>\n",
       "  <th>Dep. Variable:</th>          <td>PM</td>        <th>  No. Observations:  </th>    <td>33535</td>   \n",
       "</tr>\n",
       "<tr>\n",
       "  <th>Model:</th>            <td>ARIMA(24, 0, 1)</td> <th>  Log Likelihood     </th> <td>-117848.122</td>\n",
       "</tr>\n",
       "<tr>\n",
       "  <th>Date:</th>            <td>Wed, 07 Dec 2022</td> <th>  AIC                </th> <td>235750.244</td> \n",
       "</tr>\n",
       "<tr>\n",
       "  <th>Time:</th>                <td>17:12:08</td>     <th>  BIC                </th> <td>235977.593</td> \n",
       "</tr>\n",
       "<tr>\n",
       "  <th>Sample:</th>                  <td>0</td>        <th>  HQIC               </th> <td>235822.807</td> \n",
       "</tr>\n",
       "<tr>\n",
       "  <th></th>                     <td> - 33535</td>     <th>                     </th>      <td> </td>     \n",
       "</tr>\n",
       "<tr>\n",
       "  <th>Covariance Type:</th>        <td>opg</td>       <th>                     </th>      <td> </td>     \n",
       "</tr>\n",
       "</table>\n",
       "<table class=\"simpletable\">\n",
       "<tr>\n",
       "     <td></td>       <th>coef</th>     <th>std err</th>      <th>z</th>      <th>P>|z|</th>  <th>[0.025</th>    <th>0.975]</th>  \n",
       "</tr>\n",
       "<tr>\n",
       "  <th>const</th>  <td>   58.4186</td> <td>    3.978</td> <td>   14.686</td> <td> 0.000</td> <td>   50.622</td> <td>   66.215</td>\n",
       "</tr>\n",
       "<tr>\n",
       "  <th>ar.L1</th>  <td>    0.0589</td> <td>    0.011</td> <td>    5.449</td> <td> 0.000</td> <td>    0.038</td> <td>    0.080</td>\n",
       "</tr>\n",
       "<tr>\n",
       "  <th>ar.L2</th>  <td>    0.5946</td> <td>    0.011</td> <td>   54.227</td> <td> 0.000</td> <td>    0.573</td> <td>    0.616</td>\n",
       "</tr>\n",
       "<tr>\n",
       "  <th>ar.L3</th>  <td>   -0.0999</td> <td>    0.005</td> <td>  -22.197</td> <td> 0.000</td> <td>   -0.109</td> <td>   -0.091</td>\n",
       "</tr>\n",
       "<tr>\n",
       "  <th>ar.L4</th>  <td>    0.0870</td> <td>    0.004</td> <td>   22.233</td> <td> 0.000</td> <td>    0.079</td> <td>    0.095</td>\n",
       "</tr>\n",
       "<tr>\n",
       "  <th>ar.L5</th>  <td>   -0.0615</td> <td>    0.003</td> <td>  -17.608</td> <td> 0.000</td> <td>   -0.068</td> <td>   -0.055</td>\n",
       "</tr>\n",
       "<tr>\n",
       "  <th>ar.L6</th>  <td>    0.0494</td> <td>    0.003</td> <td>   14.230</td> <td> 0.000</td> <td>    0.043</td> <td>    0.056</td>\n",
       "</tr>\n",
       "<tr>\n",
       "  <th>ar.L7</th>  <td>   -0.0119</td> <td>    0.005</td> <td>   -2.351</td> <td> 0.019</td> <td>   -0.022</td> <td>   -0.002</td>\n",
       "</tr>\n",
       "<tr>\n",
       "  <th>ar.L8</th>  <td>   -0.0035</td> <td>    0.006</td> <td>   -0.594</td> <td> 0.553</td> <td>   -0.015</td> <td>    0.008</td>\n",
       "</tr>\n",
       "<tr>\n",
       "  <th>ar.L9</th>  <td>    0.0035</td> <td>    0.006</td> <td>    0.542</td> <td> 0.588</td> <td>   -0.009</td> <td>    0.016</td>\n",
       "</tr>\n",
       "<tr>\n",
       "  <th>ar.L10</th> <td>    0.0122</td> <td>    0.006</td> <td>    2.028</td> <td> 0.043</td> <td>    0.000</td> <td>    0.024</td>\n",
       "</tr>\n",
       "<tr>\n",
       "  <th>ar.L11</th> <td>    0.0179</td> <td>    0.005</td> <td>    3.574</td> <td> 0.000</td> <td>    0.008</td> <td>    0.028</td>\n",
       "</tr>\n",
       "<tr>\n",
       "  <th>ar.L12</th> <td>    0.0622</td> <td>    0.005</td> <td>   13.103</td> <td> 0.000</td> <td>    0.053</td> <td>    0.072</td>\n",
       "</tr>\n",
       "<tr>\n",
       "  <th>ar.L13</th> <td>    0.0038</td> <td>    0.006</td> <td>    0.650</td> <td> 0.516</td> <td>   -0.008</td> <td>    0.015</td>\n",
       "</tr>\n",
       "<tr>\n",
       "  <th>ar.L14</th> <td>   -0.0290</td> <td>    0.005</td> <td>   -5.596</td> <td> 0.000</td> <td>   -0.039</td> <td>   -0.019</td>\n",
       "</tr>\n",
       "<tr>\n",
       "  <th>ar.L15</th> <td>   -0.0077</td> <td>    0.005</td> <td>   -1.575</td> <td> 0.115</td> <td>   -0.017</td> <td>    0.002</td>\n",
       "</tr>\n",
       "<tr>\n",
       "  <th>ar.L16</th> <td>    0.0008</td> <td>    0.005</td> <td>    0.170</td> <td> 0.865</td> <td>   -0.008</td> <td>    0.010</td>\n",
       "</tr>\n",
       "<tr>\n",
       "  <th>ar.L17</th> <td>    0.0041</td> <td>    0.005</td> <td>    0.755</td> <td> 0.450</td> <td>   -0.007</td> <td>    0.015</td>\n",
       "</tr>\n",
       "<tr>\n",
       "  <th>ar.L18</th> <td>    0.0148</td> <td>    0.007</td> <td>    2.256</td> <td> 0.024</td> <td>    0.002</td> <td>    0.028</td>\n",
       "</tr>\n",
       "<tr>\n",
       "  <th>ar.L19</th> <td>    0.0069</td> <td>    0.006</td> <td>    1.177</td> <td> 0.239</td> <td>   -0.005</td> <td>    0.018</td>\n",
       "</tr>\n",
       "<tr>\n",
       "  <th>ar.L20</th> <td>   -0.0105</td> <td>    0.006</td> <td>   -1.901</td> <td> 0.057</td> <td>   -0.021</td> <td>    0.000</td>\n",
       "</tr>\n",
       "<tr>\n",
       "  <th>ar.L21</th> <td>    0.0311</td> <td>    0.004</td> <td>    7.403</td> <td> 0.000</td> <td>    0.023</td> <td>    0.039</td>\n",
       "</tr>\n",
       "<tr>\n",
       "  <th>ar.L22</th> <td>    0.0484</td> <td>    0.004</td> <td>   10.929</td> <td> 0.000</td> <td>    0.040</td> <td>    0.057</td>\n",
       "</tr>\n",
       "<tr>\n",
       "  <th>ar.L23</th> <td>    0.0805</td> <td>    0.003</td> <td>   26.277</td> <td> 0.000</td> <td>    0.074</td> <td>    0.086</td>\n",
       "</tr>\n",
       "<tr>\n",
       "  <th>ar.L24</th> <td>    0.0939</td> <td>    0.003</td> <td>   32.905</td> <td> 0.000</td> <td>    0.088</td> <td>    0.099</td>\n",
       "</tr>\n",
       "<tr>\n",
       "  <th>ma.L1</th>  <td>    0.9377</td> <td>    0.011</td> <td>   86.272</td> <td> 0.000</td> <td>    0.916</td> <td>    0.959</td>\n",
       "</tr>\n",
       "<tr>\n",
       "  <th>sigma2</th> <td>  237.9566</td> <td>    0.188</td> <td> 1266.739</td> <td> 0.000</td> <td>  237.588</td> <td>  238.325</td>\n",
       "</tr>\n",
       "</table>\n",
       "<table class=\"simpletable\">\n",
       "<tr>\n",
       "  <th>Ljung-Box (L1) (Q):</th>     <td>130.21</td> <th>  Jarque-Bera (JB):  </th> <td>415890356.81</td>\n",
       "</tr>\n",
       "<tr>\n",
       "  <th>Prob(Q):</th>                 <td>0.00</td>  <th>  Prob(JB):          </th>     <td>0.00</td>    \n",
       "</tr>\n",
       "<tr>\n",
       "  <th>Heteroskedasticity (H):</th>  <td>4.01</td>  <th>  Skew:              </th>     <td>4.04</td>    \n",
       "</tr>\n",
       "<tr>\n",
       "  <th>Prob(H) (two-sided):</th>     <td>0.00</td>  <th>  Kurtosis:          </th>    <td>548.50</td>   \n",
       "</tr>\n",
       "</table><br/><br/>Warnings:<br/>[1] Covariance matrix calculated using the outer product of gradients (complex-step)."
      ],
      "text/plain": [
       "<class 'statsmodels.iolib.summary.Summary'>\n",
       "\"\"\"\n",
       "                               SARIMAX Results                                \n",
       "==============================================================================\n",
       "Dep. Variable:                     PM   No. Observations:                33535\n",
       "Model:                ARIMA(24, 0, 1)   Log Likelihood             -117848.122\n",
       "Date:                Wed, 07 Dec 2022   AIC                         235750.244\n",
       "Time:                        17:12:08   BIC                         235977.593\n",
       "Sample:                             0   HQIC                        235822.807\n",
       "                              - 33535                                         \n",
       "Covariance Type:                  opg                                         \n",
       "==============================================================================\n",
       "                 coef    std err          z      P>|z|      [0.025      0.975]\n",
       "------------------------------------------------------------------------------\n",
       "const         58.4186      3.978     14.686      0.000      50.622      66.215\n",
       "ar.L1          0.0589      0.011      5.449      0.000       0.038       0.080\n",
       "ar.L2          0.5946      0.011     54.227      0.000       0.573       0.616\n",
       "ar.L3         -0.0999      0.005    -22.197      0.000      -0.109      -0.091\n",
       "ar.L4          0.0870      0.004     22.233      0.000       0.079       0.095\n",
       "ar.L5         -0.0615      0.003    -17.608      0.000      -0.068      -0.055\n",
       "ar.L6          0.0494      0.003     14.230      0.000       0.043       0.056\n",
       "ar.L7         -0.0119      0.005     -2.351      0.019      -0.022      -0.002\n",
       "ar.L8         -0.0035      0.006     -0.594      0.553      -0.015       0.008\n",
       "ar.L9          0.0035      0.006      0.542      0.588      -0.009       0.016\n",
       "ar.L10         0.0122      0.006      2.028      0.043       0.000       0.024\n",
       "ar.L11         0.0179      0.005      3.574      0.000       0.008       0.028\n",
       "ar.L12         0.0622      0.005     13.103      0.000       0.053       0.072\n",
       "ar.L13         0.0038      0.006      0.650      0.516      -0.008       0.015\n",
       "ar.L14        -0.0290      0.005     -5.596      0.000      -0.039      -0.019\n",
       "ar.L15        -0.0077      0.005     -1.575      0.115      -0.017       0.002\n",
       "ar.L16         0.0008      0.005      0.170      0.865      -0.008       0.010\n",
       "ar.L17         0.0041      0.005      0.755      0.450      -0.007       0.015\n",
       "ar.L18         0.0148      0.007      2.256      0.024       0.002       0.028\n",
       "ar.L19         0.0069      0.006      1.177      0.239      -0.005       0.018\n",
       "ar.L20        -0.0105      0.006     -1.901      0.057      -0.021       0.000\n",
       "ar.L21         0.0311      0.004      7.403      0.000       0.023       0.039\n",
       "ar.L22         0.0484      0.004     10.929      0.000       0.040       0.057\n",
       "ar.L23         0.0805      0.003     26.277      0.000       0.074       0.086\n",
       "ar.L24         0.0939      0.003     32.905      0.000       0.088       0.099\n",
       "ma.L1          0.9377      0.011     86.272      0.000       0.916       0.959\n",
       "sigma2       237.9566      0.188   1266.739      0.000     237.588     238.325\n",
       "===================================================================================\n",
       "Ljung-Box (L1) (Q):                 130.21   Jarque-Bera (JB):         415890356.81\n",
       "Prob(Q):                              0.00   Prob(JB):                         0.00\n",
       "Heteroskedasticity (H):               4.01   Skew:                             4.04\n",
       "Prob(H) (two-sided):                  0.00   Kurtosis:                       548.50\n",
       "===================================================================================\n",
       "\n",
       "Warnings:\n",
       "[1] Covariance matrix calculated using the outer product of gradients (complex-step).\n",
       "\"\"\""
      ]
     },
     "execution_count": 70,
     "metadata": {},
     "output_type": "execute_result"
    }
   ],
   "source": [
    "model_fit.summary()"
   ]
  },
  {
   "cell_type": "code",
   "execution_count": null,
   "id": "14f580d3-3412-406c-8ff6-e00af8021693",
   "metadata": {
    "id": "14f580d3-3412-406c-8ff6-e00af8021693"
   },
   "outputs": [],
   "source": [
    "df1_train['forecast2']=model_fit.predict(start=11500, end=12900, dynamic=False)"
   ]
  },
  {
   "cell_type": "code",
   "execution_count": null,
   "id": "YNyuOGMqkxOq",
   "metadata": {
    "colab": {
     "base_uri": "https://localhost:8080/",
     "height": 282
    },
    "executionInfo": {
     "elapsed": 10,
     "status": "ok",
     "timestamp": 1670433588094,
     "user": {
      "displayName": "Abhijeet Kumar",
      "userId": "18174877903277820406"
     },
     "user_tz": -330
    },
    "id": "YNyuOGMqkxOq",
    "outputId": "cb0ba2dd-abfa-44c3-ce18-a41caab2a306"
   },
   "outputs": [
    {
     "data": {
      "text/plain": [
       "<matplotlib.axes._subplots.AxesSubplot at 0x7f225ce24400>"
      ]
     },
     "execution_count": 83,
     "metadata": {},
     "output_type": "execute_result"
    },
    {
     "data": {
      "image/png": "[encoded data removed]",
      "text/plain": [
       "<Figure size 432x288 with 1 Axes>"
      ]
     },
     "metadata": {},
     "output_type": "display_data"
    }
   ],
   "source": [
    "df1_train[['forecast2','PM']].iloc[11500:13000,:].plot()\n",
    "#df1_train[['forecast2','PM']].plot()"
   ]
  }
 ],
 "metadata": {
  "canvas": {
   "colorPalette": [
    "inherit",
    "inherit",
    "inherit",
    "inherit",
    "inherit",
    "inherit",
    "inherit",
    "inherit",
    "inherit",
    "inherit"
   ],
   "parameters": []
  },
  "colab": {
   "provenance": [
    {
     "file_id": "1NVPJTNa7Lgg6ftR-lcFO8FxUFzDCe46T",
     "timestamp": 1670568579684
    },
    {
     "file_id": "10Tf7YjyO_B4UK7fEEQrLjNMNdlJYqd2W",
     "timestamp": 1670469937551
    }
   ]
  },
  "kernelspec": {
   "display_name": "Python 3 (ipykernel)",
   "language": "python",
   "name": "python3"
  },
  "language_info": {
   "codemirror_mode": {
    "name": "ipython",
    "version": 3
   },
   "file_extension": ".py",
   "mimetype": "text/x-python",
   "name": "python",
   "nbconvert_exporter": "python",
   "pygments_lexer": "ipython3",
   "version": "3.10.8"
  },
  "widgets": {
   "application/vnd.jupyter.widget-state+json": {
    "state": {},
    "version_major": 2,
    "version_minor": 0
   }
  }
 },
 "nbformat": 4,
 "nbformat_minor": 5
}
