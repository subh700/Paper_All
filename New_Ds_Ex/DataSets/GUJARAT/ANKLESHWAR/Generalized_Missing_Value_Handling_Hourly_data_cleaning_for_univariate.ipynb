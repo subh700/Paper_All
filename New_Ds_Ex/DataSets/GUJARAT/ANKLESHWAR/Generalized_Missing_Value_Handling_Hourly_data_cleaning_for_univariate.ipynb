{
 "cells": [
  {
   "cell_type": "code",
   "execution_count": 1,
   "id": "56129861",
   "metadata": {
    "colab": {
     "background_save": true
    },
    "executionInfo": {
     "elapsed": 21,
     "status": "aborted",
     "timestamp": 1670588294545,
     "user": {
      "displayName": "Abhijeet Kumar",
      "userId": "18174877903277820406"
     },
     "user_tz": -330
    },
    "id": "cffdd4c2-9f3e-487a-84fd-0b4d63dd5c1f"
   },
   "outputs": [],
   "source": [
    "import pandas as pd\n",
    "import numpy as np\n",
    "import time\n",
    "#!pip install pandasql\n",
    "import pandasql as ps\n",
    "import matplotlib as mpl\n",
    "import matplotlib.pyplot as plt\n",
    "from pandasql import sqldf\n",
    "pysqldf = lambda q: sqldf(q, globals()) \n",
    "from sklearn.metrics import mean_squared_error\n",
    "from statsmodels.tsa.arima_model import ARIMA"
   ]
  },
  {
   "cell_type": "code",
   "execution_count": 3,
   "id": "48b2e440",
   "metadata": {
    "colab": {
     "base_uri": "https://localhost:8080/"
    },
    "executionInfo": {
     "elapsed": 25398,
     "status": "ok",
     "timestamp": 1670578291615,
     "user": {
      "displayName": "Abhijeet Kumar",
      "userId": "18174877903277820406"
     },
     "user_tz": -330
    },
    "id": "f881e9e5-f798-4eb8-8495-285d0703e042",
    "outputId": "44a759e8-05db-4679-85d4-9b89a709eeab"
   },
   "outputs": [
    {
     "name": "stderr",
     "output_type": "stream",
     "text": [
      "/tmp/ipykernel_33673/252814002.py:33: SettingWithCopyWarning: \n",
      "A value is trying to be set on a copy of a slice from a DataFrame\n",
      "\n",
      "See the caveats in the documentation: https://pandas.pydata.org/pandas-docs/stable/user_guide/indexing.html#returning-a-view-versus-a-copy\n",
      "  df.PM[df.PM == 'None'] = 0\n",
      "/tmp/ipykernel_33673/252814002.py:34: SettingWithCopyWarning: \n",
      "A value is trying to be set on a copy of a slice from a DataFrame\n",
      "\n",
      "See the caveats in the documentation: https://pandas.pydata.org/pandas-docs/stable/user_guide/indexing.html#returning-a-view-versus-a-copy\n",
      "  df.replace(0, np.NaN,inplace=True)\n"
     ]
    }
   ],
   "source": [
    "df=pd.read_excel('H_Ankl_1_2_19-3_12_22-*41* (copy).xlsx',usecols={'CENTRAL POLLUTION CONTROL BOARD','Unnamed: 2'}) #read excel spacfioc colume and import\n",
    "N=1+15\n",
    "df.drop(index=df.index[:N], axis=0, inplace=True) # Drop row through N    (axis = o)=row\n",
    "d = df.rename(columns={'CENTRAL POLLUTION CONTROL BOARD':'Date','Unnamed: 2':'PM'}) # Colume ReName \n",
    "d['DD'] = d['Date'].str.split('-').str[0]   \n",
    "d['MM'] = d['Date'].str.split('-').str[1]\n",
    "d['YYYY'] = d['Date'].str.split('-').str[2]\n",
    "d['YYYY'] = d['YYYY'].map(lambda x: str(x)[:-6])\n",
    "d['Hour'] = d['Date'].str.split(' ').str[1]\n",
    "d['DATE']=d['YYYY']+'-'+d['MM']+'-'+d['DD']+' '+d['Hour']\n",
    "d['DATE']= pd.to_datetime(d['DATE'])\n",
    "d=d.drop(['Date','YYYY','DD','MM','Hour'],axis=1)\n",
    "d['row_num']=np.arange(len(d))\n",
    "q=\"\"\"SELECT row_num from d where PM is null limit 1\"\"\"    #sql query ########################Changes####################\n",
    "df1=ps.sqldf(q, locals())\n",
    "a=df1.values.flatten()\n",
    "b=(a[0])\n",
    "b\n",
    "d=d.iloc[:b,:] \n",
    "d['PM']=d['PM'].replace(0,'None')\n",
    "#q=\"\"\"SELECT row_num from d where PM is null limit 1\"\"\"    #sql query\n",
    "q=\"\"\"SELECT row_num from d where PM <>'None' limit 1\"\"\"    #sql query ########################Changes####################\n",
    "df1=ps.sqldf(q, locals())\n",
    "a=df1.values.flatten()\n",
    "b=(a[0])\n",
    "b\n",
    "q=\"\"\"SELECT row_num from d where PM <>'None' order by row_num desc limit 1\"\"\" \n",
    "dl2=ps.sqldf(q, locals())\n",
    "a=dl2.values.flatten()\n",
    "e=(a[0])\n",
    "e\n",
    "df=d.iloc[b:e,:] \n",
    "df.PM[df.PM == 'None'] = 0\n",
    "df.replace(0, np.NaN,inplace=True)"
   ]
  },
  {
   "cell_type": "code",
   "execution_count": 4,
   "id": "1b72b973",
   "metadata": {
    "id": "69080d27-a8fe-49c5-b482-28a0398f61b7"
   },
   "outputs": [],
   "source": [
    "#df.replace('None', np.NaN,inplace=True)\n",
    "#df[df['PM']== 'None']['PM'] = 0"
   ]
  },
  {
   "cell_type": "code",
   "execution_count": 5,
   "id": "c32b9729",
   "metadata": {
    "colab": {
     "base_uri": "https://localhost:8080/",
     "height": 424
    },
    "executionInfo": {
     "elapsed": 618,
     "status": "ok",
     "timestamp": 1670574212039,
     "user": {
      "displayName": "Abhijeet Kumar",
      "userId": "18174877903277820406"
     },
     "user_tz": -330
    },
    "id": "c2354cb9-35e0-4de2-b2a6-8615a56dadf1",
    "outputId": "326ebdf6-07aa-4a42-f03a-6d2cf26c9e73"
   },
   "outputs": [
    {
     "data": {
      "text/html": [
       "<div>\n",
       "<style scoped>\n",
       "    .dataframe tbody tr th:only-of-type {\n",
       "        vertical-align: middle;\n",
       "    }\n",
       "\n",
       "    .dataframe tbody tr th {\n",
       "        vertical-align: top;\n",
       "    }\n",
       "\n",
       "    .dataframe thead th {\n",
       "        text-align: right;\n",
       "    }\n",
       "</style>\n",
       "<table border=\"1\" class=\"dataframe\">\n",
       "  <thead>\n",
       "    <tr style=\"text-align: right;\">\n",
       "      <th></th>\n",
       "      <th>PM</th>\n",
       "      <th>DATE</th>\n",
       "      <th>row_num</th>\n",
       "    </tr>\n",
       "  </thead>\n",
       "  <tbody>\n",
       "    <tr>\n",
       "      <th>106</th>\n",
       "      <td>70.52</td>\n",
       "      <td>2019-02-04 18:00:00</td>\n",
       "      <td>90</td>\n",
       "    </tr>\n",
       "    <tr>\n",
       "      <th>107</th>\n",
       "      <td>61.39</td>\n",
       "      <td>2019-02-04 19:00:00</td>\n",
       "      <td>91</td>\n",
       "    </tr>\n",
       "    <tr>\n",
       "      <th>108</th>\n",
       "      <td>59.94</td>\n",
       "      <td>2019-02-04 20:00:00</td>\n",
       "      <td>92</td>\n",
       "    </tr>\n",
       "    <tr>\n",
       "      <th>109</th>\n",
       "      <td>76.44</td>\n",
       "      <td>2019-02-04 21:00:00</td>\n",
       "      <td>93</td>\n",
       "    </tr>\n",
       "    <tr>\n",
       "      <th>110</th>\n",
       "      <td>98.54</td>\n",
       "      <td>2019-02-04 22:00:00</td>\n",
       "      <td>94</td>\n",
       "    </tr>\n",
       "    <tr>\n",
       "      <th>...</th>\n",
       "      <td>...</td>\n",
       "      <td>...</td>\n",
       "      <td>...</td>\n",
       "    </tr>\n",
       "    <tr>\n",
       "      <th>33636</th>\n",
       "      <td>120.98</td>\n",
       "      <td>2022-12-02 20:00:00</td>\n",
       "      <td>33620</td>\n",
       "    </tr>\n",
       "    <tr>\n",
       "      <th>33637</th>\n",
       "      <td>115.37</td>\n",
       "      <td>2022-12-02 21:00:00</td>\n",
       "      <td>33621</td>\n",
       "    </tr>\n",
       "    <tr>\n",
       "      <th>33638</th>\n",
       "      <td>104.06</td>\n",
       "      <td>2022-12-02 22:00:00</td>\n",
       "      <td>33622</td>\n",
       "    </tr>\n",
       "    <tr>\n",
       "      <th>33639</th>\n",
       "      <td>110.59</td>\n",
       "      <td>2022-12-02 23:00:00</td>\n",
       "      <td>33623</td>\n",
       "    </tr>\n",
       "    <tr>\n",
       "      <th>33640</th>\n",
       "      <td>122.87</td>\n",
       "      <td>2022-12-03 00:00:00</td>\n",
       "      <td>33624</td>\n",
       "    </tr>\n",
       "  </tbody>\n",
       "</table>\n",
       "<p>33535 rows × 3 columns</p>\n",
       "</div>"
      ],
      "text/plain": [
       "           PM                DATE  row_num\n",
       "106     70.52 2019-02-04 18:00:00       90\n",
       "107     61.39 2019-02-04 19:00:00       91\n",
       "108     59.94 2019-02-04 20:00:00       92\n",
       "109     76.44 2019-02-04 21:00:00       93\n",
       "110     98.54 2019-02-04 22:00:00       94\n",
       "...       ...                 ...      ...\n",
       "33636  120.98 2022-12-02 20:00:00    33620\n",
       "33637  115.37 2022-12-02 21:00:00    33621\n",
       "33638  104.06 2022-12-02 22:00:00    33622\n",
       "33639  110.59 2022-12-02 23:00:00    33623\n",
       "33640  122.87 2022-12-03 00:00:00    33624\n",
       "\n",
       "[33535 rows x 3 columns]"
      ]
     },
     "execution_count": 5,
     "metadata": {},
     "output_type": "execute_result"
    }
   ],
   "source": [
    "df.isna().sum()\n",
    "df.isnull().sum()\n",
    "df"
   ]
  },
  {
   "cell_type": "code",
   "execution_count": 6,
   "id": "7dee8f4c",
   "metadata": {
    "id": "lh_a_JXUWYRH"
   },
   "outputs": [
    {
     "data": {
      "text/plain": [
       "'\\nq=\"\"\"SELECT PM, DATE from df where  row_num < 11869 \"\"\" \\ndl2=ps.sqldf(q, locals())\\n\\nq=\"\"\"SELECT PM, DATE from df where  row_num > 12979 \"\"\" \\ndl3=ps.sqldf(q, locals())\\ndl3\\n\\nq=\"\"\"SELECT PM, DATE from df where  row_num > 11869 and row_num<12979\"\"\" \\ndl4=ps.sqldf(q, locals())\\n'"
      ]
     },
     "execution_count": 6,
     "metadata": {},
     "output_type": "execute_result"
    }
   ],
   "source": [
    "'''\n",
    "q=\"\"\"SELECT PM, DATE from df where  row_num < 11869 \"\"\" \n",
    "dl2=ps.sqldf(q, locals())\n",
    "\n",
    "q=\"\"\"SELECT PM, DATE from df where  row_num > 12979 \"\"\" \n",
    "dl3=ps.sqldf(q, locals())\n",
    "dl3\n",
    "\n",
    "q=\"\"\"SELECT PM, DATE from df where  row_num > 11869 and row_num<12979\"\"\" \n",
    "dl4=ps.sqldf(q, locals())\n",
    "'''"
   ]
  },
  {
   "cell_type": "code",
   "execution_count": 7,
   "id": "b9aeba8c",
   "metadata": {
    "id": "6c3932ae-dbd8-4b8b-ae49-25aae1094c6c"
   },
   "outputs": [],
   "source": [
    "#df['ffill']=df['PM'].fillna(method='ffill')\n",
    "#df['bfill']=df['PM'].fillna(method='bfill')"
   ]
  },
  {
   "cell_type": "code",
   "execution_count": 8,
   "id": "91742c0e",
   "metadata": {
    "id": "61b3d082-6c51-4ad9-a279-c7efcb67762b"
   },
   "outputs": [],
   "source": [
    "#df['final']=((df['ffill']+df['bfill'])/2)"
   ]
  },
  {
   "cell_type": "code",
   "execution_count": 9,
   "id": "33e122a3",
   "metadata": {
    "id": "7ceadc52-772b-4621-bf89-63f668de9313"
   },
   "outputs": [],
   "source": [
    "#df.to_csv('Final.csv')"
   ]
  },
  {
   "cell_type": "code",
   "execution_count": 10,
   "id": "4170dbdd",
   "metadata": {
    "id": "ed1ce288-9e86-4269-bf70-8d4e7dec51ee"
   },
   "outputs": [],
   "source": [
    "#df[['PM','final']].plot()"
   ]
  },
  {
   "cell_type": "code",
   "execution_count": 11,
   "id": "772e9fa9",
   "metadata": {
    "id": "n8VXBzeer1-M"
   },
   "outputs": [],
   "source": [
    "#y_pred=df['final'].tolist()\n",
    "#y_true=df['final'].tolist()\n",
    "#mean_squared_error(y_true, y_pred)**0.5"
   ]
  },
  {
   "cell_type": "code",
   "execution_count": 12,
   "id": "aa408f2d",
   "metadata": {
    "id": "e17135fe-40e9-4180-8ed4-6a7b95d2f1e3"
   },
   "outputs": [],
   "source": [
    "from sklearn.linear_model import LinearRegression"
   ]
  },
  {
   "cell_type": "code",
   "execution_count": 13,
   "id": "95839feb",
   "metadata": {
    "colab": {
     "base_uri": "https://localhost:8080/",
     "height": 235
    },
    "executionInfo": {
     "elapsed": 23,
     "status": "error",
     "timestamp": 1670588294539,
     "user": {
      "displayName": "Abhijeet Kumar",
      "userId": "18174877903277820406"
     },
     "user_tz": -330
    },
    "id": "RMCI23EVrQkC",
    "outputId": "033c450b-6c62-488a-b624-147ecb02b2e3"
   },
   "outputs": [
    {
     "data": {
      "text/html": [
       "<div>\n",
       "<style scoped>\n",
       "    .dataframe tbody tr th:only-of-type {\n",
       "        vertical-align: middle;\n",
       "    }\n",
       "\n",
       "    .dataframe tbody tr th {\n",
       "        vertical-align: top;\n",
       "    }\n",
       "\n",
       "    .dataframe thead th {\n",
       "        text-align: right;\n",
       "    }\n",
       "</style>\n",
       "<table border=\"1\" class=\"dataframe\">\n",
       "  <thead>\n",
       "    <tr style=\"text-align: right;\">\n",
       "      <th></th>\n",
       "      <th>PM</th>\n",
       "    </tr>\n",
       "  </thead>\n",
       "  <tbody>\n",
       "    <tr>\n",
       "      <th>106</th>\n",
       "      <td>70.52</td>\n",
       "    </tr>\n",
       "    <tr>\n",
       "      <th>107</th>\n",
       "      <td>61.39</td>\n",
       "    </tr>\n",
       "    <tr>\n",
       "      <th>108</th>\n",
       "      <td>59.94</td>\n",
       "    </tr>\n",
       "    <tr>\n",
       "      <th>109</th>\n",
       "      <td>76.44</td>\n",
       "    </tr>\n",
       "    <tr>\n",
       "      <th>110</th>\n",
       "      <td>98.54</td>\n",
       "    </tr>\n",
       "    <tr>\n",
       "      <th>...</th>\n",
       "      <td>...</td>\n",
       "    </tr>\n",
       "    <tr>\n",
       "      <th>3454</th>\n",
       "      <td>31.79</td>\n",
       "    </tr>\n",
       "    <tr>\n",
       "      <th>3455</th>\n",
       "      <td>28.46</td>\n",
       "    </tr>\n",
       "    <tr>\n",
       "      <th>3456</th>\n",
       "      <td>35.99</td>\n",
       "    </tr>\n",
       "    <tr>\n",
       "      <th>3457</th>\n",
       "      <td>36.10</td>\n",
       "    </tr>\n",
       "    <tr>\n",
       "      <th>3458</th>\n",
       "      <td>29.75</td>\n",
       "    </tr>\n",
       "  </tbody>\n",
       "</table>\n",
       "<p>3353 rows × 1 columns</p>\n",
       "</div>"
      ],
      "text/plain": [
       "         PM\n",
       "106   70.52\n",
       "107   61.39\n",
       "108   59.94\n",
       "109   76.44\n",
       "110   98.54\n",
       "...     ...\n",
       "3454  31.79\n",
       "3455  28.46\n",
       "3456  35.99\n",
       "3457  36.10\n",
       "3458  29.75\n",
       "\n",
       "[3353 rows x 1 columns]"
      ]
     },
     "execution_count": 13,
     "metadata": {},
     "output_type": "execute_result"
    }
   ],
   "source": [
    "\n",
    "def divideData(df):\n",
    "  df.dropna()\n",
    "  a=len(df)\n",
    "  #print(a)\n",
    "  form=['X_train2', 'X_train3', 'X_train4', 'X_train5', 'X_train6', 'X_train7', 'X_train8', 'X_train9', 'X_train10']\n",
    "  Testing=[ 'X_test2', 'X_test3', 'X_test4', 'X_test5', 'X_test6', 'X_test7', 'X_test8', 'X_test9', 'X_test10']\n",
    "  #list_of_df = list()\n",
    "  x=int(0.1*a)\n",
    "  #print(x)\n",
    "  j=1\n",
    "  X_train1 = df.iloc[0:x,0:1]\n",
    "  #print(X_train1)\n",
    "  X_test1=X_train1.iloc[:,0:1].copy()\n",
    "  #X_train1.loc[X_train1.index[:], 0:1] = np.nan\n",
    "  X_train1.iloc[:, 0:1] = np.nan\n",
    "  '''\n",
    "  for (a, b) in zip(form, Testing):\n",
    "    b=pd.DataFrame()\n",
    "    b=a.iloc[:,0:1].copy()\n",
    "  '''\n",
    "\n",
    "  #print(\"Training\")\n",
    "  #print(X_train1)\n",
    "  DF = pd.concat([X_train1])\n",
    "  for i in form:\n",
    "    t=x*j\n",
    "    s=((j+1)*x)\n",
    "    #print(t)\n",
    "    #print(s)\n",
    "    i=df.iloc[t:s,0:1] ######  Creating Chuncks of Dataframe to be concatenated with DF \n",
    "    for b in Testing:\n",
    "      b=i ######  Creating 9 different test data sets stored in X_test2 to X_test9\n",
    "    j += 1\n",
    "    DF=pd.concat([DF, i]) ##### Combination of dataframe with First DataFrame as NaN\n",
    "    #print(DF)\n",
    "    #a.dropna()\n",
    "  \n",
    "  \n",
    "  \n",
    "  return DF, X_test1\n",
    "\n",
    "DF, X_test1 =divideData(df)\n",
    "DF\n",
    "X_test1"
   ]
  },
  {
   "cell_type": "code",
   "execution_count": 14,
   "id": "461c903b",
   "metadata": {
    "colab": {
     "base_uri": "https://localhost:8080/"
    },
    "executionInfo": {
     "elapsed": 814,
     "status": "ok",
     "timestamp": 1670495510369,
     "user": {
      "displayName": "Abhijeet Kumar",
      "userId": "18174877903277820406"
     },
     "user_tz": -330
    },
    "id": "b0376673-e7c5-4ab8-a5b7-7081cdadc173",
    "outputId": "be5c1822-f120-44d7-cfd3-d5a582c9062f"
   },
   "outputs": [
    {
     "name": "stdout",
     "output_type": "stream",
     "text": [
      "PM      1067\n",
      "DATE    1111\n",
      "dtype: int64\n",
      "PM      1057\n",
      "DATE    1111\n",
      "dtype: int64\n",
      "PM       997\n",
      "DATE    1111\n",
      "dtype: int64\n",
      "PM       953\n",
      "DATE    1111\n",
      "dtype: int64\n",
      "PM       784\n",
      "DATE    1111\n",
      "dtype: int64\n",
      "PM       984\n",
      "DATE    1111\n",
      "dtype: int64\n",
      "PM       889\n",
      "DATE    1111\n",
      "dtype: int64\n",
      "PM      1082\n",
      "DATE    1111\n",
      "dtype: int64\n"
     ]
    }
   ],
   "source": [
    "# Training data\n",
    "\n",
    "X = df.loc[:, ['PM','DATE']]  # features\n",
    "X_train1 = df.loc[0:1110, ['PM','DATE']]\n",
    "X_train2 = df.loc[1110:2220, ['PM','DATE']]\n",
    "X_train3 = df.loc[2220:3330, ['PM','DATE']]\n",
    "X_train4 = df.loc[3330:4440, ['PM','DATE']]\n",
    "X_train5 = df.loc[4440:5550, ['PM','DATE']]\n",
    "X_train6 = df.loc[5550:6660, ['PM','DATE']]\n",
    "X_train7 = df.loc[6660:7770, ['PM','DATE']]\n",
    "X_train8 = df.loc[7770:8880, ['PM','DATE']]\n",
    "X_train9 = df.loc[8880:9990, ['PM','DATE']]\n",
    "X_test1=X_train1.copy()\n",
    "X_train2.dropna()\n",
    "print(X_train2.count())\n",
    "X_train3.dropna()\n",
    "print(X_train3.count())\n",
    "X_train4.dropna()\n",
    "print(X_train4.count())\n",
    "X_train5.dropna()\n",
    "print(X_train5.count())\n",
    "X_train6.dropna()\n",
    "print(X_train6.count())\n",
    "X_train7.dropna()\n",
    "print(X_train7.count())\n",
    "X_train8.dropna()\n",
    "print(X_train8.count())\n",
    "X_train9.dropna()\n",
    "print(X_train9.count())\n",
    "X_train1.loc[X_train1.index[:], 'PM'] = np.nan\n",
    "DF = pd.concat([X_train1, X_train2, X_train3, X_train4, X_train5, X_train6, X_train7, X_train8, X_train9])\n",
    "\n",
    "#y = df.loc[11779:12890, 'PM']  # target\n",
    "#print(X)\n",
    "#print(y)\n",
    "#X.dropna()\n",
    "#y.dropna()\n",
    "# Train the model\n",
    "#model = LinearRegression()\n",
    "#model.fit(X, y)\n",
    "\n",
    "# Store the fitted values as a time series with the same time index as\n",
    "# the training data\n",
    "#y_pred = pd.Series(model.predict(X), index=X.index)"
   ]
  },
  {
   "cell_type": "code",
   "execution_count": 15,
   "id": "3231d553",
   "metadata": {
    "id": "00878773-1a83-4ea5-b005-b7ee49b12476"
   },
   "outputs": [],
   "source": [
    "#DF['Mode']=DF['PM'].fillna(DF['PM'].mode()[0])\n",
    "#DF['ffill']=DF['PM'].fillna(method='ffill')\n",
    "#DF['bfill']=DF['PM'].fillna(method='bfill')\n",
    "#DF['bffill']=DF['PM'].fillna(((DF['ffill']+DF['bfill'])/2))\n",
    "interpolations=['linear', 'nearest']\n",
    "for intp in interpolations:\n",
    "    DF[intp]=DF['PM'].interpolate(method=intp)"
   ]
  },
  {
   "cell_type": "code",
   "execution_count": 16,
   "id": "7abab4d2",
   "metadata": {
    "id": "NeyJaWh_Ra9d"
   },
   "outputs": [
    {
     "ename": "NameError",
     "evalue": "name 'ExtraTreesRegressor' is not defined",
     "output_type": "error",
     "traceback": [
      "\u001b[0;31m---------------------------------------------------------------------------\u001b[0m",
      "\u001b[0;31mNameError\u001b[0m                                 Traceback (most recent call last)",
      "Cell \u001b[0;32mIn [16], line 1\u001b[0m\n\u001b[0;32m----> 1\u001b[0m estimators\u001b[38;5;241m=\u001b[39m[(\u001b[38;5;124m'\u001b[39m\u001b[38;5;124mextra_trees\u001b[39m\u001b[38;5;124m'\u001b[39m, \u001b[43mExtraTreesRegressor\u001b[49m(n_estimators\u001b[38;5;241m=\u001b[39m\u001b[38;5;241m10\u001b[39m)), (\u001b[38;5;124m'\u001b[39m\u001b[38;5;124mbagging\u001b[39m\u001b[38;5;124m'\u001b[39m, BaggingRegressor(n_estimators\u001b[38;5;241m=\u001b[39m\u001b[38;5;241m10\u001b[39m)),(\u001b[38;5;124m'\u001b[39m\u001b[38;5;124melastic_net\u001b[39m\u001b[38;5;124m'\u001b[39m, ElasticNet()),(\u001b[38;5;124m'\u001b[39m\u001b[38;5;124mlinear_regression\u001b[39m\u001b[38;5;124m'\u001b[39m, LinearRegression()), (\u001b[38;5;124m'\u001b[39m\u001b[38;5;124mknn\u001b[39m\u001b[38;5;124m'\u001b[39m,KNeighborsRegressor(n_neighbors\u001b[38;5;241m=\u001b[39m\u001b[38;5;241m3\u001b[39m)) ]\n\u001b[1;32m      2\u001b[0m PM_vals\u001b[38;5;241m=\u001b[39mDF\u001b[38;5;241m.\u001b[39miloc[:,\u001b[38;5;241m0\u001b[39m:\u001b[38;5;241m1\u001b[39m]\u001b[38;5;241m.\u001b[39mvalues\n\u001b[1;32m      3\u001b[0m \u001b[38;5;28;01mfor\u001b[39;00m e_name, e \u001b[38;5;129;01min\u001b[39;00m estimators:\n",
      "\u001b[0;31mNameError\u001b[0m: name 'ExtraTreesRegressor' is not defined"
     ]
    }
   ],
   "source": [
    "estimators=[('extra_trees', ExtraTreesRegressor(n_estimators=10)), ('bagging', BaggingRegressor(n_estimators=10)),('elastic_net', ElasticNet()),('linear_regression', LinearRegression()), ('knn',KNeighborsRegressor(n_neighbors=3)) ]\n",
    "PM_vals=DF.iloc[:,0:1].values\n",
    "for e_name, e in estimators:\n",
    "    est=IterativeImputer(random_state=15, estimator=e).fit(PM_vals)\n",
    "    DF[e_name]=est.transform(PM_vals)[:,0]"
   ]
  },
  {
   "cell_type": "code",
   "execution_count": null,
   "id": "d6144c5c",
   "metadata": {
    "colab": {
     "base_uri": "https://localhost:8080/"
    },
    "executionInfo": {
     "elapsed": 2612,
     "status": "ok",
     "timestamp": 1670495035657,
     "user": {
      "displayName": "Abhijeet Kumar",
      "userId": "18174877903277820406"
     },
     "user_tz": -330
    },
    "id": "ENbUjCDpH68u",
    "outputId": "ae9cb66d-9149-4f8e-a62b-a1c571e01ea4"
   },
   "outputs": [],
   "source": [
    "#X_test1['PM']=X_test1['PM'].fillna(X_test1['PM'].mode()[0])\n",
    "#X_test1.isnull().sum()\n",
    "\n",
    "#X_test1['PM']=X_test1['PM'].fillna(method='ffill')\n",
    "for intp in interpolations:\n",
    "    X_test1[intp]=X_test1['PM'].interpolate(method=intp)\n",
    "X_test1.isnull().sum()"
   ]
  },
  {
   "cell_type": "code",
   "execution_count": null,
   "id": "3b7e2398",
   "metadata": {
    "id": "DdpW4eLLSt7E"
   },
   "outputs": [],
   "source": [
    "X_test1['PM']=X_test1['PM'].fillna(X_test1['PM'].mean())"
   ]
  },
  {
   "cell_type": "code",
   "execution_count": null,
   "id": "22974ded",
   "metadata": {
    "id": "Tppe5Tw3SHuS"
   },
   "outputs": [],
   "source": [
    "PM_vals=X_test1.iloc[:,0:1].values\n",
    "for e_name, e in estimators:\n",
    "    est=IterativeImputer(random_state=15, estimator=e).fit(PM_vals)\n",
    "    X_test1[e_name]=est.transform(PM_vals)[:,0]"
   ]
  },
  {
   "cell_type": "code",
   "execution_count": null,
   "id": "792d660f",
   "metadata": {
    "colab": {
     "base_uri": "https://localhost:8080/"
    },
    "executionInfo": {
     "elapsed": 1427,
     "status": "ok",
     "timestamp": 1670495767233,
     "user": {
      "displayName": "Abhijeet Kumar",
      "userId": "18174877903277820406"
     },
     "user_tz": -330
    },
    "id": "ce84bcfe-a2e5-478a-b394-7db40298c36f",
    "outputId": "ed8708ab-7016-4a6f-dc57-8da117d90e05"
   },
   "outputs": [],
   "source": [
    "\n",
    "\n",
    "y_true=X_test1.loc[0:1105,['PM']].values.tolist()\n",
    "y_pred=DF.loc[0:1105, ['knn']].values.tolist()\n",
    "DF.isnull().sum()\n",
    "print(len(y_pred), len(y_true))\n",
    "mean_squared_error(y_true, y_pred)**0.5"
   ]
  },
  {
   "cell_type": "code",
   "execution_count": null,
   "id": "7e9f8124",
   "metadata": {
    "id": "qymfsfGEH52s"
   },
   "outputs": [],
   "source": []
  },
  {
   "cell_type": "code",
   "execution_count": null,
   "id": "b431d8d4",
   "metadata": {
    "id": "8932f5b0-9789-47ab-bacb-5b1807138949"
   },
   "outputs": [],
   "source": [
    "interpolations=['linear','quadratic','nearest','cubic']\n",
    "for intp in interpolations:\n",
    "    DF[intp]=DF['PM'].interpolate(method=intp)"
   ]
  },
  {
   "cell_type": "code",
   "execution_count": null,
   "id": "b5f08fef",
   "metadata": {
    "id": "f48ea414-0cc1-4435-81ac-157ef8e93d67"
   },
   "outputs": [],
   "source": [
    "df1_train['spline1']=df1_train['PM'].interpolate(method='spline', order=1)"
   ]
  },
  {
   "cell_type": "code",
   "execution_count": null,
   "id": "90c99df3",
   "metadata": {
    "id": "61fd1f06-efe7-4706-a995-4b6b82bb0ead"
   },
   "outputs": [],
   "source": [
    "#df1_train[['PM','forecast2']].plot()"
   ]
  },
  {
   "cell_type": "code",
   "execution_count": null,
   "id": "1c0380ff",
   "metadata": {
    "id": "03eab448-43e8-4486-939d-62cc34f93d49"
   },
   "outputs": [],
   "source": [
    "df1_train.to_csv('df1_train.csv')\n"
   ]
  },
  {
   "cell_type": "code",
   "execution_count": null,
   "id": "7d10c193",
   "metadata": {
    "id": "35cbe4a1-0dc4-48cd-be4a-bc6804033012"
   },
   "outputs": [],
   "source": [
    "from sklearn.experimental import enable_iterative_imputer"
   ]
  },
  {
   "cell_type": "code",
   "execution_count": null,
   "id": "df4f081a",
   "metadata": {
    "id": "b1028612-7417-49ec-87fe-17e41752c757"
   },
   "outputs": [],
   "source": [
    "from sklearn.impute import IterativeImputer\n",
    "from sklearn.ensemble import ExtraTreesRegressor, BaggingRegressor\n",
    "from sklearn.linear_model import ElasticNet, LinearRegression"
   ]
  },
  {
   "cell_type": "code",
   "execution_count": null,
   "id": "7b93208c",
   "metadata": {
    "id": "d8be05ad-88ad-41ea-8393-2198a26e6374"
   },
   "outputs": [],
   "source": [
    "from sklearn.neighbors import *"
   ]
  },
  {
   "cell_type": "code",
   "execution_count": null,
   "id": "bd766a4c",
   "metadata": {
    "id": "261fb9fa-028a-4bfe-bfda-03e84946142e"
   },
   "outputs": [],
   "source": [
    "estimators=[('extra_trees', ExtraTreesRegressor(n_estimators=10)), ('bagging', BaggingRegressor(n_estimators=10)),('elastic_net', ElasticNet()),('linear_regression ', LinearRegression()), ('knn',KNeighborsRegressor(n_neighbors=3)) ]"
   ]
  },
  {
   "cell_type": "code",
   "execution_count": null,
   "id": "a44dd8d8",
   "metadata": {
    "id": "2e305de8-5faa-4b3c-b2a7-5358a2d80e6b"
   },
   "outputs": [],
   "source": [
    "PM_vals=df1_train.iloc[:,0:1].values"
   ]
  },
  {
   "cell_type": "code",
   "execution_count": null,
   "id": "836a768a",
   "metadata": {
    "colab": {
     "base_uri": "https://localhost:8080/"
    },
    "executionInfo": {
     "elapsed": 22,
     "status": "ok",
     "timestamp": 1670430078998,
     "user": {
      "displayName": "Abhijeet Kumar",
      "userId": "18174877903277820406"
     },
     "user_tz": -330
    },
    "id": "98ee53a0-4a5f-4880-a8fc-20b643017f44",
    "outputId": "c2c46de6-ada2-4d2a-832b-6d28b8e718eb"
   },
   "outputs": [],
   "source": [
    "PM_vals"
   ]
  },
  {
   "cell_type": "code",
   "execution_count": null,
   "id": "dd12a794",
   "metadata": {
    "id": "b2a5c7b3-cda5-4799-b07a-953c343d5090"
   },
   "outputs": [],
   "source": [
    "for e_name, e in estimators:\n",
    "    est=IterativeImputer(random_state=15, estimator=e).fit(PM_vals)\n",
    "    df1_train[e_name]=est.transform(PM_vals)[:,0]"
   ]
  },
  {
   "cell_type": "code",
   "execution_count": null,
   "id": "a3d2e61a",
   "metadata": {
    "colab": {
     "base_uri": "https://localhost:8080/",
     "height": 424
    },
    "executionInfo": {
     "elapsed": 21,
     "status": "ok",
     "timestamp": 1670430078999,
     "user": {
      "displayName": "Abhijeet Kumar",
      "userId": "18174877903277820406"
     },
     "user_tz": -330
    },
    "id": "70db3c9c-c663-4a23-866f-c44bef593c55",
    "outputId": "a9febfb0-9bdb-48f8-cd54-971c6e798927"
   },
   "outputs": [],
   "source": [
    "df1_train"
   ]
  },
  {
   "cell_type": "code",
   "execution_count": null,
   "id": "18a1e240",
   "metadata": {
    "colab": {
     "base_uri": "https://localhost:8080/",
     "height": 455
    },
    "executionInfo": {
     "elapsed": 21,
     "status": "ok",
     "timestamp": 1670430079000,
     "user": {
      "displayName": "Abhijeet Kumar",
      "userId": "18174877903277820406"
     },
     "user_tz": -330
    },
    "id": "24c78b57-025c-40f4-be9d-33c866342927",
    "outputId": "883fbc9d-0674-4be6-e1c2-8ec5d78999a6"
   },
   "outputs": [],
   "source": [
    "df1_train.set_index('DATE')"
   ]
  },
  {
   "cell_type": "code",
   "execution_count": null,
   "id": "b9fceffb",
   "metadata": {
    "id": "R8kZ6Wf40Er5"
   },
   "outputs": [],
   "source": [
    "a=df1_train['PM'].mode()\n",
    "a\n",
    "df1_train['Median'] = df1_train['PM'].fillna(df1_train['PM'].median())"
   ]
  },
  {
   "cell_type": "code",
   "execution_count": null,
   "id": "c678a700",
   "metadata": {
    "colab": {
     "base_uri": "https://localhost:8080/",
     "height": 282
    },
    "executionInfo": {
     "elapsed": 21,
     "status": "ok",
     "timestamp": 1670430079001,
     "user": {
      "displayName": "Abhijeet Kumar",
      "userId": "18174877903277820406"
     },
     "user_tz": -330
    },
    "id": "2f98e76b-3603-4809-afa6-beb83da16c95",
    "outputId": "ebc3ed88-f149-4830-d3e7-b8123eda64bc"
   },
   "outputs": [],
   "source": [
    "df1_train[['Median', 'PM']].plot()"
   ]
  },
  {
   "cell_type": "code",
   "execution_count": null,
   "id": "395e3274",
   "metadata": {
    "id": "0cdb8340-50ab-4f3c-8e73-383b4799c18f"
   },
   "outputs": [],
   "source": []
  },
  {
   "cell_type": "code",
   "execution_count": null,
   "id": "88d35db8",
   "metadata": {
    "colab": {
     "base_uri": "https://localhost:8080/"
    },
    "executionInfo": {
     "elapsed": 461,
     "status": "ok",
     "timestamp": 1670432693992,
     "user": {
      "displayName": "Abhijeet Kumar",
      "userId": "18174877903277820406"
     },
     "user_tz": -330
    },
    "id": "78c2ffac-cc07-44f2-beec-774457e2d747",
    "outputId": "0c47322c-4ec2-4b59-d05f-d455dfd9fba4"
   },
   "outputs": [],
   "source": [
    "from statsmodels.tsa.arima.model import ARIMA\n",
    "model=ARIMA(df1_train['PM'], order=(24,0,1))"
   ]
  },
  {
   "cell_type": "code",
   "execution_count": null,
   "id": "b3bf2f01",
   "metadata": {
    "colab": {
     "base_uri": "https://localhost:8080/"
    },
    "executionInfo": {
     "elapsed": 426852,
     "status": "ok",
     "timestamp": 1670433123728,
     "user": {
      "displayName": "Abhijeet Kumar",
      "userId": "18174877903277820406"
     },
     "user_tz": -330
    },
    "id": "71a9323b-2dd7-4b80-b72d-6ea48968a85f",
    "outputId": "2b772d0d-45b3-43a2-8aba-32a1e860380b"
   },
   "outputs": [],
   "source": [
    "model_fit=model.fit()"
   ]
  },
  {
   "cell_type": "code",
   "execution_count": null,
   "id": "ff11ade2",
   "metadata": {
    "colab": {
     "base_uri": "https://localhost:8080/",
     "height": 943
    },
    "executionInfo": {
     "elapsed": 1011,
     "status": "ok",
     "timestamp": 1670433130138,
     "user": {
      "displayName": "Abhijeet Kumar",
      "userId": "18174877903277820406"
     },
     "user_tz": -330
    },
    "id": "181e0424-db16-4f01-b483-a29ce7afafaf",
    "outputId": "9375e981-4a0b-4d1c-b756-4ae258a4a830"
   },
   "outputs": [],
   "source": [
    "model_fit.summary()"
   ]
  },
  {
   "cell_type": "code",
   "execution_count": null,
   "id": "fa9f372a",
   "metadata": {
    "id": "14f580d3-3412-406c-8ff6-e00af8021693"
   },
   "outputs": [],
   "source": [
    "df1_train['forecast2']=model_fit.predict(start=11500, end=12900, dynamic=False)"
   ]
  },
  {
   "cell_type": "code",
   "execution_count": null,
   "id": "3b709cdf",
   "metadata": {
    "colab": {
     "base_uri": "https://localhost:8080/",
     "height": 282
    },
    "executionInfo": {
     "elapsed": 10,
     "status": "ok",
     "timestamp": 1670433588094,
     "user": {
      "displayName": "Abhijeet Kumar",
      "userId": "18174877903277820406"
     },
     "user_tz": -330
    },
    "id": "YNyuOGMqkxOq",
    "outputId": "cb0ba2dd-abfa-44c3-ce18-a41caab2a306"
   },
   "outputs": [],
   "source": [
    "df1_train[['forecast2','PM']].iloc[11500:13000,:].plot()\n",
    "#df1_train[['forecast2','PM']].plot()"
   ]
  },
  {
   "cell_type": "code",
   "execution_count": null,
   "id": "c549dc4a-6f29-46c3-8369-29973e4d2d91",
   "metadata": {},
   "outputs": [],
   "source": []
  },
  {
   "cell_type": "code",
   "execution_count": null,
   "id": "ffc4eaad-e207-44e4-8243-240939e0b8ff",
   "metadata": {},
   "outputs": [],
   "source": []
  },
  {
   "cell_type": "code",
   "execution_count": null,
   "id": "cac9f989-c23b-459e-9286-8ea7370ed314",
   "metadata": {},
   "outputs": [],
   "source": []
  },
  {
   "cell_type": "code",
   "execution_count": null,
   "id": "4b68a31d-5e68-4be4-9599-1fdb2d93ced6",
   "metadata": {},
   "outputs": [],
   "source": []
  }
 ],
 "metadata": {
  "canvas": {
   "colorPalette": [
    "inherit",
    "inherit",
    "inherit",
    "inherit",
    "inherit",
    "inherit",
    "inherit",
    "inherit",
    "inherit",
    "inherit"
   ],
   "parameters": []
  },
  "colab": {
   "name": "",
   "provenance": [
    {
     "file_id": "1NVPJTNa7Lgg6ftR-lcFO8FxUFzDCe46T",
     "timestamp": 1670568579684
    },
    {
     "file_id": "10Tf7YjyO_B4UK7fEEQrLjNMNdlJYqd2W",
     "timestamp": 1670469937551
    }
   ],
   "version": ""
  },
  "kernelspec": {
   "display_name": "Python 3 (ipykernel)",
   "language": "python",
   "name": "python3"
  },
  "language_info": {
   "codemirror_mode": {
    "name": "ipython",
    "version": 3
   },
   "file_extension": ".py",
   "mimetype": "text/x-python",
   "name": "python",
   "nbconvert_exporter": "python",
   "pygments_lexer": "ipython3",
   "version": "3.10.8"
  },
  "widgets": {
   "application/vnd.jupyter.widget-state+json": {
    "state": {},
    "version_major": 2,
    "version_minor": 0
   }
  }
 },
 "nbformat": 4,
 "nbformat_minor": 5
}
