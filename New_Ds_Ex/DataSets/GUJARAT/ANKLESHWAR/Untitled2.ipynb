{
 "cells": [
  {
   "cell_type": "markdown",
   "id": "dcd64c83-0f84-4d78-81e7-5612005bac92",
   "metadata": {},
   "source": [
    "for loop with condition\n"
   ]
  },
  {
   "cell_type": "code",
   "execution_count": 3,
   "id": "de8bb767-d2ee-49cd-998c-372b53d03360",
   "metadata": {},
   "outputs": [
    {
     "ename": "SyntaxError",
     "evalue": "cannot assign to expression here. Maybe you meant '==' instead of '='? (3869686578.py, line 1)",
     "output_type": "error",
     "traceback": [
      "\u001b[0;36m  Cell \u001b[0;32mIn [3], line 1\u001b[0;36m\u001b[0m\n\u001b[0;31m    i+1=i\u001b[0m\n\u001b[0m    ^\u001b[0m\n\u001b[0;31mSyntaxError\u001b[0m\u001b[0;31m:\u001b[0m cannot assign to expression here. Maybe you meant '==' instead of '='?\n"
     ]
    }
   ],
   "source": [
    "i+1=i"
   ]
  },
  {
   "cell_type": "code",
   "execution_count": null,
   "id": "b471a9b0-a753-4881-9216-3f4b21af50ae",
   "metadata": {},
   "outputs": [],
   "source": [
    "print(i+1)"
   ]
  },
  {
   "cell_type": "code",
   "execution_count": 20,
   "id": "1926c338-2202-4069-bf45-72a614448938",
   "metadata": {},
   "outputs": [
    {
     "ename": "SyntaxError",
     "evalue": "invalid syntax (3403372264.py, line 3)",
     "output_type": "error",
     "traceback": [
      "\u001b[0;36m  Cell \u001b[0;32mIn [20], line 3\u001b[0;36m\u001b[0m\n\u001b[0;31m    i++\u001b[0m\n\u001b[0m       ^\u001b[0m\n\u001b[0;31mSyntaxError\u001b[0m\u001b[0;31m:\u001b[0m invalid syntax\n"
     ]
    }
   ],
   "source": [
    "i=1\n",
    "if i>11:\n",
    "    i++\n",
    "print(v)"
   ]
  },
  {
   "cell_type": "code",
   "execution_count": 17,
   "id": "1d31eece-6d53-4000-b5ae-81adcab635a0",
   "metadata": {},
   "outputs": [
    {
     "ename": "NameError",
     "evalue": "name 'v' is not defined",
     "output_type": "error",
     "traceback": [
      "\u001b[0;31m---------------------------------------------------------------------------\u001b[0m",
      "\u001b[0;31mNameError\u001b[0m                                 Traceback (most recent call last)",
      "Cell \u001b[0;32mIn [17], line 1\u001b[0m\n\u001b[0;32m----> 1\u001b[0m \u001b[38;5;28mprint\u001b[39m(\u001b[43mv\u001b[49m)\n",
      "\u001b[0;31mNameError\u001b[0m: name 'v' is not defined"
     ]
    }
   ],
   "source": [
    "print(v)"
   ]
  },
  {
   "cell_type": "code",
   "execution_count": 21,
   "id": "38f39478-c3ee-46a2-a499-4fd8147fe8f1",
   "metadata": {},
   "outputs": [],
   "source": [
    "cou=0\n",
    "cou+=1\n",
    "cou=cou+1\n"
   ]
  },
  {
   "cell_type": "code",
   "execution_count": 23,
   "id": "cac065f6-5eb5-408e-880a-9103ec3ce4aa",
   "metadata": {},
   "outputs": [
    {
     "name": "stdout",
     "output_type": "stream",
     "text": [
      "2\n"
     ]
    }
   ],
   "source": [
    "print(cou)"
   ]
  },
  {
   "cell_type": "code",
   "execution_count": 24,
   "id": "6d32a469-01d1-4aac-8fe9-86cfd317e189",
   "metadata": {},
   "outputs": [
    {
     "name": "stdout",
     "output_type": "stream",
     "text": [
      "The Value of Count is 2\n",
      "INCREMENTED FOR LOOP\n",
      "0\n",
      "1\n",
      "2\n",
      "3\n",
      "4\n",
      "\n",
      " DECREMENTED FOR LOOP\n",
      "4\n",
      "3\n",
      "2\n",
      "1\n",
      "0\n"
     ]
    }
   ],
   "source": [
    "\n",
    "# A sample use of increasing the variable value by one.\n",
    "count=0\n",
    "count+=1\n",
    "count=count+1\n",
    "print('The Value of Count is',count)\n",
    " \n",
    "# A Sample Python program to show loop (unlike many\n",
    "# other languages, it doesn't use ++)\n",
    "# this is for increment operator here start = 1,\n",
    "# stop = 5 and step = 1(by default)\n",
    "print(\"INCREMENTED FOR LOOP\")\n",
    "for i in range(0, 5):\n",
    "   print(i)\n",
    " \n",
    "# this is for increment operator here start = 5,\n",
    "# stop = -1 and step = -1\n",
    "print(\"\\n DECREMENTED FOR LOOP\")\n",
    "for i in range(4, -1, -1):\n",
    "   print(i)"
   ]
  },
  {
   "cell_type": "code",
   "execution_count": 40,
   "id": "5ca94996-5a91-4970-b95e-eb2b4c84fcb8",
   "metadata": {},
   "outputs": [
    {
     "ename": "SyntaxError",
     "evalue": "cannot assign to expression here. Maybe you meant '==' instead of '='? (547588966.py, line 5)",
     "output_type": "error",
     "traceback": [
      "\u001b[0;36m  Cell \u001b[0;32mIn [40], line 5\u001b[0;36m\u001b[0m\n\u001b[0;31m    c==('xtrain'+str(i)=df.iloc[i*C:(i+1)*C,0:1])\u001b[0m\n\u001b[0m        ^\u001b[0m\n\u001b[0;31mSyntaxError\u001b[0m\u001b[0;31m:\u001b[0m cannot assign to expression here. Maybe you meant '==' instead of '='?\n"
     ]
    }
   ],
   "source": [
    "y=1\n",
    "x=10\n",
    "C=int((0.1*15))\n",
    "for i in range(y,x):\n",
    "   c==('xtrain'+str(i)=df.iloc[i*C:(i+1)*C,0:1])\n",
    "print(c)\n",
    "  \n",
    "    \n"
   ]
  },
  {
   "cell_type": "code",
   "execution_count": null,
   "id": "4b96db67-7eb2-457e-a596-c50e807e5174",
   "metadata": {},
   "outputs": [],
   "source": []
  },
  {
   "cell_type": "code",
   "execution_count": null,
   "id": "a8f3925e-5a7e-44e5-8b4f-ba09530c2df4",
   "metadata": {},
   "outputs": [],
   "source": []
  },
  {
   "cell_type": "code",
   "execution_count": null,
   "id": "96389c3f-64ef-4d30-beef-13d9d5271534",
   "metadata": {},
   "outputs": [],
   "source": []
  },
  {
   "cell_type": "code",
   "execution_count": null,
   "id": "3cf5e93c-a092-4587-8d0e-66d7e15daf12",
   "metadata": {},
   "outputs": [],
   "source": []
  },
  {
   "cell_type": "code",
   "execution_count": null,
   "id": "a14bfaa4-aef3-4bfc-878f-7b2827ec44c3",
   "metadata": {},
   "outputs": [],
   "source": []
  },
  {
   "cell_type": "code",
   "execution_count": 58,
   "id": "5e68c538-4cca-453f-b7ca-ea100c283ec6",
   "metadata": {},
   "outputs": [
    {
     "name": "stdout",
     "output_type": "stream",
     "text": [
      "vip51\n",
      "vip82\n",
      "vip113\n",
      "vip144\n",
      "vip175\n"
     ]
    }
   ],
   "source": [
    "x=0\n",
    "while x<5:\n",
    "     x=x+1\n",
    "     c=('vip'+str(x*2+(x+2)))\n",
    "     c=c+str(x)\n",
    "     print(c)"
   ]
  },
  {
   "cell_type": "code",
   "execution_count": 49,
   "id": "5a8be951-ef96-49e7-a981-2d55119ee388",
   "metadata": {},
   "outputs": [
    {
     "name": "stdout",
     "output_type": "stream",
     "text": [
      "8\n"
     ]
    }
   ],
   "source": [
    "c=2*2+(2+2)\n",
    "print(c)"
   ]
  },
  {
   "cell_type": "code",
   "execution_count": 6,
   "id": "d8503e12-ff9b-4550-aa70-ab9349e0aef4",
   "metadata": {},
   "outputs": [
    {
     "name": "stdout",
     "output_type": "stream",
     "text": [
      "X_train9=df.iloc[9*Chunksize:10*Chynksize,0:1]\n"
     ]
    }
   ],
   "source": [
    "'''  X_train1=df.iloc[0*ChunkSize:1*ChunkSize,0:1]\n",
    "  X_train2=df.iloc[1*ChunkSize:2*ChunkSize,0:1]\n",
    "  X_train3=df.iloc[2*ChunkSize:3*ChunkSize,0:1]\n",
    "  X_train4=df.iloc[3*ChunkSize:4*ChunkSize,0:1]\n",
    "  X_train5=df.iloc[4*ChunkSize:5*ChunkSize,0:1]\n",
    "  X_train6=df.iloc[5*ChunkSize:6*ChunkSize,0:1]\n",
    "  X_train7=df.iloc[6*ChunkSize:7*ChunkSize,0:1]\n",
    "  X_train8=df.iloc[7*ChunkSize:8*ChunkSize,0:1]\n",
    "  X_train9=df.iloc[8*ChunkSize:9*ChunkSize,0:1]\n",
    "  X_train10=df.iloc[9*ChunkSize:10*ChunkSize,0:1]\n",
    "'''\n",
    "\n",
    "\n",
    "x=-1\n",
    "while x<9:\n",
    "    x=x+1\n",
    "    c='X_train'+str(x)\n",
    "    d='=df.iloc['+str(x)+'*'+'Chunksize:'+str(x+1)+'*Chynksize,0:1]'\n",
    "    v=str(c)+str(d)\n",
    "    #print(v);\n",
    "    \n",
    "print(v);\n",
    "    \n",
    "'''v=0\n",
    "while v<10:\n",
    "    v=v+1\n",
    "    d='df.iloc[v*'+'c:'+str(v+1)+'*c,0:1]'\n",
    "    print(d)''';\n"
   ]
  },
  {
   "cell_type": "code",
   "execution_count": 4,
   "id": "457f250d-54a6-43df-a2c5-f2fa60286506",
   "metadata": {},
   "outputs": [
    {
     "name": "stdout",
     "output_type": "stream",
     "text": [
      "8\n"
     ]
    }
   ],
   "source": [
    "# enter variables\n",
    "a = 8\n",
    "b = 2989\n",
    "c = 38\n",
    "\n",
    "# place variables in list\n",
    "l = (a,b,c)\n",
    "\n",
    "# get index of smallest item in list\n",
    "X = l.index(min(l))\n",
    "\n",
    "# to print the name of the variable\n",
    "print(l[X])"
   ]
  },
  {
   "cell_type": "code",
   "execution_count": null,
   "id": "9eb8d41a-1742-48b6-ac35-7ebe3369434e",
   "metadata": {},
   "outputs": [],
   "source": []
  }
 ],
 "metadata": {
  "kernelspec": {
   "display_name": "Python 3 (ipykernel)",
   "language": "python",
   "name": "python3"
  },
  "language_info": {
   "codemirror_mode": {
    "name": "ipython",
    "version": 3
   },
   "file_extension": ".py",
   "mimetype": "text/x-python",
   "name": "python",
   "nbconvert_exporter": "python",
   "pygments_lexer": "ipython3",
   "version": "3.10.8"
  },
  "widgets": {
   "application/vnd.jupyter.widget-state+json": {
    "state": {},
    "version_major": 2,
    "version_minor": 0
   }
  }
 },
 "nbformat": 4,
 "nbformat_minor": 5
}
