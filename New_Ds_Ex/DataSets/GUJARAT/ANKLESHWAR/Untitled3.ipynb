{
 "cells": [
  {
   "cell_type": "code",
   "execution_count": 1,
   "id": "7df14293-73eb-42ee-8d7b-d78844ed1803",
   "metadata": {},
   "outputs": [
    {
     "name": "stdout",
     "output_type": "stream",
     "text": [
      "Defaulting to user installation because normal site-packages is not writeable\n",
      "Requirement already satisfied: pandasql in /home/subham/.local/lib/python3.10/site-packages (0.7.3)\n",
      "Requirement already satisfied: sqlalchemy in /usr/local/lib/python3.10/dist-packages (from pandasql) (1.4.44)\n",
      "Requirement already satisfied: pandas in /home/subham/.local/lib/python3.10/site-packages (from pandasql) (1.4.4)\n",
      "Requirement already satisfied: numpy in /home/subham/.local/lib/python3.10/site-packages (from pandasql) (1.22.4)\n",
      "Requirement already satisfied: pytz>=2020.1 in /home/subham/.local/lib/python3.10/site-packages (from pandas->pandasql) (2022.6)\n",
      "Requirement already satisfied: python-dateutil>=2.8.1 in /home/subham/.local/lib/python3.10/site-packages (from pandas->pandasql) (2.8.2)\n",
      "Requirement already satisfied: greenlet!=0.4.17 in /usr/local/lib/python3.10/dist-packages (from sqlalchemy->pandasql) (2.0.1)\n",
      "Requirement already satisfied: six>=1.5 in /usr/lib/python3/dist-packages (from python-dateutil>=2.8.1->pandas->pandasql) (1.16.0)\n"
     ]
    }
   ],
   "source": [
    "import pandas as pd\n",
    "import numpy as np\n",
    "import time\n",
    "!pip install pandasql\n",
    "import pandasql as ps\n",
    "import matplotlib as mpl\n",
    "import matplotlib.pyplot as plt\n",
    "from pandasql import sqldf\n",
    "pysqldf = lambda q: sqldf(q, globals()) \n",
    "from sklearn.metrics import mean_squared_error\n",
    "from statsmodels.tsa.arima_model import ARIMA"
   ]
  },
  {
   "cell_type": "code",
   "execution_count": 2,
   "id": "fcfc8cdd-3dfb-4dfd-ad2e-d9908b057954",
   "metadata": {},
   "outputs": [
    {
     "name": "stderr",
     "output_type": "stream",
     "text": [
      "/tmp/ipykernel_54241/3607525235.py:34: SettingWithCopyWarning: \n",
      "A value is trying to be set on a copy of a slice from a DataFrame\n",
      "\n",
      "See the caveats in the documentation: https://pandas.pydata.org/pandas-docs/stable/user_guide/indexing.html#returning-a-view-versus-a-copy\n",
      "  df.PM[df.PM == 'None'] = 0\n",
      "/tmp/ipykernel_54241/3607525235.py:35: SettingWithCopyWarning: \n",
      "A value is trying to be set on a copy of a slice from a DataFrame\n",
      "\n",
      "See the caveats in the documentation: https://pandas.pydata.org/pandas-docs/stable/user_guide/indexing.html#returning-a-view-versus-a-copy\n",
      "  df.replace(0, np.NaN,inplace=True)\n"
     ]
    }
   ],
   "source": [
    "df=pd.read_excel('H_Ankl_1_2_19-3_12_22-*41* (copy).xlsx',usecols={'CENTRAL POLLUTION CONTROL BOARD','Unnamed: 2'}) #read excel spacfioc colume and import\n",
    "df=df.reset_index(drop=True)\n",
    "N=1+15\n",
    "df.drop(index=df.index[:N], axis=0, inplace=True) # Drop row through N    (axis = o)=row\n",
    "d = df.rename(columns={'CENTRAL POLLUTION CONTROL BOARD':'Date','Unnamed: 2':'PM'}) # Colume ReName \n",
    "d['DD'] = d['Date'].str.split('-').str[0]   \n",
    "d['MM'] = d['Date'].str.split('-').str[1]\n",
    "d['YYYY'] = d['Date'].str.split('-').str[2]\n",
    "d['YYYY'] = d['YYYY'].map(lambda x: str(x)[:-6])\n",
    "d['Hour'] = d['Date'].str.split(' ').str[1]\n",
    "d['DATE']=d['YYYY']+'-'+d['MM']+'-'+d['DD']+' '+d['Hour']\n",
    "d['DATE']= pd.to_datetime(d['DATE'])\n",
    "d=d.drop(['Date','YYYY','DD','MM','Hour'],axis=1)\n",
    "d['row_num']=np.arange(len(d))\n",
    "q=\"\"\"SELECT row_num from d where PM is null limit 1\"\"\"    #sql query ########################Changes####################\n",
    "df1=ps.sqldf(q, locals())\n",
    "a=df1.values.flatten()\n",
    "b=(a[0])\n",
    "b\n",
    "d=d.iloc[:b,:] \n",
    "d['PM']=d['PM'].replace(0,'None')\n",
    "#q=\"\"\"SELECT row_num from d where PM is null limit 1\"\"\"    #sql query\n",
    "q=\"\"\"SELECT row_num from d where PM <>'None' limit 1\"\"\"    #sql query ########################Changes####################\n",
    "df1=ps.sqldf(q, locals())\n",
    "a=df1.values.flatten()\n",
    "b=(a[0])\n",
    "b\n",
    "q=\"\"\"SELECT row_num from d where PM <>'None' order by row_num desc limit 1\"\"\" \n",
    "dl2=ps.sqldf(q, locals())\n",
    "a=dl2.values.flatten()\n",
    "e=(a[0])\n",
    "e\n",
    "df=d.iloc[b:e,:] \n",
    "df.PM[df.PM == 'None'] = 0\n",
    "df.replace(0, np.NaN,inplace=True)\n",
    "df=df.reset_index(drop=True)"
   ]
  },
  {
   "cell_type": "code",
   "execution_count": 3,
   "id": "be71a015-cfbe-43b0-bded-37a87b87a335",
   "metadata": {},
   "outputs": [],
   "source": [
    "from numpy import array\n",
    "def DivideData(df):\n",
    "  df=df.dropna()\n",
    "  TotalLength=len(df)\n",
    "  print(\"Total Size of DataFrame \"+str(TotalLength))\n",
    "  ChunkSize=int((0.1*TotalLength))\n",
    "  print(\"Chunk Size of Dataframe \"+str(ChunkSize))\n",
    "  X_train1=df.iloc[0*ChunkSize:1*ChunkSize,0:1]\n",
    "  X_train2=df.iloc[1*ChunkSize:2*ChunkSize,0:1]\n",
    "  X_train3=df.iloc[2*ChunkSize:3*ChunkSize,0:1]\n",
    "  X_train4=df.iloc[3*ChunkSize:4*ChunkSize,0:1]\n",
    "  X_train5=df.iloc[4*ChunkSize:5*ChunkSize,0:1]\n",
    "  X_train6=df.iloc[5*ChunkSize:6*ChunkSize,0:1]\n",
    "  X_train7=df.iloc[6*ChunkSize:7*ChunkSize,0:1]\n",
    "  X_train8=df.iloc[7*ChunkSize:8*ChunkSize,0:1]\n",
    "  X_train9=df.iloc[8*ChunkSize:9*ChunkSize,0:1]\n",
    "  X_train10=df.iloc[9*ChunkSize:10*ChunkSize,0:1]\n",
    "\n",
    "  X_test1=X_train1.copy()\n",
    "  X_test2=X_train2.copy()\n",
    "  X_test3=X_train3.copy()\n",
    "  X_test4=X_train4.copy()\n",
    "  X_test5=X_train5.copy()\n",
    "  X_test6=X_train6.copy()\n",
    "  X_test7=X_train7.copy()\n",
    "  X_test8=X_train8.copy()\n",
    "  X_test9=X_train9.copy()\n",
    "  X_test10=X_train10.copy()\n",
    "\n",
    " \n",
    "  X_train1.iloc[:, 0:1] = np.nan\n",
    "  X_train2.iloc[:, 0:1] = np.nan\n",
    "  X_train3.iloc[:, 0:1] = np.nan\n",
    "  X_train4.iloc[:, 0:1] = np.nan\n",
    "  X_train5.iloc[:, 0:1] = np.nan\n",
    "  X_train6.iloc[:, 0:1] = np.nan\n",
    "  X_train7.iloc[:, 0:1] = np.nan\n",
    "  X_train8.iloc[:, 0:1] = np.nan\n",
    "  X_train9.iloc[:, 0:1] = np.nan\n",
    "  X_train10.iloc[:, 0:1] = np.nan\n",
    "\n",
    "  DF1=pd.concat([X_train1, X_test2, X_test3, X_test4, X_test5, X_test6, X_test7, X_test8, X_test9, X_test10])\n",
    "  print(DF1.shape)\n",
    "  DF2=pd.concat([X_test1, X_train2, X_test3, X_test4, X_test5, X_test6, X_test7, X_test8, X_test9, X_test10])\n",
    "  DF3=pd.concat([X_test1, X_test2, X_train3, X_test4, X_test5, X_test6, X_test7, X_test8, X_test9, X_test10])\n",
    "  DF4=pd.concat([X_test1, X_test2, X_test3, X_train4, X_test5, X_test6, X_test7, X_test8, X_test9, X_test10])\n",
    "  DF5=pd.concat([X_test1, X_test2, X_test3, X_test4, X_train5, X_test6, X_test7, X_test8, X_test9, X_test10])\n",
    "  DF6=pd.concat([X_test1, X_test2, X_test3, X_test4, X_test5, X_train6, X_test7, X_test8, X_test9, X_test10])\n",
    "  DF7=pd.concat([X_test1, X_test2, X_test3, X_test4, X_test5, X_test6, X_train7, X_test8, X_test9, X_test10])\n",
    "  DF8=pd.concat([X_test1, X_test2, X_test3, X_test4, X_test5, X_test6, X_test7, X_train8, X_test9, X_test10])\n",
    "  DF9=pd.concat([X_test1, X_test2, X_test3, X_test4, X_test5, X_test6, X_test7, X_test8, X_train9, X_test10])\n",
    "  DF10=pd.concat([X_test1, X_test2, X_test3, X_test4, X_test5, X_test6, X_test7, X_test8, X_test9, X_train10])\n",
    "\n",
    "  return DF1, DF2, DF3, DF4, DF5, DF6, DF7, DF8, DF9, DF10, X_test1, X_test2, X_test3, X_test4, X_test5, X_test6, X_test7, X_test8, X_test9, X_test10\n",
    "   "
   ]
  },
  {
   "cell_type": "code",
   "execution_count": null,
   "id": "b110994b-386b-4d1f-a978-e864253d6242",
   "metadata": {},
   "outputs": [],
   "source": []
  }
 ],
 "metadata": {
  "kernelspec": {
   "display_name": "Python 3 (ipykernel)",
   "language": "python",
   "name": "python3"
  },
  "language_info": {
   "codemirror_mode": {
    "name": "ipython",
    "version": 3
   },
   "file_extension": ".py",
   "mimetype": "text/x-python",
   "name": "python",
   "nbconvert_exporter": "python",
   "pygments_lexer": "ipython3",
   "version": "3.10.8"
  },
  "widgets": {
   "application/vnd.jupyter.widget-state+json": {
    "state": {},
    "version_major": 2,
    "version_minor": 0
   }
  }
 },
 "nbformat": 4,
 "nbformat_minor": 5
}
