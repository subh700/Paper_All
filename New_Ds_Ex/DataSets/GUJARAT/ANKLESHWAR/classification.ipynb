{
 "cells": [
  {
   "cell_type": "code",
   "execution_count": 3,
   "id": "f225d74d-8533-4b7b-b681-ea4057e78dd7",
   "metadata": {
    "execution": {
     "iopub.execute_input": "2022-12-18T03:50:52.428685Z",
     "iopub.status.busy": "2022-12-18T03:50:52.428329Z",
     "iopub.status.idle": "2022-12-18T03:50:52.432801Z",
     "shell.execute_reply": "2022-12-18T03:50:52.431726Z",
     "shell.execute_reply.started": "2022-12-18T03:50:52.428659Z"
    },
    "tags": []
   },
   "outputs": [],
   "source": [
    "import pandas as pd\n",
    "import numpy as np"
   ]
  },
  {
   "cell_type": "code",
   "execution_count": 4,
   "id": "b53d034c-d6cc-4794-bc4c-078cbc88a059",
   "metadata": {
    "execution": {
     "iopub.execute_input": "2022-12-18T03:50:52.634956Z",
     "iopub.status.busy": "2022-12-18T03:50:52.634407Z",
     "iopub.status.idle": "2022-12-18T03:50:52.681041Z",
     "shell.execute_reply": "2022-12-18T03:50:52.680021Z",
     "shell.execute_reply.started": "2022-12-18T03:50:52.634908Z"
    },
    "tags": []
   },
   "outputs": [
    {
     "data": {
      "text/html": [
       "<div>\n",
       "<style scoped>\n",
       "    .dataframe tbody tr th:only-of-type {\n",
       "        vertical-align: middle;\n",
       "    }\n",
       "\n",
       "    .dataframe tbody tr th {\n",
       "        vertical-align: top;\n",
       "    }\n",
       "\n",
       "    .dataframe thead th {\n",
       "        text-align: right;\n",
       "    }\n",
       "</style>\n",
       "<table border=\"1\" class=\"dataframe\">\n",
       "  <thead>\n",
       "    <tr style=\"text-align: right;\">\n",
       "      <th></th>\n",
       "      <th>DATE</th>\n",
       "      <th>PM2.5</th>\n",
       "    </tr>\n",
       "  </thead>\n",
       "  <tbody>\n",
       "    <tr>\n",
       "      <th>0</th>\n",
       "      <td>2019-02-04 18:00:00</td>\n",
       "      <td>70.52</td>\n",
       "    </tr>\n",
       "    <tr>\n",
       "      <th>1</th>\n",
       "      <td>2019-02-04 19:00:00</td>\n",
       "      <td>61.39</td>\n",
       "    </tr>\n",
       "    <tr>\n",
       "      <th>2</th>\n",
       "      <td>2019-02-04 20:00:00</td>\n",
       "      <td>59.94</td>\n",
       "    </tr>\n",
       "    <tr>\n",
       "      <th>3</th>\n",
       "      <td>2019-02-04 21:00:00</td>\n",
       "      <td>76.44</td>\n",
       "    </tr>\n",
       "    <tr>\n",
       "      <th>4</th>\n",
       "      <td>2019-02-04 22:00:00</td>\n",
       "      <td>98.54</td>\n",
       "    </tr>\n",
       "    <tr>\n",
       "      <th>...</th>\n",
       "      <td>...</td>\n",
       "      <td>...</td>\n",
       "    </tr>\n",
       "    <tr>\n",
       "      <th>33530</th>\n",
       "      <td>2022-12-02 20:00:00</td>\n",
       "      <td>120.98</td>\n",
       "    </tr>\n",
       "    <tr>\n",
       "      <th>33531</th>\n",
       "      <td>2022-12-02 21:00:00</td>\n",
       "      <td>115.37</td>\n",
       "    </tr>\n",
       "    <tr>\n",
       "      <th>33532</th>\n",
       "      <td>2022-12-02 22:00:00</td>\n",
       "      <td>104.06</td>\n",
       "    </tr>\n",
       "    <tr>\n",
       "      <th>33533</th>\n",
       "      <td>2022-12-02 23:00:00</td>\n",
       "      <td>110.59</td>\n",
       "    </tr>\n",
       "    <tr>\n",
       "      <th>33534</th>\n",
       "      <td>2022-12-03 00:00:00</td>\n",
       "      <td>122.87</td>\n",
       "    </tr>\n",
       "  </tbody>\n",
       "</table>\n",
       "<p>33535 rows × 2 columns</p>\n",
       "</div>"
      ],
      "text/plain": [
       "                      DATE   PM2.5\n",
       "0      2019-02-04 18:00:00   70.52\n",
       "1      2019-02-04 19:00:00   61.39\n",
       "2      2019-02-04 20:00:00   59.94\n",
       "3      2019-02-04 21:00:00   76.44\n",
       "4      2019-02-04 22:00:00   98.54\n",
       "...                    ...     ...\n",
       "33530  2022-12-02 20:00:00  120.98\n",
       "33531  2022-12-02 21:00:00  115.37\n",
       "33532  2022-12-02 22:00:00  104.06\n",
       "33533  2022-12-02 23:00:00  110.59\n",
       "33534  2022-12-03 00:00:00  122.87\n",
       "\n",
       "[33535 rows x 2 columns]"
      ]
     },
     "execution_count": 4,
     "metadata": {},
     "output_type": "execute_result"
    }
   ],
   "source": [
    "df = pd.read_csv('H_Ankl_1_2_19-3_12_22-*41* (copy)_INDEX_Mean.csv')\n",
    "df"
   ]
  },
  {
   "cell_type": "code",
   "execution_count": 5,
   "id": "08b8789a-c4e8-48d5-b622-2de739efb096",
   "metadata": {
    "execution": {
     "iopub.execute_input": "2022-12-18T03:50:53.323003Z",
     "iopub.status.busy": "2022-12-18T03:50:53.322472Z",
     "iopub.status.idle": "2022-12-18T03:50:53.352972Z",
     "shell.execute_reply": "2022-12-18T03:50:53.352063Z",
     "shell.execute_reply.started": "2022-12-18T03:50:53.322961Z"
    },
    "tags": []
   },
   "outputs": [
    {
     "name": "stdout",
     "output_type": "stream",
     "text": [
      "<class 'pandas.core.frame.DataFrame'>\n",
      "RangeIndex: 33535 entries, 0 to 33534\n",
      "Data columns (total 2 columns):\n",
      " #   Column  Non-Null Count  Dtype  \n",
      "---  ------  --------------  -----  \n",
      " 0   DATE    33535 non-null  object \n",
      " 1   PM2.5   33535 non-null  float64\n",
      "dtypes: float64(1), object(1)\n",
      "memory usage: 524.1+ KB\n"
     ]
    }
   ],
   "source": [
    "df.info()"
   ]
  },
  {
   "cell_type": "code",
   "execution_count": 6,
   "id": "508395a3-2540-4041-a33f-b8c2b2c6e448",
   "metadata": {
    "execution": {
     "iopub.execute_input": "2022-12-18T03:50:53.539248Z",
     "iopub.status.busy": "2022-12-18T03:50:53.538835Z",
     "iopub.status.idle": "2022-12-18T03:50:53.552053Z",
     "shell.execute_reply": "2022-12-18T03:50:53.550980Z",
     "shell.execute_reply.started": "2022-12-18T03:50:53.539213Z"
    },
    "tags": []
   },
   "outputs": [],
   "source": [
    "df['DATE']= pd.to_datetime(df['DATE'])"
   ]
  },
  {
   "cell_type": "code",
   "execution_count": 7,
   "id": "fd85acd8-f87f-427b-855a-d45ead3da53a",
   "metadata": {
    "execution": {
     "iopub.execute_input": "2022-12-18T03:50:54.172574Z",
     "iopub.status.busy": "2022-12-18T03:50:54.172166Z",
     "iopub.status.idle": "2022-12-18T03:50:54.188177Z",
     "shell.execute_reply": "2022-12-18T03:50:54.187042Z",
     "shell.execute_reply.started": "2022-12-18T03:50:54.172546Z"
    },
    "tags": []
   },
   "outputs": [
    {
     "name": "stdout",
     "output_type": "stream",
     "text": [
      "<class 'pandas.core.frame.DataFrame'>\n",
      "RangeIndex: 33535 entries, 0 to 33534\n",
      "Data columns (total 2 columns):\n",
      " #   Column  Non-Null Count  Dtype         \n",
      "---  ------  --------------  -----         \n",
      " 0   DATE    33535 non-null  datetime64[ns]\n",
      " 1   PM2.5   33535 non-null  float64       \n",
      "dtypes: datetime64[ns](1), float64(1)\n",
      "memory usage: 524.1 KB\n"
     ]
    }
   ],
   "source": [
    "df.info()"
   ]
  },
  {
   "cell_type": "code",
   "execution_count": 8,
   "id": "301f21a0-10a5-4893-b644-7d3cd2e33e60",
   "metadata": {
    "execution": {
     "iopub.execute_input": "2022-12-18T03:50:54.346694Z",
     "iopub.status.busy": "2022-12-18T03:50:54.345909Z",
     "iopub.status.idle": "2022-12-18T03:51:15.528499Z",
     "shell.execute_reply": "2022-12-18T03:51:15.526980Z",
     "shell.execute_reply.started": "2022-12-18T03:50:54.346650Z"
    },
    "tags": []
   },
   "outputs": [
    {
     "ename": "KeyboardInterrupt",
     "evalue": "",
     "output_type": "error",
     "traceback": [
      "\u001b[0;31m---------------------------------------------------------------------------\u001b[0m",
      "\u001b[0;31mKeyboardInterrupt\u001b[0m                         Traceback (most recent call last)",
      "Cell \u001b[0;32mIn [8], line 2\u001b[0m\n\u001b[1;32m      1\u001b[0m \u001b[38;5;28;01mfrom\u001b[39;00m \u001b[38;5;21;01mpycaret\u001b[39;00m\u001b[38;5;21;01m.\u001b[39;00m\u001b[38;5;21;01manomaly\u001b[39;00m \u001b[38;5;28;01mimport\u001b[39;00m \u001b[38;5;241m*\u001b[39m\n\u001b[0;32m----> 2\u001b[0m s \u001b[38;5;241m=\u001b[39m \u001b[43msetup\u001b[49m\u001b[43m(\u001b[49m\u001b[43mdf\u001b[49m\u001b[43m)\u001b[49m\n",
      "File \u001b[0;32m~/.local/lib/python3.10/site-packages/pycaret/anomaly/functional.py:435\u001b[0m, in \u001b[0;36msetup\u001b[0;34m(data, index, ordinal_features, numeric_features, categorical_features, date_features, text_features, ignore_features, keep_features, preprocess, create_date_columns, imputation_type, numeric_imputation, categorical_imputation, text_features_method, max_encoding_ohe, encoding_method, rare_to_value, rare_value, polynomial_features, polynomial_degree, low_variance_threshold, group_features, group_names, remove_multicollinearity, multicollinearity_threshold, bin_numeric_features, remove_outliers, outliers_method, outliers_threshold, transformation, transformation_method, normalize, normalize_method, pca, pca_method, pca_components, custom_pipeline, custom_pipeline_position, n_jobs, use_gpu, html, session_id, system_log, log_experiment, experiment_name, experiment_custom_tags, log_plots, log_profile, log_data, verbose, memory, profile, profile_kwargs)\u001b[0m\n\u001b[1;32m    433\u001b[0m exp \u001b[38;5;241m=\u001b[39m _EXPERIMENT_CLASS()\n\u001b[1;32m    434\u001b[0m set_current_experiment(exp)\n\u001b[0;32m--> 435\u001b[0m \u001b[38;5;28;01mreturn\u001b[39;00m \u001b[43mexp\u001b[49m\u001b[38;5;241;43m.\u001b[39;49m\u001b[43msetup\u001b[49m\u001b[43m(\u001b[49m\n\u001b[1;32m    436\u001b[0m \u001b[43m    \u001b[49m\u001b[43mdata\u001b[49m\u001b[38;5;241;43m=\u001b[39;49m\u001b[43mdata\u001b[49m\u001b[43m,\u001b[49m\n\u001b[1;32m    437\u001b[0m \u001b[43m    \u001b[49m\u001b[43mindex\u001b[49m\u001b[38;5;241;43m=\u001b[39;49m\u001b[43mindex\u001b[49m\u001b[43m,\u001b[49m\n\u001b[1;32m    438\u001b[0m \u001b[43m    \u001b[49m\u001b[43mordinal_features\u001b[49m\u001b[38;5;241;43m=\u001b[39;49m\u001b[43mordinal_features\u001b[49m\u001b[43m,\u001b[49m\n\u001b[1;32m    439\u001b[0m \u001b[43m    \u001b[49m\u001b[43mnumeric_features\u001b[49m\u001b[38;5;241;43m=\u001b[39;49m\u001b[43mnumeric_features\u001b[49m\u001b[43m,\u001b[49m\n\u001b[1;32m    440\u001b[0m \u001b[43m    \u001b[49m\u001b[43mcategorical_features\u001b[49m\u001b[38;5;241;43m=\u001b[39;49m\u001b[43mcategorical_features\u001b[49m\u001b[43m,\u001b[49m\n\u001b[1;32m    441\u001b[0m \u001b[43m    \u001b[49m\u001b[43mdate_features\u001b[49m\u001b[38;5;241;43m=\u001b[39;49m\u001b[43mdate_features\u001b[49m\u001b[43m,\u001b[49m\n\u001b[1;32m    442\u001b[0m \u001b[43m    \u001b[49m\u001b[43mtext_features\u001b[49m\u001b[38;5;241;43m=\u001b[39;49m\u001b[43mtext_features\u001b[49m\u001b[43m,\u001b[49m\n\u001b[1;32m    443\u001b[0m \u001b[43m    \u001b[49m\u001b[43mignore_features\u001b[49m\u001b[38;5;241;43m=\u001b[39;49m\u001b[43mignore_features\u001b[49m\u001b[43m,\u001b[49m\n\u001b[1;32m    444\u001b[0m \u001b[43m    \u001b[49m\u001b[43mkeep_features\u001b[49m\u001b[38;5;241;43m=\u001b[39;49m\u001b[43mkeep_features\u001b[49m\u001b[43m,\u001b[49m\n\u001b[1;32m    445\u001b[0m \u001b[43m    \u001b[49m\u001b[43mpreprocess\u001b[49m\u001b[38;5;241;43m=\u001b[39;49m\u001b[43mpreprocess\u001b[49m\u001b[43m,\u001b[49m\n\u001b[1;32m    446\u001b[0m \u001b[43m    \u001b[49m\u001b[43mcreate_date_columns\u001b[49m\u001b[38;5;241;43m=\u001b[39;49m\u001b[43mcreate_date_columns\u001b[49m\u001b[43m,\u001b[49m\n\u001b[1;32m    447\u001b[0m \u001b[43m    \u001b[49m\u001b[43mimputation_type\u001b[49m\u001b[38;5;241;43m=\u001b[39;49m\u001b[43mimputation_type\u001b[49m\u001b[43m,\u001b[49m\n\u001b[1;32m    448\u001b[0m \u001b[43m    \u001b[49m\u001b[43mnumeric_imputation\u001b[49m\u001b[38;5;241;43m=\u001b[39;49m\u001b[43mnumeric_imputation\u001b[49m\u001b[43m,\u001b[49m\n\u001b[1;32m    449\u001b[0m \u001b[43m    \u001b[49m\u001b[43mcategorical_imputation\u001b[49m\u001b[38;5;241;43m=\u001b[39;49m\u001b[43mcategorical_imputation\u001b[49m\u001b[43m,\u001b[49m\n\u001b[1;32m    450\u001b[0m \u001b[43m    \u001b[49m\u001b[43mtext_features_method\u001b[49m\u001b[38;5;241;43m=\u001b[39;49m\u001b[43mtext_features_method\u001b[49m\u001b[43m,\u001b[49m\n\u001b[1;32m    451\u001b[0m \u001b[43m    \u001b[49m\u001b[43mmax_encoding_ohe\u001b[49m\u001b[38;5;241;43m=\u001b[39;49m\u001b[43mmax_encoding_ohe\u001b[49m\u001b[43m,\u001b[49m\n\u001b[1;32m    452\u001b[0m \u001b[43m    \u001b[49m\u001b[43mencoding_method\u001b[49m\u001b[38;5;241;43m=\u001b[39;49m\u001b[43mencoding_method\u001b[49m\u001b[43m,\u001b[49m\n\u001b[1;32m    453\u001b[0m \u001b[43m    \u001b[49m\u001b[43mrare_to_value\u001b[49m\u001b[38;5;241;43m=\u001b[39;49m\u001b[43mrare_to_value\u001b[49m\u001b[43m,\u001b[49m\n\u001b[1;32m    454\u001b[0m \u001b[43m    \u001b[49m\u001b[43mrare_value\u001b[49m\u001b[38;5;241;43m=\u001b[39;49m\u001b[43mrare_value\u001b[49m\u001b[43m,\u001b[49m\n\u001b[1;32m    455\u001b[0m \u001b[43m    \u001b[49m\u001b[43mpolynomial_features\u001b[49m\u001b[38;5;241;43m=\u001b[39;49m\u001b[43mpolynomial_features\u001b[49m\u001b[43m,\u001b[49m\n\u001b[1;32m    456\u001b[0m \u001b[43m    \u001b[49m\u001b[43mpolynomial_degree\u001b[49m\u001b[38;5;241;43m=\u001b[39;49m\u001b[43mpolynomial_degree\u001b[49m\u001b[43m,\u001b[49m\n\u001b[1;32m    457\u001b[0m \u001b[43m    \u001b[49m\u001b[43mlow_variance_threshold\u001b[49m\u001b[38;5;241;43m=\u001b[39;49m\u001b[43mlow_variance_threshold\u001b[49m\u001b[43m,\u001b[49m\n\u001b[1;32m    458\u001b[0m \u001b[43m    \u001b[49m\u001b[43mgroup_features\u001b[49m\u001b[38;5;241;43m=\u001b[39;49m\u001b[43mgroup_features\u001b[49m\u001b[43m,\u001b[49m\n\u001b[1;32m    459\u001b[0m \u001b[43m    \u001b[49m\u001b[43mgroup_names\u001b[49m\u001b[38;5;241;43m=\u001b[39;49m\u001b[43mgroup_names\u001b[49m\u001b[43m,\u001b[49m\n\u001b[1;32m    460\u001b[0m \u001b[43m    \u001b[49m\u001b[43mremove_multicollinearity\u001b[49m\u001b[38;5;241;43m=\u001b[39;49m\u001b[43mremove_multicollinearity\u001b[49m\u001b[43m,\u001b[49m\n\u001b[1;32m    461\u001b[0m \u001b[43m    \u001b[49m\u001b[43mmulticollinearity_threshold\u001b[49m\u001b[38;5;241;43m=\u001b[39;49m\u001b[43mmulticollinearity_threshold\u001b[49m\u001b[43m,\u001b[49m\n\u001b[1;32m    462\u001b[0m \u001b[43m    \u001b[49m\u001b[43mbin_numeric_features\u001b[49m\u001b[38;5;241;43m=\u001b[39;49m\u001b[43mbin_numeric_features\u001b[49m\u001b[43m,\u001b[49m\n\u001b[1;32m    463\u001b[0m \u001b[43m    \u001b[49m\u001b[43mremove_outliers\u001b[49m\u001b[38;5;241;43m=\u001b[39;49m\u001b[43mremove_outliers\u001b[49m\u001b[43m,\u001b[49m\n\u001b[1;32m    464\u001b[0m \u001b[43m    \u001b[49m\u001b[43moutliers_method\u001b[49m\u001b[38;5;241;43m=\u001b[39;49m\u001b[43moutliers_method\u001b[49m\u001b[43m,\u001b[49m\n\u001b[1;32m    465\u001b[0m \u001b[43m    \u001b[49m\u001b[43moutliers_threshold\u001b[49m\u001b[38;5;241;43m=\u001b[39;49m\u001b[43moutliers_threshold\u001b[49m\u001b[43m,\u001b[49m\n\u001b[1;32m    466\u001b[0m \u001b[43m    \u001b[49m\u001b[43mtransformation\u001b[49m\u001b[38;5;241;43m=\u001b[39;49m\u001b[43mtransformation\u001b[49m\u001b[43m,\u001b[49m\n\u001b[1;32m    467\u001b[0m \u001b[43m    \u001b[49m\u001b[43mtransformation_method\u001b[49m\u001b[38;5;241;43m=\u001b[39;49m\u001b[43mtransformation_method\u001b[49m\u001b[43m,\u001b[49m\n\u001b[1;32m    468\u001b[0m \u001b[43m    \u001b[49m\u001b[43mnormalize\u001b[49m\u001b[38;5;241;43m=\u001b[39;49m\u001b[43mnormalize\u001b[49m\u001b[43m,\u001b[49m\n\u001b[1;32m    469\u001b[0m \u001b[43m    \u001b[49m\u001b[43mnormalize_method\u001b[49m\u001b[38;5;241;43m=\u001b[39;49m\u001b[43mnormalize_method\u001b[49m\u001b[43m,\u001b[49m\n\u001b[1;32m    470\u001b[0m \u001b[43m    \u001b[49m\u001b[43mpca\u001b[49m\u001b[38;5;241;43m=\u001b[39;49m\u001b[43mpca\u001b[49m\u001b[43m,\u001b[49m\n\u001b[1;32m    471\u001b[0m \u001b[43m    \u001b[49m\u001b[43mpca_method\u001b[49m\u001b[38;5;241;43m=\u001b[39;49m\u001b[43mpca_method\u001b[49m\u001b[43m,\u001b[49m\n\u001b[1;32m    472\u001b[0m \u001b[43m    \u001b[49m\u001b[43mpca_components\u001b[49m\u001b[38;5;241;43m=\u001b[39;49m\u001b[43mpca_components\u001b[49m\u001b[43m,\u001b[49m\n\u001b[1;32m    473\u001b[0m \u001b[43m    \u001b[49m\u001b[43mcustom_pipeline\u001b[49m\u001b[38;5;241;43m=\u001b[39;49m\u001b[43mcustom_pipeline\u001b[49m\u001b[43m,\u001b[49m\n\u001b[1;32m    474\u001b[0m \u001b[43m    \u001b[49m\u001b[43mcustom_pipeline_position\u001b[49m\u001b[38;5;241;43m=\u001b[39;49m\u001b[43mcustom_pipeline_position\u001b[49m\u001b[43m,\u001b[49m\n\u001b[1;32m    475\u001b[0m \u001b[43m    \u001b[49m\u001b[43mn_jobs\u001b[49m\u001b[38;5;241;43m=\u001b[39;49m\u001b[43mn_jobs\u001b[49m\u001b[43m,\u001b[49m\n\u001b[1;32m    476\u001b[0m \u001b[43m    \u001b[49m\u001b[43muse_gpu\u001b[49m\u001b[38;5;241;43m=\u001b[39;49m\u001b[43muse_gpu\u001b[49m\u001b[43m,\u001b[49m\n\u001b[1;32m    477\u001b[0m \u001b[43m    \u001b[49m\u001b[43mhtml\u001b[49m\u001b[38;5;241;43m=\u001b[39;49m\u001b[43mhtml\u001b[49m\u001b[43m,\u001b[49m\n\u001b[1;32m    478\u001b[0m \u001b[43m    \u001b[49m\u001b[43msession_id\u001b[49m\u001b[38;5;241;43m=\u001b[39;49m\u001b[43msession_id\u001b[49m\u001b[43m,\u001b[49m\n\u001b[1;32m    479\u001b[0m \u001b[43m    \u001b[49m\u001b[43msystem_log\u001b[49m\u001b[38;5;241;43m=\u001b[39;49m\u001b[43msystem_log\u001b[49m\u001b[43m,\u001b[49m\n\u001b[1;32m    480\u001b[0m \u001b[43m    \u001b[49m\u001b[43mlog_experiment\u001b[49m\u001b[38;5;241;43m=\u001b[39;49m\u001b[43mlog_experiment\u001b[49m\u001b[43m,\u001b[49m\n\u001b[1;32m    481\u001b[0m \u001b[43m    \u001b[49m\u001b[43mexperiment_name\u001b[49m\u001b[38;5;241;43m=\u001b[39;49m\u001b[43mexperiment_name\u001b[49m\u001b[43m,\u001b[49m\n\u001b[1;32m    482\u001b[0m \u001b[43m    \u001b[49m\u001b[43mexperiment_custom_tags\u001b[49m\u001b[38;5;241;43m=\u001b[39;49m\u001b[43mexperiment_custom_tags\u001b[49m\u001b[43m,\u001b[49m\n\u001b[1;32m    483\u001b[0m \u001b[43m    \u001b[49m\u001b[43mlog_plots\u001b[49m\u001b[38;5;241;43m=\u001b[39;49m\u001b[43mlog_plots\u001b[49m\u001b[43m,\u001b[49m\n\u001b[1;32m    484\u001b[0m \u001b[43m    \u001b[49m\u001b[43mlog_profile\u001b[49m\u001b[38;5;241;43m=\u001b[39;49m\u001b[43mlog_profile\u001b[49m\u001b[43m,\u001b[49m\n\u001b[1;32m    485\u001b[0m \u001b[43m    \u001b[49m\u001b[43mlog_data\u001b[49m\u001b[38;5;241;43m=\u001b[39;49m\u001b[43mlog_data\u001b[49m\u001b[43m,\u001b[49m\n\u001b[1;32m    486\u001b[0m \u001b[43m    \u001b[49m\u001b[43mverbose\u001b[49m\u001b[38;5;241;43m=\u001b[39;49m\u001b[43mverbose\u001b[49m\u001b[43m,\u001b[49m\n\u001b[1;32m    487\u001b[0m \u001b[43m    \u001b[49m\u001b[43mmemory\u001b[49m\u001b[38;5;241;43m=\u001b[39;49m\u001b[43mmemory\u001b[49m\u001b[43m,\u001b[49m\n\u001b[1;32m    488\u001b[0m \u001b[43m    \u001b[49m\u001b[43mprofile\u001b[49m\u001b[38;5;241;43m=\u001b[39;49m\u001b[43mprofile\u001b[49m\u001b[43m,\u001b[49m\n\u001b[1;32m    489\u001b[0m \u001b[43m    \u001b[49m\u001b[43mprofile_kwargs\u001b[49m\u001b[38;5;241;43m=\u001b[39;49m\u001b[43mprofile_kwargs\u001b[49m\u001b[43m,\u001b[49m\n\u001b[1;32m    490\u001b[0m \u001b[43m\u001b[49m\u001b[43m)\u001b[49m\n",
      "File \u001b[0;32m~/.local/lib/python3.10/site-packages/pycaret/internal/pycaret_experiment/unsupervised_experiment.py:511\u001b[0m, in \u001b[0;36m_UnsupervisedExperiment.setup\u001b[0;34m(self, data, index, ordinal_features, numeric_features, categorical_features, date_features, text_features, ignore_features, keep_features, preprocess, create_date_columns, imputation_type, numeric_imputation, categorical_imputation, text_features_method, max_encoding_ohe, encoding_method, rare_to_value, rare_value, polynomial_features, polynomial_degree, low_variance_threshold, group_features, group_names, remove_multicollinearity, multicollinearity_threshold, bin_numeric_features, remove_outliers, outliers_method, outliers_threshold, transformation, transformation_method, normalize, normalize_method, pca, pca_method, pca_components, custom_pipeline, custom_pipeline_position, n_jobs, use_gpu, html, session_id, system_log, log_experiment, experiment_name, experiment_custom_tags, log_plots, log_profile, log_data, verbose, memory, profile, profile_kwargs)\u001b[0m\n\u001b[1;32m    507\u001b[0m \u001b[38;5;66;03m# Setup initialization ===================================== >>\u001b[39;00m\n\u001b[1;32m    509\u001b[0m runtime_start \u001b[38;5;241m=\u001b[39m time\u001b[38;5;241m.\u001b[39mtime()\n\u001b[0;32m--> 511\u001b[0m \u001b[38;5;28;43mself\u001b[39;49m\u001b[38;5;241;43m.\u001b[39;49m\u001b[43m_initialize_setup\u001b[49m\u001b[43m(\u001b[49m\n\u001b[1;32m    512\u001b[0m \u001b[43m    \u001b[49m\u001b[43mn_jobs\u001b[49m\u001b[38;5;241;43m=\u001b[39;49m\u001b[43mn_jobs\u001b[49m\u001b[43m,\u001b[49m\n\u001b[1;32m    513\u001b[0m \u001b[43m    \u001b[49m\u001b[43muse_gpu\u001b[49m\u001b[38;5;241;43m=\u001b[39;49m\u001b[43muse_gpu\u001b[49m\u001b[43m,\u001b[49m\n\u001b[1;32m    514\u001b[0m \u001b[43m    \u001b[49m\u001b[43mhtml\u001b[49m\u001b[38;5;241;43m=\u001b[39;49m\u001b[43mhtml\u001b[49m\u001b[43m,\u001b[49m\n\u001b[1;32m    515\u001b[0m \u001b[43m    \u001b[49m\u001b[43msession_id\u001b[49m\u001b[38;5;241;43m=\u001b[39;49m\u001b[43msession_id\u001b[49m\u001b[43m,\u001b[49m\n\u001b[1;32m    516\u001b[0m \u001b[43m    \u001b[49m\u001b[43msystem_log\u001b[49m\u001b[38;5;241;43m=\u001b[39;49m\u001b[43msystem_log\u001b[49m\u001b[43m,\u001b[49m\n\u001b[1;32m    517\u001b[0m \u001b[43m    \u001b[49m\u001b[43mlog_experiment\u001b[49m\u001b[38;5;241;43m=\u001b[39;49m\u001b[43mlog_experiment\u001b[49m\u001b[43m,\u001b[49m\n\u001b[1;32m    518\u001b[0m \u001b[43m    \u001b[49m\u001b[43mexperiment_name\u001b[49m\u001b[38;5;241;43m=\u001b[39;49m\u001b[43mexperiment_name\u001b[49m\u001b[43m,\u001b[49m\n\u001b[1;32m    519\u001b[0m \u001b[43m    \u001b[49m\u001b[43mmemory\u001b[49m\u001b[38;5;241;43m=\u001b[39;49m\u001b[43mmemory\u001b[49m\u001b[43m,\u001b[49m\n\u001b[1;32m    520\u001b[0m \u001b[43m    \u001b[49m\u001b[43mverbose\u001b[49m\u001b[38;5;241;43m=\u001b[39;49m\u001b[43mverbose\u001b[49m\u001b[43m,\u001b[49m\n\u001b[1;32m    521\u001b[0m \u001b[43m\u001b[49m\u001b[43m)\u001b[49m\n\u001b[1;32m    523\u001b[0m \u001b[38;5;66;03m# Prepare experiment specific params ======================= >>\u001b[39;00m\n\u001b[1;32m    525\u001b[0m \u001b[38;5;28mself\u001b[39m\u001b[38;5;241m.\u001b[39mlog_plots_param \u001b[38;5;241m=\u001b[39m log_plots\n",
      "File \u001b[0;32m~/.local/lib/python3.10/site-packages/pycaret/internal/pycaret_experiment/tabular_experiment.py:329\u001b[0m, in \u001b[0;36m_TabularExperiment._initialize_setup\u001b[0;34m(self, n_jobs, use_gpu, html, session_id, system_log, log_experiment, experiment_name, memory, verbose)\u001b[0m\n\u001b[1;32m    325\u001b[0m \u001b[38;5;28mself\u001b[39m\u001b[38;5;241m.\u001b[39mlogger\u001b[38;5;241m.\u001b[39minfo(\u001b[38;5;124mf\u001b[39m\u001b[38;5;124m\"\u001b[39m\u001b[38;5;124mself.USI: \u001b[39m\u001b[38;5;132;01m{\u001b[39;00m\u001b[38;5;28mself\u001b[39m\u001b[38;5;241m.\u001b[39mUSI\u001b[38;5;132;01m}\u001b[39;00m\u001b[38;5;124m\"\u001b[39m)\n\u001b[1;32m    327\u001b[0m \u001b[38;5;28mself\u001b[39m\u001b[38;5;241m.\u001b[39mlogger\u001b[38;5;241m.\u001b[39minfo(\u001b[38;5;124mf\u001b[39m\u001b[38;5;124m\"\u001b[39m\u001b[38;5;124mself.variable_keys: \u001b[39m\u001b[38;5;132;01m{\u001b[39;00m\u001b[38;5;28mself\u001b[39m\u001b[38;5;241m.\u001b[39mvariable_keys\u001b[38;5;132;01m}\u001b[39;00m\u001b[38;5;124m\"\u001b[39m)\n\u001b[0;32m--> 329\u001b[0m \u001b[38;5;28;43mself\u001b[39;49m\u001b[38;5;241;43m.\u001b[39;49m\u001b[43m_check_environment\u001b[49m\u001b[43m(\u001b[49m\u001b[43m)\u001b[49m\n\u001b[1;32m    331\u001b[0m \u001b[38;5;66;03m# Set up GPU usage ========================================= >>\u001b[39;00m\n\u001b[1;32m    333\u001b[0m \u001b[38;5;28;01mif\u001b[39;00m \u001b[38;5;28mself\u001b[39m\u001b[38;5;241m.\u001b[39mgpu_param \u001b[38;5;241m!=\u001b[39m \u001b[38;5;124m\"\u001b[39m\u001b[38;5;124mforce\u001b[39m\u001b[38;5;124m\"\u001b[39m \u001b[38;5;129;01mand\u001b[39;00m \u001b[38;5;28mtype\u001b[39m(\u001b[38;5;28mself\u001b[39m\u001b[38;5;241m.\u001b[39mgpu_param) \u001b[38;5;129;01mis\u001b[39;00m \u001b[38;5;129;01mnot\u001b[39;00m \u001b[38;5;28mbool\u001b[39m:\n",
      "File \u001b[0;32m~/.local/lib/python3.10/site-packages/pycaret/internal/pycaret_experiment/pycaret_experiment.py:101\u001b[0m, in \u001b[0;36m_PyCaretExperiment._check_environment\u001b[0;34m(self)\u001b[0m\n\u001b[1;32m     98\u001b[0m \u001b[38;5;28mself\u001b[39m\u001b[38;5;241m.\u001b[39mlogger\u001b[38;5;241m.\u001b[39minfo(\u001b[38;5;124mf\u001b[39m\u001b[38;5;124m\"\u001b[39m\u001b[38;5;124mLogical Core: \u001b[39m\u001b[38;5;132;01m{\u001b[39;00mpsutil\u001b[38;5;241m.\u001b[39mcpu_count(logical\u001b[38;5;241m=\u001b[39m\u001b[38;5;28;01mTrue\u001b[39;00m)\u001b[38;5;132;01m}\u001b[39;00m\u001b[38;5;124m\"\u001b[39m)\n\u001b[1;32m    100\u001b[0m \u001b[38;5;28mself\u001b[39m\u001b[38;5;241m.\u001b[39mlogger\u001b[38;5;241m.\u001b[39minfo(\u001b[38;5;124m\"\u001b[39m\u001b[38;5;124mChecking libraries\u001b[39m\u001b[38;5;124m\"\u001b[39m)\n\u001b[0;32m--> 101\u001b[0m \u001b[38;5;28mself\u001b[39m\u001b[38;5;241m.\u001b[39mlogger\u001b[38;5;241m.\u001b[39minfo(\u001b[43mshow_versions\u001b[49m\u001b[43m(\u001b[49m\u001b[43mlogger\u001b[49m\u001b[38;5;241;43m=\u001b[39;49m\u001b[38;5;28;43mself\u001b[39;49m\u001b[38;5;241;43m.\u001b[39;49m\u001b[43mlogger\u001b[49m\u001b[43m)\u001b[49m)\n",
      "File \u001b[0;32m~/.local/lib/python3.10/site-packages/pycaret/utils/_show_versions.py:168\u001b[0m, in \u001b[0;36mshow_versions\u001b[0;34m(optional, logger)\u001b[0m\n\u001b[1;32m    166\u001b[0m \u001b[38;5;28;01mif\u001b[39;00m optional:\n\u001b[1;32m    167\u001b[0m     print_func(\u001b[38;5;124mf\u001b[39m\u001b[38;5;124m\"\u001b[39m\u001b[38;5;132;01m{\u001b[39;00mprefix\u001b[38;5;132;01m}\u001b[39;00m\u001b[38;5;124mPyCaret optional dependencies:\u001b[39m\u001b[38;5;124m\"\u001b[39m)  \u001b[38;5;66;03m# noqa: T001\u001b[39;00m\n\u001b[0;32m--> 168\u001b[0m     optional_deps_info \u001b[38;5;241m=\u001b[39m \u001b[43m_get_deps_info\u001b[49m\u001b[43m(\u001b[49m\u001b[43mlogger\u001b[49m\u001b[38;5;241;43m=\u001b[39;49m\u001b[43mlogger\u001b[49m\u001b[43m,\u001b[49m\u001b[43m \u001b[49m\u001b[43moptional\u001b[49m\u001b[38;5;241;43m=\u001b[39;49m\u001b[38;5;28;43;01mTrue\u001b[39;49;00m\u001b[43m)\u001b[49m\n\u001b[1;32m    169\u001b[0m     \u001b[38;5;28;01mfor\u001b[39;00m k, stat \u001b[38;5;129;01min\u001b[39;00m optional_deps_info\u001b[38;5;241m.\u001b[39mitems():\n\u001b[1;32m    170\u001b[0m         print_func(\u001b[38;5;124m\"\u001b[39m\u001b[38;5;132;01m{k:>20}\u001b[39;00m\u001b[38;5;124m: \u001b[39m\u001b[38;5;132;01m{stat}\u001b[39;00m\u001b[38;5;124m\"\u001b[39m\u001b[38;5;241m.\u001b[39mformat(k\u001b[38;5;241m=\u001b[39mk, stat\u001b[38;5;241m=\u001b[39mstat))\n",
      "File \u001b[0;32m~/.local/lib/python3.10/site-packages/pycaret/utils/_show_versions.py:127\u001b[0m, in \u001b[0;36m_get_deps_info\u001b[0;34m(optional, logger)\u001b[0m\n\u001b[1;32m    125\u001b[0m \u001b[38;5;28;01mfor\u001b[39;00m modname \u001b[38;5;129;01min\u001b[39;00m deps:\n\u001b[1;32m    126\u001b[0m     \u001b[38;5;28;01mtry\u001b[39;00m:\n\u001b[0;32m--> 127\u001b[0m         ver \u001b[38;5;241m=\u001b[39m \u001b[43mget_module_version\u001b[49m\u001b[43m(\u001b[49m\u001b[43mmodname\u001b[49m\u001b[43m)\u001b[49m\n\u001b[1;32m    128\u001b[0m         \u001b[38;5;28;01mif\u001b[39;00m \u001b[38;5;129;01mnot\u001b[39;00m ver:\n\u001b[1;32m    129\u001b[0m             ver \u001b[38;5;241m=\u001b[39m \u001b[38;5;124m\"\u001b[39m\u001b[38;5;124mInstalled but version unavailable\u001b[39m\u001b[38;5;124m\"\u001b[39m\n",
      "File \u001b[0;32m~/.local/lib/python3.10/site-packages/pycaret/utils/_dependencies.py:81\u001b[0m, in \u001b[0;36mget_module_version\u001b[0;34m(modname)\u001b[0m\n\u001b[1;32m     79\u001b[0m \u001b[38;5;28;01mdef\u001b[39;00m \u001b[38;5;21mget_module_version\u001b[39m(modname: \u001b[38;5;28mstr\u001b[39m) \u001b[38;5;241m-\u001b[39m\u001b[38;5;241m>\u001b[39m Optional[LooseVersion]:\n\u001b[1;32m     80\u001b[0m     \u001b[38;5;124;03m\"\"\"Raises a ValueError if module is not installed\"\"\"\u001b[39;00m\n\u001b[0;32m---> 81\u001b[0m     version \u001b[38;5;241m=\u001b[39m \u001b[43m_get_module_version\u001b[49m\u001b[43m(\u001b[49m\u001b[43mmodname\u001b[49m\u001b[43m)\u001b[49m\n\u001b[1;32m     82\u001b[0m     \u001b[38;5;28;01mif\u001b[39;00m version \u001b[38;5;129;01mis\u001b[39;00m \u001b[38;5;28;01mFalse\u001b[39;00m:\n\u001b[1;32m     83\u001b[0m         \u001b[38;5;28;01mraise\u001b[39;00m \u001b[38;5;167;01mValueError\u001b[39;00m(\u001b[38;5;124mf\u001b[39m\u001b[38;5;124m\"\u001b[39m\u001b[38;5;124mModule \u001b[39m\u001b[38;5;124m'\u001b[39m\u001b[38;5;132;01m{\u001b[39;00mmodname\u001b[38;5;132;01m}\u001b[39;00m\u001b[38;5;124m'\u001b[39m\u001b[38;5;124m is not installed.\u001b[39m\u001b[38;5;124m\"\u001b[39m)\n",
      "File \u001b[0;32m~/.local/lib/python3.10/site-packages/pycaret/utils/_dependencies.py:75\u001b[0m, in \u001b[0;36m_get_module_version\u001b[0;34m(modname)\u001b[0m\n\u001b[1;32m     72\u001b[0m installed_modules \u001b[38;5;241m=\u001b[39m get_installed_modules()\n\u001b[1;32m     73\u001b[0m \u001b[38;5;28;01mif\u001b[39;00m modname \u001b[38;5;129;01mnot\u001b[39;00m \u001b[38;5;129;01min\u001b[39;00m installed_modules:\n\u001b[1;32m     74\u001b[0m     \u001b[38;5;66;03m# Fallback. This should never happen unless module is not present\u001b[39;00m\n\u001b[0;32m---> 75\u001b[0m     installed_modules[modname] \u001b[38;5;241m=\u001b[39m \u001b[43m_try_import_and_get_module_version\u001b[49m\u001b[43m(\u001b[49m\u001b[43mmodname\u001b[49m\u001b[43m)\u001b[49m\n\u001b[1;32m     76\u001b[0m \u001b[38;5;28;01mreturn\u001b[39;00m installed_modules[modname]\n",
      "File \u001b[0;32m~/.local/lib/python3.10/site-packages/pycaret/utils/_dependencies.py:28\u001b[0m, in \u001b[0;36m_try_import_and_get_module_version\u001b[0;34m(modname)\u001b[0m\n\u001b[1;32m     26\u001b[0m \u001b[38;5;28;01mif\u001b[39;00m logger:\n\u001b[1;32m     27\u001b[0m     \u001b[38;5;28;01mwith\u001b[39;00m redirect_output(logger):\n\u001b[0;32m---> 28\u001b[0m         mod \u001b[38;5;241m=\u001b[39m \u001b[43mimport_module\u001b[49m\u001b[43m(\u001b[49m\u001b[43mmodname\u001b[49m\u001b[43m)\u001b[49m\n\u001b[1;32m     29\u001b[0m \u001b[38;5;28;01melse\u001b[39;00m:\n\u001b[1;32m     30\u001b[0m     mod \u001b[38;5;241m=\u001b[39m import_module(modname)\n",
      "File \u001b[0;32m/usr/lib/python3.10/importlib/__init__.py:126\u001b[0m, in \u001b[0;36mimport_module\u001b[0;34m(name, package)\u001b[0m\n\u001b[1;32m    124\u001b[0m             \u001b[38;5;28;01mbreak\u001b[39;00m\n\u001b[1;32m    125\u001b[0m         level \u001b[38;5;241m+\u001b[39m\u001b[38;5;241m=\u001b[39m \u001b[38;5;241m1\u001b[39m\n\u001b[0;32m--> 126\u001b[0m \u001b[38;5;28;01mreturn\u001b[39;00m \u001b[43m_bootstrap\u001b[49m\u001b[38;5;241;43m.\u001b[39;49m\u001b[43m_gcd_import\u001b[49m\u001b[43m(\u001b[49m\u001b[43mname\u001b[49m\u001b[43m[\u001b[49m\u001b[43mlevel\u001b[49m\u001b[43m:\u001b[49m\u001b[43m]\u001b[49m\u001b[43m,\u001b[49m\u001b[43m \u001b[49m\u001b[43mpackage\u001b[49m\u001b[43m,\u001b[49m\u001b[43m \u001b[49m\u001b[43mlevel\u001b[49m\u001b[43m)\u001b[49m\n",
      "File \u001b[0;32m<frozen importlib._bootstrap>:1050\u001b[0m, in \u001b[0;36m_gcd_import\u001b[0;34m(name, package, level)\u001b[0m\n",
      "File \u001b[0;32m<frozen importlib._bootstrap>:1027\u001b[0m, in \u001b[0;36m_find_and_load\u001b[0;34m(name, import_)\u001b[0m\n",
      "File \u001b[0;32m<frozen importlib._bootstrap>:1006\u001b[0m, in \u001b[0;36m_find_and_load_unlocked\u001b[0;34m(name, import_)\u001b[0m\n",
      "File \u001b[0;32m<frozen importlib._bootstrap>:688\u001b[0m, in \u001b[0;36m_load_unlocked\u001b[0;34m(spec)\u001b[0m\n",
      "File \u001b[0;32m<frozen importlib._bootstrap_external>:883\u001b[0m, in \u001b[0;36mexec_module\u001b[0;34m(self, module)\u001b[0m\n",
      "File \u001b[0;32m<frozen importlib._bootstrap>:241\u001b[0m, in \u001b[0;36m_call_with_frames_removed\u001b[0;34m(f, *args, **kwds)\u001b[0m\n",
      "File \u001b[0;32m/usr/local/lib/python3.10/dist-packages/gradio/__init__.py:3\u001b[0m\n\u001b[1;32m      1\u001b[0m \u001b[38;5;28;01mimport\u001b[39;00m \u001b[38;5;21;01mpkgutil\u001b[39;00m\n\u001b[0;32m----> 3\u001b[0m \u001b[38;5;28;01mimport\u001b[39;00m \u001b[38;5;21;01mgradio\u001b[39;00m\u001b[38;5;21;01m.\u001b[39;00m\u001b[38;5;21;01mcomponents\u001b[39;00m \u001b[38;5;28;01mas\u001b[39;00m \u001b[38;5;21;01mcomponents\u001b[39;00m\n\u001b[1;32m      4\u001b[0m \u001b[38;5;28;01mimport\u001b[39;00m \u001b[38;5;21;01mgradio\u001b[39;00m\u001b[38;5;21;01m.\u001b[39;00m\u001b[38;5;21;01minputs\u001b[39;00m \u001b[38;5;28;01mas\u001b[39;00m \u001b[38;5;21;01minputs\u001b[39;00m\n\u001b[1;32m      5\u001b[0m \u001b[38;5;28;01mimport\u001b[39;00m \u001b[38;5;21;01mgradio\u001b[39;00m\u001b[38;5;21;01m.\u001b[39;00m\u001b[38;5;21;01moutputs\u001b[39;00m \u001b[38;5;28;01mas\u001b[39;00m \u001b[38;5;21;01moutputs\u001b[39;00m\n",
      "File \u001b[0;32m/usr/local/lib/python3.10/dist-packages/gradio/components.py:32\u001b[0m\n\u001b[1;32m     29\u001b[0m \u001b[38;5;28;01mfrom\u001b[39;00m \u001b[38;5;21;01mmarkdown_it\u001b[39;00m \u001b[38;5;28;01mimport\u001b[39;00m MarkdownIt\n\u001b[1;32m     31\u001b[0m \u001b[38;5;28;01mfrom\u001b[39;00m \u001b[38;5;21;01mgradio\u001b[39;00m \u001b[38;5;28;01mimport\u001b[39;00m media_data, processing_utils, utils\n\u001b[0;32m---> 32\u001b[0m \u001b[38;5;28;01mfrom\u001b[39;00m \u001b[38;5;21;01mgradio\u001b[39;00m\u001b[38;5;21;01m.\u001b[39;00m\u001b[38;5;21;01mblocks\u001b[39;00m \u001b[38;5;28;01mimport\u001b[39;00m Block\n\u001b[1;32m     33\u001b[0m \u001b[38;5;28;01mfrom\u001b[39;00m \u001b[38;5;21;01mgradio\u001b[39;00m\u001b[38;5;21;01m.\u001b[39;00m\u001b[38;5;21;01mdocumentation\u001b[39;00m \u001b[38;5;28;01mimport\u001b[39;00m document, set_documentation_group\n\u001b[1;32m     34\u001b[0m \u001b[38;5;28;01mfrom\u001b[39;00m \u001b[38;5;21;01mgradio\u001b[39;00m\u001b[38;5;21;01m.\u001b[39;00m\u001b[38;5;21;01mevents\u001b[39;00m \u001b[38;5;28;01mimport\u001b[39;00m (\n\u001b[1;32m     35\u001b[0m     Blurrable,\n\u001b[1;32m     36\u001b[0m     Changeable,\n\u001b[0;32m   (...)\u001b[0m\n\u001b[1;32m     43\u001b[0m     Uploadable,\n\u001b[1;32m     44\u001b[0m )\n",
      "File \u001b[0;32m/usr/local/lib/python3.10/dist-packages/gradio/blocks.py:32\u001b[0m\n\u001b[1;32m     29\u001b[0m \u001b[38;5;28;01mimport\u001b[39;00m \u001b[38;5;21;01mrequests\u001b[39;00m\n\u001b[1;32m     30\u001b[0m \u001b[38;5;28;01mfrom\u001b[39;00m \u001b[38;5;21;01manyio\u001b[39;00m \u001b[38;5;28;01mimport\u001b[39;00m CapacityLimiter\n\u001b[0;32m---> 32\u001b[0m \u001b[38;5;28;01mfrom\u001b[39;00m \u001b[38;5;21;01mgradio\u001b[39;00m \u001b[38;5;28;01mimport\u001b[39;00m (\n\u001b[1;32m     33\u001b[0m     components,\n\u001b[1;32m     34\u001b[0m     encryptor,\n\u001b[1;32m     35\u001b[0m     external,\n\u001b[1;32m     36\u001b[0m     networking,\n\u001b[1;32m     37\u001b[0m     queue,\n\u001b[1;32m     38\u001b[0m     routes,\n\u001b[1;32m     39\u001b[0m     strings,\n\u001b[1;32m     40\u001b[0m     utils,\n\u001b[1;32m     41\u001b[0m )\n\u001b[1;32m     42\u001b[0m \u001b[38;5;28;01mfrom\u001b[39;00m \u001b[38;5;21;01mgradio\u001b[39;00m\u001b[38;5;21;01m.\u001b[39;00m\u001b[38;5;21;01mcontext\u001b[39;00m \u001b[38;5;28;01mimport\u001b[39;00m Context\n\u001b[1;32m     43\u001b[0m \u001b[38;5;28;01mfrom\u001b[39;00m \u001b[38;5;21;01mgradio\u001b[39;00m\u001b[38;5;21;01m.\u001b[39;00m\u001b[38;5;21;01mdeprecation\u001b[39;00m \u001b[38;5;28;01mimport\u001b[39;00m check_deprecated_parameters\n",
      "File \u001b[0;32m/usr/local/lib/python3.10/dist-packages/gradio/strings.py:37\u001b[0m\n\u001b[1;32m      7\u001b[0m en \u001b[38;5;241m=\u001b[39m {\n\u001b[1;32m      8\u001b[0m     \u001b[38;5;124m\"\u001b[39m\u001b[38;5;124mRUNNING_LOCALLY\u001b[39m\u001b[38;5;124m\"\u001b[39m: \u001b[38;5;124m\"\u001b[39m\u001b[38;5;124mRunning on local URL:  \u001b[39m\u001b[38;5;132;01m{}\u001b[39;00m\u001b[38;5;124m\"\u001b[39m,\n\u001b[1;32m      9\u001b[0m     \u001b[38;5;124m\"\u001b[39m\u001b[38;5;124mRUNNING_LOCALLY_SEPARATED\u001b[39m\u001b[38;5;124m\"\u001b[39m: \u001b[38;5;124m\"\u001b[39m\u001b[38;5;124mRunning on local URL:  \u001b[39m\u001b[38;5;132;01m{}\u001b[39;00m\u001b[38;5;124m://\u001b[39m\u001b[38;5;132;01m{}\u001b[39;00m\u001b[38;5;124m:\u001b[39m\u001b[38;5;132;01m{}\u001b[39;00m\u001b[38;5;124m\"\u001b[39m,\n\u001b[0;32m   (...)\u001b[0m\n\u001b[1;32m     33\u001b[0m     ],\n\u001b[1;32m     34\u001b[0m }\n\u001b[1;32m     36\u001b[0m \u001b[38;5;28;01mtry\u001b[39;00m:\n\u001b[0;32m---> 37\u001b[0m     updated_messaging \u001b[38;5;241m=\u001b[39m \u001b[43mrequests\u001b[49m\u001b[38;5;241;43m.\u001b[39;49m\u001b[43mget\u001b[49m\u001b[43m(\u001b[49m\u001b[43mMESSAGING_API_ENDPOINT\u001b[49m\u001b[43m,\u001b[49m\u001b[43m \u001b[49m\u001b[43mtimeout\u001b[49m\u001b[38;5;241;43m=\u001b[39;49m\u001b[38;5;241;43m3\u001b[39;49m\u001b[43m)\u001b[49m\u001b[38;5;241m.\u001b[39mjson()\n\u001b[1;32m     38\u001b[0m     en\u001b[38;5;241m.\u001b[39mupdate(updated_messaging)\n\u001b[1;32m     39\u001b[0m \u001b[38;5;28;01mexcept\u001b[39;00m (\n\u001b[1;32m     40\u001b[0m     requests\u001b[38;5;241m.\u001b[39mConnectionError,\n\u001b[1;32m     41\u001b[0m     requests\u001b[38;5;241m.\u001b[39mexceptions\u001b[38;5;241m.\u001b[39mReadTimeout,\n\u001b[1;32m     42\u001b[0m     json\u001b[38;5;241m.\u001b[39mdecoder\u001b[38;5;241m.\u001b[39mJSONDecodeError,\n\u001b[1;32m     43\u001b[0m ):  \u001b[38;5;66;03m# Use default messaging\u001b[39;00m\n",
      "File \u001b[0;32m/usr/lib/python3/dist-packages/requests/api.py:75\u001b[0m, in \u001b[0;36mget\u001b[0;34m(url, params, **kwargs)\u001b[0m\n\u001b[1;32m     64\u001b[0m \u001b[38;5;28;01mdef\u001b[39;00m \u001b[38;5;21mget\u001b[39m(url, params\u001b[38;5;241m=\u001b[39m\u001b[38;5;28;01mNone\u001b[39;00m, \u001b[38;5;241m*\u001b[39m\u001b[38;5;241m*\u001b[39mkwargs):\n\u001b[1;32m     65\u001b[0m     \u001b[38;5;124mr\u001b[39m\u001b[38;5;124;03m\"\"\"Sends a GET request.\u001b[39;00m\n\u001b[1;32m     66\u001b[0m \n\u001b[1;32m     67\u001b[0m \u001b[38;5;124;03m    :param url: URL for the new :class:`Request` object.\u001b[39;00m\n\u001b[0;32m   (...)\u001b[0m\n\u001b[1;32m     72\u001b[0m \u001b[38;5;124;03m    :rtype: requests.Response\u001b[39;00m\n\u001b[1;32m     73\u001b[0m \u001b[38;5;124;03m    \"\"\"\u001b[39;00m\n\u001b[0;32m---> 75\u001b[0m     \u001b[38;5;28;01mreturn\u001b[39;00m \u001b[43mrequest\u001b[49m\u001b[43m(\u001b[49m\u001b[38;5;124;43m'\u001b[39;49m\u001b[38;5;124;43mget\u001b[39;49m\u001b[38;5;124;43m'\u001b[39;49m\u001b[43m,\u001b[49m\u001b[43m \u001b[49m\u001b[43murl\u001b[49m\u001b[43m,\u001b[49m\u001b[43m \u001b[49m\u001b[43mparams\u001b[49m\u001b[38;5;241;43m=\u001b[39;49m\u001b[43mparams\u001b[49m\u001b[43m,\u001b[49m\u001b[43m \u001b[49m\u001b[38;5;241;43m*\u001b[39;49m\u001b[38;5;241;43m*\u001b[39;49m\u001b[43mkwargs\u001b[49m\u001b[43m)\u001b[49m\n",
      "File \u001b[0;32m/usr/lib/python3/dist-packages/requests/api.py:61\u001b[0m, in \u001b[0;36mrequest\u001b[0;34m(method, url, **kwargs)\u001b[0m\n\u001b[1;32m     57\u001b[0m \u001b[38;5;66;03m# By using the 'with' statement we are sure the session is closed, thus we\u001b[39;00m\n\u001b[1;32m     58\u001b[0m \u001b[38;5;66;03m# avoid leaving sockets open which can trigger a ResourceWarning in some\u001b[39;00m\n\u001b[1;32m     59\u001b[0m \u001b[38;5;66;03m# cases, and look like a memory leak in others.\u001b[39;00m\n\u001b[1;32m     60\u001b[0m \u001b[38;5;28;01mwith\u001b[39;00m sessions\u001b[38;5;241m.\u001b[39mSession() \u001b[38;5;28;01mas\u001b[39;00m session:\n\u001b[0;32m---> 61\u001b[0m     \u001b[38;5;28;01mreturn\u001b[39;00m \u001b[43msession\u001b[49m\u001b[38;5;241;43m.\u001b[39;49m\u001b[43mrequest\u001b[49m\u001b[43m(\u001b[49m\u001b[43mmethod\u001b[49m\u001b[38;5;241;43m=\u001b[39;49m\u001b[43mmethod\u001b[49m\u001b[43m,\u001b[49m\u001b[43m \u001b[49m\u001b[43murl\u001b[49m\u001b[38;5;241;43m=\u001b[39;49m\u001b[43murl\u001b[49m\u001b[43m,\u001b[49m\u001b[43m \u001b[49m\u001b[38;5;241;43m*\u001b[39;49m\u001b[38;5;241;43m*\u001b[39;49m\u001b[43mkwargs\u001b[49m\u001b[43m)\u001b[49m\n",
      "File \u001b[0;32m/usr/lib/python3/dist-packages/requests/sessions.py:529\u001b[0m, in \u001b[0;36mSession.request\u001b[0;34m(self, method, url, params, data, headers, cookies, files, auth, timeout, allow_redirects, proxies, hooks, stream, verify, cert, json)\u001b[0m\n\u001b[1;32m    524\u001b[0m send_kwargs \u001b[38;5;241m=\u001b[39m {\n\u001b[1;32m    525\u001b[0m     \u001b[38;5;124m'\u001b[39m\u001b[38;5;124mtimeout\u001b[39m\u001b[38;5;124m'\u001b[39m: timeout,\n\u001b[1;32m    526\u001b[0m     \u001b[38;5;124m'\u001b[39m\u001b[38;5;124mallow_redirects\u001b[39m\u001b[38;5;124m'\u001b[39m: allow_redirects,\n\u001b[1;32m    527\u001b[0m }\n\u001b[1;32m    528\u001b[0m send_kwargs\u001b[38;5;241m.\u001b[39mupdate(settings)\n\u001b[0;32m--> 529\u001b[0m resp \u001b[38;5;241m=\u001b[39m \u001b[38;5;28;43mself\u001b[39;49m\u001b[38;5;241;43m.\u001b[39;49m\u001b[43msend\u001b[49m\u001b[43m(\u001b[49m\u001b[43mprep\u001b[49m\u001b[43m,\u001b[49m\u001b[43m \u001b[49m\u001b[38;5;241;43m*\u001b[39;49m\u001b[38;5;241;43m*\u001b[39;49m\u001b[43msend_kwargs\u001b[49m\u001b[43m)\u001b[49m\n\u001b[1;32m    531\u001b[0m \u001b[38;5;28;01mreturn\u001b[39;00m resp\n",
      "File \u001b[0;32m/usr/lib/python3/dist-packages/requests/sessions.py:645\u001b[0m, in \u001b[0;36mSession.send\u001b[0;34m(self, request, **kwargs)\u001b[0m\n\u001b[1;32m    642\u001b[0m start \u001b[38;5;241m=\u001b[39m preferred_clock()\n\u001b[1;32m    644\u001b[0m \u001b[38;5;66;03m# Send the request\u001b[39;00m\n\u001b[0;32m--> 645\u001b[0m r \u001b[38;5;241m=\u001b[39m \u001b[43madapter\u001b[49m\u001b[38;5;241;43m.\u001b[39;49m\u001b[43msend\u001b[49m\u001b[43m(\u001b[49m\u001b[43mrequest\u001b[49m\u001b[43m,\u001b[49m\u001b[43m \u001b[49m\u001b[38;5;241;43m*\u001b[39;49m\u001b[38;5;241;43m*\u001b[39;49m\u001b[43mkwargs\u001b[49m\u001b[43m)\u001b[49m\n\u001b[1;32m    647\u001b[0m \u001b[38;5;66;03m# Total elapsed time of the request (approximately)\u001b[39;00m\n\u001b[1;32m    648\u001b[0m elapsed \u001b[38;5;241m=\u001b[39m preferred_clock() \u001b[38;5;241m-\u001b[39m start\n",
      "File \u001b[0;32m/usr/lib/python3/dist-packages/requests/adapters.py:440\u001b[0m, in \u001b[0;36mHTTPAdapter.send\u001b[0;34m(self, request, stream, timeout, verify, cert, proxies)\u001b[0m\n\u001b[1;32m    438\u001b[0m \u001b[38;5;28;01mtry\u001b[39;00m:\n\u001b[1;32m    439\u001b[0m     \u001b[38;5;28;01mif\u001b[39;00m \u001b[38;5;129;01mnot\u001b[39;00m chunked:\n\u001b[0;32m--> 440\u001b[0m         resp \u001b[38;5;241m=\u001b[39m \u001b[43mconn\u001b[49m\u001b[38;5;241;43m.\u001b[39;49m\u001b[43murlopen\u001b[49m\u001b[43m(\u001b[49m\n\u001b[1;32m    441\u001b[0m \u001b[43m            \u001b[49m\u001b[43mmethod\u001b[49m\u001b[38;5;241;43m=\u001b[39;49m\u001b[43mrequest\u001b[49m\u001b[38;5;241;43m.\u001b[39;49m\u001b[43mmethod\u001b[49m\u001b[43m,\u001b[49m\n\u001b[1;32m    442\u001b[0m \u001b[43m            \u001b[49m\u001b[43murl\u001b[49m\u001b[38;5;241;43m=\u001b[39;49m\u001b[43murl\u001b[49m\u001b[43m,\u001b[49m\n\u001b[1;32m    443\u001b[0m \u001b[43m            \u001b[49m\u001b[43mbody\u001b[49m\u001b[38;5;241;43m=\u001b[39;49m\u001b[43mrequest\u001b[49m\u001b[38;5;241;43m.\u001b[39;49m\u001b[43mbody\u001b[49m\u001b[43m,\u001b[49m\n\u001b[1;32m    444\u001b[0m \u001b[43m            \u001b[49m\u001b[43mheaders\u001b[49m\u001b[38;5;241;43m=\u001b[39;49m\u001b[43mrequest\u001b[49m\u001b[38;5;241;43m.\u001b[39;49m\u001b[43mheaders\u001b[49m\u001b[43m,\u001b[49m\n\u001b[1;32m    445\u001b[0m \u001b[43m            \u001b[49m\u001b[43mredirect\u001b[49m\u001b[38;5;241;43m=\u001b[39;49m\u001b[38;5;28;43;01mFalse\u001b[39;49;00m\u001b[43m,\u001b[49m\n\u001b[1;32m    446\u001b[0m \u001b[43m            \u001b[49m\u001b[43massert_same_host\u001b[49m\u001b[38;5;241;43m=\u001b[39;49m\u001b[38;5;28;43;01mFalse\u001b[39;49;00m\u001b[43m,\u001b[49m\n\u001b[1;32m    447\u001b[0m \u001b[43m            \u001b[49m\u001b[43mpreload_content\u001b[49m\u001b[38;5;241;43m=\u001b[39;49m\u001b[38;5;28;43;01mFalse\u001b[39;49;00m\u001b[43m,\u001b[49m\n\u001b[1;32m    448\u001b[0m \u001b[43m            \u001b[49m\u001b[43mdecode_content\u001b[49m\u001b[38;5;241;43m=\u001b[39;49m\u001b[38;5;28;43;01mFalse\u001b[39;49;00m\u001b[43m,\u001b[49m\n\u001b[1;32m    449\u001b[0m \u001b[43m            \u001b[49m\u001b[43mretries\u001b[49m\u001b[38;5;241;43m=\u001b[39;49m\u001b[38;5;28;43mself\u001b[39;49m\u001b[38;5;241;43m.\u001b[39;49m\u001b[43mmax_retries\u001b[49m\u001b[43m,\u001b[49m\n\u001b[1;32m    450\u001b[0m \u001b[43m            \u001b[49m\u001b[43mtimeout\u001b[49m\u001b[38;5;241;43m=\u001b[39;49m\u001b[43mtimeout\u001b[49m\n\u001b[1;32m    451\u001b[0m \u001b[43m        \u001b[49m\u001b[43m)\u001b[49m\n\u001b[1;32m    453\u001b[0m     \u001b[38;5;66;03m# Send the request.\u001b[39;00m\n\u001b[1;32m    454\u001b[0m     \u001b[38;5;28;01melse\u001b[39;00m:\n\u001b[1;32m    455\u001b[0m         \u001b[38;5;28;01mif\u001b[39;00m \u001b[38;5;28mhasattr\u001b[39m(conn, \u001b[38;5;124m'\u001b[39m\u001b[38;5;124mproxy_pool\u001b[39m\u001b[38;5;124m'\u001b[39m):\n",
      "File \u001b[0;32m/usr/lib/python3/dist-packages/urllib3/connectionpool.py:704\u001b[0m, in \u001b[0;36mHTTPConnectionPool.urlopen\u001b[0;34m(self, method, url, body, headers, retries, redirect, assert_same_host, timeout, pool_timeout, release_conn, chunked, body_pos, **response_kw)\u001b[0m\n\u001b[1;32m    701\u001b[0m     \u001b[38;5;28mself\u001b[39m\u001b[38;5;241m.\u001b[39m_prepare_proxy(conn)\n\u001b[1;32m    703\u001b[0m \u001b[38;5;66;03m# Make the request on the httplib connection object.\u001b[39;00m\n\u001b[0;32m--> 704\u001b[0m httplib_response \u001b[38;5;241m=\u001b[39m \u001b[38;5;28;43mself\u001b[39;49m\u001b[38;5;241;43m.\u001b[39;49m\u001b[43m_make_request\u001b[49m\u001b[43m(\u001b[49m\n\u001b[1;32m    705\u001b[0m \u001b[43m    \u001b[49m\u001b[43mconn\u001b[49m\u001b[43m,\u001b[49m\n\u001b[1;32m    706\u001b[0m \u001b[43m    \u001b[49m\u001b[43mmethod\u001b[49m\u001b[43m,\u001b[49m\n\u001b[1;32m    707\u001b[0m \u001b[43m    \u001b[49m\u001b[43murl\u001b[49m\u001b[43m,\u001b[49m\n\u001b[1;32m    708\u001b[0m \u001b[43m    \u001b[49m\u001b[43mtimeout\u001b[49m\u001b[38;5;241;43m=\u001b[39;49m\u001b[43mtimeout_obj\u001b[49m\u001b[43m,\u001b[49m\n\u001b[1;32m    709\u001b[0m \u001b[43m    \u001b[49m\u001b[43mbody\u001b[49m\u001b[38;5;241;43m=\u001b[39;49m\u001b[43mbody\u001b[49m\u001b[43m,\u001b[49m\n\u001b[1;32m    710\u001b[0m \u001b[43m    \u001b[49m\u001b[43mheaders\u001b[49m\u001b[38;5;241;43m=\u001b[39;49m\u001b[43mheaders\u001b[49m\u001b[43m,\u001b[49m\n\u001b[1;32m    711\u001b[0m \u001b[43m    \u001b[49m\u001b[43mchunked\u001b[49m\u001b[38;5;241;43m=\u001b[39;49m\u001b[43mchunked\u001b[49m\u001b[43m,\u001b[49m\n\u001b[1;32m    712\u001b[0m \u001b[43m\u001b[49m\u001b[43m)\u001b[49m\n\u001b[1;32m    714\u001b[0m \u001b[38;5;66;03m# If we're going to release the connection in ``finally:``, then\u001b[39;00m\n\u001b[1;32m    715\u001b[0m \u001b[38;5;66;03m# the response doesn't need to know about the connection. Otherwise\u001b[39;00m\n\u001b[1;32m    716\u001b[0m \u001b[38;5;66;03m# it will also try to release it and we'll have a double-release\u001b[39;00m\n\u001b[1;32m    717\u001b[0m \u001b[38;5;66;03m# mess.\u001b[39;00m\n\u001b[1;32m    718\u001b[0m response_conn \u001b[38;5;241m=\u001b[39m conn \u001b[38;5;28;01mif\u001b[39;00m \u001b[38;5;129;01mnot\u001b[39;00m release_conn \u001b[38;5;28;01melse\u001b[39;00m \u001b[38;5;28;01mNone\u001b[39;00m\n",
      "File \u001b[0;32m/usr/lib/python3/dist-packages/urllib3/connectionpool.py:387\u001b[0m, in \u001b[0;36mHTTPConnectionPool._make_request\u001b[0;34m(self, conn, method, url, timeout, chunked, **httplib_request_kw)\u001b[0m\n\u001b[1;32m    385\u001b[0m \u001b[38;5;66;03m# Trigger any extra validation we need to do.\u001b[39;00m\n\u001b[1;32m    386\u001b[0m \u001b[38;5;28;01mtry\u001b[39;00m:\n\u001b[0;32m--> 387\u001b[0m     \u001b[38;5;28;43mself\u001b[39;49m\u001b[38;5;241;43m.\u001b[39;49m\u001b[43m_validate_conn\u001b[49m\u001b[43m(\u001b[49m\u001b[43mconn\u001b[49m\u001b[43m)\u001b[49m\n\u001b[1;32m    388\u001b[0m \u001b[38;5;28;01mexcept\u001b[39;00m (SocketTimeout, BaseSSLError) \u001b[38;5;28;01mas\u001b[39;00m e:\n\u001b[1;32m    389\u001b[0m     \u001b[38;5;66;03m# Py2 raises this as a BaseSSLError, Py3 raises it as socket timeout.\u001b[39;00m\n\u001b[1;32m    390\u001b[0m     \u001b[38;5;28mself\u001b[39m\u001b[38;5;241m.\u001b[39m_raise_timeout(err\u001b[38;5;241m=\u001b[39me, url\u001b[38;5;241m=\u001b[39murl, timeout_value\u001b[38;5;241m=\u001b[39mconn\u001b[38;5;241m.\u001b[39mtimeout)\n",
      "File \u001b[0;32m/usr/lib/python3/dist-packages/urllib3/connectionpool.py:1045\u001b[0m, in \u001b[0;36mHTTPSConnectionPool._validate_conn\u001b[0;34m(self, conn)\u001b[0m\n\u001b[1;32m   1043\u001b[0m \u001b[38;5;66;03m# Force connect early to allow us to validate the connection.\u001b[39;00m\n\u001b[1;32m   1044\u001b[0m \u001b[38;5;28;01mif\u001b[39;00m \u001b[38;5;129;01mnot\u001b[39;00m \u001b[38;5;28mgetattr\u001b[39m(conn, \u001b[38;5;124m\"\u001b[39m\u001b[38;5;124msock\u001b[39m\u001b[38;5;124m\"\u001b[39m, \u001b[38;5;28;01mNone\u001b[39;00m):  \u001b[38;5;66;03m# AppEngine might not have  `.sock`\u001b[39;00m\n\u001b[0;32m-> 1045\u001b[0m     \u001b[43mconn\u001b[49m\u001b[38;5;241;43m.\u001b[39;49m\u001b[43mconnect\u001b[49m\u001b[43m(\u001b[49m\u001b[43m)\u001b[49m\n\u001b[1;32m   1047\u001b[0m \u001b[38;5;28;01mif\u001b[39;00m \u001b[38;5;129;01mnot\u001b[39;00m conn\u001b[38;5;241m.\u001b[39mis_verified:\n\u001b[1;32m   1048\u001b[0m     warnings\u001b[38;5;241m.\u001b[39mwarn(\n\u001b[1;32m   1049\u001b[0m         (\n\u001b[1;32m   1050\u001b[0m             \u001b[38;5;124m\"\u001b[39m\u001b[38;5;124mUnverified HTTPS request is being made to host \u001b[39m\u001b[38;5;124m'\u001b[39m\u001b[38;5;132;01m%s\u001b[39;00m\u001b[38;5;124m'\u001b[39m\u001b[38;5;124m. \u001b[39m\u001b[38;5;124m\"\u001b[39m\n\u001b[0;32m   (...)\u001b[0m\n\u001b[1;32m   1055\u001b[0m         InsecureRequestWarning,\n\u001b[1;32m   1056\u001b[0m     )\n",
      "File \u001b[0;32m/usr/lib/python3/dist-packages/urllib3/connection.py:358\u001b[0m, in \u001b[0;36mHTTPSConnection.connect\u001b[0;34m(self)\u001b[0m\n\u001b[1;32m    356\u001b[0m \u001b[38;5;28;01mdef\u001b[39;00m \u001b[38;5;21mconnect\u001b[39m(\u001b[38;5;28mself\u001b[39m):\n\u001b[1;32m    357\u001b[0m     \u001b[38;5;66;03m# Add certificate verification\u001b[39;00m\n\u001b[0;32m--> 358\u001b[0m     \u001b[38;5;28mself\u001b[39m\u001b[38;5;241m.\u001b[39msock \u001b[38;5;241m=\u001b[39m conn \u001b[38;5;241m=\u001b[39m \u001b[38;5;28;43mself\u001b[39;49m\u001b[38;5;241;43m.\u001b[39;49m\u001b[43m_new_conn\u001b[49m\u001b[43m(\u001b[49m\u001b[43m)\u001b[49m\n\u001b[1;32m    359\u001b[0m     hostname \u001b[38;5;241m=\u001b[39m \u001b[38;5;28mself\u001b[39m\u001b[38;5;241m.\u001b[39mhost\n\u001b[1;32m    360\u001b[0m     tls_in_tls \u001b[38;5;241m=\u001b[39m \u001b[38;5;28;01mFalse\u001b[39;00m\n",
      "File \u001b[0;32m/usr/lib/python3/dist-packages/urllib3/connection.py:174\u001b[0m, in \u001b[0;36mHTTPConnection._new_conn\u001b[0;34m(self)\u001b[0m\n\u001b[1;32m    171\u001b[0m     extra_kw[\u001b[38;5;124m\"\u001b[39m\u001b[38;5;124msocket_options\u001b[39m\u001b[38;5;124m\"\u001b[39m] \u001b[38;5;241m=\u001b[39m \u001b[38;5;28mself\u001b[39m\u001b[38;5;241m.\u001b[39msocket_options\n\u001b[1;32m    173\u001b[0m \u001b[38;5;28;01mtry\u001b[39;00m:\n\u001b[0;32m--> 174\u001b[0m     conn \u001b[38;5;241m=\u001b[39m \u001b[43mconnection\u001b[49m\u001b[38;5;241;43m.\u001b[39;49m\u001b[43mcreate_connection\u001b[49m\u001b[43m(\u001b[49m\n\u001b[1;32m    175\u001b[0m \u001b[43m        \u001b[49m\u001b[43m(\u001b[49m\u001b[38;5;28;43mself\u001b[39;49m\u001b[38;5;241;43m.\u001b[39;49m\u001b[43m_dns_host\u001b[49m\u001b[43m,\u001b[49m\u001b[43m \u001b[49m\u001b[38;5;28;43mself\u001b[39;49m\u001b[38;5;241;43m.\u001b[39;49m\u001b[43mport\u001b[49m\u001b[43m)\u001b[49m\u001b[43m,\u001b[49m\u001b[43m \u001b[49m\u001b[38;5;28;43mself\u001b[39;49m\u001b[38;5;241;43m.\u001b[39;49m\u001b[43mtimeout\u001b[49m\u001b[43m,\u001b[49m\u001b[43m \u001b[49m\u001b[38;5;241;43m*\u001b[39;49m\u001b[38;5;241;43m*\u001b[39;49m\u001b[43mextra_kw\u001b[49m\n\u001b[1;32m    176\u001b[0m \u001b[43m    \u001b[49m\u001b[43m)\u001b[49m\n\u001b[1;32m    178\u001b[0m \u001b[38;5;28;01mexcept\u001b[39;00m SocketTimeout:\n\u001b[1;32m    179\u001b[0m     \u001b[38;5;28;01mraise\u001b[39;00m ConnectTimeoutError(\n\u001b[1;32m    180\u001b[0m         \u001b[38;5;28mself\u001b[39m,\n\u001b[1;32m    181\u001b[0m         \u001b[38;5;124m\"\u001b[39m\u001b[38;5;124mConnection to \u001b[39m\u001b[38;5;132;01m%s\u001b[39;00m\u001b[38;5;124m timed out. (connect timeout=\u001b[39m\u001b[38;5;132;01m%s\u001b[39;00m\u001b[38;5;124m)\u001b[39m\u001b[38;5;124m\"\u001b[39m\n\u001b[1;32m    182\u001b[0m         \u001b[38;5;241m%\u001b[39m (\u001b[38;5;28mself\u001b[39m\u001b[38;5;241m.\u001b[39mhost, \u001b[38;5;28mself\u001b[39m\u001b[38;5;241m.\u001b[39mtimeout),\n\u001b[1;32m    183\u001b[0m     )\n",
      "File \u001b[0;32m/usr/lib/python3/dist-packages/urllib3/util/connection.py:73\u001b[0m, in \u001b[0;36mcreate_connection\u001b[0;34m(address, timeout, source_address, socket_options)\u001b[0m\n\u001b[1;32m     68\u001b[0m \u001b[38;5;28;01mexcept\u001b[39;00m \u001b[38;5;167;01mUnicodeError\u001b[39;00m:\n\u001b[1;32m     69\u001b[0m     \u001b[38;5;28;01mreturn\u001b[39;00m six\u001b[38;5;241m.\u001b[39mraise_from(\n\u001b[1;32m     70\u001b[0m         LocationParseError(\u001b[38;5;124m\"\u001b[39m\u001b[38;5;124m'\u001b[39m\u001b[38;5;132;01m%s\u001b[39;00m\u001b[38;5;124m'\u001b[39m\u001b[38;5;124m, label empty or too long\u001b[39m\u001b[38;5;124m\"\u001b[39m \u001b[38;5;241m%\u001b[39m host), \u001b[38;5;28;01mNone\u001b[39;00m\n\u001b[1;32m     71\u001b[0m     )\n\u001b[0;32m---> 73\u001b[0m \u001b[38;5;28;01mfor\u001b[39;00m res \u001b[38;5;129;01min\u001b[39;00m \u001b[43msocket\u001b[49m\u001b[38;5;241;43m.\u001b[39;49m\u001b[43mgetaddrinfo\u001b[49m\u001b[43m(\u001b[49m\u001b[43mhost\u001b[49m\u001b[43m,\u001b[49m\u001b[43m \u001b[49m\u001b[43mport\u001b[49m\u001b[43m,\u001b[49m\u001b[43m \u001b[49m\u001b[43mfamily\u001b[49m\u001b[43m,\u001b[49m\u001b[43m \u001b[49m\u001b[43msocket\u001b[49m\u001b[38;5;241;43m.\u001b[39;49m\u001b[43mSOCK_STREAM\u001b[49m\u001b[43m)\u001b[49m:\n\u001b[1;32m     74\u001b[0m     af, socktype, proto, canonname, sa \u001b[38;5;241m=\u001b[39m res\n\u001b[1;32m     75\u001b[0m     sock \u001b[38;5;241m=\u001b[39m \u001b[38;5;28;01mNone\u001b[39;00m\n",
      "File \u001b[0;32m/usr/lib/python3.10/socket.py:955\u001b[0m, in \u001b[0;36mgetaddrinfo\u001b[0;34m(host, port, family, type, proto, flags)\u001b[0m\n\u001b[1;32m    952\u001b[0m \u001b[38;5;66;03m# We override this function since we want to translate the numeric family\u001b[39;00m\n\u001b[1;32m    953\u001b[0m \u001b[38;5;66;03m# and socket type values to enum constants.\u001b[39;00m\n\u001b[1;32m    954\u001b[0m addrlist \u001b[38;5;241m=\u001b[39m []\n\u001b[0;32m--> 955\u001b[0m \u001b[38;5;28;01mfor\u001b[39;00m res \u001b[38;5;129;01min\u001b[39;00m \u001b[43m_socket\u001b[49m\u001b[38;5;241;43m.\u001b[39;49m\u001b[43mgetaddrinfo\u001b[49m\u001b[43m(\u001b[49m\u001b[43mhost\u001b[49m\u001b[43m,\u001b[49m\u001b[43m \u001b[49m\u001b[43mport\u001b[49m\u001b[43m,\u001b[49m\u001b[43m \u001b[49m\u001b[43mfamily\u001b[49m\u001b[43m,\u001b[49m\u001b[43m \u001b[49m\u001b[38;5;28;43mtype\u001b[39;49m\u001b[43m,\u001b[49m\u001b[43m \u001b[49m\u001b[43mproto\u001b[49m\u001b[43m,\u001b[49m\u001b[43m \u001b[49m\u001b[43mflags\u001b[49m\u001b[43m)\u001b[49m:\n\u001b[1;32m    956\u001b[0m     af, socktype, proto, canonname, sa \u001b[38;5;241m=\u001b[39m res\n\u001b[1;32m    957\u001b[0m     addrlist\u001b[38;5;241m.\u001b[39mappend((_intenum_converter(af, AddressFamily),\n\u001b[1;32m    958\u001b[0m                      _intenum_converter(socktype, SocketKind),\n\u001b[1;32m    959\u001b[0m                      proto, canonname, sa))\n",
      "\u001b[0;31mKeyboardInterrupt\u001b[0m: "
     ]
    }
   ],
   "source": [
    "from pycaret.anomaly import *\n",
    "s = setup(df)"
   ]
  },
  {
   "cell_type": "code",
   "execution_count": 12,
   "id": "5181197b-222f-4c5b-8f3f-6d8678fd921b",
   "metadata": {
    "execution": {
     "iopub.execute_input": "2022-12-17T09:05:51.157924Z",
     "iopub.status.busy": "2022-12-17T09:05:51.156820Z",
     "iopub.status.idle": "2022-12-17T09:05:52.954972Z",
     "shell.execute_reply": "2022-12-17T09:05:52.954218Z",
     "shell.execute_reply.started": "2022-12-17T09:05:51.157875Z"
    }
   },
   "outputs": [
    {
     "data": {
      "text/html": [],
      "text/plain": [
       "<IPython.core.display.HTML object>"
      ]
     },
     "metadata": {},
     "output_type": "display_data"
    },
    {
     "data": {
      "text/html": [],
      "text/plain": [
       "<IPython.core.display.HTML object>"
      ]
     },
     "metadata": {},
     "output_type": "display_data"
    },
    {
     "data": {
      "text/html": [],
      "text/plain": [
       "<IPython.core.display.HTML object>"
      ]
     },
     "metadata": {},
     "output_type": "display_data"
    },
    {
     "name": "stdout",
     "output_type": "stream",
     "text": [
      "IForest(behaviour='new', bootstrap=False, contamination=0.05,\n",
      "    max_features=1.0, max_samples='auto', n_estimators=100, n_jobs=-1,\n",
      "    random_state=848, verbose=0)\n"
     ]
    }
   ],
   "source": [
    "iforest = create_model('iforest')\n",
    "print(iforest)"
   ]
  },
  {
   "cell_type": "code",
   "execution_count": 13,
   "id": "dff8bb88-a9c4-4ab2-ae05-4c50fa922407",
   "metadata": {
    "execution": {
     "iopub.execute_input": "2022-12-17T09:06:11.767146Z",
     "iopub.status.busy": "2022-12-17T09:06:11.766732Z",
     "iopub.status.idle": "2022-12-17T09:06:11.781100Z",
     "shell.execute_reply": "2022-12-17T09:06:11.779960Z",
     "shell.execute_reply.started": "2022-12-17T09:06:11.767114Z"
    }
   },
   "outputs": [
    {
     "data": {
      "text/html": [
       "<div>\n",
       "<style scoped>\n",
       "    .dataframe tbody tr th:only-of-type {\n",
       "        vertical-align: middle;\n",
       "    }\n",
       "\n",
       "    .dataframe tbody tr th {\n",
       "        vertical-align: top;\n",
       "    }\n",
       "\n",
       "    .dataframe thead th {\n",
       "        text-align: right;\n",
       "    }\n",
       "</style>\n",
       "<table border=\"1\" class=\"dataframe\">\n",
       "  <thead>\n",
       "    <tr style=\"text-align: right;\">\n",
       "      <th></th>\n",
       "      <th>Name</th>\n",
       "      <th>Reference</th>\n",
       "    </tr>\n",
       "    <tr>\n",
       "      <th>ID</th>\n",
       "      <th></th>\n",
       "      <th></th>\n",
       "    </tr>\n",
       "  </thead>\n",
       "  <tbody>\n",
       "    <tr>\n",
       "      <th>abod</th>\n",
       "      <td>Angle-base Outlier Detection</td>\n",
       "      <td>pyod.models.abod.ABOD</td>\n",
       "    </tr>\n",
       "    <tr>\n",
       "      <th>cluster</th>\n",
       "      <td>Clustering-Based Local Outlier</td>\n",
       "      <td>pyod.models.cblof.CBLOF</td>\n",
       "    </tr>\n",
       "    <tr>\n",
       "      <th>cof</th>\n",
       "      <td>Connectivity-Based Local Outlier</td>\n",
       "      <td>pyod.models.cof.COF</td>\n",
       "    </tr>\n",
       "    <tr>\n",
       "      <th>iforest</th>\n",
       "      <td>Isolation Forest</td>\n",
       "      <td>pyod.models.iforest.IForest</td>\n",
       "    </tr>\n",
       "    <tr>\n",
       "      <th>histogram</th>\n",
       "      <td>Histogram-based Outlier Detection</td>\n",
       "      <td>pyod.models.hbos.HBOS</td>\n",
       "    </tr>\n",
       "    <tr>\n",
       "      <th>knn</th>\n",
       "      <td>K-Nearest Neighbors Detector</td>\n",
       "      <td>pyod.models.knn.KNN</td>\n",
       "    </tr>\n",
       "    <tr>\n",
       "      <th>lof</th>\n",
       "      <td>Local Outlier Factor</td>\n",
       "      <td>pyod.models.lof.LOF</td>\n",
       "    </tr>\n",
       "    <tr>\n",
       "      <th>svm</th>\n",
       "      <td>One-class SVM detector</td>\n",
       "      <td>pyod.models.ocsvm.OCSVM</td>\n",
       "    </tr>\n",
       "    <tr>\n",
       "      <th>pca</th>\n",
       "      <td>Principal Component Analysis</td>\n",
       "      <td>pyod.models.pca.PCA</td>\n",
       "    </tr>\n",
       "    <tr>\n",
       "      <th>mcd</th>\n",
       "      <td>Minimum Covariance Determinant</td>\n",
       "      <td>pyod.models.mcd.MCD</td>\n",
       "    </tr>\n",
       "    <tr>\n",
       "      <th>sod</th>\n",
       "      <td>Subspace Outlier Detection</td>\n",
       "      <td>pyod.models.sod.SOD</td>\n",
       "    </tr>\n",
       "    <tr>\n",
       "      <th>sos</th>\n",
       "      <td>Stochastic Outlier Selection</td>\n",
       "      <td>pyod.models.sos.SOS</td>\n",
       "    </tr>\n",
       "  </tbody>\n",
       "</table>\n",
       "</div>"
      ],
      "text/plain": [
       "                                        Name                    Reference\n",
       "ID                                                                       \n",
       "abod            Angle-base Outlier Detection        pyod.models.abod.ABOD\n",
       "cluster       Clustering-Based Local Outlier      pyod.models.cblof.CBLOF\n",
       "cof         Connectivity-Based Local Outlier          pyod.models.cof.COF\n",
       "iforest                     Isolation Forest  pyod.models.iforest.IForest\n",
       "histogram  Histogram-based Outlier Detection        pyod.models.hbos.HBOS\n",
       "knn             K-Nearest Neighbors Detector          pyod.models.knn.KNN\n",
       "lof                     Local Outlier Factor          pyod.models.lof.LOF\n",
       "svm                   One-class SVM detector      pyod.models.ocsvm.OCSVM\n",
       "pca             Principal Component Analysis          pyod.models.pca.PCA\n",
       "mcd           Minimum Covariance Determinant          pyod.models.mcd.MCD\n",
       "sod               Subspace Outlier Detection          pyod.models.sod.SOD\n",
       "sos             Stochastic Outlier Selection          pyod.models.sos.SOS"
      ]
     },
     "execution_count": 13,
     "metadata": {},
     "output_type": "execute_result"
    }
   ],
   "source": [
    "models()"
   ]
  },
  {
   "cell_type": "code",
   "execution_count": 14,
   "id": "5f4a4598-21c2-4907-8ded-f4e04896dff5",
   "metadata": {
    "execution": {
     "iopub.execute_input": "2022-12-17T09:06:56.334703Z",
     "iopub.status.busy": "2022-12-17T09:06:56.333824Z",
     "iopub.status.idle": "2022-12-17T09:12:00.383448Z",
     "shell.execute_reply": "2022-12-17T09:12:00.381307Z",
     "shell.execute_reply.started": "2022-12-17T09:06:56.334628Z"
    },
    "tags": []
   },
   "outputs": [
    {
     "data": {
      "text/html": [],
      "text/plain": [
       "<IPython.core.display.HTML object>"
      ]
     },
     "metadata": {},
     "output_type": "display_data"
    },
    {
     "ename": "KeyboardInterrupt",
     "evalue": "",
     "output_type": "error",
     "traceback": [
      "\u001b[0;31m---------------------------------------------------------------------------\u001b[0m",
      "\u001b[0;31mKeyboardInterrupt\u001b[0m                         Traceback (most recent call last)",
      "Cell \u001b[0;32mIn [14], line 1\u001b[0m\n\u001b[0;32m----> 1\u001b[0m \u001b[43mplot_model\u001b[49m\u001b[43m(\u001b[49m\u001b[43miforest\u001b[49m\u001b[43m,\u001b[49m\u001b[43m \u001b[49m\u001b[43mplot\u001b[49m\u001b[43m \u001b[49m\u001b[38;5;241;43m=\u001b[39;49m\u001b[43m \u001b[49m\u001b[38;5;124;43m'\u001b[39;49m\u001b[38;5;124;43mtsne\u001b[39;49m\u001b[38;5;124;43m'\u001b[39;49m\u001b[43m)\u001b[49m\n",
      "File \u001b[0;32m~/.local/lib/python3.10/site-packages/pycaret/utils/generic.py:950\u001b[0m, in \u001b[0;36mcheck_if_global_is_not_none.<locals>.decorator.<locals>.wrapper\u001b[0;34m(*args, **kwargs)\u001b[0m\n\u001b[1;32m    948\u001b[0m     \u001b[38;5;28;01mif\u001b[39;00m globals_d[name] \u001b[38;5;129;01mis\u001b[39;00m \u001b[38;5;28;01mNone\u001b[39;00m:\n\u001b[1;32m    949\u001b[0m         \u001b[38;5;28;01mraise\u001b[39;00m \u001b[38;5;167;01mValueError\u001b[39;00m(message)\n\u001b[0;32m--> 950\u001b[0m \u001b[38;5;28;01mreturn\u001b[39;00m \u001b[43mfunc\u001b[49m\u001b[43m(\u001b[49m\u001b[38;5;241;43m*\u001b[39;49m\u001b[43margs\u001b[49m\u001b[43m,\u001b[49m\u001b[43m \u001b[49m\u001b[38;5;241;43m*\u001b[39;49m\u001b[38;5;241;43m*\u001b[39;49m\u001b[43mkwargs\u001b[49m\u001b[43m)\u001b[49m\n",
      "File \u001b[0;32m~/.local/lib/python3.10/site-packages/pycaret/anomaly/functional.py:682\u001b[0m, in \u001b[0;36mplot_model\u001b[0;34m(model, plot, feature, label, scale, save, display_format)\u001b[0m\n\u001b[1;32m    619\u001b[0m \u001b[38;5;129m@check_if_global_is_not_none\u001b[39m(\u001b[38;5;28mglobals\u001b[39m(), _CURRENT_EXPERIMENT_DECORATOR_DICT)\n\u001b[1;32m    620\u001b[0m \u001b[38;5;28;01mdef\u001b[39;00m \u001b[38;5;21mplot_model\u001b[39m(\n\u001b[1;32m    621\u001b[0m     model,\n\u001b[0;32m   (...)\u001b[0m\n\u001b[1;32m    627\u001b[0m     display_format: Optional[\u001b[38;5;28mstr\u001b[39m] \u001b[38;5;241m=\u001b[39m \u001b[38;5;28;01mNone\u001b[39;00m,\n\u001b[1;32m    628\u001b[0m ) \u001b[38;5;241m-\u001b[39m\u001b[38;5;241m>\u001b[39m Optional[\u001b[38;5;28mstr\u001b[39m]:\n\u001b[1;32m    630\u001b[0m     \u001b[38;5;124;03m\"\"\"\u001b[39;00m\n\u001b[1;32m    631\u001b[0m \u001b[38;5;124;03m    This function analyzes the performance of a trained model.\u001b[39;00m\n\u001b[1;32m    632\u001b[0m \n\u001b[0;32m   (...)\u001b[0m\n\u001b[1;32m    680\u001b[0m \n\u001b[1;32m    681\u001b[0m \u001b[38;5;124;03m    \"\"\"\u001b[39;00m\n\u001b[0;32m--> 682\u001b[0m     \u001b[38;5;28;01mreturn\u001b[39;00m \u001b[43m_CURRENT_EXPERIMENT\u001b[49m\u001b[38;5;241;43m.\u001b[39;49m\u001b[43mplot_model\u001b[49m\u001b[43m(\u001b[49m\n\u001b[1;32m    683\u001b[0m \u001b[43m        \u001b[49m\u001b[43mmodel\u001b[49m\u001b[43m,\u001b[49m\n\u001b[1;32m    684\u001b[0m \u001b[43m        \u001b[49m\u001b[43mplot\u001b[49m\u001b[38;5;241;43m=\u001b[39;49m\u001b[43mplot\u001b[49m\u001b[43m,\u001b[49m\n\u001b[1;32m    685\u001b[0m \u001b[43m        \u001b[49m\u001b[43mfeature_name\u001b[49m\u001b[38;5;241;43m=\u001b[39;49m\u001b[43mfeature\u001b[49m\u001b[43m,\u001b[49m\n\u001b[1;32m    686\u001b[0m \u001b[43m        \u001b[49m\u001b[43mlabel\u001b[49m\u001b[38;5;241;43m=\u001b[39;49m\u001b[43mlabel\u001b[49m\u001b[43m,\u001b[49m\n\u001b[1;32m    687\u001b[0m \u001b[43m        \u001b[49m\u001b[43mscale\u001b[49m\u001b[38;5;241;43m=\u001b[39;49m\u001b[43mscale\u001b[49m\u001b[43m,\u001b[49m\n\u001b[1;32m    688\u001b[0m \u001b[43m        \u001b[49m\u001b[43msave\u001b[49m\u001b[38;5;241;43m=\u001b[39;49m\u001b[43msave\u001b[49m\u001b[43m,\u001b[49m\n\u001b[1;32m    689\u001b[0m \u001b[43m        \u001b[49m\u001b[43mdisplay_format\u001b[49m\u001b[38;5;241;43m=\u001b[39;49m\u001b[43mdisplay_format\u001b[49m\u001b[43m,\u001b[49m\n\u001b[1;32m    690\u001b[0m \u001b[43m    \u001b[49m\u001b[43m)\u001b[49m\n",
      "File \u001b[0;32m~/.local/lib/python3.10/site-packages/pycaret/anomaly/oop.py:157\u001b[0m, in \u001b[0;36mAnomalyExperiment.plot_model\u001b[0;34m(self, estimator, plot, scale, save, fold, fit_kwargs, plot_kwargs, groups, feature_name, label, use_train_data, verbose, display_format)\u001b[0m\n\u001b[1;32m     89\u001b[0m \u001b[38;5;28;01mdef\u001b[39;00m \u001b[38;5;21mplot_model\u001b[39m(\n\u001b[1;32m     90\u001b[0m     \u001b[38;5;28mself\u001b[39m,\n\u001b[1;32m     91\u001b[0m     estimator,\n\u001b[0;32m   (...)\u001b[0m\n\u001b[1;32m    103\u001b[0m     display_format: Optional[\u001b[38;5;28mstr\u001b[39m] \u001b[38;5;241m=\u001b[39m \u001b[38;5;28;01mNone\u001b[39;00m,\n\u001b[1;32m    104\u001b[0m ) \u001b[38;5;241m-\u001b[39m\u001b[38;5;241m>\u001b[39m Optional[\u001b[38;5;28mstr\u001b[39m]:\n\u001b[1;32m    105\u001b[0m     \u001b[38;5;124;03m\"\"\"\u001b[39;00m\n\u001b[1;32m    106\u001b[0m \u001b[38;5;124;03m    This function analyzes the performance of a trained model.\u001b[39;00m\n\u001b[1;32m    107\u001b[0m \n\u001b[0;32m   (...)\u001b[0m\n\u001b[1;32m    155\u001b[0m \n\u001b[1;32m    156\u001b[0m \u001b[38;5;124;03m    \"\"\"\u001b[39;00m\n\u001b[0;32m--> 157\u001b[0m     \u001b[38;5;28;01mreturn\u001b[39;00m \u001b[38;5;28;43msuper\u001b[39;49m\u001b[43m(\u001b[49m\u001b[43m)\u001b[49m\u001b[38;5;241;43m.\u001b[39;49m\u001b[43mplot_model\u001b[49m\u001b[43m(\u001b[49m\n\u001b[1;32m    158\u001b[0m \u001b[43m        \u001b[49m\u001b[43mestimator\u001b[49m\u001b[43m,\u001b[49m\n\u001b[1;32m    159\u001b[0m \u001b[43m        \u001b[49m\u001b[43mplot\u001b[49m\u001b[43m,\u001b[49m\n\u001b[1;32m    160\u001b[0m \u001b[43m        \u001b[49m\u001b[43mscale\u001b[49m\u001b[43m,\u001b[49m\n\u001b[1;32m    161\u001b[0m \u001b[43m        \u001b[49m\u001b[43msave\u001b[49m\u001b[43m,\u001b[49m\n\u001b[1;32m    162\u001b[0m \u001b[43m        \u001b[49m\u001b[43mfold\u001b[49m\u001b[43m,\u001b[49m\n\u001b[1;32m    163\u001b[0m \u001b[43m        \u001b[49m\u001b[43mfit_kwargs\u001b[49m\u001b[43m,\u001b[49m\n\u001b[1;32m    164\u001b[0m \u001b[43m        \u001b[49m\u001b[43mplot_kwargs\u001b[49m\u001b[43m,\u001b[49m\n\u001b[1;32m    165\u001b[0m \u001b[43m        \u001b[49m\u001b[43mgroups\u001b[49m\u001b[43m,\u001b[49m\n\u001b[1;32m    166\u001b[0m \u001b[43m        \u001b[49m\u001b[43mfeature_name\u001b[49m\u001b[43m,\u001b[49m\n\u001b[1;32m    167\u001b[0m \u001b[43m        \u001b[49m\u001b[43mlabel\u001b[49m\u001b[43m,\u001b[49m\n\u001b[1;32m    168\u001b[0m \u001b[43m        \u001b[49m\u001b[43muse_train_data\u001b[49m\u001b[43m,\u001b[49m\n\u001b[1;32m    169\u001b[0m \u001b[43m        \u001b[49m\u001b[43mverbose\u001b[49m\u001b[43m,\u001b[49m\n\u001b[1;32m    170\u001b[0m \u001b[43m        \u001b[49m\u001b[43mdisplay_format\u001b[49m\u001b[43m,\u001b[49m\n\u001b[1;32m    171\u001b[0m \u001b[43m    \u001b[49m\u001b[43m)\u001b[49m\n",
      "File \u001b[0;32m~/.local/lib/python3.10/site-packages/pycaret/internal/pycaret_experiment/tabular_experiment.py:2094\u001b[0m, in \u001b[0;36m_TabularExperiment.plot_model\u001b[0;34m(self, estimator, plot, scale, save, fold, fit_kwargs, plot_kwargs, groups, feature_name, label, use_train_data, verbose, display_format)\u001b[0m\n\u001b[1;32m   1980\u001b[0m \u001b[38;5;28;01mdef\u001b[39;00m \u001b[38;5;21mplot_model\u001b[39m(\n\u001b[1;32m   1981\u001b[0m     \u001b[38;5;28mself\u001b[39m,\n\u001b[1;32m   1982\u001b[0m     estimator,\n\u001b[0;32m   (...)\u001b[0m\n\u001b[1;32m   1994\u001b[0m     display_format: Optional[\u001b[38;5;28mstr\u001b[39m] \u001b[38;5;241m=\u001b[39m \u001b[38;5;28;01mNone\u001b[39;00m,\n\u001b[1;32m   1995\u001b[0m ) \u001b[38;5;241m-\u001b[39m\u001b[38;5;241m>\u001b[39m Optional[\u001b[38;5;28mstr\u001b[39m]:\n\u001b[1;32m   1997\u001b[0m     \u001b[38;5;124;03m\"\"\"\u001b[39;00m\n\u001b[1;32m   1998\u001b[0m \u001b[38;5;124;03m    This function takes a trained model object and returns a plot based on the\u001b[39;00m\n\u001b[1;32m   1999\u001b[0m \u001b[38;5;124;03m    test / hold-out set. The process may require the model to be re-trained in\u001b[39;00m\n\u001b[0;32m   (...)\u001b[0m\n\u001b[1;32m   2092\u001b[0m \n\u001b[1;32m   2093\u001b[0m \u001b[38;5;124;03m    \"\"\"\u001b[39;00m\n\u001b[0;32m-> 2094\u001b[0m     \u001b[38;5;28;01mreturn\u001b[39;00m \u001b[38;5;28;43mself\u001b[39;49m\u001b[38;5;241;43m.\u001b[39;49m\u001b[43m_plot_model\u001b[49m\u001b[43m(\u001b[49m\n\u001b[1;32m   2095\u001b[0m \u001b[43m        \u001b[49m\u001b[43mestimator\u001b[49m\u001b[38;5;241;43m=\u001b[39;49m\u001b[43mestimator\u001b[49m\u001b[43m,\u001b[49m\n\u001b[1;32m   2096\u001b[0m \u001b[43m        \u001b[49m\u001b[43mplot\u001b[49m\u001b[38;5;241;43m=\u001b[39;49m\u001b[43mplot\u001b[49m\u001b[43m,\u001b[49m\n\u001b[1;32m   2097\u001b[0m \u001b[43m        \u001b[49m\u001b[43mscale\u001b[49m\u001b[38;5;241;43m=\u001b[39;49m\u001b[43mscale\u001b[49m\u001b[43m,\u001b[49m\n\u001b[1;32m   2098\u001b[0m \u001b[43m        \u001b[49m\u001b[43msave\u001b[49m\u001b[38;5;241;43m=\u001b[39;49m\u001b[43msave\u001b[49m\u001b[43m,\u001b[49m\n\u001b[1;32m   2099\u001b[0m \u001b[43m        \u001b[49m\u001b[43mfold\u001b[49m\u001b[38;5;241;43m=\u001b[39;49m\u001b[43mfold\u001b[49m\u001b[43m,\u001b[49m\n\u001b[1;32m   2100\u001b[0m \u001b[43m        \u001b[49m\u001b[43mfit_kwargs\u001b[49m\u001b[38;5;241;43m=\u001b[39;49m\u001b[43mfit_kwargs\u001b[49m\u001b[43m,\u001b[49m\n\u001b[1;32m   2101\u001b[0m \u001b[43m        \u001b[49m\u001b[43mplot_kwargs\u001b[49m\u001b[38;5;241;43m=\u001b[39;49m\u001b[43mplot_kwargs\u001b[49m\u001b[43m,\u001b[49m\n\u001b[1;32m   2102\u001b[0m \u001b[43m        \u001b[49m\u001b[43mgroups\u001b[49m\u001b[38;5;241;43m=\u001b[39;49m\u001b[43mgroups\u001b[49m\u001b[43m,\u001b[49m\n\u001b[1;32m   2103\u001b[0m \u001b[43m        \u001b[49m\u001b[43mfeature_name\u001b[49m\u001b[38;5;241;43m=\u001b[39;49m\u001b[43mfeature_name\u001b[49m\u001b[43m,\u001b[49m\n\u001b[1;32m   2104\u001b[0m \u001b[43m        \u001b[49m\u001b[43mlabel\u001b[49m\u001b[38;5;241;43m=\u001b[39;49m\u001b[43mlabel\u001b[49m\u001b[43m,\u001b[49m\n\u001b[1;32m   2105\u001b[0m \u001b[43m        \u001b[49m\u001b[43muse_train_data\u001b[49m\u001b[38;5;241;43m=\u001b[39;49m\u001b[43muse_train_data\u001b[49m\u001b[43m,\u001b[49m\n\u001b[1;32m   2106\u001b[0m \u001b[43m        \u001b[49m\u001b[43mverbose\u001b[49m\u001b[38;5;241;43m=\u001b[39;49m\u001b[43mverbose\u001b[49m\u001b[43m,\u001b[49m\n\u001b[1;32m   2107\u001b[0m \u001b[43m        \u001b[49m\u001b[43mdisplay_format\u001b[49m\u001b[38;5;241;43m=\u001b[39;49m\u001b[43mdisplay_format\u001b[49m\u001b[43m,\u001b[49m\n\u001b[1;32m   2108\u001b[0m \u001b[43m    \u001b[49m\u001b[43m)\u001b[49m\n",
      "File \u001b[0;32m~/.local/lib/python3.10/site-packages/pycaret/internal/pycaret_experiment/tabular_experiment.py:1960\u001b[0m, in \u001b[0;36m_TabularExperiment._plot_model\u001b[0;34m(self, estimator, plot, scale, save, fold, fit_kwargs, plot_kwargs, groups, feature_name, label, use_train_data, verbose, system, display, display_format)\u001b[0m\n\u001b[1;32m   1958\u001b[0m \u001b[38;5;66;03m# execute the plot method\u001b[39;00m\n\u001b[1;32m   1959\u001b[0m \u001b[38;5;28;01mwith\u001b[39;00m redirect_output(\u001b[38;5;28mself\u001b[39m\u001b[38;5;241m.\u001b[39mlogger):\n\u001b[0;32m-> 1960\u001b[0m     ret \u001b[38;5;241m=\u001b[39m \u001b[38;5;28;43mlocals\u001b[39;49m\u001b[43m(\u001b[49m\u001b[43m)\u001b[49m\u001b[43m[\u001b[49m\u001b[43mplot\u001b[49m\u001b[43m]\u001b[49m\u001b[43m(\u001b[49m\u001b[43m)\u001b[49m\n\u001b[1;32m   1961\u001b[0m \u001b[38;5;28;01mif\u001b[39;00m ret:\n\u001b[1;32m   1962\u001b[0m     plot_filename \u001b[38;5;241m=\u001b[39m ret\n",
      "File \u001b[0;32m~/.local/lib/python3.10/site-packages/pycaret/internal/pycaret_experiment/tabular_experiment.py:794\u001b[0m, in \u001b[0;36m_TabularExperiment._plot_model.<locals>.tsne\u001b[0;34m()\u001b[0m\n\u001b[1;32m    792\u001b[0m     \u001b[38;5;28;01mreturn\u001b[39;00m _tsne_clustering()\n\u001b[1;32m    793\u001b[0m \u001b[38;5;28;01melse\u001b[39;00m:\n\u001b[0;32m--> 794\u001b[0m     \u001b[38;5;28;01mreturn\u001b[39;00m \u001b[43m_tsne_anomaly\u001b[49m\u001b[43m(\u001b[49m\u001b[43m)\u001b[49m\n",
      "File \u001b[0;32m~/.local/lib/python3.10/site-packages/pycaret/internal/pycaret_experiment/tabular_experiment.py:815\u001b[0m, in \u001b[0;36m_TabularExperiment._plot_model.<locals>._tsne_anomaly\u001b[0;34m()\u001b[0m\n\u001b[1;32m    812\u001b[0m \u001b[38;5;28;01mfrom\u001b[39;00m \u001b[38;5;21;01msklearn\u001b[39;00m\u001b[38;5;21;01m.\u001b[39;00m\u001b[38;5;21;01mmanifold\u001b[39;00m \u001b[38;5;28;01mimport\u001b[39;00m TSNE\n\u001b[1;32m    814\u001b[0m \u001b[38;5;28mself\u001b[39m\u001b[38;5;241m.\u001b[39mlogger\u001b[38;5;241m.\u001b[39minfo(\u001b[38;5;124m\"\u001b[39m\u001b[38;5;124mFitting TSNE()\u001b[39m\u001b[38;5;124m\"\u001b[39m)\n\u001b[0;32m--> 815\u001b[0m X_embedded \u001b[38;5;241m=\u001b[39m \u001b[43mTSNE\u001b[49m\u001b[43m(\u001b[49m\u001b[43mn_components\u001b[49m\u001b[38;5;241;43m=\u001b[39;49m\u001b[38;5;241;43m3\u001b[39;49m\u001b[43m)\u001b[49m\u001b[38;5;241;43m.\u001b[39;49m\u001b[43mfit_transform\u001b[49m\u001b[43m(\u001b[49m\u001b[43mb\u001b[49m\u001b[43m)\u001b[49m\n\u001b[1;32m    817\u001b[0m X \u001b[38;5;241m=\u001b[39m pd\u001b[38;5;241m.\u001b[39mDataFrame(X_embedded)\n\u001b[1;32m    818\u001b[0m X[\u001b[38;5;124m\"\u001b[39m\u001b[38;5;124mAnomaly\u001b[39m\u001b[38;5;124m\"\u001b[39m] \u001b[38;5;241m=\u001b[39m cluster\n",
      "File \u001b[0;32m~/.local/lib/python3.10/site-packages/sklearn/manifold/_t_sne.py:1123\u001b[0m, in \u001b[0;36mTSNE.fit_transform\u001b[0;34m(self, X, y)\u001b[0m\n\u001b[1;32m   1103\u001b[0m \u001b[38;5;124;03m\"\"\"Fit X into an embedded space and return that transformed output.\u001b[39;00m\n\u001b[1;32m   1104\u001b[0m \n\u001b[1;32m   1105\u001b[0m \u001b[38;5;124;03mParameters\u001b[39;00m\n\u001b[0;32m   (...)\u001b[0m\n\u001b[1;32m   1120\u001b[0m \u001b[38;5;124;03m    Embedding of the training data in low-dimensional space.\u001b[39;00m\n\u001b[1;32m   1121\u001b[0m \u001b[38;5;124;03m\"\"\"\u001b[39;00m\n\u001b[1;32m   1122\u001b[0m \u001b[38;5;28mself\u001b[39m\u001b[38;5;241m.\u001b[39m_check_params_vs_input(X)\n\u001b[0;32m-> 1123\u001b[0m embedding \u001b[38;5;241m=\u001b[39m \u001b[38;5;28;43mself\u001b[39;49m\u001b[38;5;241;43m.\u001b[39;49m\u001b[43m_fit\u001b[49m\u001b[43m(\u001b[49m\u001b[43mX\u001b[49m\u001b[43m)\u001b[49m\n\u001b[1;32m   1124\u001b[0m \u001b[38;5;28mself\u001b[39m\u001b[38;5;241m.\u001b[39membedding_ \u001b[38;5;241m=\u001b[39m embedding\n\u001b[1;32m   1125\u001b[0m \u001b[38;5;28;01mreturn\u001b[39;00m \u001b[38;5;28mself\u001b[39m\u001b[38;5;241m.\u001b[39membedding_\n",
      "File \u001b[0;32m~/.local/lib/python3.10/site-packages/sklearn/manifold/_t_sne.py:1018\u001b[0m, in \u001b[0;36mTSNE._fit\u001b[0;34m(self, X, skip_num_points)\u001b[0m\n\u001b[1;32m   1012\u001b[0m \u001b[38;5;66;03m# Degrees of freedom of the Student's t-distribution. The suggestion\u001b[39;00m\n\u001b[1;32m   1013\u001b[0m \u001b[38;5;66;03m# degrees_of_freedom = n_components - 1 comes from\u001b[39;00m\n\u001b[1;32m   1014\u001b[0m \u001b[38;5;66;03m# \"Learning a Parametric Embedding by Preserving Local Structure\"\u001b[39;00m\n\u001b[1;32m   1015\u001b[0m \u001b[38;5;66;03m# Laurens van der Maaten, 2009.\u001b[39;00m\n\u001b[1;32m   1016\u001b[0m degrees_of_freedom \u001b[38;5;241m=\u001b[39m \u001b[38;5;28mmax\u001b[39m(\u001b[38;5;28mself\u001b[39m\u001b[38;5;241m.\u001b[39mn_components \u001b[38;5;241m-\u001b[39m \u001b[38;5;241m1\u001b[39m, \u001b[38;5;241m1\u001b[39m)\n\u001b[0;32m-> 1018\u001b[0m \u001b[38;5;28;01mreturn\u001b[39;00m \u001b[38;5;28;43mself\u001b[39;49m\u001b[38;5;241;43m.\u001b[39;49m\u001b[43m_tsne\u001b[49m\u001b[43m(\u001b[49m\n\u001b[1;32m   1019\u001b[0m \u001b[43m    \u001b[49m\u001b[43mP\u001b[49m\u001b[43m,\u001b[49m\n\u001b[1;32m   1020\u001b[0m \u001b[43m    \u001b[49m\u001b[43mdegrees_of_freedom\u001b[49m\u001b[43m,\u001b[49m\n\u001b[1;32m   1021\u001b[0m \u001b[43m    \u001b[49m\u001b[43mn_samples\u001b[49m\u001b[43m,\u001b[49m\n\u001b[1;32m   1022\u001b[0m \u001b[43m    \u001b[49m\u001b[43mX_embedded\u001b[49m\u001b[38;5;241;43m=\u001b[39;49m\u001b[43mX_embedded\u001b[49m\u001b[43m,\u001b[49m\n\u001b[1;32m   1023\u001b[0m \u001b[43m    \u001b[49m\u001b[43mneighbors\u001b[49m\u001b[38;5;241;43m=\u001b[39;49m\u001b[43mneighbors_nn\u001b[49m\u001b[43m,\u001b[49m\n\u001b[1;32m   1024\u001b[0m \u001b[43m    \u001b[49m\u001b[43mskip_num_points\u001b[49m\u001b[38;5;241;43m=\u001b[39;49m\u001b[43mskip_num_points\u001b[49m\u001b[43m,\u001b[49m\n\u001b[1;32m   1025\u001b[0m \u001b[43m\u001b[49m\u001b[43m)\u001b[49m\n",
      "File \u001b[0;32m~/.local/lib/python3.10/site-packages/sklearn/manifold/_t_sne.py:1086\u001b[0m, in \u001b[0;36mTSNE._tsne\u001b[0;34m(self, P, degrees_of_freedom, n_samples, X_embedded, neighbors, skip_num_points)\u001b[0m\n\u001b[1;32m   1084\u001b[0m     opt_args[\u001b[38;5;124m\"\u001b[39m\u001b[38;5;124mmomentum\u001b[39m\u001b[38;5;124m\"\u001b[39m] \u001b[38;5;241m=\u001b[39m \u001b[38;5;241m0.8\u001b[39m\n\u001b[1;32m   1085\u001b[0m     opt_args[\u001b[38;5;124m\"\u001b[39m\u001b[38;5;124mn_iter_without_progress\u001b[39m\u001b[38;5;124m\"\u001b[39m] \u001b[38;5;241m=\u001b[39m \u001b[38;5;28mself\u001b[39m\u001b[38;5;241m.\u001b[39mn_iter_without_progress\n\u001b[0;32m-> 1086\u001b[0m     params, kl_divergence, it \u001b[38;5;241m=\u001b[39m \u001b[43m_gradient_descent\u001b[49m\u001b[43m(\u001b[49m\u001b[43mobj_func\u001b[49m\u001b[43m,\u001b[49m\u001b[43m \u001b[49m\u001b[43mparams\u001b[49m\u001b[43m,\u001b[49m\u001b[43m \u001b[49m\u001b[38;5;241;43m*\u001b[39;49m\u001b[38;5;241;43m*\u001b[39;49m\u001b[43mopt_args\u001b[49m\u001b[43m)\u001b[49m\n\u001b[1;32m   1088\u001b[0m \u001b[38;5;66;03m# Save the final number of iterations\u001b[39;00m\n\u001b[1;32m   1089\u001b[0m \u001b[38;5;28mself\u001b[39m\u001b[38;5;241m.\u001b[39mn_iter_ \u001b[38;5;241m=\u001b[39m it\n",
      "File \u001b[0;32m~/.local/lib/python3.10/site-packages/sklearn/manifold/_t_sne.py:398\u001b[0m, in \u001b[0;36m_gradient_descent\u001b[0;34m(objective, p0, it, n_iter, n_iter_check, n_iter_without_progress, momentum, learning_rate, min_gain, min_grad_norm, verbose, args, kwargs)\u001b[0m\n\u001b[1;32m    395\u001b[0m \u001b[38;5;66;03m# only compute the error when needed\u001b[39;00m\n\u001b[1;32m    396\u001b[0m kwargs[\u001b[38;5;124m\"\u001b[39m\u001b[38;5;124mcompute_error\u001b[39m\u001b[38;5;124m\"\u001b[39m] \u001b[38;5;241m=\u001b[39m check_convergence \u001b[38;5;129;01mor\u001b[39;00m i \u001b[38;5;241m==\u001b[39m n_iter \u001b[38;5;241m-\u001b[39m \u001b[38;5;241m1\u001b[39m\n\u001b[0;32m--> 398\u001b[0m error, grad \u001b[38;5;241m=\u001b[39m \u001b[43mobjective\u001b[49m\u001b[43m(\u001b[49m\u001b[43mp\u001b[49m\u001b[43m,\u001b[49m\u001b[43m \u001b[49m\u001b[38;5;241;43m*\u001b[39;49m\u001b[43margs\u001b[49m\u001b[43m,\u001b[49m\u001b[43m \u001b[49m\u001b[38;5;241;43m*\u001b[39;49m\u001b[38;5;241;43m*\u001b[39;49m\u001b[43mkwargs\u001b[49m\u001b[43m)\u001b[49m\n\u001b[1;32m    399\u001b[0m grad_norm \u001b[38;5;241m=\u001b[39m linalg\u001b[38;5;241m.\u001b[39mnorm(grad)\n\u001b[1;32m    401\u001b[0m inc \u001b[38;5;241m=\u001b[39m update \u001b[38;5;241m*\u001b[39m grad \u001b[38;5;241m<\u001b[39m \u001b[38;5;241m0.0\u001b[39m\n",
      "File \u001b[0;32m~/.local/lib/python3.10/site-packages/sklearn/manifold/_t_sne.py:279\u001b[0m, in \u001b[0;36m_kl_divergence_bh\u001b[0;34m(params, P, degrees_of_freedom, n_samples, n_components, angle, skip_num_points, verbose, compute_error, num_threads)\u001b[0m\n\u001b[1;32m    276\u001b[0m indptr \u001b[38;5;241m=\u001b[39m P\u001b[38;5;241m.\u001b[39mindptr\u001b[38;5;241m.\u001b[39mastype(np\u001b[38;5;241m.\u001b[39mint64, copy\u001b[38;5;241m=\u001b[39m\u001b[38;5;28;01mFalse\u001b[39;00m)\n\u001b[1;32m    278\u001b[0m grad \u001b[38;5;241m=\u001b[39m np\u001b[38;5;241m.\u001b[39mzeros(X_embedded\u001b[38;5;241m.\u001b[39mshape, dtype\u001b[38;5;241m=\u001b[39mnp\u001b[38;5;241m.\u001b[39mfloat32)\n\u001b[0;32m--> 279\u001b[0m error \u001b[38;5;241m=\u001b[39m \u001b[43m_barnes_hut_tsne\u001b[49m\u001b[38;5;241;43m.\u001b[39;49m\u001b[43mgradient\u001b[49m\u001b[43m(\u001b[49m\n\u001b[1;32m    280\u001b[0m \u001b[43m    \u001b[49m\u001b[43mval_P\u001b[49m\u001b[43m,\u001b[49m\n\u001b[1;32m    281\u001b[0m \u001b[43m    \u001b[49m\u001b[43mX_embedded\u001b[49m\u001b[43m,\u001b[49m\n\u001b[1;32m    282\u001b[0m \u001b[43m    \u001b[49m\u001b[43mneighbors\u001b[49m\u001b[43m,\u001b[49m\n\u001b[1;32m    283\u001b[0m \u001b[43m    \u001b[49m\u001b[43mindptr\u001b[49m\u001b[43m,\u001b[49m\n\u001b[1;32m    284\u001b[0m \u001b[43m    \u001b[49m\u001b[43mgrad\u001b[49m\u001b[43m,\u001b[49m\n\u001b[1;32m    285\u001b[0m \u001b[43m    \u001b[49m\u001b[43mangle\u001b[49m\u001b[43m,\u001b[49m\n\u001b[1;32m    286\u001b[0m \u001b[43m    \u001b[49m\u001b[43mn_components\u001b[49m\u001b[43m,\u001b[49m\n\u001b[1;32m    287\u001b[0m \u001b[43m    \u001b[49m\u001b[43mverbose\u001b[49m\u001b[43m,\u001b[49m\n\u001b[1;32m    288\u001b[0m \u001b[43m    \u001b[49m\u001b[43mdof\u001b[49m\u001b[38;5;241;43m=\u001b[39;49m\u001b[43mdegrees_of_freedom\u001b[49m\u001b[43m,\u001b[49m\n\u001b[1;32m    289\u001b[0m \u001b[43m    \u001b[49m\u001b[43mcompute_error\u001b[49m\u001b[38;5;241;43m=\u001b[39;49m\u001b[43mcompute_error\u001b[49m\u001b[43m,\u001b[49m\n\u001b[1;32m    290\u001b[0m \u001b[43m    \u001b[49m\u001b[43mnum_threads\u001b[49m\u001b[38;5;241;43m=\u001b[39;49m\u001b[43mnum_threads\u001b[49m\u001b[43m,\u001b[49m\n\u001b[1;32m    291\u001b[0m \u001b[43m\u001b[49m\u001b[43m)\u001b[49m\n\u001b[1;32m    292\u001b[0m c \u001b[38;5;241m=\u001b[39m \u001b[38;5;241m2.0\u001b[39m \u001b[38;5;241m*\u001b[39m (degrees_of_freedom \u001b[38;5;241m+\u001b[39m \u001b[38;5;241m1.0\u001b[39m) \u001b[38;5;241m/\u001b[39m degrees_of_freedom\n\u001b[1;32m    293\u001b[0m grad \u001b[38;5;241m=\u001b[39m grad\u001b[38;5;241m.\u001b[39mravel()\n",
      "\u001b[0;31mKeyboardInterrupt\u001b[0m: "
     ]
    }
   ],
   "source": [
    "plot_model(iforest, plot = 'tsne')"
   ]
  },
  {
   "cell_type": "code",
   "execution_count": 15,
   "id": "8ae0beb3-4ba9-444e-bb76-af0a50700232",
   "metadata": {
    "execution": {
     "iopub.execute_input": "2022-12-17T09:12:07.152811Z",
     "iopub.status.busy": "2022-12-17T09:12:07.152203Z",
     "iopub.status.idle": "2022-12-17T09:12:15.979034Z",
     "shell.execute_reply": "2022-12-17T09:12:15.977471Z",
     "shell.execute_reply.started": "2022-12-17T09:12:07.152776Z"
    },
    "tags": []
   },
   "outputs": [
    {
     "data": {
      "text/html": [],
      "text/plain": [
       "<IPython.core.display.HTML object>"
      ]
     },
     "metadata": {},
     "output_type": "display_data"
    },
    {
     "name": "stderr",
     "output_type": "stream",
     "text": [
      "\n",
      "KeyboardInterrupt\n",
      "\n"
     ]
    }
   ],
   "source": [
    "plot_model(iforest, plot = 'umap')"
   ]
  },
  {
   "cell_type": "code",
   "execution_count": 16,
   "id": "d6901520-ee5c-4261-b7c7-aed1b40eab53",
   "metadata": {
    "execution": {
     "iopub.execute_input": "2022-12-17T09:12:19.011289Z",
     "iopub.status.busy": "2022-12-17T09:12:19.010371Z",
     "iopub.status.idle": "2022-12-17T09:12:19.027793Z",
     "shell.execute_reply": "2022-12-17T09:12:19.026552Z",
     "shell.execute_reply.started": "2022-12-17T09:12:19.011253Z"
    },
    "tags": []
   },
   "outputs": [
    {
     "data": {
      "text/html": [
       "<div>\n",
       "<style scoped>\n",
       "    .dataframe tbody tr th:only-of-type {\n",
       "        vertical-align: middle;\n",
       "    }\n",
       "\n",
       "    .dataframe tbody tr th {\n",
       "        vertical-align: top;\n",
       "    }\n",
       "\n",
       "    .dataframe thead th {\n",
       "        text-align: right;\n",
       "    }\n",
       "</style>\n",
       "<table border=\"1\" class=\"dataframe\">\n",
       "  <thead>\n",
       "    <tr style=\"text-align: right;\">\n",
       "      <th></th>\n",
       "      <th>DATE</th>\n",
       "      <th>PM2.5</th>\n",
       "      <th>Anomaly</th>\n",
       "      <th>Anomaly_Score</th>\n",
       "    </tr>\n",
       "  </thead>\n",
       "  <tbody>\n",
       "    <tr>\n",
       "      <th>0</th>\n",
       "      <td>2019-02-04 18:00:00</td>\n",
       "      <td>70.519997</td>\n",
       "      <td>0</td>\n",
       "      <td>-0.004651</td>\n",
       "    </tr>\n",
       "    <tr>\n",
       "      <th>1</th>\n",
       "      <td>2019-02-04 19:00:00</td>\n",
       "      <td>61.389999</td>\n",
       "      <td>0</td>\n",
       "      <td>-0.017837</td>\n",
       "    </tr>\n",
       "    <tr>\n",
       "      <th>2</th>\n",
       "      <td>2019-02-04 20:00:00</td>\n",
       "      <td>59.939999</td>\n",
       "      <td>0</td>\n",
       "      <td>-0.022678</td>\n",
       "    </tr>\n",
       "    <tr>\n",
       "      <th>3</th>\n",
       "      <td>2019-02-04 21:00:00</td>\n",
       "      <td>76.440002</td>\n",
       "      <td>0</td>\n",
       "      <td>-0.003718</td>\n",
       "    </tr>\n",
       "    <tr>\n",
       "      <th>4</th>\n",
       "      <td>2019-02-04 22:00:00</td>\n",
       "      <td>98.540001</td>\n",
       "      <td>1</td>\n",
       "      <td>0.008602</td>\n",
       "    </tr>\n",
       "  </tbody>\n",
       "</table>\n",
       "</div>"
      ],
      "text/plain": [
       "                 DATE      PM2.5  Anomaly  Anomaly_Score\n",
       "0 2019-02-04 18:00:00  70.519997        0      -0.004651\n",
       "1 2019-02-04 19:00:00  61.389999        0      -0.017837\n",
       "2 2019-02-04 20:00:00  59.939999        0      -0.022678\n",
       "3 2019-02-04 21:00:00  76.440002        0      -0.003718\n",
       "4 2019-02-04 22:00:00  98.540001        1       0.008602"
      ]
     },
     "execution_count": 16,
     "metadata": {},
     "output_type": "execute_result"
    }
   ],
   "source": [
    "result = assign_model(iforest)\n",
    "result.head()"
   ]
  },
  {
   "cell_type": "code",
   "execution_count": 17,
   "id": "cbac5783-bdbf-46ed-b4cd-7931053cf219",
   "metadata": {
    "execution": {
     "iopub.execute_input": "2022-12-17T09:12:26.665788Z",
     "iopub.status.busy": "2022-12-17T09:12:26.663319Z",
     "iopub.status.idle": "2022-12-17T09:12:27.871007Z",
     "shell.execute_reply": "2022-12-17T09:12:27.870070Z",
     "shell.execute_reply.started": "2022-12-17T09:12:26.665676Z"
    },
    "tags": []
   },
   "outputs": [
    {
     "data": {
      "text/html": [
       "<div>\n",
       "<style scoped>\n",
       "    .dataframe tbody tr th:only-of-type {\n",
       "        vertical-align: middle;\n",
       "    }\n",
       "\n",
       "    .dataframe tbody tr th {\n",
       "        vertical-align: top;\n",
       "    }\n",
       "\n",
       "    .dataframe thead th {\n",
       "        text-align: right;\n",
       "    }\n",
       "</style>\n",
       "<table border=\"1\" class=\"dataframe\">\n",
       "  <thead>\n",
       "    <tr style=\"text-align: right;\">\n",
       "      <th></th>\n",
       "      <th>DATE_year</th>\n",
       "      <th>DATE_month</th>\n",
       "      <th>DATE_day</th>\n",
       "      <th>PM2.5</th>\n",
       "      <th>Anomaly</th>\n",
       "      <th>Anomaly_Score</th>\n",
       "    </tr>\n",
       "  </thead>\n",
       "  <tbody>\n",
       "    <tr>\n",
       "      <th>0</th>\n",
       "      <td>2019.0</td>\n",
       "      <td>2.0</td>\n",
       "      <td>4.0</td>\n",
       "      <td>70.519997</td>\n",
       "      <td>0</td>\n",
       "      <td>-0.004651</td>\n",
       "    </tr>\n",
       "    <tr>\n",
       "      <th>1</th>\n",
       "      <td>2019.0</td>\n",
       "      <td>2.0</td>\n",
       "      <td>4.0</td>\n",
       "      <td>61.389999</td>\n",
       "      <td>0</td>\n",
       "      <td>-0.017837</td>\n",
       "    </tr>\n",
       "    <tr>\n",
       "      <th>2</th>\n",
       "      <td>2019.0</td>\n",
       "      <td>2.0</td>\n",
       "      <td>4.0</td>\n",
       "      <td>59.939999</td>\n",
       "      <td>0</td>\n",
       "      <td>-0.022678</td>\n",
       "    </tr>\n",
       "    <tr>\n",
       "      <th>3</th>\n",
       "      <td>2019.0</td>\n",
       "      <td>2.0</td>\n",
       "      <td>4.0</td>\n",
       "      <td>76.440002</td>\n",
       "      <td>0</td>\n",
       "      <td>-0.003718</td>\n",
       "    </tr>\n",
       "    <tr>\n",
       "      <th>4</th>\n",
       "      <td>2019.0</td>\n",
       "      <td>2.0</td>\n",
       "      <td>4.0</td>\n",
       "      <td>98.540001</td>\n",
       "      <td>1</td>\n",
       "      <td>0.008602</td>\n",
       "    </tr>\n",
       "  </tbody>\n",
       "</table>\n",
       "</div>"
      ],
      "text/plain": [
       "   DATE_year  DATE_month  DATE_day      PM2.5  Anomaly  Anomaly_Score\n",
       "0     2019.0         2.0       4.0  70.519997        0      -0.004651\n",
       "1     2019.0         2.0       4.0  61.389999        0      -0.017837\n",
       "2     2019.0         2.0       4.0  59.939999        0      -0.022678\n",
       "3     2019.0         2.0       4.0  76.440002        0      -0.003718\n",
       "4     2019.0         2.0       4.0  98.540001        1       0.008602"
      ]
     },
     "execution_count": 17,
     "metadata": {},
     "output_type": "execute_result"
    }
   ],
   "source": [
    "predictions = predict_model(iforest, data = df)\n",
    "predictions.head()"
   ]
  },
  {
   "cell_type": "code",
   "execution_count": 9,
   "id": "8f7c4e6a-6fe9-4e53-bf8b-524374bd7b44",
   "metadata": {
    "execution": {
     "iopub.execute_input": "2022-12-18T03:51:25.030359Z",
     "iopub.status.busy": "2022-12-18T03:51:25.029588Z",
     "iopub.status.idle": "2022-12-18T03:51:25.036955Z",
     "shell.execute_reply": "2022-12-18T03:51:25.034851Z",
     "shell.execute_reply.started": "2022-12-18T03:51:25.030331Z"
    },
    "tags": []
   },
   "outputs": [],
   "source": [
    "df=df.set_index('DATE')"
   ]
  },
  {
   "cell_type": "code",
   "execution_count": 10,
   "id": "8d1c4e68-4d3e-4b37-adcb-cabc16652b23",
   "metadata": {
    "execution": {
     "iopub.execute_input": "2022-12-18T03:51:25.414593Z",
     "iopub.status.busy": "2022-12-18T03:51:25.412930Z",
     "iopub.status.idle": "2022-12-18T03:51:49.276915Z",
     "shell.execute_reply": "2022-12-18T03:51:49.275952Z",
     "shell.execute_reply.started": "2022-12-18T03:51:25.414495Z"
    },
    "tags": []
   },
   "outputs": [
    {
     "data": {
      "text/html": [
       "<style type=\"text/css\">\n",
       "#T_f1a69_row13_col1 {\n",
       "  background-color: lightgreen;\n",
       "}\n",
       "</style>\n",
       "<table id=\"T_f1a69\">\n",
       "  <thead>\n",
       "    <tr>\n",
       "      <th class=\"blank level0\" >&nbsp;</th>\n",
       "      <th id=\"T_f1a69_level0_col0\" class=\"col_heading level0 col0\" >Description</th>\n",
       "      <th id=\"T_f1a69_level0_col1\" class=\"col_heading level0 col1\" >Value</th>\n",
       "    </tr>\n",
       "  </thead>\n",
       "  <tbody>\n",
       "    <tr>\n",
       "      <th id=\"T_f1a69_level0_row0\" class=\"row_heading level0 row0\" >0</th>\n",
       "      <td id=\"T_f1a69_row0_col0\" class=\"data row0 col0\" >session_id</td>\n",
       "      <td id=\"T_f1a69_row0_col1\" class=\"data row0 col1\" >123</td>\n",
       "    </tr>\n",
       "    <tr>\n",
       "      <th id=\"T_f1a69_level0_row1\" class=\"row_heading level0 row1\" >1</th>\n",
       "      <td id=\"T_f1a69_row1_col0\" class=\"data row1 col0\" >Target</td>\n",
       "      <td id=\"T_f1a69_row1_col1\" class=\"data row1 col1\" >PM2.5</td>\n",
       "    </tr>\n",
       "    <tr>\n",
       "      <th id=\"T_f1a69_level0_row2\" class=\"row_heading level0 row2\" >2</th>\n",
       "      <td id=\"T_f1a69_row2_col0\" class=\"data row2 col0\" >Approach</td>\n",
       "      <td id=\"T_f1a69_row2_col1\" class=\"data row2 col1\" >Univariate</td>\n",
       "    </tr>\n",
       "    <tr>\n",
       "      <th id=\"T_f1a69_level0_row3\" class=\"row_heading level0 row3\" >3</th>\n",
       "      <td id=\"T_f1a69_row3_col0\" class=\"data row3 col0\" >Exogenous Variables</td>\n",
       "      <td id=\"T_f1a69_row3_col1\" class=\"data row3 col1\" >Not Present</td>\n",
       "    </tr>\n",
       "    <tr>\n",
       "      <th id=\"T_f1a69_level0_row4\" class=\"row_heading level0 row4\" >4</th>\n",
       "      <td id=\"T_f1a69_row4_col0\" class=\"data row4 col0\" >Original data shape</td>\n",
       "      <td id=\"T_f1a69_row4_col1\" class=\"data row4 col1\" >(33535, 1)</td>\n",
       "    </tr>\n",
       "    <tr>\n",
       "      <th id=\"T_f1a69_level0_row5\" class=\"row_heading level0 row5\" >5</th>\n",
       "      <td id=\"T_f1a69_row5_col0\" class=\"data row5 col0\" >Transformed data shape</td>\n",
       "      <td id=\"T_f1a69_row5_col1\" class=\"data row5 col1\" >(33535, 1)</td>\n",
       "    </tr>\n",
       "    <tr>\n",
       "      <th id=\"T_f1a69_level0_row6\" class=\"row_heading level0 row6\" >6</th>\n",
       "      <td id=\"T_f1a69_row6_col0\" class=\"data row6 col0\" >Transformed train set shape</td>\n",
       "      <td id=\"T_f1a69_row6_col1\" class=\"data row6 col1\" >(33532, 1)</td>\n",
       "    </tr>\n",
       "    <tr>\n",
       "      <th id=\"T_f1a69_level0_row7\" class=\"row_heading level0 row7\" >7</th>\n",
       "      <td id=\"T_f1a69_row7_col0\" class=\"data row7 col0\" >Transformed test set shape</td>\n",
       "      <td id=\"T_f1a69_row7_col1\" class=\"data row7 col1\" >(3, 1)</td>\n",
       "    </tr>\n",
       "    <tr>\n",
       "      <th id=\"T_f1a69_level0_row8\" class=\"row_heading level0 row8\" >8</th>\n",
       "      <td id=\"T_f1a69_row8_col0\" class=\"data row8 col0\" >Rows with missing values</td>\n",
       "      <td id=\"T_f1a69_row8_col1\" class=\"data row8 col1\" >0.0%</td>\n",
       "    </tr>\n",
       "    <tr>\n",
       "      <th id=\"T_f1a69_level0_row9\" class=\"row_heading level0 row9\" >9</th>\n",
       "      <td id=\"T_f1a69_row9_col0\" class=\"data row9 col0\" >Fold Generator</td>\n",
       "      <td id=\"T_f1a69_row9_col1\" class=\"data row9 col1\" >ExpandingWindowSplitter</td>\n",
       "    </tr>\n",
       "    <tr>\n",
       "      <th id=\"T_f1a69_level0_row10\" class=\"row_heading level0 row10\" >10</th>\n",
       "      <td id=\"T_f1a69_row10_col0\" class=\"data row10 col0\" >Fold Number</td>\n",
       "      <td id=\"T_f1a69_row10_col1\" class=\"data row10 col1\" >5</td>\n",
       "    </tr>\n",
       "    <tr>\n",
       "      <th id=\"T_f1a69_level0_row11\" class=\"row_heading level0 row11\" >11</th>\n",
       "      <td id=\"T_f1a69_row11_col0\" class=\"data row11 col0\" >Enforce Prediction Interval</td>\n",
       "      <td id=\"T_f1a69_row11_col1\" class=\"data row11 col1\" >False</td>\n",
       "    </tr>\n",
       "    <tr>\n",
       "      <th id=\"T_f1a69_level0_row12\" class=\"row_heading level0 row12\" >12</th>\n",
       "      <td id=\"T_f1a69_row12_col0\" class=\"data row12 col0\" >Seasonal Period(s) Tested</td>\n",
       "      <td id=\"T_f1a69_row12_col1\" class=\"data row12 col1\" >24</td>\n",
       "    </tr>\n",
       "    <tr>\n",
       "      <th id=\"T_f1a69_level0_row13\" class=\"row_heading level0 row13\" >13</th>\n",
       "      <td id=\"T_f1a69_row13_col0\" class=\"data row13 col0\" >Seasonality Present</td>\n",
       "      <td id=\"T_f1a69_row13_col1\" class=\"data row13 col1\" >True</td>\n",
       "    </tr>\n",
       "    <tr>\n",
       "      <th id=\"T_f1a69_level0_row14\" class=\"row_heading level0 row14\" >14</th>\n",
       "      <td id=\"T_f1a69_row14_col0\" class=\"data row14 col0\" >Seasonalities Detected</td>\n",
       "      <td id=\"T_f1a69_row14_col1\" class=\"data row14 col1\" >[24]</td>\n",
       "    </tr>\n",
       "    <tr>\n",
       "      <th id=\"T_f1a69_level0_row15\" class=\"row_heading level0 row15\" >15</th>\n",
       "      <td id=\"T_f1a69_row15_col0\" class=\"data row15 col0\" >Primary Seasonality</td>\n",
       "      <td id=\"T_f1a69_row15_col1\" class=\"data row15 col1\" >24</td>\n",
       "    </tr>\n",
       "    <tr>\n",
       "      <th id=\"T_f1a69_level0_row16\" class=\"row_heading level0 row16\" >16</th>\n",
       "      <td id=\"T_f1a69_row16_col0\" class=\"data row16 col0\" >Target Strictly Positive</td>\n",
       "      <td id=\"T_f1a69_row16_col1\" class=\"data row16 col1\" >True</td>\n",
       "    </tr>\n",
       "    <tr>\n",
       "      <th id=\"T_f1a69_level0_row17\" class=\"row_heading level0 row17\" >17</th>\n",
       "      <td id=\"T_f1a69_row17_col0\" class=\"data row17 col0\" >Target White Noise</td>\n",
       "      <td id=\"T_f1a69_row17_col1\" class=\"data row17 col1\" >No</td>\n",
       "    </tr>\n",
       "    <tr>\n",
       "      <th id=\"T_f1a69_level0_row18\" class=\"row_heading level0 row18\" >18</th>\n",
       "      <td id=\"T_f1a69_row18_col0\" class=\"data row18 col0\" >Recommended d</td>\n",
       "      <td id=\"T_f1a69_row18_col1\" class=\"data row18 col1\" >1</td>\n",
       "    </tr>\n",
       "    <tr>\n",
       "      <th id=\"T_f1a69_level0_row19\" class=\"row_heading level0 row19\" >19</th>\n",
       "      <td id=\"T_f1a69_row19_col0\" class=\"data row19 col0\" >Recommended Seasonal D</td>\n",
       "      <td id=\"T_f1a69_row19_col1\" class=\"data row19 col1\" >0</td>\n",
       "    </tr>\n",
       "    <tr>\n",
       "      <th id=\"T_f1a69_level0_row20\" class=\"row_heading level0 row20\" >20</th>\n",
       "      <td id=\"T_f1a69_row20_col0\" class=\"data row20 col0\" >Preprocess</td>\n",
       "      <td id=\"T_f1a69_row20_col1\" class=\"data row20 col1\" >False</td>\n",
       "    </tr>\n",
       "    <tr>\n",
       "      <th id=\"T_f1a69_level0_row21\" class=\"row_heading level0 row21\" >21</th>\n",
       "      <td id=\"T_f1a69_row21_col0\" class=\"data row21 col0\" >CPU Jobs</td>\n",
       "      <td id=\"T_f1a69_row21_col1\" class=\"data row21 col1\" >-1</td>\n",
       "    </tr>\n",
       "    <tr>\n",
       "      <th id=\"T_f1a69_level0_row22\" class=\"row_heading level0 row22\" >22</th>\n",
       "      <td id=\"T_f1a69_row22_col0\" class=\"data row22 col0\" >Use GPU</td>\n",
       "      <td id=\"T_f1a69_row22_col1\" class=\"data row22 col1\" >False</td>\n",
       "    </tr>\n",
       "    <tr>\n",
       "      <th id=\"T_f1a69_level0_row23\" class=\"row_heading level0 row23\" >23</th>\n",
       "      <td id=\"T_f1a69_row23_col0\" class=\"data row23 col0\" >Log Experiment</td>\n",
       "      <td id=\"T_f1a69_row23_col1\" class=\"data row23 col1\" >False</td>\n",
       "    </tr>\n",
       "    <tr>\n",
       "      <th id=\"T_f1a69_level0_row24\" class=\"row_heading level0 row24\" >24</th>\n",
       "      <td id=\"T_f1a69_row24_col0\" class=\"data row24 col0\" >Experiment Name</td>\n",
       "      <td id=\"T_f1a69_row24_col1\" class=\"data row24 col1\" >ts-default-name</td>\n",
       "    </tr>\n",
       "    <tr>\n",
       "      <th id=\"T_f1a69_level0_row25\" class=\"row_heading level0 row25\" >25</th>\n",
       "      <td id=\"T_f1a69_row25_col0\" class=\"data row25 col0\" >USI</td>\n",
       "      <td id=\"T_f1a69_row25_col1\" class=\"data row25 col1\" >e80d</td>\n",
       "    </tr>\n",
       "  </tbody>\n",
       "</table>\n"
      ],
      "text/plain": [
       "<pandas.io.formats.style.Styler at 0x7faeaedbdd50>"
      ]
     },
     "metadata": {},
     "output_type": "display_data"
    }
   ],
   "source": [
    "from pycaret.time_series import *\n",
    "s = setup(df, fh = 3, fold = 5, session_id = 123)"
   ]
  },
  {
   "cell_type": "code",
   "execution_count": 11,
   "id": "5b737bb1-4217-4e24-9f29-12da4ce9ac70",
   "metadata": {
    "execution": {
     "iopub.execute_input": "2022-12-18T03:51:49.282122Z",
     "iopub.status.busy": "2022-12-18T03:51:49.281754Z",
     "iopub.status.idle": "2022-12-18T05:04:45.577404Z",
     "shell.execute_reply": "2022-12-18T05:04:45.576314Z",
     "shell.execute_reply.started": "2022-12-18T03:51:49.282097Z"
    },
    "tags": []
   },
   "outputs": [
    {
     "data": {
      "text/html": [],
      "text/plain": [
       "<IPython.core.display.HTML object>"
      ]
     },
     "metadata": {},
     "output_type": "display_data"
    },
    {
     "data": {
      "text/html": [
       "<style type=\"text/css\">\n",
       "#T_358fc th {\n",
       "  text-align: left;\n",
       "}\n",
       "#T_358fc_row0_col0, #T_358fc_row0_col7, #T_358fc_row1_col0, #T_358fc_row1_col1, #T_358fc_row1_col2, #T_358fc_row1_col3, #T_358fc_row1_col4, #T_358fc_row1_col5, #T_358fc_row1_col6, #T_358fc_row1_col7, #T_358fc_row2_col0, #T_358fc_row2_col1, #T_358fc_row2_col2, #T_358fc_row2_col3, #T_358fc_row2_col4, #T_358fc_row2_col5, #T_358fc_row2_col6, #T_358fc_row3_col0, #T_358fc_row3_col1, #T_358fc_row3_col2, #T_358fc_row3_col3, #T_358fc_row3_col4, #T_358fc_row3_col5, #T_358fc_row3_col6, #T_358fc_row3_col7, #T_358fc_row4_col0, #T_358fc_row4_col1, #T_358fc_row4_col2, #T_358fc_row4_col3, #T_358fc_row4_col4, #T_358fc_row4_col5, #T_358fc_row4_col6, #T_358fc_row4_col7, #T_358fc_row5_col0, #T_358fc_row5_col1, #T_358fc_row5_col2, #T_358fc_row5_col3, #T_358fc_row5_col4, #T_358fc_row5_col5, #T_358fc_row5_col6, #T_358fc_row5_col7, #T_358fc_row6_col0, #T_358fc_row6_col1, #T_358fc_row6_col2, #T_358fc_row6_col3, #T_358fc_row6_col4, #T_358fc_row6_col5, #T_358fc_row6_col6, #T_358fc_row6_col7, #T_358fc_row7_col0, #T_358fc_row7_col1, #T_358fc_row7_col2, #T_358fc_row7_col3, #T_358fc_row7_col4, #T_358fc_row7_col5, #T_358fc_row7_col6, #T_358fc_row7_col7, #T_358fc_row8_col0, #T_358fc_row8_col1, #T_358fc_row8_col2, #T_358fc_row8_col3, #T_358fc_row8_col4, #T_358fc_row8_col5, #T_358fc_row8_col6, #T_358fc_row8_col7, #T_358fc_row9_col0, #T_358fc_row9_col1, #T_358fc_row9_col2, #T_358fc_row9_col3, #T_358fc_row9_col4, #T_358fc_row9_col5, #T_358fc_row9_col6, #T_358fc_row9_col7, #T_358fc_row10_col0, #T_358fc_row10_col1, #T_358fc_row10_col2, #T_358fc_row10_col3, #T_358fc_row10_col4, #T_358fc_row10_col5, #T_358fc_row10_col6, #T_358fc_row10_col7, #T_358fc_row11_col0, #T_358fc_row11_col1, #T_358fc_row11_col2, #T_358fc_row11_col3, #T_358fc_row11_col4, #T_358fc_row11_col5, #T_358fc_row11_col6, #T_358fc_row11_col7, #T_358fc_row12_col0, #T_358fc_row12_col1, #T_358fc_row12_col2, #T_358fc_row12_col3, #T_358fc_row12_col4, #T_358fc_row12_col5, #T_358fc_row12_col6, #T_358fc_row12_col7, #T_358fc_row13_col0, #T_358fc_row13_col1, #T_358fc_row13_col2, #T_358fc_row13_col3, #T_358fc_row13_col4, #T_358fc_row13_col5, #T_358fc_row13_col6, #T_358fc_row13_col7, #T_358fc_row14_col0, #T_358fc_row14_col1, #T_358fc_row14_col2, #T_358fc_row14_col3, #T_358fc_row14_col4, #T_358fc_row14_col5, #T_358fc_row14_col6, #T_358fc_row14_col7, #T_358fc_row15_col0, #T_358fc_row15_col1, #T_358fc_row15_col2, #T_358fc_row15_col3, #T_358fc_row15_col4, #T_358fc_row15_col5, #T_358fc_row15_col6, #T_358fc_row15_col7, #T_358fc_row16_col0, #T_358fc_row16_col1, #T_358fc_row16_col2, #T_358fc_row16_col3, #T_358fc_row16_col4, #T_358fc_row16_col5, #T_358fc_row16_col6, #T_358fc_row16_col7, #T_358fc_row17_col0, #T_358fc_row17_col1, #T_358fc_row17_col2, #T_358fc_row17_col3, #T_358fc_row17_col4, #T_358fc_row17_col5, #T_358fc_row17_col6, #T_358fc_row17_col7, #T_358fc_row18_col0, #T_358fc_row18_col1, #T_358fc_row18_col2, #T_358fc_row18_col3, #T_358fc_row18_col4, #T_358fc_row18_col5, #T_358fc_row18_col6, #T_358fc_row18_col7, #T_358fc_row19_col0, #T_358fc_row19_col1, #T_358fc_row19_col2, #T_358fc_row19_col3, #T_358fc_row19_col4, #T_358fc_row19_col5, #T_358fc_row19_col6, #T_358fc_row19_col7, #T_358fc_row20_col0, #T_358fc_row20_col1, #T_358fc_row20_col2, #T_358fc_row20_col3, #T_358fc_row20_col4, #T_358fc_row20_col5, #T_358fc_row20_col6, #T_358fc_row20_col7, #T_358fc_row21_col0, #T_358fc_row21_col1, #T_358fc_row21_col2, #T_358fc_row21_col3, #T_358fc_row21_col4, #T_358fc_row21_col5, #T_358fc_row21_col6, #T_358fc_row21_col7, #T_358fc_row22_col0, #T_358fc_row22_col1, #T_358fc_row22_col2, #T_358fc_row22_col3, #T_358fc_row22_col4, #T_358fc_row22_col5, #T_358fc_row22_col6, #T_358fc_row22_col7, #T_358fc_row23_col0, #T_358fc_row23_col1, #T_358fc_row23_col2, #T_358fc_row23_col3, #T_358fc_row23_col4, #T_358fc_row23_col5, #T_358fc_row23_col6, #T_358fc_row23_col7, #T_358fc_row24_col0, #T_358fc_row24_col1, #T_358fc_row24_col2, #T_358fc_row24_col3, #T_358fc_row24_col4, #T_358fc_row24_col5, #T_358fc_row24_col6, #T_358fc_row24_col7, #T_358fc_row25_col0, #T_358fc_row25_col1, #T_358fc_row25_col2, #T_358fc_row25_col3, #T_358fc_row25_col4, #T_358fc_row25_col5, #T_358fc_row25_col6, #T_358fc_row25_col7, #T_358fc_row26_col0, #T_358fc_row26_col1, #T_358fc_row26_col2, #T_358fc_row26_col3, #T_358fc_row26_col4, #T_358fc_row26_col5, #T_358fc_row26_col6, #T_358fc_row26_col7, #T_358fc_row27_col0, #T_358fc_row27_col1, #T_358fc_row27_col2, #T_358fc_row27_col3, #T_358fc_row27_col4, #T_358fc_row27_col5, #T_358fc_row27_col6, #T_358fc_row27_col7 {\n",
       "  text-align: left;\n",
       "}\n",
       "#T_358fc_row0_col1, #T_358fc_row0_col2, #T_358fc_row0_col3, #T_358fc_row0_col4, #T_358fc_row0_col5, #T_358fc_row0_col6, #T_358fc_row2_col7 {\n",
       "  text-align: left;\n",
       "  background-color: yellow;\n",
       "}\n",
       "#T_358fc_row0_col8, #T_358fc_row1_col8, #T_358fc_row2_col8, #T_358fc_row3_col8, #T_358fc_row4_col8, #T_358fc_row5_col8, #T_358fc_row6_col8, #T_358fc_row7_col8, #T_358fc_row8_col8, #T_358fc_row9_col8, #T_358fc_row10_col8, #T_358fc_row11_col8, #T_358fc_row12_col8, #T_358fc_row13_col8, #T_358fc_row14_col8, #T_358fc_row15_col8, #T_358fc_row16_col8, #T_358fc_row17_col8, #T_358fc_row18_col8, #T_358fc_row19_col8, #T_358fc_row20_col8, #T_358fc_row21_col8, #T_358fc_row22_col8, #T_358fc_row23_col8, #T_358fc_row24_col8, #T_358fc_row26_col8, #T_358fc_row27_col8 {\n",
       "  text-align: left;\n",
       "  background-color: lightgrey;\n",
       "}\n",
       "#T_358fc_row25_col8 {\n",
       "  text-align: left;\n",
       "  background-color: yellow;\n",
       "  background-color: lightgrey;\n",
       "}\n",
       "</style>\n",
       "<table id=\"T_358fc\">\n",
       "  <thead>\n",
       "    <tr>\n",
       "      <th class=\"blank level0\" >&nbsp;</th>\n",
       "      <th id=\"T_358fc_level0_col0\" class=\"col_heading level0 col0\" >Model</th>\n",
       "      <th id=\"T_358fc_level0_col1\" class=\"col_heading level0 col1\" >MASE</th>\n",
       "      <th id=\"T_358fc_level0_col2\" class=\"col_heading level0 col2\" >RMSSE</th>\n",
       "      <th id=\"T_358fc_level0_col3\" class=\"col_heading level0 col3\" >MAE</th>\n",
       "      <th id=\"T_358fc_level0_col4\" class=\"col_heading level0 col4\" >RMSE</th>\n",
       "      <th id=\"T_358fc_level0_col5\" class=\"col_heading level0 col5\" >MAPE</th>\n",
       "      <th id=\"T_358fc_level0_col6\" class=\"col_heading level0 col6\" >SMAPE</th>\n",
       "      <th id=\"T_358fc_level0_col7\" class=\"col_heading level0 col7\" >R2</th>\n",
       "      <th id=\"T_358fc_level0_col8\" class=\"col_heading level0 col8\" >TT (Sec)</th>\n",
       "    </tr>\n",
       "  </thead>\n",
       "  <tbody>\n",
       "    <tr>\n",
       "      <th id=\"T_358fc_level0_row0\" class=\"row_heading level0 row0\" >theta</th>\n",
       "      <td id=\"T_358fc_row0_col0\" class=\"data row0 col0\" >Theta Forecaster</td>\n",
       "      <td id=\"T_358fc_row0_col1\" class=\"data row0 col1\" >0.3762</td>\n",
       "      <td id=\"T_358fc_row0_col2\" class=\"data row0 col2\" >0.2283</td>\n",
       "      <td id=\"T_358fc_row0_col3\" class=\"data row0 col3\" >6.3277</td>\n",
       "      <td id=\"T_358fc_row0_col4\" class=\"data row0 col4\" >7.0964</td>\n",
       "      <td id=\"T_358fc_row0_col5\" class=\"data row0 col5\" >0.0542</td>\n",
       "      <td id=\"T_358fc_row0_col6\" class=\"data row0 col6\" >0.0529</td>\n",
       "      <td id=\"T_358fc_row0_col7\" class=\"data row0 col7\" >-68.8610</td>\n",
       "      <td id=\"T_358fc_row0_col8\" class=\"data row0 col8\" >9.2020</td>\n",
       "    </tr>\n",
       "    <tr>\n",
       "      <th id=\"T_358fc_level0_row1\" class=\"row_heading level0 row1\" >exp_smooth</th>\n",
       "      <td id=\"T_358fc_row1_col0\" class=\"data row1 col0\" >Exponential Smoothing</td>\n",
       "      <td id=\"T_358fc_row1_col1\" class=\"data row1 col1\" >0.4236</td>\n",
       "      <td id=\"T_358fc_row1_col2\" class=\"data row1 col2\" >0.2621</td>\n",
       "      <td id=\"T_358fc_row1_col3\" class=\"data row1 col3\" >7.1245</td>\n",
       "      <td id=\"T_358fc_row1_col4\" class=\"data row1 col4\" >8.1495</td>\n",
       "      <td id=\"T_358fc_row1_col5\" class=\"data row1 col5\" >0.0617</td>\n",
       "      <td id=\"T_358fc_row1_col6\" class=\"data row1 col6\" >0.0612</td>\n",
       "      <td id=\"T_358fc_row1_col7\" class=\"data row1 col7\" >-59.6084</td>\n",
       "      <td id=\"T_358fc_row1_col8\" class=\"data row1 col8\" >11.3400</td>\n",
       "    </tr>\n",
       "    <tr>\n",
       "      <th id=\"T_358fc_level0_row2\" class=\"row_heading level0 row2\" >ada_cds_dt</th>\n",
       "      <td id=\"T_358fc_row2_col0\" class=\"data row2 col0\" >AdaBoost w/ Cond. Deseasonalize & Detrending</td>\n",
       "      <td id=\"T_358fc_row2_col1\" class=\"data row2 col1\" >0.5110</td>\n",
       "      <td id=\"T_358fc_row2_col2\" class=\"data row2 col2\" >0.3004</td>\n",
       "      <td id=\"T_358fc_row2_col3\" class=\"data row2 col3\" >8.5943</td>\n",
       "      <td id=\"T_358fc_row2_col4\" class=\"data row2 col4\" >9.3392</td>\n",
       "      <td id=\"T_358fc_row2_col5\" class=\"data row2 col5\" >0.0729</td>\n",
       "      <td id=\"T_358fc_row2_col6\" class=\"data row2 col6\" >0.0689</td>\n",
       "      <td id=\"T_358fc_row2_col7\" class=\"data row2 col7\" >-40.4199</td>\n",
       "      <td id=\"T_358fc_row2_col8\" class=\"data row2 col8\" >21.9080</td>\n",
       "    </tr>\n",
       "    <tr>\n",
       "      <th id=\"T_358fc_level0_row3\" class=\"row_heading level0 row3\" >huber_cds_dt</th>\n",
       "      <td id=\"T_358fc_row3_col0\" class=\"data row3 col0\" >Huber w/ Cond. Deseasonalize & Detrending</td>\n",
       "      <td id=\"T_358fc_row3_col1\" class=\"data row3 col1\" >0.5638</td>\n",
       "      <td id=\"T_358fc_row3_col2\" class=\"data row3 col2\" >0.3259</td>\n",
       "      <td id=\"T_358fc_row3_col3\" class=\"data row3 col3\" >9.4836</td>\n",
       "      <td id=\"T_358fc_row3_col4\" class=\"data row3 col4\" >10.1314</td>\n",
       "      <td id=\"T_358fc_row3_col5\" class=\"data row3 col5\" >0.0777</td>\n",
       "      <td id=\"T_358fc_row3_col6\" class=\"data row3 col6\" >0.0799</td>\n",
       "      <td id=\"T_358fc_row3_col7\" class=\"data row3 col7\" >-123.8191</td>\n",
       "      <td id=\"T_358fc_row3_col8\" class=\"data row3 col8\" >18.8420</td>\n",
       "    </tr>\n",
       "    <tr>\n",
       "      <th id=\"T_358fc_level0_row4\" class=\"row_heading level0 row4\" >gbr_cds_dt</th>\n",
       "      <td id=\"T_358fc_row4_col0\" class=\"data row4 col0\" >Gradient Boosting w/ Cond. Deseasonalize & Detrending</td>\n",
       "      <td id=\"T_358fc_row4_col1\" class=\"data row4 col1\" >0.5679</td>\n",
       "      <td id=\"T_358fc_row4_col2\" class=\"data row4 col2\" >0.3322</td>\n",
       "      <td id=\"T_358fc_row4_col3\" class=\"data row4 col3\" >9.5516</td>\n",
       "      <td id=\"T_358fc_row4_col4\" class=\"data row4 col4\" >10.3278</td>\n",
       "      <td id=\"T_358fc_row4_col5\" class=\"data row4 col5\" >0.0773</td>\n",
       "      <td id=\"T_358fc_row4_col6\" class=\"data row4 col6\" >0.0809</td>\n",
       "      <td id=\"T_358fc_row4_col7\" class=\"data row4 col7\" >-152.5435</td>\n",
       "      <td id=\"T_358fc_row4_col8\" class=\"data row4 col8\" >34.2220</td>\n",
       "    </tr>\n",
       "    <tr>\n",
       "      <th id=\"T_358fc_level0_row5\" class=\"row_heading level0 row5\" >naive</th>\n",
       "      <td id=\"T_358fc_row5_col0\" class=\"data row5 col0\" >Naive Forecaster</td>\n",
       "      <td id=\"T_358fc_row5_col1\" class=\"data row5 col1\" >0.6250</td>\n",
       "      <td id=\"T_358fc_row5_col2\" class=\"data row5 col2\" >0.3662</td>\n",
       "      <td id=\"T_358fc_row5_col3\" class=\"data row5 col3\" >10.5127</td>\n",
       "      <td id=\"T_358fc_row5_col4\" class=\"data row5 col4\" >11.3864</td>\n",
       "      <td id=\"T_358fc_row5_col5\" class=\"data row5 col5\" >0.0910</td>\n",
       "      <td id=\"T_358fc_row5_col6\" class=\"data row5 col6\" >0.0868</td>\n",
       "      <td id=\"T_358fc_row5_col7\" class=\"data row5 col7\" >-62.8351</td>\n",
       "      <td id=\"T_358fc_row5_col8\" class=\"data row5 col8\" >7.1260</td>\n",
       "    </tr>\n",
       "    <tr>\n",
       "      <th id=\"T_358fc_level0_row6\" class=\"row_heading level0 row6\" >lightgbm_cds_dt</th>\n",
       "      <td id=\"T_358fc_row6_col0\" class=\"data row6 col0\" >Light Gradient Boosting w/ Cond. Deseasonalize & Detrending</td>\n",
       "      <td id=\"T_358fc_row6_col1\" class=\"data row6 col1\" >0.6269</td>\n",
       "      <td id=\"T_358fc_row6_col2\" class=\"data row6 col2\" >0.3618</td>\n",
       "      <td id=\"T_358fc_row6_col3\" class=\"data row6 col3\" >10.5435</td>\n",
       "      <td id=\"T_358fc_row6_col4\" class=\"data row6 col4\" >11.2478</td>\n",
       "      <td id=\"T_358fc_row6_col5\" class=\"data row6 col5\" >0.0853</td>\n",
       "      <td id=\"T_358fc_row6_col6\" class=\"data row6 col6\" >0.0900</td>\n",
       "      <td id=\"T_358fc_row6_col7\" class=\"data row6 col7\" >-163.4425</td>\n",
       "      <td id=\"T_358fc_row6_col8\" class=\"data row6 col8\" >22.2620</td>\n",
       "    </tr>\n",
       "    <tr>\n",
       "      <th id=\"T_358fc_level0_row7\" class=\"row_heading level0 row7\" >catboost_cds_dt</th>\n",
       "      <td id=\"T_358fc_row7_col0\" class=\"data row7 col0\" >CatBoost Regressor w/ Cond. Deseasonalize & Detrending</td>\n",
       "      <td id=\"T_358fc_row7_col1\" class=\"data row7 col1\" >0.6556</td>\n",
       "      <td id=\"T_358fc_row7_col2\" class=\"data row7 col2\" >0.3861</td>\n",
       "      <td id=\"T_358fc_row7_col3\" class=\"data row7 col3\" >11.0262</td>\n",
       "      <td id=\"T_358fc_row7_col4\" class=\"data row7 col4\" >12.0039</td>\n",
       "      <td id=\"T_358fc_row7_col5\" class=\"data row7 col5\" >0.0910</td>\n",
       "      <td id=\"T_358fc_row7_col6\" class=\"data row7 col6\" >0.0966</td>\n",
       "      <td id=\"T_358fc_row7_col7\" class=\"data row7 col7\" >-172.2123</td>\n",
       "      <td id=\"T_358fc_row7_col8\" class=\"data row7 col8\" >32.1980</td>\n",
       "    </tr>\n",
       "    <tr>\n",
       "      <th id=\"T_358fc_level0_row8\" class=\"row_heading level0 row8\" >rf_cds_dt</th>\n",
       "      <td id=\"T_358fc_row8_col0\" class=\"data row8 col0\" >Random Forest w/ Cond. Deseasonalize & Detrending</td>\n",
       "      <td id=\"T_358fc_row8_col1\" class=\"data row8 col1\" >0.6561</td>\n",
       "      <td id=\"T_358fc_row8_col2\" class=\"data row8 col2\" >0.3777</td>\n",
       "      <td id=\"T_358fc_row8_col3\" class=\"data row8 col3\" >11.0347</td>\n",
       "      <td id=\"T_358fc_row8_col4\" class=\"data row8 col4\" >11.7413</td>\n",
       "      <td id=\"T_358fc_row8_col5\" class=\"data row8 col5\" >0.0867</td>\n",
       "      <td id=\"T_358fc_row8_col6\" class=\"data row8 col6\" >0.0921</td>\n",
       "      <td id=\"T_358fc_row8_col7\" class=\"data row8 col7\" >-197.2546</td>\n",
       "      <td id=\"T_358fc_row8_col8\" class=\"data row8 col8\" >66.1400</td>\n",
       "    </tr>\n",
       "    <tr>\n",
       "      <th id=\"T_358fc_level0_row9\" class=\"row_heading level0 row9\" >lasso_cds_dt</th>\n",
       "      <td id=\"T_358fc_row9_col0\" class=\"data row9 col0\" >Lasso w/ Cond. Deseasonalize & Detrending</td>\n",
       "      <td id=\"T_358fc_row9_col1\" class=\"data row9 col1\" >0.6691</td>\n",
       "      <td id=\"T_358fc_row9_col2\" class=\"data row9 col2\" >0.3841</td>\n",
       "      <td id=\"T_358fc_row9_col3\" class=\"data row9 col3\" >11.2531</td>\n",
       "      <td id=\"T_358fc_row9_col4\" class=\"data row9 col4\" >11.9430</td>\n",
       "      <td id=\"T_358fc_row9_col5\" class=\"data row9 col5\" >0.0886</td>\n",
       "      <td id=\"T_358fc_row9_col6\" class=\"data row9 col6\" >0.0936</td>\n",
       "      <td id=\"T_358fc_row9_col7\" class=\"data row9 col7\" >-306.2493</td>\n",
       "      <td id=\"T_358fc_row9_col8\" class=\"data row9 col8\" >18.9060</td>\n",
       "    </tr>\n",
       "    <tr>\n",
       "      <th id=\"T_358fc_level0_row10\" class=\"row_heading level0 row10\" >en_cds_dt</th>\n",
       "      <td id=\"T_358fc_row10_col0\" class=\"data row10 col0\" >Elastic Net w/ Cond. Deseasonalize & Detrending</td>\n",
       "      <td id=\"T_358fc_row10_col1\" class=\"data row10 col1\" >0.6701</td>\n",
       "      <td id=\"T_358fc_row10_col2\" class=\"data row10 col2\" >0.3847</td>\n",
       "      <td id=\"T_358fc_row10_col3\" class=\"data row10 col3\" >11.2708</td>\n",
       "      <td id=\"T_358fc_row10_col4\" class=\"data row10 col4\" >11.9590</td>\n",
       "      <td id=\"T_358fc_row10_col5\" class=\"data row10 col5\" >0.0888</td>\n",
       "      <td id=\"T_358fc_row10_col6\" class=\"data row10 col6\" >0.0938</td>\n",
       "      <td id=\"T_358fc_row10_col7\" class=\"data row10 col7\" >-305.1415</td>\n",
       "      <td id=\"T_358fc_row10_col8\" class=\"data row10 col8\" >18.5680</td>\n",
       "    </tr>\n",
       "    <tr>\n",
       "      <th id=\"T_358fc_level0_row11\" class=\"row_heading level0 row11\" >lr_cds_dt</th>\n",
       "      <td id=\"T_358fc_row11_col0\" class=\"data row11 col0\" >Linear w/ Cond. Deseasonalize & Detrending</td>\n",
       "      <td id=\"T_358fc_row11_col1\" class=\"data row11 col1\" >0.6705</td>\n",
       "      <td id=\"T_358fc_row11_col2\" class=\"data row11 col2\" >0.3849</td>\n",
       "      <td id=\"T_358fc_row11_col3\" class=\"data row11 col3\" >11.2766</td>\n",
       "      <td id=\"T_358fc_row11_col4\" class=\"data row11 col4\" >11.9672</td>\n",
       "      <td id=\"T_358fc_row11_col5\" class=\"data row11 col5\" >0.0888</td>\n",
       "      <td id=\"T_358fc_row11_col6\" class=\"data row11 col6\" >0.0938</td>\n",
       "      <td id=\"T_358fc_row11_col7\" class=\"data row11 col7\" >-304.4647</td>\n",
       "      <td id=\"T_358fc_row11_col8\" class=\"data row11 col8\" >18.8160</td>\n",
       "    </tr>\n",
       "    <tr>\n",
       "      <th id=\"T_358fc_level0_row12\" class=\"row_heading level0 row12\" >ridge_cds_dt</th>\n",
       "      <td id=\"T_358fc_row12_col0\" class=\"data row12 col0\" >Ridge w/ Cond. Deseasonalize & Detrending</td>\n",
       "      <td id=\"T_358fc_row12_col1\" class=\"data row12 col1\" >0.6705</td>\n",
       "      <td id=\"T_358fc_row12_col2\" class=\"data row12 col2\" >0.3849</td>\n",
       "      <td id=\"T_358fc_row12_col3\" class=\"data row12 col3\" >11.2766</td>\n",
       "      <td id=\"T_358fc_row12_col4\" class=\"data row12 col4\" >11.9672</td>\n",
       "      <td id=\"T_358fc_row12_col5\" class=\"data row12 col5\" >0.0888</td>\n",
       "      <td id=\"T_358fc_row12_col6\" class=\"data row12 col6\" >0.0938</td>\n",
       "      <td id=\"T_358fc_row12_col7\" class=\"data row12 col7\" >-304.4647</td>\n",
       "      <td id=\"T_358fc_row12_col8\" class=\"data row12 col8\" >18.5320</td>\n",
       "    </tr>\n",
       "    <tr>\n",
       "      <th id=\"T_358fc_level0_row13\" class=\"row_heading level0 row13\" >br_cds_dt</th>\n",
       "      <td id=\"T_358fc_row13_col0\" class=\"data row13 col0\" >Bayesian Ridge w/ Cond. Deseasonalize & Detrending</td>\n",
       "      <td id=\"T_358fc_row13_col1\" class=\"data row13 col1\" >0.6706</td>\n",
       "      <td id=\"T_358fc_row13_col2\" class=\"data row13 col2\" >0.3850</td>\n",
       "      <td id=\"T_358fc_row13_col3\" class=\"data row13 col3\" >11.2782</td>\n",
       "      <td id=\"T_358fc_row13_col4\" class=\"data row13 col4\" >11.9688</td>\n",
       "      <td id=\"T_358fc_row13_col5\" class=\"data row13 col5\" >0.0889</td>\n",
       "      <td id=\"T_358fc_row13_col6\" class=\"data row13 col6\" >0.0938</td>\n",
       "      <td id=\"T_358fc_row13_col7\" class=\"data row13 col7\" >-304.6446</td>\n",
       "      <td id=\"T_358fc_row13_col8\" class=\"data row13 col8\" >18.9220</td>\n",
       "    </tr>\n",
       "    <tr>\n",
       "      <th id=\"T_358fc_level0_row14\" class=\"row_heading level0 row14\" >lar_cds_dt</th>\n",
       "      <td id=\"T_358fc_row14_col0\" class=\"data row14 col0\" >Least Angular Regressor w/ Cond. Deseasonalize & Detrending</td>\n",
       "      <td id=\"T_358fc_row14_col1\" class=\"data row14 col1\" >0.6733</td>\n",
       "      <td id=\"T_358fc_row14_col2\" class=\"data row14 col2\" >0.3864</td>\n",
       "      <td id=\"T_358fc_row14_col3\" class=\"data row14 col3\" >11.3252</td>\n",
       "      <td id=\"T_358fc_row14_col4\" class=\"data row14 col4\" >12.0128</td>\n",
       "      <td id=\"T_358fc_row14_col5\" class=\"data row14 col5\" >0.0892</td>\n",
       "      <td id=\"T_358fc_row14_col6\" class=\"data row14 col6\" >0.0942</td>\n",
       "      <td id=\"T_358fc_row14_col7\" class=\"data row14 col7\" >-306.7392</td>\n",
       "      <td id=\"T_358fc_row14_col8\" class=\"data row14 col8\" >18.4100</td>\n",
       "    </tr>\n",
       "    <tr>\n",
       "      <th id=\"T_358fc_level0_row15\" class=\"row_heading level0 row15\" >et_cds_dt</th>\n",
       "      <td id=\"T_358fc_row15_col0\" class=\"data row15 col0\" >Extra Trees w/ Cond. Deseasonalize & Detrending</td>\n",
       "      <td id=\"T_358fc_row15_col1\" class=\"data row15 col1\" >0.6800</td>\n",
       "      <td id=\"T_358fc_row15_col2\" class=\"data row15 col2\" >0.3918</td>\n",
       "      <td id=\"T_358fc_row15_col3\" class=\"data row15 col3\" >11.4377</td>\n",
       "      <td id=\"T_358fc_row15_col4\" class=\"data row15 col4\" >12.1816</td>\n",
       "      <td id=\"T_358fc_row15_col5\" class=\"data row15 col5\" >0.0914</td>\n",
       "      <td id=\"T_358fc_row15_col6\" class=\"data row15 col6\" >0.0973</td>\n",
       "      <td id=\"T_358fc_row15_col7\" class=\"data row15 col7\" >-162.0051</td>\n",
       "      <td id=\"T_358fc_row15_col8\" class=\"data row15 col8\" >27.7200</td>\n",
       "    </tr>\n",
       "    <tr>\n",
       "      <th id=\"T_358fc_level0_row16\" class=\"row_heading level0 row16\" >xgboost_cds_dt</th>\n",
       "      <td id=\"T_358fc_row16_col0\" class=\"data row16 col0\" >Extreme Gradient Boosting w/ Cond. Deseasonalize & Detrending</td>\n",
       "      <td id=\"T_358fc_row16_col1\" class=\"data row16 col1\" >0.7064</td>\n",
       "      <td id=\"T_358fc_row16_col2\" class=\"data row16 col2\" >0.4150</td>\n",
       "      <td id=\"T_358fc_row16_col3\" class=\"data row16 col3\" >11.8811</td>\n",
       "      <td id=\"T_358fc_row16_col4\" class=\"data row16 col4\" >12.9027</td>\n",
       "      <td id=\"T_358fc_row16_col5\" class=\"data row16 col5\" >0.0960</td>\n",
       "      <td id=\"T_358fc_row16_col6\" class=\"data row16 col6\" >0.1026</td>\n",
       "      <td id=\"T_358fc_row16_col7\" class=\"data row16 col7\" >-240.8919</td>\n",
       "      <td id=\"T_358fc_row16_col8\" class=\"data row16 col8\" >29.8900</td>\n",
       "    </tr>\n",
       "    <tr>\n",
       "      <th id=\"T_358fc_level0_row17\" class=\"row_heading level0 row17\" >arima</th>\n",
       "      <td id=\"T_358fc_row17_col0\" class=\"data row17 col0\" >ARIMA</td>\n",
       "      <td id=\"T_358fc_row17_col1\" class=\"data row17 col1\" >0.7747</td>\n",
       "      <td id=\"T_358fc_row17_col2\" class=\"data row17 col2\" >0.4564</td>\n",
       "      <td id=\"T_358fc_row17_col3\" class=\"data row17 col3\" >13.0308</td>\n",
       "      <td id=\"T_358fc_row17_col4\" class=\"data row17 col4\" >14.1883</td>\n",
       "      <td id=\"T_358fc_row17_col5\" class=\"data row17 col5\" >0.1107</td>\n",
       "      <td id=\"T_358fc_row17_col6\" class=\"data row17 col6\" >0.1203</td>\n",
       "      <td id=\"T_358fc_row17_col7\" class=\"data row17 col7\" >-505.5930</td>\n",
       "      <td id=\"T_358fc_row17_col8\" class=\"data row17 col8\" >13.7500</td>\n",
       "    </tr>\n",
       "    <tr>\n",
       "      <th id=\"T_358fc_level0_row18\" class=\"row_heading level0 row18\" >omp_cds_dt</th>\n",
       "      <td id=\"T_358fc_row18_col0\" class=\"data row18 col0\" >Orthogonal Matching Pursuit w/ Cond. Deseasonalize & Detrending</td>\n",
       "      <td id=\"T_358fc_row18_col1\" class=\"data row18 col1\" >0.7883</td>\n",
       "      <td id=\"T_358fc_row18_col2\" class=\"data row18 col2\" >0.4504</td>\n",
       "      <td id=\"T_358fc_row18_col3\" class=\"data row18 col3\" >13.2585</td>\n",
       "      <td id=\"T_358fc_row18_col4\" class=\"data row18 col4\" >14.0029</td>\n",
       "      <td id=\"T_358fc_row18_col5\" class=\"data row18 col5\" >0.1077</td>\n",
       "      <td id=\"T_358fc_row18_col6\" class=\"data row18 col6\" >0.1156</td>\n",
       "      <td id=\"T_358fc_row18_col7\" class=\"data row18 col7\" >-354.0415</td>\n",
       "      <td id=\"T_358fc_row18_col8\" class=\"data row18 col8\" >34.1320</td>\n",
       "    </tr>\n",
       "    <tr>\n",
       "      <th id=\"T_358fc_level0_row19\" class=\"row_heading level0 row19\" >knn_cds_dt</th>\n",
       "      <td id=\"T_358fc_row19_col0\" class=\"data row19 col0\" >K Neighbors w/ Cond. Deseasonalize & Detrending</td>\n",
       "      <td id=\"T_358fc_row19_col1\" class=\"data row19 col1\" >0.8406</td>\n",
       "      <td id=\"T_358fc_row19_col2\" class=\"data row19 col2\" >0.4828</td>\n",
       "      <td id=\"T_358fc_row19_col3\" class=\"data row19 col3\" >14.1377</td>\n",
       "      <td id=\"T_358fc_row19_col4\" class=\"data row19 col4\" >15.0111</td>\n",
       "      <td id=\"T_358fc_row19_col5\" class=\"data row19 col5\" >0.1125</td>\n",
       "      <td id=\"T_358fc_row19_col6\" class=\"data row19 col6\" >0.1216</td>\n",
       "      <td id=\"T_358fc_row19_col7\" class=\"data row19 col7\" >-429.6128</td>\n",
       "      <td id=\"T_358fc_row19_col8\" class=\"data row19 col8\" >21.1280</td>\n",
       "    </tr>\n",
       "    <tr>\n",
       "      <th id=\"T_358fc_level0_row20\" class=\"row_heading level0 row20\" >dt_cds_dt</th>\n",
       "      <td id=\"T_358fc_row20_col0\" class=\"data row20 col0\" >Decision Tree w/ Cond. Deseasonalize & Detrending</td>\n",
       "      <td id=\"T_358fc_row20_col1\" class=\"data row20 col1\" >0.9165</td>\n",
       "      <td id=\"T_358fc_row20_col2\" class=\"data row20 col2\" >0.5937</td>\n",
       "      <td id=\"T_358fc_row20_col3\" class=\"data row20 col3\" >15.4152</td>\n",
       "      <td id=\"T_358fc_row20_col4\" class=\"data row20 col4\" >18.4592</td>\n",
       "      <td id=\"T_358fc_row20_col5\" class=\"data row20 col5\" >0.1209</td>\n",
       "      <td id=\"T_358fc_row20_col6\" class=\"data row20 col6\" >0.1459</td>\n",
       "      <td id=\"T_358fc_row20_col7\" class=\"data row20 col7\" >-153.0508</td>\n",
       "      <td id=\"T_358fc_row20_col8\" class=\"data row20 col8\" >21.2400</td>\n",
       "    </tr>\n",
       "    <tr>\n",
       "      <th id=\"T_358fc_level0_row21\" class=\"row_heading level0 row21\" >ets</th>\n",
       "      <td id=\"T_358fc_row21_col0\" class=\"data row21 col0\" >ETS</td>\n",
       "      <td id=\"T_358fc_row21_col1\" class=\"data row21 col1\" >1.1345</td>\n",
       "      <td id=\"T_358fc_row21_col2\" class=\"data row21 col2\" >0.6419</td>\n",
       "      <td id=\"T_358fc_row21_col3\" class=\"data row21 col3\" >19.0818</td>\n",
       "      <td id=\"T_358fc_row21_col4\" class=\"data row21 col4\" >19.9572</td>\n",
       "      <td id=\"T_358fc_row21_col5\" class=\"data row21 col5\" >0.1539</td>\n",
       "      <td id=\"T_358fc_row21_col6\" class=\"data row21 col6\" >0.1569</td>\n",
       "      <td id=\"T_358fc_row21_col7\" class=\"data row21 col7\" >-1007.0900</td>\n",
       "      <td id=\"T_358fc_row21_col8\" class=\"data row21 col8\" >13.1960</td>\n",
       "    </tr>\n",
       "    <tr>\n",
       "      <th id=\"T_358fc_level0_row22\" class=\"row_heading level0 row22\" >croston</th>\n",
       "      <td id=\"T_358fc_row22_col0\" class=\"data row22 col0\" >Croston</td>\n",
       "      <td id=\"T_358fc_row22_col1\" class=\"data row22 col1\" >1.1686</td>\n",
       "      <td id=\"T_358fc_row22_col2\" class=\"data row22 col2\" >0.6567</td>\n",
       "      <td id=\"T_358fc_row22_col3\" class=\"data row22 col3\" >19.6543</td>\n",
       "      <td id=\"T_358fc_row22_col4\" class=\"data row22 col4\" >20.4179</td>\n",
       "      <td id=\"T_358fc_row22_col5\" class=\"data row22 col5\" >0.1568</td>\n",
       "      <td id=\"T_358fc_row22_col6\" class=\"data row22 col6\" >0.1642</td>\n",
       "      <td id=\"T_358fc_row22_col7\" class=\"data row22 col7\" >-1139.0726</td>\n",
       "      <td id=\"T_358fc_row22_col8\" class=\"data row22 col8\" >5.9780</td>\n",
       "    </tr>\n",
       "    <tr>\n",
       "      <th id=\"T_358fc_level0_row23\" class=\"row_heading level0 row23\" >snaive</th>\n",
       "      <td id=\"T_358fc_row23_col0\" class=\"data row23 col0\" >Seasonal Naive Forecaster</td>\n",
       "      <td id=\"T_358fc_row23_col1\" class=\"data row23 col1\" >1.6063</td>\n",
       "      <td id=\"T_358fc_row23_col2\" class=\"data row23 col2\" >0.8814</td>\n",
       "      <td id=\"T_358fc_row23_col3\" class=\"data row23 col3\" >27.0167</td>\n",
       "      <td id=\"T_358fc_row23_col4\" class=\"data row23 col4\" >27.4033</td>\n",
       "      <td id=\"T_358fc_row23_col5\" class=\"data row23 col5\" >0.2243</td>\n",
       "      <td id=\"T_358fc_row23_col6\" class=\"data row23 col6\" >0.2551</td>\n",
       "      <td id=\"T_358fc_row23_col7\" class=\"data row23 col7\" >-1303.7486</td>\n",
       "      <td id=\"T_358fc_row23_col8\" class=\"data row23 col8\" >6.5600</td>\n",
       "    </tr>\n",
       "    <tr>\n",
       "      <th id=\"T_358fc_level0_row24\" class=\"row_heading level0 row24\" >par_cds_dt</th>\n",
       "      <td id=\"T_358fc_row24_col0\" class=\"data row24 col0\" >Passive Aggressive w/ Cond. Deseasonalize & Detrending</td>\n",
       "      <td id=\"T_358fc_row24_col1\" class=\"data row24 col1\" >1.8266</td>\n",
       "      <td id=\"T_358fc_row24_col2\" class=\"data row24 col2\" >1.0900</td>\n",
       "      <td id=\"T_358fc_row24_col3\" class=\"data row24 col3\" >30.7233</td>\n",
       "      <td id=\"T_358fc_row24_col4\" class=\"data row24 col4\" >33.8883</td>\n",
       "      <td id=\"T_358fc_row24_col5\" class=\"data row24 col5\" >0.2694</td>\n",
       "      <td id=\"T_358fc_row24_col6\" class=\"data row24 col6\" >0.2020</td>\n",
       "      <td id=\"T_358fc_row24_col7\" class=\"data row24 col7\" >-128.3998</td>\n",
       "      <td id=\"T_358fc_row24_col8\" class=\"data row24 col8\" >18.5960</td>\n",
       "    </tr>\n",
       "    <tr>\n",
       "      <th id=\"T_358fc_level0_row25\" class=\"row_heading level0 row25\" >polytrend</th>\n",
       "      <td id=\"T_358fc_row25_col0\" class=\"data row25 col0\" >Polynomial Trend Forecaster</td>\n",
       "      <td id=\"T_358fc_row25_col1\" class=\"data row25 col1\" >3.0642</td>\n",
       "      <td id=\"T_358fc_row25_col2\" class=\"data row25 col2\" >1.6688</td>\n",
       "      <td id=\"T_358fc_row25_col3\" class=\"data row25 col3\" >51.5370</td>\n",
       "      <td id=\"T_358fc_row25_col4\" class=\"data row25 col4\" >51.8841</td>\n",
       "      <td id=\"T_358fc_row25_col5\" class=\"data row25 col5\" >0.4133</td>\n",
       "      <td id=\"T_358fc_row25_col6\" class=\"data row25 col6\" >0.5280</td>\n",
       "      <td id=\"T_358fc_row25_col7\" class=\"data row25 col7\" >-4303.1578</td>\n",
       "      <td id=\"T_358fc_row25_col8\" class=\"data row25 col8\" >5.9160</td>\n",
       "    </tr>\n",
       "    <tr>\n",
       "      <th id=\"T_358fc_level0_row26\" class=\"row_heading level0 row26\" >llar_cds_dt</th>\n",
       "      <td id=\"T_358fc_row26_col0\" class=\"data row26 col0\" >Lasso Least Angular Regressor w/ Cond. Deseasonalize & Detrending</td>\n",
       "      <td id=\"T_358fc_row26_col1\" class=\"data row26 col1\" >3.1169</td>\n",
       "      <td id=\"T_358fc_row26_col2\" class=\"data row26 col2\" >1.6921</td>\n",
       "      <td id=\"T_358fc_row26_col3\" class=\"data row26 col3\" >52.4248</td>\n",
       "      <td id=\"T_358fc_row26_col4\" class=\"data row26 col4\" >52.6081</td>\n",
       "      <td id=\"T_358fc_row26_col5\" class=\"data row26 col5\" >0.4284</td>\n",
       "      <td id=\"T_358fc_row26_col6\" class=\"data row26 col6\" >0.5464</td>\n",
       "      <td id=\"T_358fc_row26_col7\" class=\"data row26 col7\" >-4014.2536</td>\n",
       "      <td id=\"T_358fc_row26_col8\" class=\"data row26 col8\" >18.4020</td>\n",
       "    </tr>\n",
       "    <tr>\n",
       "      <th id=\"T_358fc_level0_row27\" class=\"row_heading level0 row27\" >grand_means</th>\n",
       "      <td id=\"T_358fc_row27_col0\" class=\"data row27 col0\" >Grand Means Forecaster</td>\n",
       "      <td id=\"T_358fc_row27_col1\" class=\"data row27 col1\" >3.7270</td>\n",
       "      <td id=\"T_358fc_row27_col2\" class=\"data row27 col2\" >2.0251</td>\n",
       "      <td id=\"T_358fc_row27_col3\" class=\"data row27 col3\" >62.6860</td>\n",
       "      <td id=\"T_358fc_row27_col4\" class=\"data row27 col4\" >62.9617</td>\n",
       "      <td id=\"T_358fc_row27_col5\" class=\"data row27 col5\" >0.5073</td>\n",
       "      <td id=\"T_358fc_row27_col6\" class=\"data row27 col6\" >0.6857</td>\n",
       "      <td id=\"T_358fc_row27_col7\" class=\"data row27 col7\" >-5911.9717</td>\n",
       "      <td id=\"T_358fc_row27_col8\" class=\"data row27 col8\" >6.5920</td>\n",
       "    </tr>\n",
       "  </tbody>\n",
       "</table>\n"
      ],
      "text/plain": [
       "<pandas.io.formats.style.Styler at 0x7faeaedb75e0>"
      ]
     },
     "metadata": {},
     "output_type": "display_data"
    },
    {
     "data": {
      "text/html": [],
      "text/plain": [
       "<IPython.core.display.HTML object>"
      ]
     },
     "metadata": {},
     "output_type": "display_data"
    }
   ],
   "source": [
    "best = compare_models()"
   ]
  },
  {
   "cell_type": "code",
   "execution_count": 16,
   "id": "25cd0529-37da-43a1-883f-c02ba59bab39",
   "metadata": {
    "execution": {
     "iopub.execute_input": "2022-12-18T05:06:56.527386Z",
     "iopub.status.busy": "2022-12-18T05:06:56.526497Z",
     "iopub.status.idle": "2022-12-18T05:06:57.408776Z",
     "shell.execute_reply": "2022-12-18T05:06:57.407406Z",
     "shell.execute_reply.started": "2022-12-18T05:06:56.527357Z"
    },
    "tags": []
   },
   "outputs": [],
   "source": [
    "plot_model(best, plot = 'forecast', data_kwargs = {'fh' : 3})"
   ]
  },
  {
   "cell_type": "code",
   "execution_count": 15,
   "id": "0f72ae80-8a6c-47f5-891e-ac66e6b3d508",
   "metadata": {
    "execution": {
     "iopub.execute_input": "2022-12-18T05:06:33.029578Z",
     "iopub.status.busy": "2022-12-18T05:06:33.028473Z",
     "iopub.status.idle": "2022-12-18T05:06:33.860198Z",
     "shell.execute_reply": "2022-12-18T05:06:33.859314Z",
     "shell.execute_reply.started": "2022-12-18T05:06:33.029533Z"
    },
    "tags": []
   },
   "outputs": [],
   "source": [
    "plot_model(best, plot = 'forecast')"
   ]
  },
  {
   "cell_type": "code",
   "execution_count": null,
   "id": "62904aa4-c8bc-427a-9c7f-69986ab056a3",
   "metadata": {},
   "outputs": [],
   "source": []
  }
 ],
 "metadata": {
  "kernelspec": {
   "display_name": "Python 3 (ipykernel)",
   "language": "python",
   "name": "python3"
  },
  "language_info": {
   "codemirror_mode": {
    "name": "ipython",
    "version": 3
   },
   "file_extension": ".py",
   "mimetype": "text/x-python",
   "name": "python",
   "nbconvert_exporter": "python",
   "pygments_lexer": "ipython3",
   "version": "3.10.8"
  },
  "widgets": {
   "application/vnd.jupyter.widget-state+json": {
    "state": {
     "1f544cbfca4f47a2a8f1dc510fd8f1db": {
      "model_module": "@jupyter-widgets/base",
      "model_module_version": "2.0.0",
      "model_name": "LayoutModel",
      "state": {}
     },
     "3f50ecf1b119430db7dcb61751630291": {
      "model_module": "@jupyter-widgets/controls",
      "model_module_version": "2.0.0",
      "model_name": "HTMLStyleModel",
      "state": {
       "description_width": "",
       "font_size": null,
       "text_color": null
      }
     },
     "44ac3b31ba024524aaad0f6feae4eefb": {
      "model_module": "@jupyter-widgets/controls",
      "model_module_version": "2.0.0",
      "model_name": "HTMLModel",
      "state": {
       "layout": "IPY_MODEL_de437d70e9b74c2f87a3ed03d7afdb9a",
       "style": "IPY_MODEL_dcd0dfa74380445c9baecf1c7f007177",
       "value": "Processing:  97%"
      }
     },
     "48ad93b39ea84a818eca7f054f618f8a": {
      "model_module": "@jupyter-widgets/controls",
      "model_module_version": "2.0.0",
      "model_name": "ProgressStyleModel",
      "state": {
       "description_width": ""
      }
     },
     "60eb0036a9ba4f39b60240091060eb17": {
      "model_module": "@jupyter-widgets/controls",
      "model_module_version": "2.0.0",
      "model_name": "HTMLModel",
      "state": {
       "layout": "IPY_MODEL_a1470fa8c0d54d02834e25425aaeaa0a",
       "style": "IPY_MODEL_3f50ecf1b119430db7dcb61751630291",
       "value": " 121/125 [1:12:56&lt;01:31, 22.89s/it]"
      }
     },
     "75eb6e40e6bc49d0a8de2c9aae0867b9": {
      "model_module": "@jupyter-widgets/controls",
      "model_module_version": "2.0.0",
      "model_name": "FloatProgressModel",
      "state": {
       "bar_style": "danger",
       "layout": "IPY_MODEL_9cd3a1105e1347e8bd5a49bac8eff833",
       "max": 125,
       "style": "IPY_MODEL_48ad93b39ea84a818eca7f054f618f8a",
       "value": 121
      }
     },
     "9cd3a1105e1347e8bd5a49bac8eff833": {
      "model_module": "@jupyter-widgets/base",
      "model_module_version": "2.0.0",
      "model_name": "LayoutModel",
      "state": {}
     },
     "a1470fa8c0d54d02834e25425aaeaa0a": {
      "model_module": "@jupyter-widgets/base",
      "model_module_version": "2.0.0",
      "model_name": "LayoutModel",
      "state": {}
     },
     "dcd0dfa74380445c9baecf1c7f007177": {
      "model_module": "@jupyter-widgets/controls",
      "model_module_version": "2.0.0",
      "model_name": "HTMLStyleModel",
      "state": {
       "description_width": "",
       "font_size": null,
       "text_color": null
      }
     },
     "de437d70e9b74c2f87a3ed03d7afdb9a": {
      "model_module": "@jupyter-widgets/base",
      "model_module_version": "2.0.0",
      "model_name": "LayoutModel",
      "state": {}
     }
    },
    "version_major": 2,
    "version_minor": 0
   }
  }
 },
 "nbformat": 4,
 "nbformat_minor": 5
}
