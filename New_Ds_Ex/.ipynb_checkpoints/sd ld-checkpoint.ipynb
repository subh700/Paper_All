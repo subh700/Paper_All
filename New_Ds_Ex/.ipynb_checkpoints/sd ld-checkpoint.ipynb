{
 "cells": [
  {
   "cell_type": "code",
   "execution_count": 1,
   "id": "0f9697eb-71b1-4e7d-8ddc-2fb470ffcda2",
   "metadata": {
    "execution": {
     "iopub.execute_input": "2023-03-09T19:31:50.397679Z",
     "iopub.status.busy": "2023-03-09T19:31:50.397066Z",
     "iopub.status.idle": "2023-03-09T19:31:51.697565Z",
     "shell.execute_reply": "2023-03-09T19:31:51.696685Z",
     "shell.execute_reply.started": "2023-03-09T19:31:50.397615Z"
    },
    "tags": []
   },
   "outputs": [],
   "source": [
    "import pandas as pd\n",
    "import numpy as np\n",
    "import glob\n",
    "import matplotlib.pyplot as plt\n",
    "%matplotlib inline\n",
    "import time\n",
    "#from pycaret.time_series import TSForecastingExperiment\n",
    "import statsmodels.api as sm"
   ]
  },
  {
   "cell_type": "code",
   "execution_count": 2,
   "id": "6c0fa539-cda1-4e66-8726-40a9aeae249b",
   "metadata": {
    "execution": {
     "iopub.execute_input": "2023-03-09T19:31:51.699805Z",
     "iopub.status.busy": "2023-03-09T19:31:51.699397Z",
     "iopub.status.idle": "2023-03-09T19:31:52.052102Z",
     "shell.execute_reply": "2023-03-09T19:31:52.051302Z",
     "shell.execute_reply.started": "2023-03-09T19:31:51.699765Z"
    },
    "tags": []
   },
   "outputs": [],
   "source": [
    "import glob\n",
    "all_f= glob.glob('DataSets/'+'*/'+'*/'+'*_INDEX_*.csv')\n",
    "all_f\n",
    "li=[]\n",
    "for file_name in all_f:\n",
    "    df=pd.read_csv(file_name)\n",
    "    li.append(df)"
   ]
  },
  {
   "cell_type": "code",
   "execution_count": 11,
   "id": "178f532f-64e0-4db4-9040-93c9f9853b91",
   "metadata": {
    "execution": {
     "iopub.execute_input": "2023-03-09T19:32:08.332284Z",
     "iopub.status.busy": "2023-03-09T19:32:08.331507Z",
     "iopub.status.idle": "2023-03-09T19:32:08.399184Z",
     "shell.execute_reply": "2023-03-09T19:32:08.398305Z",
     "shell.execute_reply.started": "2023-03-09T19:32:08.332242Z"
    },
    "tags": []
   },
   "outputs": [],
   "source": [
    "df1=pd.DataFrame()\n",
    "i=0\n",
    "for i in range(0,17):\n",
    "    df=li[i]\n",
    "    v=all_f[i].split(r\"/\")\n",
    "    D_n=v[2]\n",
    "    i=i+1\n",
    "    df1[D_n]=df.head(1).iloc[:,0:1]\n",
    "    df1.to_csv(\"king.csv\")"
   ]
  },
  {
   "cell_type": "code",
   "execution_count": 12,
   "id": "c02336d2-be74-4184-a271-2d4e8e5a426b",
   "metadata": {
    "execution": {
     "iopub.execute_input": "2023-03-09T19:32:10.100155Z",
     "iopub.status.busy": "2023-03-09T19:32:10.099685Z",
     "iopub.status.idle": "2023-03-09T19:32:10.126238Z",
     "shell.execute_reply": "2023-03-09T19:32:10.124846Z",
     "shell.execute_reply.started": "2023-03-09T19:32:10.100112Z"
    },
    "tags": []
   },
   "outputs": [
    {
     "data": {
      "text/html": [
       "<div>\n",
       "<style scoped>\n",
       "    .dataframe tbody tr th:only-of-type {\n",
       "        vertical-align: middle;\n",
       "    }\n",
       "\n",
       "    .dataframe tbody tr th {\n",
       "        vertical-align: top;\n",
       "    }\n",
       "\n",
       "    .dataframe thead th {\n",
       "        text-align: right;\n",
       "    }\n",
       "</style>\n",
       "<table border=\"1\" class=\"dataframe\">\n",
       "  <thead>\n",
       "    <tr style=\"text-align: right;\">\n",
       "      <th></th>\n",
       "      <th>BHIWADI</th>\n",
       "      <th>JODHPUR</th>\n",
       "      <th>SINGRAULI</th>\n",
       "      <th>ANKLESHWAR</th>\n",
       "      <th>LUDHIANA</th>\n",
       "      <th>DURGAPUR</th>\n",
       "      <th>YAMUNA_NAGAR</th>\n",
       "      <th>CHARKHI_DADRI</th>\n",
       "      <th>JIND</th>\n",
       "      <th>KURUKSHETRA</th>\n",
       "      <th>SONIPAT</th>\n",
       "      <th>DHARUHERA</th>\n",
       "      <th>AMBALA</th>\n",
       "      <th>HISAR</th>\n",
       "      <th>FATEHABAD</th>\n",
       "      <th>BULANDSHAHR</th>\n",
       "      <th>MUZAFFARNAGAR</th>\n",
       "    </tr>\n",
       "  </thead>\n",
       "  <tbody>\n",
       "    <tr>\n",
       "      <th>0</th>\n",
       "      <td>2017-12-20 15:00:00</td>\n",
       "      <td>2015-12-01 00:00:00</td>\n",
       "      <td>2017-12-08 11:00:00</td>\n",
       "      <td>2019-02-04 18:00:00</td>\n",
       "      <td>2017-05-01 00:00:00</td>\n",
       "      <td>2020-12-06 15:00:00</td>\n",
       "      <td>2019-01-03 14:00:00</td>\n",
       "      <td>2020-03-03 15:00:00</td>\n",
       "      <td>2019-01-10 09:00:00</td>\n",
       "      <td>2019-01-07 18:00:00</td>\n",
       "      <td>2019-01-01 00:00:00</td>\n",
       "      <td>2019-01-04 12:00:00</td>\n",
       "      <td>2019-01-08 12:00:00</td>\n",
       "      <td>2019-01-10 10:00:00</td>\n",
       "      <td>2019-01-09 10:00:00</td>\n",
       "      <td>2018-05-16 13:00:00</td>\n",
       "      <td>2018-07-01 00:00:00</td>\n",
       "    </tr>\n",
       "  </tbody>\n",
       "</table>\n",
       "</div>"
      ],
      "text/plain": [
       "               BHIWADI              JODHPUR            SINGRAULI  \\\n",
       "0  2017-12-20 15:00:00  2015-12-01 00:00:00  2017-12-08 11:00:00   \n",
       "\n",
       "            ANKLESHWAR             LUDHIANA             DURGAPUR  \\\n",
       "0  2019-02-04 18:00:00  2017-05-01 00:00:00  2020-12-06 15:00:00   \n",
       "\n",
       "          YAMUNA_NAGAR        CHARKHI_DADRI                 JIND  \\\n",
       "0  2019-01-03 14:00:00  2020-03-03 15:00:00  2019-01-10 09:00:00   \n",
       "\n",
       "           KURUKSHETRA              SONIPAT            DHARUHERA  \\\n",
       "0  2019-01-07 18:00:00  2019-01-01 00:00:00  2019-01-04 12:00:00   \n",
       "\n",
       "                AMBALA                HISAR            FATEHABAD  \\\n",
       "0  2019-01-08 12:00:00  2019-01-10 10:00:00  2019-01-09 10:00:00   \n",
       "\n",
       "           BULANDSHAHR        MUZAFFARNAGAR  \n",
       "0  2018-05-16 13:00:00  2018-07-01 00:00:00  "
      ]
     },
     "execution_count": 12,
     "metadata": {},
     "output_type": "execute_result"
    }
   ],
   "source": [
    "df1"
   ]
  },
  {
   "cell_type": "code",
   "execution_count": 24,
   "id": "3d929736-703e-49c1-8f69-7f0e4cb4999c",
   "metadata": {
    "execution": {
     "iopub.execute_input": "2023-03-09T19:35:27.763933Z",
     "iopub.status.busy": "2023-03-09T19:35:27.763317Z",
     "iopub.status.idle": "2023-03-09T19:35:27.800965Z",
     "shell.execute_reply": "2023-03-09T19:35:27.800170Z",
     "shell.execute_reply.started": "2023-03-09T19:35:27.763878Z"
    },
    "tags": []
   },
   "outputs": [],
   "source": [
    "df2=pd.DataFrame()\n",
    "i=0\n",
    "for i in range(0,17):\n",
    "    df=li[i]\n",
    "    v=all_f[i].split(r\"/\")\n",
    "    D_n=v[2]\n",
    "    i=i+1\n",
    "    df2[D_n]=df.tail(1).iloc[:,0:1]\n",
    "    #df1[D_n]=df.head(1).iloc[:,0:1].values[0,0]\n",
    "    df2.to_csv(\"k1.csv\")"
   ]
  },
  {
   "cell_type": "code",
   "execution_count": 25,
   "id": "bb9b941a-eb3b-42bb-8b7e-d1cb54c1771a",
   "metadata": {
    "execution": {
     "iopub.execute_input": "2023-03-09T19:35:29.439874Z",
     "iopub.status.busy": "2023-03-09T19:35:29.439351Z",
     "iopub.status.idle": "2023-03-09T19:35:29.469792Z",
     "shell.execute_reply": "2023-03-09T19:35:29.468664Z",
     "shell.execute_reply.started": "2023-03-09T19:35:29.439824Z"
    },
    "tags": []
   },
   "outputs": [
    {
     "data": {
      "text/html": [
       "<div>\n",
       "<style scoped>\n",
       "    .dataframe tbody tr th:only-of-type {\n",
       "        vertical-align: middle;\n",
       "    }\n",
       "\n",
       "    .dataframe tbody tr th {\n",
       "        vertical-align: top;\n",
       "    }\n",
       "\n",
       "    .dataframe thead th {\n",
       "        text-align: right;\n",
       "    }\n",
       "</style>\n",
       "<table border=\"1\" class=\"dataframe\">\n",
       "  <thead>\n",
       "    <tr style=\"text-align: right;\">\n",
       "      <th></th>\n",
       "      <th>BHIWADI</th>\n",
       "      <th>JODHPUR</th>\n",
       "      <th>SINGRAULI</th>\n",
       "      <th>ANKLESHWAR</th>\n",
       "      <th>LUDHIANA</th>\n",
       "      <th>DURGAPUR</th>\n",
       "      <th>YAMUNA_NAGAR</th>\n",
       "      <th>CHARKHI_DADRI</th>\n",
       "      <th>JIND</th>\n",
       "      <th>KURUKSHETRA</th>\n",
       "      <th>SONIPAT</th>\n",
       "      <th>DHARUHERA</th>\n",
       "      <th>AMBALA</th>\n",
       "      <th>HISAR</th>\n",
       "      <th>FATEHABAD</th>\n",
       "      <th>BULANDSHAHR</th>\n",
       "      <th>MUZAFFARNAGAR</th>\n",
       "    </tr>\n",
       "  </thead>\n",
       "  <tbody>\n",
       "    <tr>\n",
       "      <th>43393</th>\n",
       "      <td>2022-12-02 16:00:00</td>\n",
       "      <td>NaN</td>\n",
       "      <td>NaN</td>\n",
       "      <td>NaN</td>\n",
       "      <td>NaN</td>\n",
       "      <td>NaN</td>\n",
       "      <td>NaN</td>\n",
       "      <td>NaN</td>\n",
       "      <td>NaN</td>\n",
       "      <td>NaN</td>\n",
       "      <td>NaN</td>\n",
       "      <td>NaN</td>\n",
       "      <td>NaN</td>\n",
       "      <td>NaN</td>\n",
       "      <td>NaN</td>\n",
       "      <td>NaN</td>\n",
       "      <td>NaN</td>\n",
       "    </tr>\n",
       "  </tbody>\n",
       "</table>\n",
       "</div>"
      ],
      "text/plain": [
       "                   BHIWADI JODHPUR SINGRAULI ANKLESHWAR LUDHIANA DURGAPUR  \\\n",
       "43393  2022-12-02 16:00:00     NaN       NaN        NaN      NaN      NaN   \n",
       "\n",
       "      YAMUNA_NAGAR CHARKHI_DADRI JIND KURUKSHETRA SONIPAT DHARUHERA AMBALA  \\\n",
       "43393          NaN           NaN  NaN         NaN     NaN       NaN    NaN   \n",
       "\n",
       "      HISAR FATEHABAD BULANDSHAHR MUZAFFARNAGAR  \n",
       "43393   NaN       NaN         NaN           NaN  "
      ]
     },
     "execution_count": 25,
     "metadata": {},
     "output_type": "execute_result"
    }
   ],
   "source": [
    "df2"
   ]
  },
  {
   "cell_type": "code",
   "execution_count": 19,
   "id": "d69c9cf8-51ce-4d6b-aadb-74603a5bd436",
   "metadata": {
    "execution": {
     "iopub.execute_input": "2023-03-09T19:34:12.812926Z",
     "iopub.status.busy": "2023-03-09T19:34:12.812137Z",
     "iopub.status.idle": "2023-03-09T19:34:12.834820Z",
     "shell.execute_reply": "2023-03-09T19:34:12.833906Z",
     "shell.execute_reply.started": "2023-03-09T19:34:12.812851Z"
    },
    "tags": []
   },
   "outputs": [
    {
     "data": {
      "text/html": [
       "<div>\n",
       "<style scoped>\n",
       "    .dataframe tbody tr th:only-of-type {\n",
       "        vertical-align: middle;\n",
       "    }\n",
       "\n",
       "    .dataframe tbody tr th {\n",
       "        vertical-align: top;\n",
       "    }\n",
       "\n",
       "    .dataframe thead th {\n",
       "        text-align: right;\n",
       "    }\n",
       "</style>\n",
       "<table border=\"1\" class=\"dataframe\">\n",
       "  <thead>\n",
       "    <tr style=\"text-align: right;\">\n",
       "      <th></th>\n",
       "      <th>DATE</th>\n",
       "      <th>PM2.5</th>\n",
       "    </tr>\n",
       "  </thead>\n",
       "  <tbody>\n",
       "    <tr>\n",
       "      <th>0</th>\n",
       "      <td>2018-07-01 00:00:00</td>\n",
       "      <td>164.75</td>\n",
       "    </tr>\n",
       "    <tr>\n",
       "      <th>1</th>\n",
       "      <td>2018-07-01 01:00:00</td>\n",
       "      <td>215.75</td>\n",
       "    </tr>\n",
       "    <tr>\n",
       "      <th>2</th>\n",
       "      <td>2018-07-01 02:00:00</td>\n",
       "      <td>280.25</td>\n",
       "    </tr>\n",
       "    <tr>\n",
       "      <th>3</th>\n",
       "      <td>2018-07-01 03:00:00</td>\n",
       "      <td>267.50</td>\n",
       "    </tr>\n",
       "    <tr>\n",
       "      <th>4</th>\n",
       "      <td>2018-07-01 04:00:00</td>\n",
       "      <td>313.75</td>\n",
       "    </tr>\n",
       "    <tr>\n",
       "      <th>...</th>\n",
       "      <td>...</td>\n",
       "      <td>...</td>\n",
       "    </tr>\n",
       "    <tr>\n",
       "      <th>38781</th>\n",
       "      <td>2022-12-02 21:00:00</td>\n",
       "      <td>151.75</td>\n",
       "    </tr>\n",
       "    <tr>\n",
       "      <th>38782</th>\n",
       "      <td>2022-12-02 22:00:00</td>\n",
       "      <td>152.25</td>\n",
       "    </tr>\n",
       "    <tr>\n",
       "      <th>38783</th>\n",
       "      <td>2022-12-02 23:00:00</td>\n",
       "      <td>138.75</td>\n",
       "    </tr>\n",
       "    <tr>\n",
       "      <th>38784</th>\n",
       "      <td>2022-12-03 00:00:00</td>\n",
       "      <td>112.50</td>\n",
       "    </tr>\n",
       "    <tr>\n",
       "      <th>38785</th>\n",
       "      <td>2022-12-03 01:00:00</td>\n",
       "      <td>105.25</td>\n",
       "    </tr>\n",
       "  </tbody>\n",
       "</table>\n",
       "<p>38786 rows × 2 columns</p>\n",
       "</div>"
      ],
      "text/plain": [
       "                      DATE   PM2.5\n",
       "0      2018-07-01 00:00:00  164.75\n",
       "1      2018-07-01 01:00:00  215.75\n",
       "2      2018-07-01 02:00:00  280.25\n",
       "3      2018-07-01 03:00:00  267.50\n",
       "4      2018-07-01 04:00:00  313.75\n",
       "...                    ...     ...\n",
       "38781  2022-12-02 21:00:00  151.75\n",
       "38782  2022-12-02 22:00:00  152.25\n",
       "38783  2022-12-02 23:00:00  138.75\n",
       "38784  2022-12-03 00:00:00  112.50\n",
       "38785  2022-12-03 01:00:00  105.25\n",
       "\n",
       "[38786 rows x 2 columns]"
      ]
     },
     "execution_count": 19,
     "metadata": {},
     "output_type": "execute_result"
    }
   ],
   "source": [
    "df"
   ]
  },
  {
   "cell_type": "code",
   "execution_count": 8,
   "id": "5f0b6191-fa40-49e2-a10d-1e431b4f9b45",
   "metadata": {
    "execution": {
     "iopub.execute_input": "2023-03-09T19:31:52.243865Z",
     "iopub.status.busy": "2023-03-09T19:31:52.243514Z",
     "iopub.status.idle": "2023-03-09T19:31:52.276932Z",
     "shell.execute_reply": "2023-03-09T19:31:52.275981Z",
     "shell.execute_reply.started": "2023-03-09T19:31:52.243833Z"
    },
    "tags": []
   },
   "outputs": [],
   "source": [
    "df3=pd.DataFrame()"
   ]
  },
  {
   "cell_type": "code",
   "execution_count": 9,
   "id": "75e6dfdc-49ec-4215-86e9-4f1be808579a",
   "metadata": {
    "execution": {
     "iopub.execute_input": "2023-03-09T19:31:52.278654Z",
     "iopub.status.busy": "2023-03-09T19:31:52.278028Z",
     "iopub.status.idle": "2023-03-09T19:31:52.302090Z",
     "shell.execute_reply": "2023-03-09T19:31:52.301127Z",
     "shell.execute_reply.started": "2023-03-09T19:31:52.278628Z"
    },
    "tags": []
   },
   "outputs": [
    {
     "data": {
      "text/html": [
       "<div>\n",
       "<style scoped>\n",
       "    .dataframe tbody tr th:only-of-type {\n",
       "        vertical-align: middle;\n",
       "    }\n",
       "\n",
       "    .dataframe tbody tr th {\n",
       "        vertical-align: top;\n",
       "    }\n",
       "\n",
       "    .dataframe thead th {\n",
       "        text-align: right;\n",
       "    }\n",
       "</style>\n",
       "<table border=\"1\" class=\"dataframe\">\n",
       "  <thead>\n",
       "    <tr style=\"text-align: right;\">\n",
       "      <th></th>\n",
       "      <th>vip</th>\n",
       "    </tr>\n",
       "  </thead>\n",
       "  <tbody>\n",
       "  </tbody>\n",
       "</table>\n",
       "</div>"
      ],
      "text/plain": [
       "Empty DataFrame\n",
       "Columns: [vip]\n",
       "Index: []"
      ]
     },
     "execution_count": 9,
     "metadata": {},
     "output_type": "execute_result"
    }
   ],
   "source": [
    "df3['vip']=df.head(1).iloc[:,1:2].values[0,0]\n",
    "df3"
   ]
  },
  {
   "cell_type": "code",
   "execution_count": 10,
   "id": "0c563957-f169-4b71-8649-ddc0d44e3776",
   "metadata": {
    "execution": {
     "iopub.execute_input": "2023-03-09T19:31:52.304508Z",
     "iopub.status.busy": "2023-03-09T19:31:52.303227Z",
     "iopub.status.idle": "2023-03-09T19:31:52.328145Z",
     "shell.execute_reply": "2023-03-09T19:31:52.327238Z",
     "shell.execute_reply.started": "2023-03-09T19:31:52.304458Z"
    },
    "tags": []
   },
   "outputs": [
    {
     "data": {
      "text/plain": [
       "'2018-07-01'"
      ]
     },
     "execution_count": 10,
     "metadata": {},
     "output_type": "execute_result"
    }
   ],
   "source": [
    "df.head(1).iloc[:,0:1].values[0,0].split(r\" \")[0]"
   ]
  },
  {
   "cell_type": "code",
   "execution_count": null,
   "id": "6bd906fe-0f52-4610-b922-9be197867a01",
   "metadata": {},
   "outputs": [],
   "source": []
  }
 ],
 "metadata": {
  "kernelspec": {
   "display_name": "Python 3 (ipykernel)",
   "language": "python",
   "name": "python3"
  },
  "language_info": {
   "codemirror_mode": {
    "name": "ipython",
    "version": 3
   },
   "file_extension": ".py",
   "mimetype": "text/x-python",
   "name": "python",
   "nbconvert_exporter": "python",
   "pygments_lexer": "ipython3",
   "version": "3.11.2"
  },
  "widgets": {
   "application/vnd.jupyter.widget-state+json": {
    "state": {},
    "version_major": 2,
    "version_minor": 0
   }
  }
 },
 "nbformat": 4,
 "nbformat_minor": 5
}
