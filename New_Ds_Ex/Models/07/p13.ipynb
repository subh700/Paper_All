{
 "cells": [
  {
   "cell_type": "code",
   "execution_count": 1,
   "id": "251a1d46-c2d0-44eb-814a-a99f9f00d3ff",
   "metadata": {
    "execution": {
     "iopub.execute_input": "2023-04-04T13:28:45.810896Z",
     "iopub.status.busy": "2023-04-04T13:28:45.810507Z",
     "iopub.status.idle": "2023-04-04T13:28:50.817884Z",
     "shell.execute_reply": "2023-04-04T13:28:50.817033Z",
     "shell.execute_reply.started": "2023-04-04T13:28:45.810854Z"
    },
    "tags": []
   },
   "outputs": [
    {
     "name": "stderr",
     "output_type": "stream",
     "text": [
      "2023-04-04 18:58:46.981259: I tensorflow/tsl/cuda/cudart_stub.cc:28] Could not find cuda drivers on your machine, GPU will not be used.\n",
      "2023-04-04 18:58:47.255980: I tensorflow/tsl/cuda/cudart_stub.cc:28] Could not find cuda drivers on your machine, GPU will not be used.\n",
      "2023-04-04 18:58:47.257730: I tensorflow/core/platform/cpu_feature_guard.cc:182] This TensorFlow binary is optimized to use available CPU instructions in performance-critical operations.\n",
      "To enable the following instructions: AVX2 FMA, in other operations, rebuild TensorFlow with the appropriate compiler flags.\n",
      "2023-04-04 18:58:48.687332: W tensorflow/compiler/tf2tensorrt/utils/py_utils.cc:38] TF-TRT Warning: Could not find TensorRT\n"
     ]
    }
   ],
   "source": [
    "import numpy as np\n",
    "import pandas as pd\n",
    "import tensorflow as tf\n",
    "from keras.models import Sequential\n",
    "from keras.layers import Input, Conv1D, MaxPooling1D, LSTM, GRU, Bidirectional, Dense, Dropout,Flatten\n",
    "from sklearn.preprocessing import MinMaxScaler\n",
    "from keras.regularizers import l1\n",
    "from keras.callbacks import EarlyStopping, TensorBoard, ReduceLROnPlateau, ModelCheckpoint\n",
    "from keras.models import Model"
   ]
  },
  {
   "cell_type": "code",
   "execution_count": 2,
   "id": "c3c03289-f363-41f4-ba11-c24403134223",
   "metadata": {
    "execution": {
     "iopub.execute_input": "2023-04-04T13:28:50.820976Z",
     "iopub.status.busy": "2023-04-04T13:28:50.820356Z",
     "iopub.status.idle": "2023-04-04T13:28:51.303370Z",
     "shell.execute_reply": "2023-04-04T13:28:51.302182Z",
     "shell.execute_reply.started": "2023-04-04T13:28:50.820947Z"
    },
    "tags": []
   },
   "outputs": [],
   "source": [
    "import glob\n",
    "all_f= glob.glob('../../'+'DataSets/'+'*/'+'*/'+'*_INDEX_*.csv')\n",
    "li=[]\n",
    "for file_name in all_f:\n",
    "    df=pd.read_csv(file_name)\n",
    "    li.append(df)\n",
    "s_n=1\n",
    "df=li[s_n]\n",
    "df,all_f[s_n]\n",
    "df=df.iloc[:,:]\n",
    "df['DATE']=pd.to_datetime(df['DATE'])\n",
    "df=df.rename(columns={'PM2.5':'PM'})\n",
    "df['PM']=df['PM'].astype('float32')\n",
    "df=df.reset_index()\n",
    "df=df.drop(['index'], axis = 1) \n",
    "#df.drop(['level_0'], axis = 1, inplace = True) \n",
    "\n",
    "data=df.set_index('DATE')\n",
    "data\n",
    "data = data['PM'].values.reshape(-1,1)\n"
   ]
  },
  {
   "cell_type": "code",
   "execution_count": 3,
   "id": "936b1992-fc23-454f-b43e-166ad7a5e029",
   "metadata": {
    "execution": {
     "iopub.execute_input": "2023-04-04T13:28:51.305078Z",
     "iopub.status.busy": "2023-04-04T13:28:51.304596Z",
     "iopub.status.idle": "2023-04-04T13:28:51.310132Z",
     "shell.execute_reply": "2023-04-04T13:28:51.309230Z",
     "shell.execute_reply.started": "2023-04-04T13:28:51.305046Z"
    },
    "tags": []
   },
   "outputs": [],
   "source": [
    "# Scale data\n",
    "scaler = MinMaxScaler()\n",
    "data = scaler.fit_transform(data)"
   ]
  },
  {
   "cell_type": "code",
   "execution_count": 4,
   "id": "3673dc64-aeb5-486d-aa20-bd6b557ad1f2",
   "metadata": {
    "execution": {
     "iopub.execute_input": "2023-04-04T13:28:51.311451Z",
     "iopub.status.busy": "2023-04-04T13:28:51.311156Z",
     "iopub.status.idle": "2023-04-04T13:28:51.328280Z",
     "shell.execute_reply": "2023-04-04T13:28:51.327425Z",
     "shell.execute_reply.started": "2023-04-04T13:28:51.311420Z"
    },
    "tags": []
   },
   "outputs": [],
   "source": [
    "# Split data into training and testing sets\n",
    "train_size = int(len(data) * 0.8)\n",
    "test_size = len(data) - train_size\n",
    "train_data, test_data = data[0:train_size,:], data[train_size:len(data),:]"
   ]
  },
  {
   "cell_type": "code",
   "execution_count": 5,
   "id": "6b7cf0d3-2ac9-4532-b243-0a6df638bbf7",
   "metadata": {
    "execution": {
     "iopub.execute_input": "2023-04-04T13:28:51.330038Z",
     "iopub.status.busy": "2023-04-04T13:28:51.329450Z",
     "iopub.status.idle": "2023-04-04T13:28:51.354865Z",
     "shell.execute_reply": "2023-04-04T13:28:51.354206Z",
     "shell.execute_reply.started": "2023-04-04T13:28:51.330005Z"
    },
    "tags": []
   },
   "outputs": [],
   "source": [
    "# Convert data into time series dataset\n",
    "def create_dataset(dataset, look_back=24):\n",
    "    X, Y = [], []\n",
    "    for i in range(len(dataset) - look_back):\n",
    "        X.append(dataset[i:(i+look_back), 0])\n",
    "        Y.append(dataset[i+look_back, 0])\n",
    "    return np.array(X), np.array(Y)\n"
   ]
  },
  {
   "cell_type": "code",
   "execution_count": 6,
   "id": "5dcc0313-b048-4d4d-b2e4-f8bc060d28d7",
   "metadata": {
    "execution": {
     "iopub.execute_input": "2023-04-04T13:28:51.356096Z",
     "iopub.status.busy": "2023-04-04T13:28:51.355877Z",
     "iopub.status.idle": "2023-04-04T13:28:51.470198Z",
     "shell.execute_reply": "2023-04-04T13:28:51.469335Z",
     "shell.execute_reply.started": "2023-04-04T13:28:51.356075Z"
    },
    "tags": []
   },
   "outputs": [],
   "source": [
    "look_back = 24\n",
    "train_X, train_Y = create_dataset(train_data, look_back)\n",
    "test_X, test_Y = create_dataset(test_data, look_back)"
   ]
  },
  {
   "cell_type": "code",
   "execution_count": 7,
   "id": "f041276a-ba18-4493-a2fe-aba5ec229932",
   "metadata": {
    "execution": {
     "iopub.execute_input": "2023-04-04T13:28:51.473213Z",
     "iopub.status.busy": "2023-04-04T13:28:51.472679Z",
     "iopub.status.idle": "2023-04-04T13:28:51.479008Z",
     "shell.execute_reply": "2023-04-04T13:28:51.478142Z",
     "shell.execute_reply.started": "2023-04-04T13:28:51.473178Z"
    },
    "tags": []
   },
   "outputs": [],
   "source": [
    "es = EarlyStopping(monitor='loss', mode='min', verbose=1, patience=10)\n",
    "# Reshape input data for CNN\n",
    "train_X = np.expand_dims(train_X, axis=2)\n",
    "test_X = np.expand_dims(test_X, axis=2)"
   ]
  },
  {
   "cell_type": "code",
   "execution_count": 8,
   "id": "58cdc080-1ff9-4d4b-9861-c32e21c6cdaf",
   "metadata": {
    "execution": {
     "iopub.execute_input": "2023-04-04T13:28:51.480743Z",
     "iopub.status.busy": "2023-04-04T13:28:51.479975Z",
     "iopub.status.idle": "2023-04-04T13:28:51.529744Z",
     "shell.execute_reply": "2023-04-04T13:28:51.528694Z",
     "shell.execute_reply.started": "2023-04-04T13:28:51.480709Z"
    },
    "tags": []
   },
   "outputs": [
    {
     "data": {
      "text/plain": [
       "<KerasTensor: shape=(None, 24, 1) dtype=float32 (created by layer 'input_1')>"
      ]
     },
     "execution_count": 8,
     "metadata": {},
     "output_type": "execute_result"
    }
   ],
   "source": [
    "# Define CNN + BiLSTM + GRU model\n",
    "input_layer = Input(shape=(look_back, 1))\n",
    "input_layer"
   ]
  },
  {
   "cell_type": "code",
   "execution_count": 9,
   "id": "c0effbb2-07df-4f14-a246-35bc67c11710",
   "metadata": {
    "execution": {
     "iopub.execute_input": "2023-04-04T13:28:51.531575Z",
     "iopub.status.busy": "2023-04-04T13:28:51.530840Z",
     "iopub.status.idle": "2023-04-04T13:28:52.876152Z",
     "shell.execute_reply": "2023-04-04T13:28:52.874373Z",
     "shell.execute_reply.started": "2023-04-04T13:28:51.531538Z"
    },
    "tags": []
   },
   "outputs": [
    {
     "name": "stderr",
     "output_type": "stream",
     "text": [
      "2023-04-04 18:58:51.958908: I tensorflow/core/common_runtime/executor.cc:1197] [/device:CPU:0] (DEBUG INFO) Executor start aborting (this does not indicate an error and you can ignore this message): INVALID_ARGUMENT: You must feed a value for placeholder tensor 'gradients/split_2_grad/concat/split_2/split_dim' with dtype int32\n",
      "\t [[{{node gradients/split_2_grad/concat/split_2/split_dim}}]]\n",
      "2023-04-04 18:58:51.961847: I tensorflow/core/common_runtime/executor.cc:1197] [/device:CPU:0] (DEBUG INFO) Executor start aborting (this does not indicate an error and you can ignore this message): INVALID_ARGUMENT: You must feed a value for placeholder tensor 'gradients/split_grad/concat/split/split_dim' with dtype int32\n",
      "\t [[{{node gradients/split_grad/concat/split/split_dim}}]]\n",
      "2023-04-04 18:58:51.963247: I tensorflow/core/common_runtime/executor.cc:1197] [/device:CPU:0] (DEBUG INFO) Executor start aborting (this does not indicate an error and you can ignore this message): INVALID_ARGUMENT: You must feed a value for placeholder tensor 'gradients/split_1_grad/concat/split_1/split_dim' with dtype int32\n",
      "\t [[{{node gradients/split_1_grad/concat/split_1/split_dim}}]]\n",
      "2023-04-04 18:58:52.179693: I tensorflow/core/common_runtime/executor.cc:1197] [/device:CPU:0] (DEBUG INFO) Executor start aborting (this does not indicate an error and you can ignore this message): INVALID_ARGUMENT: You must feed a value for placeholder tensor 'gradients/ReverseV2_grad/ReverseV2/ReverseV2/axis' with dtype int32 and shape [1]\n",
      "\t [[{{node gradients/ReverseV2_grad/ReverseV2/ReverseV2/axis}}]]\n",
      "2023-04-04 18:58:52.250954: I tensorflow/core/common_runtime/executor.cc:1197] [/device:CPU:0] (DEBUG INFO) Executor start aborting (this does not indicate an error and you can ignore this message): INVALID_ARGUMENT: You must feed a value for placeholder tensor 'gradients/split_2_grad/concat/split_2/split_dim' with dtype int32\n",
      "\t [[{{node gradients/split_2_grad/concat/split_2/split_dim}}]]\n",
      "2023-04-04 18:58:52.253172: I tensorflow/core/common_runtime/executor.cc:1197] [/device:CPU:0] (DEBUG INFO) Executor start aborting (this does not indicate an error and you can ignore this message): INVALID_ARGUMENT: You must feed a value for placeholder tensor 'gradients/split_grad/concat/split/split_dim' with dtype int32\n",
      "\t [[{{node gradients/split_grad/concat/split/split_dim}}]]\n",
      "2023-04-04 18:58:52.254786: I tensorflow/core/common_runtime/executor.cc:1197] [/device:CPU:0] (DEBUG INFO) Executor start aborting (this does not indicate an error and you can ignore this message): INVALID_ARGUMENT: You must feed a value for placeholder tensor 'gradients/split_1_grad/concat/split_1/split_dim' with dtype int32\n",
      "\t [[{{node gradients/split_1_grad/concat/split_1/split_dim}}]]\n",
      "2023-04-04 18:58:52.528577: I tensorflow/core/common_runtime/executor.cc:1197] [/device:CPU:0] (DEBUG INFO) Executor start aborting (this does not indicate an error and you can ignore this message): INVALID_ARGUMENT: You must feed a value for placeholder tensor 'gradients/split_2_grad/concat/split_2/split_dim' with dtype int32\n",
      "\t [[{{node gradients/split_2_grad/concat/split_2/split_dim}}]]\n",
      "2023-04-04 18:58:52.530587: I tensorflow/core/common_runtime/executor.cc:1197] [/device:CPU:0] (DEBUG INFO) Executor start aborting (this does not indicate an error and you can ignore this message): INVALID_ARGUMENT: You must feed a value for placeholder tensor 'gradients/split_grad/concat/split/split_dim' with dtype int32\n",
      "\t [[{{node gradients/split_grad/concat/split/split_dim}}]]\n",
      "2023-04-04 18:58:52.532012: I tensorflow/core/common_runtime/executor.cc:1197] [/device:CPU:0] (DEBUG INFO) Executor start aborting (this does not indicate an error and you can ignore this message): INVALID_ARGUMENT: You must feed a value for placeholder tensor 'gradients/split_1_grad/concat/split_1/split_dim' with dtype int32\n",
      "\t [[{{node gradients/split_1_grad/concat/split_1/split_dim}}]]\n"
     ]
    },
    {
     "name": "stdout",
     "output_type": "stream",
     "text": [
      "Model: \"model\"\n",
      "_________________________________________________________________\n",
      " Layer (type)                Output Shape              Param #   \n",
      "=================================================================\n",
      " input_1 (InputLayer)        [(None, 24, 1)]           0         \n",
      "                                                                 \n",
      " conv1d (Conv1D)             (None, 24, 32)            128       \n",
      "                                                                 \n",
      " max_pooling1d (MaxPooling1D  (None, 12, 32)           0         \n",
      " )                                                               \n",
      "                                                                 \n",
      " bidirectional (Bidirectiona  (None, 12, 128)          49664     \n",
      " l)                                                              \n",
      "                                                                 \n",
      " gru (GRU)                   (None, 12, 32)            15552     \n",
      "                                                                 \n",
      " gru_1 (GRU)                 (None, 32)                6336      \n",
      "                                                                 \n",
      " dropout (Dropout)           (None, 32)                0         \n",
      "                                                                 \n",
      " flatten (Flatten)           (None, 32)                0         \n",
      "                                                                 \n",
      " dense (Dense)               (None, 1)                 33        \n",
      "                                                                 \n",
      "=================================================================\n",
      "Total params: 71,713\n",
      "Trainable params: 71,713\n",
      "Non-trainable params: 0\n",
      "_________________________________________________________________\n"
     ]
    },
    {
     "name": "stderr",
     "output_type": "stream",
     "text": [
      "2023-04-04 18:58:52.783750: I tensorflow/core/common_runtime/executor.cc:1197] [/device:CPU:0] (DEBUG INFO) Executor start aborting (this does not indicate an error and you can ignore this message): INVALID_ARGUMENT: You must feed a value for placeholder tensor 'gradients/split_2_grad/concat/split_2/split_dim' with dtype int32\n",
      "\t [[{{node gradients/split_2_grad/concat/split_2/split_dim}}]]\n",
      "2023-04-04 18:58:52.785983: I tensorflow/core/common_runtime/executor.cc:1197] [/device:CPU:0] (DEBUG INFO) Executor start aborting (this does not indicate an error and you can ignore this message): INVALID_ARGUMENT: You must feed a value for placeholder tensor 'gradients/split_grad/concat/split/split_dim' with dtype int32\n",
      "\t [[{{node gradients/split_grad/concat/split/split_dim}}]]\n",
      "2023-04-04 18:58:52.787561: I tensorflow/core/common_runtime/executor.cc:1197] [/device:CPU:0] (DEBUG INFO) Executor start aborting (this does not indicate an error and you can ignore this message): INVALID_ARGUMENT: You must feed a value for placeholder tensor 'gradients/split_1_grad/concat/split_1/split_dim' with dtype int32\n",
      "\t [[{{node gradients/split_1_grad/concat/split_1/split_dim}}]]\n"
     ]
    }
   ],
   "source": [
    "conv1 = Conv1D(filters=32, kernel_size=3, activation='relu', padding='same',bias_regularizer=l1(0.4))(input_layer)\n",
    "max_pool1 = MaxPooling1D(pool_size=2)(conv1)\n",
    "lstm1 = Bidirectional(LSTM(units=64, return_sequences=True,bias_regularizer=l1(0.4)))(max_pool1)\n",
    "gru1 = GRU(units=32, activation='tanh',bias_regularizer=l1(0.4), return_sequences=True)(lstm1)\n",
    "gru2 = GRU(units=32, activation='tanh')(gru1)\n",
    "dropout = Dropout(0.2)(gru2)\n",
    "flatten1 = Flatten()(dropout)\n",
    "dense1 = Dense(units=1)(flatten1)\n",
    "model = Model(inputs=input_layer, outputs=dense1)\n",
    "model.compile(loss='mean_squared_error', optimizer='adam')\n",
    "model.summary()"
   ]
  },
  {
   "cell_type": "code",
   "execution_count": 10,
   "id": "d94e9340-1d34-41a9-8991-46048363a893",
   "metadata": {
    "execution": {
     "iopub.execute_input": "2023-04-04T13:28:52.877603Z",
     "iopub.status.busy": "2023-04-04T13:28:52.877244Z",
     "iopub.status.idle": "2023-04-04T13:29:28.859626Z",
     "shell.execute_reply": "2023-04-04T13:29:28.858444Z",
     "shell.execute_reply.started": "2023-04-04T13:28:52.877574Z"
    },
    "tags": []
   },
   "outputs": [
    {
     "name": "stdout",
     "output_type": "stream",
     "text": [
      "Epoch 1/200\n"
     ]
    },
    {
     "name": "stderr",
     "output_type": "stream",
     "text": [
      "2023-04-04 18:58:53.424846: I tensorflow/core/common_runtime/executor.cc:1197] [/device:CPU:0] (DEBUG INFO) Executor start aborting (this does not indicate an error and you can ignore this message): INVALID_ARGUMENT: You must feed a value for placeholder tensor 'gradients/split_2_grad/concat/split_2/split_dim' with dtype int32\n",
      "\t [[{{node gradients/split_2_grad/concat/split_2/split_dim}}]]\n",
      "2023-04-04 18:58:53.428121: I tensorflow/core/common_runtime/executor.cc:1197] [/device:CPU:0] (DEBUG INFO) Executor start aborting (this does not indicate an error and you can ignore this message): INVALID_ARGUMENT: You must feed a value for placeholder tensor 'gradients/split_grad/concat/split/split_dim' with dtype int32\n",
      "\t [[{{node gradients/split_grad/concat/split/split_dim}}]]\n",
      "2023-04-04 18:58:53.430517: I tensorflow/core/common_runtime/executor.cc:1197] [/device:CPU:0] (DEBUG INFO) Executor start aborting (this does not indicate an error and you can ignore this message): INVALID_ARGUMENT: You must feed a value for placeholder tensor 'gradients/split_1_grad/concat/split_1/split_dim' with dtype int32\n",
      "\t [[{{node gradients/split_1_grad/concat/split_1/split_dim}}]]\n",
      "2023-04-04 18:58:53.740648: I tensorflow/core/common_runtime/executor.cc:1197] [/device:CPU:0] (DEBUG INFO) Executor start aborting (this does not indicate an error and you can ignore this message): INVALID_ARGUMENT: You must feed a value for placeholder tensor 'gradients/ReverseV2_grad/ReverseV2/ReverseV2/axis' with dtype int32 and shape [1]\n",
      "\t [[{{node gradients/ReverseV2_grad/ReverseV2/ReverseV2/axis}}]]\n",
      "2023-04-04 18:58:53.853705: I tensorflow/core/common_runtime/executor.cc:1197] [/device:CPU:0] (DEBUG INFO) Executor start aborting (this does not indicate an error and you can ignore this message): INVALID_ARGUMENT: You must feed a value for placeholder tensor 'gradients/split_2_grad/concat/split_2/split_dim' with dtype int32\n",
      "\t [[{{node gradients/split_2_grad/concat/split_2/split_dim}}]]\n",
      "2023-04-04 18:58:53.856194: I tensorflow/core/common_runtime/executor.cc:1197] [/device:CPU:0] (DEBUG INFO) Executor start aborting (this does not indicate an error and you can ignore this message): INVALID_ARGUMENT: You must feed a value for placeholder tensor 'gradients/split_grad/concat/split/split_dim' with dtype int32\n",
      "\t [[{{node gradients/split_grad/concat/split/split_dim}}]]\n",
      "2023-04-04 18:58:53.859468: I tensorflow/core/common_runtime/executor.cc:1197] [/device:CPU:0] (DEBUG INFO) Executor start aborting (this does not indicate an error and you can ignore this message): INVALID_ARGUMENT: You must feed a value for placeholder tensor 'gradients/split_1_grad/concat/split_1/split_dim' with dtype int32\n",
      "\t [[{{node gradients/split_1_grad/concat/split_1/split_dim}}]]\n",
      "2023-04-04 18:58:54.392964: I tensorflow/core/common_runtime/executor.cc:1197] [/device:CPU:0] (DEBUG INFO) Executor start aborting (this does not indicate an error and you can ignore this message): INVALID_ARGUMENT: You must feed a value for placeholder tensor 'gradients/split_2_grad/concat/split_2/split_dim' with dtype int32\n",
      "\t [[{{node gradients/split_2_grad/concat/split_2/split_dim}}]]\n",
      "2023-04-04 18:58:54.395861: I tensorflow/core/common_runtime/executor.cc:1197] [/device:CPU:0] (DEBUG INFO) Executor start aborting (this does not indicate an error and you can ignore this message): INVALID_ARGUMENT: You must feed a value for placeholder tensor 'gradients/split_grad/concat/split/split_dim' with dtype int32\n",
      "\t [[{{node gradients/split_grad/concat/split/split_dim}}]]\n",
      "2023-04-04 18:58:54.397673: I tensorflow/core/common_runtime/executor.cc:1197] [/device:CPU:0] (DEBUG INFO) Executor start aborting (this does not indicate an error and you can ignore this message): INVALID_ARGUMENT: You must feed a value for placeholder tensor 'gradients/split_1_grad/concat/split_1/split_dim' with dtype int32\n",
      "\t [[{{node gradients/split_1_grad/concat/split_1/split_dim}}]]\n",
      "2023-04-04 18:58:54.725757: I tensorflow/core/common_runtime/executor.cc:1197] [/device:CPU:0] (DEBUG INFO) Executor start aborting (this does not indicate an error and you can ignore this message): INVALID_ARGUMENT: You must feed a value for placeholder tensor 'gradients/split_2_grad/concat/split_2/split_dim' with dtype int32\n",
      "\t [[{{node gradients/split_2_grad/concat/split_2/split_dim}}]]\n",
      "2023-04-04 18:58:54.728491: I tensorflow/core/common_runtime/executor.cc:1197] [/device:CPU:0] (DEBUG INFO) Executor start aborting (this does not indicate an error and you can ignore this message): INVALID_ARGUMENT: You must feed a value for placeholder tensor 'gradients/split_grad/concat/split/split_dim' with dtype int32\n",
      "\t [[{{node gradients/split_grad/concat/split/split_dim}}]]\n",
      "2023-04-04 18:58:54.731219: I tensorflow/core/common_runtime/executor.cc:1197] [/device:CPU:0] (DEBUG INFO) Executor start aborting (this does not indicate an error and you can ignore this message): INVALID_ARGUMENT: You must feed a value for placeholder tensor 'gradients/split_1_grad/concat/split_1/split_dim' with dtype int32\n",
      "\t [[{{node gradients/split_1_grad/concat/split_1/split_dim}}]]\n",
      "2023-04-04 18:58:56.669095: I tensorflow/core/common_runtime/executor.cc:1197] [/device:CPU:0] (DEBUG INFO) Executor start aborting (this does not indicate an error and you can ignore this message): INVALID_ARGUMENT: You must feed a value for placeholder tensor 'gradients/ReverseV2_grad/ReverseV2/ReverseV2/axis' with dtype int32 and shape [1]\n",
      "\t [[{{node gradients/ReverseV2_grad/ReverseV2/ReverseV2/axis}}]]\n",
      "2023-04-04 18:58:57.611165: I tensorflow/core/common_runtime/executor.cc:1197] [/device:CPU:0] (DEBUG INFO) Executor start aborting (this does not indicate an error and you can ignore this message): INVALID_ARGUMENT: You must feed a value for placeholder tensor 'gradients/split_2_grad/concat/split_2/split_dim' with dtype int32\n",
      "\t [[{{node gradients/split_2_grad/concat/split_2/split_dim}}]]\n",
      "2023-04-04 18:58:57.614396: I tensorflow/core/common_runtime/executor.cc:1197] [/device:CPU:0] (DEBUG INFO) Executor start aborting (this does not indicate an error and you can ignore this message): INVALID_ARGUMENT: You must feed a value for placeholder tensor 'gradients/split_grad/concat/split/split_dim' with dtype int32\n",
      "\t [[{{node gradients/split_grad/concat/split/split_dim}}]]\n",
      "2023-04-04 18:58:57.616565: I tensorflow/core/common_runtime/executor.cc:1197] [/device:CPU:0] (DEBUG INFO) Executor start aborting (this does not indicate an error and you can ignore this message): INVALID_ARGUMENT: You must feed a value for placeholder tensor 'gradients/split_1_grad/concat/split_1/split_dim' with dtype int32\n",
      "\t [[{{node gradients/split_1_grad/concat/split_1/split_dim}}]]\n",
      "2023-04-04 18:58:57.932111: I tensorflow/core/common_runtime/executor.cc:1197] [/device:CPU:0] (DEBUG INFO) Executor start aborting (this does not indicate an error and you can ignore this message): INVALID_ARGUMENT: You must feed a value for placeholder tensor 'gradients/ReverseV2_grad/ReverseV2/ReverseV2/axis' with dtype int32 and shape [1]\n",
      "\t [[{{node gradients/ReverseV2_grad/ReverseV2/ReverseV2/axis}}]]\n",
      "2023-04-04 18:58:58.045815: I tensorflow/core/common_runtime/executor.cc:1197] [/device:CPU:0] (DEBUG INFO) Executor start aborting (this does not indicate an error and you can ignore this message): INVALID_ARGUMENT: You must feed a value for placeholder tensor 'gradients/split_2_grad/concat/split_2/split_dim' with dtype int32\n",
      "\t [[{{node gradients/split_2_grad/concat/split_2/split_dim}}]]\n",
      "2023-04-04 18:58:58.048433: I tensorflow/core/common_runtime/executor.cc:1197] [/device:CPU:0] (DEBUG INFO) Executor start aborting (this does not indicate an error and you can ignore this message): INVALID_ARGUMENT: You must feed a value for placeholder tensor 'gradients/split_grad/concat/split/split_dim' with dtype int32\n",
      "\t [[{{node gradients/split_grad/concat/split/split_dim}}]]\n",
      "2023-04-04 18:58:58.050788: I tensorflow/core/common_runtime/executor.cc:1197] [/device:CPU:0] (DEBUG INFO) Executor start aborting (this does not indicate an error and you can ignore this message): INVALID_ARGUMENT: You must feed a value for placeholder tensor 'gradients/split_1_grad/concat/split_1/split_dim' with dtype int32\n",
      "\t [[{{node gradients/split_1_grad/concat/split_1/split_dim}}]]\n",
      "2023-04-04 18:58:58.420090: I tensorflow/core/common_runtime/executor.cc:1197] [/device:CPU:0] (DEBUG INFO) Executor start aborting (this does not indicate an error and you can ignore this message): INVALID_ARGUMENT: You must feed a value for placeholder tensor 'gradients/split_2_grad/concat/split_2/split_dim' with dtype int32\n",
      "\t [[{{node gradients/split_2_grad/concat/split_2/split_dim}}]]\n",
      "2023-04-04 18:58:58.423177: I tensorflow/core/common_runtime/executor.cc:1197] [/device:CPU:0] (DEBUG INFO) Executor start aborting (this does not indicate an error and you can ignore this message): INVALID_ARGUMENT: You must feed a value for placeholder tensor 'gradients/split_grad/concat/split/split_dim' with dtype int32\n",
      "\t [[{{node gradients/split_grad/concat/split/split_dim}}]]\n",
      "2023-04-04 18:58:58.425117: I tensorflow/core/common_runtime/executor.cc:1197] [/device:CPU:0] (DEBUG INFO) Executor start aborting (this does not indicate an error and you can ignore this message): INVALID_ARGUMENT: You must feed a value for placeholder tensor 'gradients/split_1_grad/concat/split_1/split_dim' with dtype int32\n",
      "\t [[{{node gradients/split_1_grad/concat/split_1/split_dim}}]]\n",
      "2023-04-04 18:58:58.953966: I tensorflow/core/common_runtime/executor.cc:1197] [/device:CPU:0] (DEBUG INFO) Executor start aborting (this does not indicate an error and you can ignore this message): INVALID_ARGUMENT: You must feed a value for placeholder tensor 'gradients/split_2_grad/concat/split_2/split_dim' with dtype int32\n",
      "\t [[{{node gradients/split_2_grad/concat/split_2/split_dim}}]]\n",
      "2023-04-04 18:58:58.957131: I tensorflow/core/common_runtime/executor.cc:1197] [/device:CPU:0] (DEBUG INFO) Executor start aborting (this does not indicate an error and you can ignore this message): INVALID_ARGUMENT: You must feed a value for placeholder tensor 'gradients/split_grad/concat/split/split_dim' with dtype int32\n",
      "\t [[{{node gradients/split_grad/concat/split/split_dim}}]]\n",
      "2023-04-04 18:58:58.959040: I tensorflow/core/common_runtime/executor.cc:1197] [/device:CPU:0] (DEBUG INFO) Executor start aborting (this does not indicate an error and you can ignore this message): INVALID_ARGUMENT: You must feed a value for placeholder tensor 'gradients/split_1_grad/concat/split_1/split_dim' with dtype int32\n",
      "\t [[{{node gradients/split_1_grad/concat/split_1/split_dim}}]]\n",
      "2023-04-04 18:59:00.806936: I tensorflow/core/common_runtime/executor.cc:1197] [/device:CPU:0] (DEBUG INFO) Executor start aborting (this does not indicate an error and you can ignore this message): INVALID_ARGUMENT: You must feed a value for placeholder tensor 'gradients/ReverseV2_grad/ReverseV2/ReverseV2/axis' with dtype int32 and shape [1]\n",
      "\t [[{{node gradients/ReverseV2_grad/ReverseV2/ReverseV2/axis}}]]\n"
     ]
    },
    {
     "name": "stdout",
     "output_type": "stream",
     "text": [
      "32/32 [==============================] - 11s 18ms/step - loss: 50.4760\n",
      "Epoch 2/200\n",
      "32/32 [==============================] - 1s 21ms/step - loss: 48.8095\n",
      "Epoch 3/200\n",
      "32/32 [==============================] - 1s 17ms/step - loss: 47.1685\n",
      "Epoch 4/200\n",
      "32/32 [==============================] - 1s 18ms/step - loss: 45.5290\n",
      "Epoch 5/200\n",
      "32/32 [==============================] - 1s 18ms/step - loss: 43.8905\n",
      "Epoch 6/200\n",
      "32/32 [==============================] - 1s 18ms/step - loss: 42.2522\n",
      "Epoch 7/200\n",
      "32/32 [==============================] - 1s 18ms/step - loss: 40.6127\n",
      "Epoch 8/200\n",
      "32/32 [==============================] - 1s 18ms/step - loss: 38.9743\n",
      "Epoch 9/200\n",
      "32/32 [==============================] - 1s 18ms/step - loss: 37.3362\n",
      "Epoch 10/200\n",
      "32/32 [==============================] - 1s 18ms/step - loss: 35.6975\n",
      "Epoch 11/200\n",
      "32/32 [==============================] - 1s 18ms/step - loss: 34.0597\n",
      "Epoch 12/200\n",
      "32/32 [==============================] - 1s 18ms/step - loss: 32.4212\n",
      "Epoch 13/200\n",
      "32/32 [==============================] - 1s 18ms/step - loss: 30.7826\n",
      "Epoch 14/200\n",
      "32/32 [==============================] - 1s 19ms/step - loss: 29.1448\n",
      "Epoch 15/200\n",
      "32/32 [==============================] - 1s 19ms/step - loss: 27.5060\n",
      "Epoch 16/200\n",
      "32/32 [==============================] - 1s 18ms/step - loss: 25.8673\n",
      "Epoch 17/200\n",
      "32/32 [==============================] - 1s 18ms/step - loss: 24.2285\n",
      "Epoch 18/200\n",
      "32/32 [==============================] - 1s 18ms/step - loss: 22.5897\n",
      "Epoch 19/200\n",
      "32/32 [==============================] - 1s 18ms/step - loss: 20.9512\n",
      "Epoch 20/200\n",
      "32/32 [==============================] - 1s 18ms/step - loss: 19.3135\n",
      "Epoch 21/200\n",
      "32/32 [==============================] - 1s 19ms/step - loss: 17.6755\n",
      "Epoch 22/200\n",
      "32/32 [==============================] - 1s 18ms/step - loss: 16.0360\n",
      "Epoch 23/200\n",
      "32/32 [==============================] - 1s 18ms/step - loss: 14.3988\n",
      "Epoch 24/200\n",
      "32/32 [==============================] - 1s 18ms/step - loss: 12.7605\n",
      "Epoch 25/200\n",
      "32/32 [==============================] - 1s 19ms/step - loss: 11.1201\n",
      "Epoch 26/200\n",
      "32/32 [==============================] - 1s 19ms/step - loss: 9.4822\n",
      "Epoch 27/200\n",
      "32/32 [==============================] - 1s 18ms/step - loss: 7.8437\n",
      "Epoch 28/200\n",
      "32/32 [==============================] - 1s 19ms/step - loss: 6.2047\n",
      "Epoch 29/200\n",
      "32/32 [==============================] - 1s 18ms/step - loss: 4.5669\n",
      "Epoch 30/200\n",
      "32/32 [==============================] - 1s 18ms/step - loss: 2.9292\n",
      "Epoch 31/200\n",
      "32/32 [==============================] - 1s 19ms/step - loss: 1.2917\n",
      "Epoch 32/200\n",
      "32/32 [==============================] - 1s 18ms/step - loss: 0.1649\n",
      "Epoch 33/200\n",
      "32/32 [==============================] - 1s 18ms/step - loss: 0.0545\n",
      "Epoch 34/200\n",
      "32/32 [==============================] - 1s 18ms/step - loss: 0.0506\n",
      "Epoch 35/200\n",
      "32/32 [==============================] - 1s 18ms/step - loss: 0.0522\n",
      "Epoch 36/200\n",
      "32/32 [==============================] - 1s 18ms/step - loss: 0.0527\n",
      "Epoch 37/200\n",
      "32/32 [==============================] - 1s 18ms/step - loss: 0.0522\n",
      "Epoch 38/200\n",
      "32/32 [==============================] - 1s 18ms/step - loss: 0.0519\n",
      "Epoch 39/200\n",
      "32/32 [==============================] - 1s 18ms/step - loss: 0.0529\n",
      "Epoch 40/200\n",
      "32/32 [==============================] - 1s 18ms/step - loss: 0.0507\n",
      "Epoch 41/200\n",
      "32/32 [==============================] - 1s 18ms/step - loss: 0.0514\n",
      "Epoch 42/200\n",
      "32/32 [==============================] - 1s 18ms/step - loss: 0.0522\n",
      "Epoch 43/200\n",
      "32/32 [==============================] - 1s 19ms/step - loss: 0.0518\n",
      "Epoch 44/200\n",
      "32/32 [==============================] - 1s 19ms/step - loss: 0.0518\n",
      "Epoch 44: early stopping\n"
     ]
    },
    {
     "data": {
      "text/plain": [
       "<keras.callbacks.History at 0x7f3b8596a250>"
      ]
     },
     "execution_count": 10,
     "metadata": {},
     "output_type": "execute_result"
    }
   ],
   "source": [
    "# Train model\n",
    "model.fit(train_X, train_Y, epochs=200, batch_size=24,steps_per_epoch=32, verbose=1,callbacks=[es])"
   ]
  },
  {
   "cell_type": "code",
   "execution_count": 11,
   "id": "fe543c89-8db1-450c-a170-c14b158af14d",
   "metadata": {
    "execution": {
     "iopub.execute_input": "2023-04-04T13:29:28.860914Z",
     "iopub.status.busy": "2023-04-04T13:29:28.860485Z",
     "iopub.status.idle": "2023-04-04T13:29:43.579746Z",
     "shell.execute_reply": "2023-04-04T13:29:43.578841Z",
     "shell.execute_reply.started": "2023-04-04T13:29:28.860887Z"
    },
    "tags": []
   },
   "outputs": [
    {
     "name": "stderr",
     "output_type": "stream",
     "text": [
      "2023-04-04 18:59:29.338611: I tensorflow/core/common_runtime/executor.cc:1197] [/device:CPU:0] (DEBUG INFO) Executor start aborting (this does not indicate an error and you can ignore this message): INVALID_ARGUMENT: You must feed a value for placeholder tensor 'gradients/split_2_grad/concat/split_2/split_dim' with dtype int32\n",
      "\t [[{{node gradients/split_2_grad/concat/split_2/split_dim}}]]\n",
      "2023-04-04 18:59:29.341302: I tensorflow/core/common_runtime/executor.cc:1197] [/device:CPU:0] (DEBUG INFO) Executor start aborting (this does not indicate an error and you can ignore this message): INVALID_ARGUMENT: You must feed a value for placeholder tensor 'gradients/split_grad/concat/split/split_dim' with dtype int32\n",
      "\t [[{{node gradients/split_grad/concat/split/split_dim}}]]\n",
      "2023-04-04 18:59:29.343418: I tensorflow/core/common_runtime/executor.cc:1197] [/device:CPU:0] (DEBUG INFO) Executor start aborting (this does not indicate an error and you can ignore this message): INVALID_ARGUMENT: You must feed a value for placeholder tensor 'gradients/split_1_grad/concat/split_1/split_dim' with dtype int32\n",
      "\t [[{{node gradients/split_1_grad/concat/split_1/split_dim}}]]\n",
      "2023-04-04 18:59:29.645916: I tensorflow/core/common_runtime/executor.cc:1197] [/device:CPU:0] (DEBUG INFO) Executor start aborting (this does not indicate an error and you can ignore this message): INVALID_ARGUMENT: You must feed a value for placeholder tensor 'gradients/ReverseV2_grad/ReverseV2/ReverseV2/axis' with dtype int32 and shape [1]\n",
      "\t [[{{node gradients/ReverseV2_grad/ReverseV2/ReverseV2/axis}}]]\n",
      "2023-04-04 18:59:29.752032: I tensorflow/core/common_runtime/executor.cc:1197] [/device:CPU:0] (DEBUG INFO) Executor start aborting (this does not indicate an error and you can ignore this message): INVALID_ARGUMENT: You must feed a value for placeholder tensor 'gradients/split_2_grad/concat/split_2/split_dim' with dtype int32\n",
      "\t [[{{node gradients/split_2_grad/concat/split_2/split_dim}}]]\n",
      "2023-04-04 18:59:29.754507: I tensorflow/core/common_runtime/executor.cc:1197] [/device:CPU:0] (DEBUG INFO) Executor start aborting (this does not indicate an error and you can ignore this message): INVALID_ARGUMENT: You must feed a value for placeholder tensor 'gradients/split_grad/concat/split/split_dim' with dtype int32\n",
      "\t [[{{node gradients/split_grad/concat/split/split_dim}}]]\n",
      "2023-04-04 18:59:29.756806: I tensorflow/core/common_runtime/executor.cc:1197] [/device:CPU:0] (DEBUG INFO) Executor start aborting (this does not indicate an error and you can ignore this message): INVALID_ARGUMENT: You must feed a value for placeholder tensor 'gradients/split_1_grad/concat/split_1/split_dim' with dtype int32\n",
      "\t [[{{node gradients/split_1_grad/concat/split_1/split_dim}}]]\n",
      "2023-04-04 18:59:30.120258: I tensorflow/core/common_runtime/executor.cc:1197] [/device:CPU:0] (DEBUG INFO) Executor start aborting (this does not indicate an error and you can ignore this message): INVALID_ARGUMENT: You must feed a value for placeholder tensor 'gradients/split_2_grad/concat/split_2/split_dim' with dtype int32\n",
      "\t [[{{node gradients/split_2_grad/concat/split_2/split_dim}}]]\n",
      "2023-04-04 18:59:30.122856: I tensorflow/core/common_runtime/executor.cc:1197] [/device:CPU:0] (DEBUG INFO) Executor start aborting (this does not indicate an error and you can ignore this message): INVALID_ARGUMENT: You must feed a value for placeholder tensor 'gradients/split_grad/concat/split/split_dim' with dtype int32\n",
      "\t [[{{node gradients/split_grad/concat/split/split_dim}}]]\n",
      "2023-04-04 18:59:30.124687: I tensorflow/core/common_runtime/executor.cc:1197] [/device:CPU:0] (DEBUG INFO) Executor start aborting (this does not indicate an error and you can ignore this message): INVALID_ARGUMENT: You must feed a value for placeholder tensor 'gradients/split_1_grad/concat/split_1/split_dim' with dtype int32\n",
      "\t [[{{node gradients/split_1_grad/concat/split_1/split_dim}}]]\n",
      "2023-04-04 18:59:30.452980: I tensorflow/core/common_runtime/executor.cc:1197] [/device:CPU:0] (DEBUG INFO) Executor start aborting (this does not indicate an error and you can ignore this message): INVALID_ARGUMENT: You must feed a value for placeholder tensor 'gradients/split_2_grad/concat/split_2/split_dim' with dtype int32\n",
      "\t [[{{node gradients/split_2_grad/concat/split_2/split_dim}}]]\n",
      "2023-04-04 18:59:30.456287: I tensorflow/core/common_runtime/executor.cc:1197] [/device:CPU:0] (DEBUG INFO) Executor start aborting (this does not indicate an error and you can ignore this message): INVALID_ARGUMENT: You must feed a value for placeholder tensor 'gradients/split_grad/concat/split/split_dim' with dtype int32\n",
      "\t [[{{node gradients/split_grad/concat/split/split_dim}}]]\n",
      "2023-04-04 18:59:30.458093: I tensorflow/core/common_runtime/executor.cc:1197] [/device:CPU:0] (DEBUG INFO) Executor start aborting (this does not indicate an error and you can ignore this message): INVALID_ARGUMENT: You must feed a value for placeholder tensor 'gradients/split_1_grad/concat/split_1/split_dim' with dtype int32\n",
      "\t [[{{node gradients/split_1_grad/concat/split_1/split_dim}}]]\n"
     ]
    },
    {
     "name": "stdout",
     "output_type": "stream",
     "text": [
      "1535/1535 [==============================] - 11s 6ms/step\n",
      "384/384 [==============================] - 2s 6ms/step\n"
     ]
    }
   ],
   "source": [
    "# Make predictions\n",
    "train_predict = model.predict(train_X)\n",
    "test_predict = model.predict(test_X)\n"
   ]
  },
  {
   "cell_type": "code",
   "execution_count": null,
   "id": "f11c8131-410d-44b8-a028-1e4e20ee1998",
   "metadata": {
    "execution": {
     "iopub.execute_input": "2023-04-04T13:29:43.581451Z",
     "iopub.status.busy": "2023-04-04T13:29:43.581061Z"
    },
    "tags": []
   },
   "outputs": [],
   "source": [
    "# Invert predictions to original scale\n",
    "train_predict = scaler.inverse_transform(train_predict)\n",
    "train_Y = scaler.inverse_transform([train_Y])\n",
    "test_predict = scaler.inverse_transform(test_predict)\n",
    "test_Y = scaler.inverse_transform([test_Y])\n",
    "\n",
    "# Calculate RMSE\n",
    "train_rmse = np.sqrt(np.mean((train_predict - train_Y)**2))\n",
    "test_rmse = np.sqrt(np.mean((test_predict - test_Y)**2))\n",
    "\n",
    "print('Train RMSE:', train_rmse)\n",
    "print('Test RMSE:', test_rmse)"
   ]
  },
  {
   "cell_type": "code",
   "execution_count": null,
   "id": "548d80c2-dea7-47c4-a139-5cea28c9625a",
   "metadata": {},
   "outputs": [],
   "source": []
  }
 ],
 "metadata": {
  "kernelspec": {
   "display_name": "Python 3 (ipykernel)",
   "language": "python",
   "name": "python3"
  },
  "language_info": {
   "codemirror_mode": {
    "name": "ipython",
    "version": 3
   },
   "file_extension": ".py",
   "mimetype": "text/x-python",
   "name": "python",
   "nbconvert_exporter": "python",
   "pygments_lexer": "ipython3",
   "version": "3.11.2"
  },
  "widgets": {
   "application/vnd.jupyter.widget-state+json": {
    "state": {},
    "version_major": 2,
    "version_minor": 0
   }
  }
 },
 "nbformat": 4,
 "nbformat_minor": 5
}
