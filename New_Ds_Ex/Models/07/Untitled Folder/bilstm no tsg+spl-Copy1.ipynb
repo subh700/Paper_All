{
 "cells": [
  {
   "cell_type": "code",
   "execution_count": 1,
   "id": "e7e78f86-c70b-446a-bafe-6780d4f955bd",
   "metadata": {
    "execution": {
     "iopub.execute_input": "2023-04-11T16:24:31.366345Z",
     "iopub.status.busy": "2023-04-11T16:24:31.365791Z",
     "iopub.status.idle": "2023-04-11T16:24:34.261424Z",
     "shell.execute_reply": "2023-04-11T16:24:34.260533Z",
     "shell.execute_reply.started": "2023-04-11T16:24:31.366284Z"
    },
    "tags": []
   },
   "outputs": [
    {
     "name": "stderr",
     "output_type": "stream",
     "text": [
      "2023-04-11 21:54:31.971833: I tensorflow/tsl/cuda/cudart_stub.cc:28] Could not find cuda drivers on your machine, GPU will not be used.\n",
      "2023-04-11 21:54:32.019124: I tensorflow/tsl/cuda/cudart_stub.cc:28] Could not find cuda drivers on your machine, GPU will not be used.\n",
      "2023-04-11 21:54:32.019833: I tensorflow/core/platform/cpu_feature_guard.cc:182] This TensorFlow binary is optimized to use available CPU instructions in performance-critical operations.\n",
      "To enable the following instructions: AVX2 FMA, in other operations, rebuild TensorFlow with the appropriate compiler flags.\n",
      "2023-04-11 21:54:33.014769: W tensorflow/compiler/tf2tensorrt/utils/py_utils.cc:38] TF-TRT Warning: Could not find TensorRT\n"
     ]
    }
   ],
   "source": [
    "import numpy as np\n",
    "import pandas as pd\n",
    "import tensorflow as tf\n",
    "from keras.models import Sequential,Model\n",
    "from keras.layers import Input,Conv1D,MaxPooling1D,GRU,LSTM,Bidirectional,Dense,Dropout,Flatten\n",
    "from sklearn.preprocessing import MinMaxScaler\n",
    "from keras.regularizers import l1\n",
    "from keras.callbacks import EarlyStopping,ModelCheckpoint\n",
    "from tensorflow.keras.optimizers import RMSprop\n"
   ]
  },
  {
   "cell_type": "code",
   "execution_count": 2,
   "id": "4d907466-8579-4b5c-8b1d-8a33f2daf930",
   "metadata": {
    "execution": {
     "iopub.execute_input": "2023-04-11T16:24:34.263897Z",
     "iopub.status.busy": "2023-04-11T16:24:34.263481Z",
     "iopub.status.idle": "2023-04-11T16:24:34.397141Z",
     "shell.execute_reply": "2023-04-11T16:24:34.396480Z",
     "shell.execute_reply.started": "2023-04-11T16:24:34.263873Z"
    },
    "tags": []
   },
   "outputs": [
    {
     "data": {
      "text/html": [
       "<div>\n",
       "<style scoped>\n",
       "    .dataframe tbody tr th:only-of-type {\n",
       "        vertical-align: middle;\n",
       "    }\n",
       "\n",
       "    .dataframe tbody tr th {\n",
       "        vertical-align: top;\n",
       "    }\n",
       "\n",
       "    .dataframe thead th {\n",
       "        text-align: right;\n",
       "    }\n",
       "</style>\n",
       "<table border=\"1\" class=\"dataframe\">\n",
       "  <thead>\n",
       "    <tr style=\"text-align: right;\">\n",
       "      <th></th>\n",
       "      <th>PM</th>\n",
       "    </tr>\n",
       "    <tr>\n",
       "      <th>DATE</th>\n",
       "      <th></th>\n",
       "    </tr>\n",
       "  </thead>\n",
       "  <tbody>\n",
       "    <tr>\n",
       "      <th>2010-01-02 00:00:00</th>\n",
       "      <td>129.0</td>\n",
       "    </tr>\n",
       "    <tr>\n",
       "      <th>2010-01-02 01:00:00</th>\n",
       "      <td>148.0</td>\n",
       "    </tr>\n",
       "    <tr>\n",
       "      <th>2010-01-02 02:00:00</th>\n",
       "      <td>159.0</td>\n",
       "    </tr>\n",
       "    <tr>\n",
       "      <th>2010-01-02 03:00:00</th>\n",
       "      <td>181.0</td>\n",
       "    </tr>\n",
       "    <tr>\n",
       "      <th>2010-01-02 04:00:00</th>\n",
       "      <td>138.0</td>\n",
       "    </tr>\n",
       "    <tr>\n",
       "      <th>...</th>\n",
       "      <td>...</td>\n",
       "    </tr>\n",
       "    <tr>\n",
       "      <th>2014-12-31 19:00:00</th>\n",
       "      <td>8.0</td>\n",
       "    </tr>\n",
       "    <tr>\n",
       "      <th>2014-12-31 20:00:00</th>\n",
       "      <td>10.0</td>\n",
       "    </tr>\n",
       "    <tr>\n",
       "      <th>2014-12-31 21:00:00</th>\n",
       "      <td>10.0</td>\n",
       "    </tr>\n",
       "    <tr>\n",
       "      <th>2014-12-31 22:00:00</th>\n",
       "      <td>8.0</td>\n",
       "    </tr>\n",
       "    <tr>\n",
       "      <th>2014-12-31 23:00:00</th>\n",
       "      <td>12.0</td>\n",
       "    </tr>\n",
       "  </tbody>\n",
       "</table>\n",
       "<p>41757 rows × 1 columns</p>\n",
       "</div>"
      ],
      "text/plain": [
       "                        PM\n",
       "DATE                      \n",
       "2010-01-02 00:00:00  129.0\n",
       "2010-01-02 01:00:00  148.0\n",
       "2010-01-02 02:00:00  159.0\n",
       "2010-01-02 03:00:00  181.0\n",
       "2010-01-02 04:00:00  138.0\n",
       "...                    ...\n",
       "2014-12-31 19:00:00    8.0\n",
       "2014-12-31 20:00:00   10.0\n",
       "2014-12-31 21:00:00   10.0\n",
       "2014-12-31 22:00:00    8.0\n",
       "2014-12-31 23:00:00   12.0\n",
       "\n",
       "[41757 rows x 1 columns]"
      ]
     },
     "execution_count": 2,
     "metadata": {},
     "output_type": "execute_result"
    }
   ],
   "source": [
    "df=pd.read_csv('../PRSA_data_2010.1.1-2014.12.31.csv')\n",
    "df=df.iloc[:,1:-7]\n",
    "df[\"Date\"] = pd.to_datetime(df[\"year\"].apply(str) + \"/\" + df[\"month\"].apply(str) + \"/\" + df[\"day\"].apply(str)+ \" \" + df[\"hour\"].apply(str)+ \":\" +\"00\")\n",
    "df=df.drop(['year','month','day','hour'],axis=1)\n",
    "df=df.dropna()\n",
    "df=df.rename(columns={'Date':'DATE','pm2.5':'PM'})\n",
    "df=df.set_index('DATE')\n",
    "df"
   ]
  },
  {
   "cell_type": "code",
   "execution_count": 3,
   "id": "5fca8c8e-847d-481f-9570-45c2af79a314",
   "metadata": {
    "execution": {
     "iopub.execute_input": "2023-04-11T16:24:34.398451Z",
     "iopub.status.busy": "2023-04-11T16:24:34.398165Z",
     "iopub.status.idle": "2023-04-11T16:24:34.410949Z",
     "shell.execute_reply": "2023-04-11T16:24:34.410246Z",
     "shell.execute_reply.started": "2023-04-11T16:24:34.398429Z"
    },
    "tags": []
   },
   "outputs": [
    {
     "data": {
      "text/html": [
       "<div>\n",
       "<style scoped>\n",
       "    .dataframe tbody tr th:only-of-type {\n",
       "        vertical-align: middle;\n",
       "    }\n",
       "\n",
       "    .dataframe tbody tr th {\n",
       "        vertical-align: top;\n",
       "    }\n",
       "\n",
       "    .dataframe thead th {\n",
       "        text-align: right;\n",
       "    }\n",
       "</style>\n",
       "<table border=\"1\" class=\"dataframe\">\n",
       "  <thead>\n",
       "    <tr style=\"text-align: right;\">\n",
       "      <th></th>\n",
       "      <th>PM</th>\n",
       "    </tr>\n",
       "  </thead>\n",
       "  <tbody>\n",
       "    <tr>\n",
       "      <th>count</th>\n",
       "      <td>41757.000000</td>\n",
       "    </tr>\n",
       "    <tr>\n",
       "      <th>mean</th>\n",
       "      <td>98.613215</td>\n",
       "    </tr>\n",
       "    <tr>\n",
       "      <th>std</th>\n",
       "      <td>92.050387</td>\n",
       "    </tr>\n",
       "    <tr>\n",
       "      <th>min</th>\n",
       "      <td>0.000000</td>\n",
       "    </tr>\n",
       "    <tr>\n",
       "      <th>25%</th>\n",
       "      <td>29.000000</td>\n",
       "    </tr>\n",
       "    <tr>\n",
       "      <th>50%</th>\n",
       "      <td>72.000000</td>\n",
       "    </tr>\n",
       "    <tr>\n",
       "      <th>75%</th>\n",
       "      <td>137.000000</td>\n",
       "    </tr>\n",
       "    <tr>\n",
       "      <th>max</th>\n",
       "      <td>994.000000</td>\n",
       "    </tr>\n",
       "  </tbody>\n",
       "</table>\n",
       "</div>"
      ],
      "text/plain": [
       "                 PM\n",
       "count  41757.000000\n",
       "mean      98.613215\n",
       "std       92.050387\n",
       "min        0.000000\n",
       "25%       29.000000\n",
       "50%       72.000000\n",
       "75%      137.000000\n",
       "max      994.000000"
      ]
     },
     "execution_count": 3,
     "metadata": {},
     "output_type": "execute_result"
    }
   ],
   "source": [
    "df.describe()"
   ]
  },
  {
   "cell_type": "code",
   "execution_count": 4,
   "id": "8145cb26-b83c-4ea8-a8be-1852163e79ad",
   "metadata": {
    "execution": {
     "iopub.execute_input": "2023-04-11T16:24:34.412038Z",
     "iopub.status.busy": "2023-04-11T16:24:34.411721Z",
     "iopub.status.idle": "2023-04-11T16:24:34.424025Z",
     "shell.execute_reply": "2023-04-11T16:24:34.423295Z",
     "shell.execute_reply.started": "2023-04-11T16:24:34.412005Z"
    },
    "tags": []
   },
   "outputs": [],
   "source": [
    "data=df"
   ]
  },
  {
   "cell_type": "code",
   "execution_count": 5,
   "id": "46ffe15a-3e0a-46b1-bad5-0205621b3982",
   "metadata": {
    "execution": {
     "iopub.execute_input": "2023-04-11T16:24:34.425331Z",
     "iopub.status.busy": "2023-04-11T16:24:34.424962Z",
     "iopub.status.idle": "2023-04-11T16:24:34.453142Z",
     "shell.execute_reply": "2023-04-11T16:24:34.452088Z",
     "shell.execute_reply.started": "2023-04-11T16:24:34.425304Z"
    },
    "tags": []
   },
   "outputs": [],
   "source": [
    "# Scale data\n",
    "scaler = MinMaxScaler()\n",
    "data = scaler.fit_transform(data)"
   ]
  },
  {
   "cell_type": "code",
   "execution_count": 6,
   "id": "4becfab6-6aca-4358-a092-437c85acf374",
   "metadata": {
    "execution": {
     "iopub.execute_input": "2023-04-11T16:24:34.454423Z",
     "iopub.status.busy": "2023-04-11T16:24:34.454104Z",
     "iopub.status.idle": "2023-04-11T16:24:34.478084Z",
     "shell.execute_reply": "2023-04-11T16:24:34.477316Z",
     "shell.execute_reply.started": "2023-04-11T16:24:34.454400Z"
    },
    "tags": []
   },
   "outputs": [
    {
     "data": {
      "text/plain": [
       "array([[0.12977867],\n",
       "       [0.14889336],\n",
       "       [0.15995976],\n",
       "       ...,\n",
       "       [0.01006036],\n",
       "       [0.00804829],\n",
       "       [0.01207243]])"
      ]
     },
     "execution_count": 6,
     "metadata": {},
     "output_type": "execute_result"
    }
   ],
   "source": [
    "data"
   ]
  },
  {
   "cell_type": "code",
   "execution_count": 7,
   "id": "49e29d1e-d573-40f9-8fd1-06cfb0480792",
   "metadata": {
    "execution": {
     "iopub.execute_input": "2023-04-11T16:24:34.481539Z",
     "iopub.status.busy": "2023-04-11T16:24:34.481334Z",
     "iopub.status.idle": "2023-04-11T16:24:34.497658Z",
     "shell.execute_reply": "2023-04-11T16:24:34.496814Z",
     "shell.execute_reply.started": "2023-04-11T16:24:34.481519Z"
    },
    "tags": []
   },
   "outputs": [],
   "source": [
    "# Split data into training and testing sets\n",
    "train_size = int(len(data) * 0.8)\n",
    "test_size = len(data) - train_size\n",
    "train_data, test_data = data[0:train_size,:], data[train_size:len(data),:]"
   ]
  },
  {
   "cell_type": "code",
   "execution_count": 8,
   "id": "624ef33a-b000-4b17-80b3-0bafab28d2f9",
   "metadata": {
    "execution": {
     "iopub.execute_input": "2023-04-11T16:24:34.499076Z",
     "iopub.status.busy": "2023-04-11T16:24:34.498710Z",
     "iopub.status.idle": "2023-04-11T16:24:34.527309Z",
     "shell.execute_reply": "2023-04-11T16:24:34.526536Z",
     "shell.execute_reply.started": "2023-04-11T16:24:34.499044Z"
    },
    "tags": []
   },
   "outputs": [
    {
     "name": "stdout",
     "output_type": "stream",
     "text": [
      "33405 8352\n",
      "[[0.12977867]\n",
      " [0.14889336]\n",
      " [0.15995976]\n",
      " ...\n",
      " [0.30080483]\n",
      " [0.25150905]\n",
      " [0.15995976]] [[0.12474849]\n",
      " [0.12374245]\n",
      " [0.04929577]\n",
      " ...\n",
      " [0.01006036]\n",
      " [0.00804829]\n",
      " [0.01207243]]\n",
      "33405 8352\n"
     ]
    }
   ],
   "source": [
    "print(train_size,test_size)\n",
    "print(train_data,test_data)\n",
    "print(len(train_data),len(test_data))"
   ]
  },
  {
   "cell_type": "code",
   "execution_count": 9,
   "id": "203590f3-d0cf-41b4-a7d0-f984639a6ea4",
   "metadata": {
    "execution": {
     "iopub.execute_input": "2023-04-11T16:24:34.529158Z",
     "iopub.status.busy": "2023-04-11T16:24:34.528768Z",
     "iopub.status.idle": "2023-04-11T16:24:34.545251Z",
     "shell.execute_reply": "2023-04-11T16:24:34.544585Z",
     "shell.execute_reply.started": "2023-04-11T16:24:34.529124Z"
    },
    "tags": []
   },
   "outputs": [],
   "source": [
    "# Convert data into time series dataset\n",
    "def create_dataset(dataset, look_back=24):\n",
    "    X, Y = [], []\n",
    "    for i in range(len(dataset) - look_back):\n",
    "        X.append(dataset[i:(i+look_back), 0])\n",
    "        Y.append(dataset[i+look_back, 0])\n",
    "    return np.array(X), np.array(Y)"
   ]
  },
  {
   "cell_type": "code",
   "execution_count": 10,
   "id": "d230919c-a024-4314-9fed-7abec93462e2",
   "metadata": {
    "execution": {
     "iopub.execute_input": "2023-04-11T16:24:34.546637Z",
     "iopub.status.busy": "2023-04-11T16:24:34.546264Z",
     "iopub.status.idle": "2023-04-11T16:24:34.632432Z",
     "shell.execute_reply": "2023-04-11T16:24:34.631526Z",
     "shell.execute_reply.started": "2023-04-11T16:24:34.546608Z"
    },
    "tags": []
   },
   "outputs": [],
   "source": [
    "look_back = 24\n",
    "train_X, train_Y = create_dataset(train_data, look_back)\n",
    "test_X, test_Y = create_dataset(test_data, look_back)"
   ]
  },
  {
   "cell_type": "code",
   "execution_count": 11,
   "id": "e98b2c62-d324-4c96-89be-4684c9bae26b",
   "metadata": {
    "execution": {
     "iopub.execute_input": "2023-04-11T16:24:34.634414Z",
     "iopub.status.busy": "2023-04-11T16:24:34.633831Z",
     "iopub.status.idle": "2023-04-11T16:24:34.639936Z",
     "shell.execute_reply": "2023-04-11T16:24:34.639042Z",
     "shell.execute_reply.started": "2023-04-11T16:24:34.634376Z"
    },
    "tags": []
   },
   "outputs": [
    {
     "name": "stdout",
     "output_type": "stream",
     "text": [
      "[0.09054326 0.06338028 0.06539235 ... 0.30080483 0.25150905 0.15995976] [0.17303823 0.21428571 0.1971831  ... 0.01006036 0.00804829 0.01207243]\n"
     ]
    }
   ],
   "source": [
    "#print(train_X,train_Y)\n",
    "#print(test_X,test_Y)\n",
    "print(train_Y,test_Y)"
   ]
  },
  {
   "cell_type": "code",
   "execution_count": 12,
   "id": "e085afd8-a23b-4147-82c2-1e80dd91d2ca",
   "metadata": {
    "execution": {
     "iopub.execute_input": "2023-04-11T16:24:34.641579Z",
     "iopub.status.busy": "2023-04-11T16:24:34.641057Z",
     "iopub.status.idle": "2023-04-11T16:24:34.661762Z",
     "shell.execute_reply": "2023-04-11T16:24:34.660483Z",
     "shell.execute_reply.started": "2023-04-11T16:24:34.641541Z"
    },
    "tags": []
   },
   "outputs": [
    {
     "data": {
      "text/plain": [
       "(8328, 33381)"
      ]
     },
     "execution_count": 12,
     "metadata": {},
     "output_type": "execute_result"
    }
   ],
   "source": [
    "len(test_Y),len(train_Y)"
   ]
  },
  {
   "cell_type": "code",
   "execution_count": 13,
   "id": "9e3af1c7-04af-4118-ae17-acccf24ee8ca",
   "metadata": {
    "execution": {
     "iopub.execute_input": "2023-04-11T16:24:34.663868Z",
     "iopub.status.busy": "2023-04-11T16:24:34.663224Z",
     "iopub.status.idle": "2023-04-11T16:24:34.685565Z",
     "shell.execute_reply": "2023-04-11T16:24:34.684836Z",
     "shell.execute_reply.started": "2023-04-11T16:24:34.663827Z"
    },
    "tags": []
   },
   "outputs": [
    {
     "data": {
      "text/plain": [
       "(8328, 33381)"
      ]
     },
     "execution_count": 13,
     "metadata": {},
     "output_type": "execute_result"
    }
   ],
   "source": [
    "len(test_X),len(train_X)"
   ]
  },
  {
   "cell_type": "code",
   "execution_count": 14,
   "id": "99887abf-698f-4fc6-8753-ca912d028d3e",
   "metadata": {
    "execution": {
     "iopub.execute_input": "2023-04-11T16:24:34.686520Z",
     "iopub.status.busy": "2023-04-11T16:24:34.686245Z",
     "iopub.status.idle": "2023-04-11T16:24:34.717643Z",
     "shell.execute_reply": "2023-04-11T16:24:34.716676Z",
     "shell.execute_reply.started": "2023-04-11T16:24:34.686491Z"
    },
    "tags": []
   },
   "outputs": [
    {
     "data": {
      "text/plain": [
       "(8328, 24)"
      ]
     },
     "execution_count": 14,
     "metadata": {},
     "output_type": "execute_result"
    }
   ],
   "source": [
    "test_X.shape"
   ]
  },
  {
   "cell_type": "code",
   "execution_count": 15,
   "id": "f6b5b2f2-bf09-4b7b-aca2-7813349b8563",
   "metadata": {
    "execution": {
     "iopub.execute_input": "2023-04-11T16:24:34.718962Z",
     "iopub.status.busy": "2023-04-11T16:24:34.718601Z",
     "iopub.status.idle": "2023-04-11T16:24:34.746590Z",
     "shell.execute_reply": "2023-04-11T16:24:34.745706Z",
     "shell.execute_reply.started": "2023-04-11T16:24:34.718931Z"
    },
    "tags": []
   },
   "outputs": [
    {
     "name": "stdout",
     "output_type": "stream",
     "text": [
      "[[0.12977867 0.14889336 0.15995976 ... 0.16498994 0.15694165 0.12676056]\n",
      " [0.14889336 0.15995976 0.18209256 ... 0.15694165 0.12676056 0.09054326]\n",
      " [0.15995976 0.18209256 0.138833   ... 0.12676056 0.09054326 0.06338028]\n",
      " ...\n",
      " [0.05734406 0.05734406 0.07545272 ... 0.13179074 0.17806841 0.28873239]\n",
      " [0.05734406 0.07545272 0.09657948 ... 0.17806841 0.28873239 0.30080483]\n",
      " [0.07545272 0.09657948 0.11066398 ... 0.28873239 0.30080483 0.25150905]] [[0.12474849 0.12374245 0.04929577 ... 0.12273642 0.12374245 0.12273642]\n",
      " [0.12374245 0.04929577 0.0362173  ... 0.12374245 0.12273642 0.17303823]\n",
      " [0.04929577 0.0362173  0.05935614 ... 0.12273642 0.17303823 0.21428571]\n",
      " ...\n",
      " [0.02012072 0.00804829 0.01609658 ... 0.01006036 0.00804829 0.01006036]\n",
      " [0.00804829 0.01609658 0.01006036 ... 0.00804829 0.01006036 0.01006036]\n",
      " [0.01609658 0.01006036 0.0110664  ... 0.01006036 0.01006036 0.00804829]]\n"
     ]
    }
   ],
   "source": [
    "print(train_X,test_X)"
   ]
  },
  {
   "cell_type": "code",
   "execution_count": 16,
   "id": "6606b3b7-388d-40ca-bcde-dfa44f96dc81",
   "metadata": {
    "execution": {
     "iopub.execute_input": "2023-04-11T16:24:34.747763Z",
     "iopub.status.busy": "2023-04-11T16:24:34.747415Z",
     "iopub.status.idle": "2023-04-11T16:24:34.767854Z",
     "shell.execute_reply": "2023-04-11T16:24:34.766862Z",
     "shell.execute_reply.started": "2023-04-11T16:24:34.747742Z"
    },
    "tags": []
   },
   "outputs": [],
   "source": [
    "train_X = np.expand_dims(train_X, axis=2)\n",
    "test_X = np.expand_dims(test_X, axis=2)"
   ]
  },
  {
   "cell_type": "code",
   "execution_count": 17,
   "id": "8128cfd4-2a01-475c-aab6-b4fdf322d72a",
   "metadata": {
    "execution": {
     "iopub.execute_input": "2023-04-11T16:24:34.770218Z",
     "iopub.status.busy": "2023-04-11T16:24:34.768774Z",
     "iopub.status.idle": "2023-04-11T16:24:34.784769Z",
     "shell.execute_reply": "2023-04-11T16:24:34.783898Z",
     "shell.execute_reply.started": "2023-04-11T16:24:34.770165Z"
    },
    "tags": []
   },
   "outputs": [
    {
     "name": "stdout",
     "output_type": "stream",
     "text": [
      "[[[0.12977867]\n",
      "  [0.14889336]\n",
      "  [0.15995976]\n",
      "  ...\n",
      "  [0.16498994]\n",
      "  [0.15694165]\n",
      "  [0.12676056]]\n",
      "\n",
      " [[0.14889336]\n",
      "  [0.15995976]\n",
      "  [0.18209256]\n",
      "  ...\n",
      "  [0.15694165]\n",
      "  [0.12676056]\n",
      "  [0.09054326]]\n",
      "\n",
      " [[0.15995976]\n",
      "  [0.18209256]\n",
      "  [0.138833  ]\n",
      "  ...\n",
      "  [0.12676056]\n",
      "  [0.09054326]\n",
      "  [0.06338028]]\n",
      "\n",
      " ...\n",
      "\n",
      " [[0.05734406]\n",
      "  [0.05734406]\n",
      "  [0.07545272]\n",
      "  ...\n",
      "  [0.13179074]\n",
      "  [0.17806841]\n",
      "  [0.28873239]]\n",
      "\n",
      " [[0.05734406]\n",
      "  [0.07545272]\n",
      "  [0.09657948]\n",
      "  ...\n",
      "  [0.17806841]\n",
      "  [0.28873239]\n",
      "  [0.30080483]]\n",
      "\n",
      " [[0.07545272]\n",
      "  [0.09657948]\n",
      "  [0.11066398]\n",
      "  ...\n",
      "  [0.28873239]\n",
      "  [0.30080483]\n",
      "  [0.25150905]]] [[[0.12474849]\n",
      "  [0.12374245]\n",
      "  [0.04929577]\n",
      "  ...\n",
      "  [0.12273642]\n",
      "  [0.12374245]\n",
      "  [0.12273642]]\n",
      "\n",
      " [[0.12374245]\n",
      "  [0.04929577]\n",
      "  [0.0362173 ]\n",
      "  ...\n",
      "  [0.12374245]\n",
      "  [0.12273642]\n",
      "  [0.17303823]]\n",
      "\n",
      " [[0.04929577]\n",
      "  [0.0362173 ]\n",
      "  [0.05935614]\n",
      "  ...\n",
      "  [0.12273642]\n",
      "  [0.17303823]\n",
      "  [0.21428571]]\n",
      "\n",
      " ...\n",
      "\n",
      " [[0.02012072]\n",
      "  [0.00804829]\n",
      "  [0.01609658]\n",
      "  ...\n",
      "  [0.01006036]\n",
      "  [0.00804829]\n",
      "  [0.01006036]]\n",
      "\n",
      " [[0.00804829]\n",
      "  [0.01609658]\n",
      "  [0.01006036]\n",
      "  ...\n",
      "  [0.00804829]\n",
      "  [0.01006036]\n",
      "  [0.01006036]]\n",
      "\n",
      " [[0.01609658]\n",
      "  [0.01006036]\n",
      "  [0.0110664 ]\n",
      "  ...\n",
      "  [0.01006036]\n",
      "  [0.01006036]\n",
      "  [0.00804829]]]\n"
     ]
    }
   ],
   "source": [
    "print(train_X,test_X)"
   ]
  },
  {
   "cell_type": "code",
   "execution_count": 18,
   "id": "bceabc1d-b839-48aa-a235-51457145a998",
   "metadata": {
    "execution": {
     "iopub.execute_input": "2023-04-11T16:24:34.786526Z",
     "iopub.status.busy": "2023-04-11T16:24:34.785892Z",
     "iopub.status.idle": "2023-04-11T16:24:34.811620Z",
     "shell.execute_reply": "2023-04-11T16:24:34.810983Z",
     "shell.execute_reply.started": "2023-04-11T16:24:34.786495Z"
    },
    "tags": []
   },
   "outputs": [
    {
     "data": {
      "text/plain": [
       "<KerasTensor: shape=(None, 24, 1) dtype=float32 (created by layer 'input_1')>"
      ]
     },
     "execution_count": 18,
     "metadata": {},
     "output_type": "execute_result"
    }
   ],
   "source": [
    "input_layer = Input(shape=(look_back, 1))\n",
    "input_layer"
   ]
  },
  {
   "cell_type": "code",
   "execution_count": 19,
   "id": "f3fee2c4-0c79-4427-819a-f6d1a4acc330",
   "metadata": {
    "execution": {
     "iopub.execute_input": "2023-04-11T16:24:34.812851Z",
     "iopub.status.busy": "2023-04-11T16:24:34.812503Z",
     "iopub.status.idle": "2023-04-11T16:24:35.172801Z",
     "shell.execute_reply": "2023-04-11T16:24:35.171972Z",
     "shell.execute_reply.started": "2023-04-11T16:24:34.812830Z"
    },
    "tags": []
   },
   "outputs": [
    {
     "name": "stdout",
     "output_type": "stream",
     "text": [
      "Model: \"model\"\n",
      "_________________________________________________________________\n",
      " Layer (type)                Output Shape              Param #   \n",
      "=================================================================\n",
      " input_1 (InputLayer)        [(None, 24, 1)]           0         \n",
      "                                                                 \n",
      " bidirectional (Bidirectiona  (None, 500)              504000    \n",
      " l)                                                              \n",
      "                                                                 \n",
      " dropout (Dropout)           (None, 500)               0         \n",
      "                                                                 \n",
      " dense (Dense)               (None, 1)                 501       \n",
      "                                                                 \n",
      "=================================================================\n",
      "Total params: 504,501\n",
      "Trainable params: 504,501\n",
      "Non-trainable params: 0\n",
      "_________________________________________________________________\n"
     ]
    }
   ],
   "source": [
    "BiLSTM=Bidirectional(LSTM(250,activation='relu',return_sequences=False,bias_regularizer=l1(0.302)))(input_layer)\n",
    "drop=Dropout(0.2)(BiLSTM)\n",
    "den=Dense(1)(drop)\n",
    "model=Model(inputs=input_layer,outputs=den)\n",
    "rms_prop=RMSprop(learning_rate=0.002)\n",
    "model.compile(optimizer=rms_prop, loss='mse',metrics=[\"mae\", \"mape\",\"msle\"])\n",
    "\n",
    "model.summary()"
   ]
  },
  {
   "cell_type": "code",
   "execution_count": 20,
   "id": "d1738c00-b057-414a-adae-67570a528ddb",
   "metadata": {
    "execution": {
     "iopub.execute_input": "2023-04-11T16:24:35.174516Z",
     "iopub.status.busy": "2023-04-11T16:24:35.173889Z",
     "iopub.status.idle": "2023-04-11T16:24:35.178395Z",
     "shell.execute_reply": "2023-04-11T16:24:35.177584Z",
     "shell.execute_reply.started": "2023-04-11T16:24:35.174485Z"
    },
    "tags": []
   },
   "outputs": [],
   "source": [
    "es = EarlyStopping(monitor='val_loss', mode='min', verbose=1, patience=10)"
   ]
  },
  {
   "cell_type": "code",
   "execution_count": null,
   "id": "bc94d054-2a99-457d-b89f-21ca6fe4f040",
   "metadata": {
    "execution": {
     "iopub.execute_input": "2023-04-11T16:24:35.179657Z",
     "iopub.status.busy": "2023-04-11T16:24:35.179352Z"
    },
    "tags": []
   },
   "outputs": [
    {
     "name": "stdout",
     "output_type": "stream",
     "text": [
      "Epoch 1/500\n",
      "32/32 [==============================] - 11s 247ms/step - loss: 144.6853 - mae: 0.0489 - mape: 105.8188 - msle: 0.0038 - val_loss: 139.1088 - val_mae: 0.0366 - val_mape: 129.8715 - val_msle: 0.0020\n",
      "Epoch 2/500\n",
      "32/32 [==============================] - 7s 225ms/step - loss: 134.3543 - mae: 0.0374 - mape: 91.9596 - msle: 0.0021 - val_loss: 129.3923 - val_mae: 0.0306 - val_mape: 108.2506 - val_msle: 0.0014\n",
      "Epoch 3/500\n",
      "32/32 [==============================] - 7s 231ms/step - loss: 124.6729 - mae: 0.0292 - mape: 73.1408 - msle: 0.0014 - val_loss: 119.7255 - val_mae: 0.0249 - val_mape: 53.0703 - val_msle: 0.0010\n",
      "Epoch 4/500\n",
      "32/32 [==============================] - 8s 249ms/step - loss: 115.0096 - mae: 0.0277 - mape: 64.1632 - msle: 0.0015 - val_loss: 110.0626 - val_mae: 0.0226 - val_mape: 66.1181 - val_msle: 8.4114e-04\n",
      "Epoch 5/500\n",
      "32/32 [==============================] - 9s 292ms/step - loss: 105.3470 - mae: 0.0233 - mape: 53.0344 - msle: 8.9512e-04 - val_loss: 100.4010 - val_mae: 0.0205 - val_mape: 54.0084 - val_msle: 7.3891e-04\n",
      "Epoch 6/500\n",
      "32/32 [==============================] - 8s 269ms/step - loss: 95.6826 - mae: 0.0225 - mape: 47.8467 - msle: 9.3844e-04 - val_loss: 90.7364 - val_mae: 0.0193 - val_mape: 50.9771 - val_msle: 6.6936e-04\n",
      "Epoch 7/500\n",
      "32/32 [==============================] - 12s 382ms/step - loss: 86.0196 - mae: 0.0206 - mape: 42.0381 - msle: 7.9237e-04 - val_loss: 81.0736 - val_mae: 0.0179 - val_mape: 37.4643 - val_msle: 6.2483e-04\n",
      "Epoch 8/500\n",
      "32/32 [==============================] - 12s 380ms/step - loss: 76.3554 - mae: 0.0202 - mape: 41.9807 - msle: 7.6377e-04 - val_loss: 71.4101 - val_mae: 0.0180 - val_mape: 37.4711 - val_msle: 6.0801e-04\n",
      "Epoch 9/500\n",
      "32/32 [==============================] - 13s 428ms/step - loss: 66.6915 - mae: 0.0202 - mape: 40.7355 - msle: 8.0581e-04 - val_loss: 61.7468 - val_mae: 0.0175 - val_mape: 44.3594 - val_msle: 5.7008e-04\n",
      "Epoch 10/500\n",
      "32/32 [==============================] - ETA: 0s - loss: 57.0276 - mae: 0.0214 - mape: 39.1076 - msle: 8.9498e-04"
     ]
    }
   ],
   "source": [
    "history = model.fit(train_X,train_Y,validation_data=(test_X, test_Y),epochs=500,batch_size=24, steps_per_epoch=32, shuffle=True, callbacks=[es])"
   ]
  },
  {
   "cell_type": "code",
   "execution_count": null,
   "id": "14927ccc-01a9-4e52-848e-71e72a1dacdd",
   "metadata": {
    "tags": []
   },
   "outputs": [],
   "source": [
    "import matplotlib.pyplot as plt\n",
    "%matplotlib inline\n",
    "loss = history.history['loss']\n",
    "val_loss = history.history['val_loss']\n",
    "plt.plot(loss, 'g+', label='Training loss')\n",
    "plt.plot(val_loss, 'r', label='Validation loss')\n",
    "plt.title('Training  and validation loss')\n",
    "plt.xlabel('Epochs')\n",
    "plt.ylabel('Loss')\n",
    "plt.legend()\n",
    "plt.show()"
   ]
  },
  {
   "cell_type": "code",
   "execution_count": null,
   "id": "855e24c8-d70c-4727-a174-6d416bb71e0e",
   "metadata": {
    "tags": []
   },
   "outputs": [],
   "source": [
    "prediction_train=model.predict(train_X)\n",
    "prediction_train.shape"
   ]
  },
  {
   "cell_type": "code",
   "execution_count": null,
   "id": "baf053d5-f675-47a2-ac17-231e64d046fe",
   "metadata": {
    "tags": []
   },
   "outputs": [],
   "source": [
    "prediction_test=model.predict(test_X)\n",
    "prediction_test.shape"
   ]
  },
  {
   "cell_type": "code",
   "execution_count": null,
   "id": "c3568509-9e81-4556-b669-d7b6d20003f5",
   "metadata": {
    "tags": []
   },
   "outputs": [],
   "source": [
    "from keras.layers import concatenate\n",
    "print(test_data.shape)\n",
    "test1=test_data[24:,:]\n",
    "print(test1.shape)\n",
    "print(type(test1),type(prediction_test))\n",
    "pri1=concatenate((prediction_test,test1),axis=1)"
   ]
  },
  {
   "cell_type": "code",
   "execution_count": null,
   "id": "1aee3285-cae6-4cff-b436-8c817d4158b2",
   "metadata": {
    "tags": []
   },
   "outputs": [],
   "source": [
    "rescaled_prediction = scaler.inverse_transform(pri1)\n",
    "print('rescaled_prediction shape', rescaled_prediction.shape)\n",
    "#print(rescaled_prediction[-5:,0])\n",
    "#print(rescaled_prediction[:,0])\n",
    "rescaled_prediction_pollution=rescaled_prediction[:len(test_X),0]\n",
    "print(rescaled_prediction_pollution.shape)\n",
    "test_data_actual_scale=scaler.inverse_transform(test_data)\n",
    "print('test_data_actual_scale shape', test_data_actual_scale.shape)\n",
    "test_data_actual_pollution=test_data_actual_scale[22:len(test_X)+22,0]\n",
    "#test_data_actual_pollution=test_data_actual_scale[0:30,0]\n",
    "print(test_data_actual_pollution.shape)"
   ]
  },
  {
   "cell_type": "code",
   "execution_count": null,
   "id": "50c0982b-32bb-4878-87d1-87bb9a7311a3",
   "metadata": {
    "tags": []
   },
   "outputs": [],
   "source": [
    "rescaled_prediction_pollution.shape"
   ]
  },
  {
   "cell_type": "code",
   "execution_count": null,
   "id": "dda539bc-fff8-47b3-97b8-c60b01909cfa",
   "metadata": {
    "tags": []
   },
   "outputs": [],
   "source": [
    "plt.figure(figsize=(30,6))  \n",
    "plt.plot(test_data_actual_pollution , color = 'red', label = 'Actual Pollution level')\n",
    "plt.plot(rescaled_prediction_pollution, color= 'green', label = 'Predicted Pollution level')\n",
    "\n",
    "plt.title(\"Air Pollution Prediction (Multivariate)\")\n",
    "plt.xlabel(\"Date\")\n",
    "plt.ylabel(\"Pollution level\")\n",
    "plt.legend()\n",
    "plt.show()"
   ]
  },
  {
   "cell_type": "code",
   "execution_count": null,
   "id": "9f757f0e-827a-4e58-beeb-7dc5d8c22c63",
   "metadata": {
    "tags": []
   },
   "outputs": [],
   "source": [
    "from sklearn.metrics import mean_squared_error\n",
    "from math import sqrt\n",
    "rmse = sqrt(mean_squared_error(rescaled_prediction_pollution,test_data_actual_pollution))\n",
    "print('Test RMSE: %.3f' % rmse)"
   ]
  },
  {
   "cell_type": "code",
   "execution_count": null,
   "id": "1a311d49-7bfe-42ae-8dbd-d032d3b83937",
   "metadata": {
    "tags": []
   },
   "outputs": [],
   "source": [
    "from sklearn.metrics import mean_absolute_error\n",
    "mae=mean_absolute_error(test_data_actual_pollution,rescaled_prediction_pollution)\n",
    "print('Test MAE: %.3f' % mae)"
   ]
  },
  {
   "cell_type": "code",
   "execution_count": null,
   "id": "6625aa6b-8278-48b1-8885-3fe82e133a4f",
   "metadata": {
    "tags": []
   },
   "outputs": [],
   "source": [
    "from sklearn.metrics import mean_absolute_percentage_error\n",
    "mape=mean_absolute_percentage_error(test_data_actual_pollution,rescaled_prediction_pollution)\n",
    "print('Test MAPE: %.3f' % mape)"
   ]
  },
  {
   "cell_type": "code",
   "execution_count": null,
   "id": "b23e6e92-0eac-4c91-aef9-1ec0b580fafb",
   "metadata": {
    "tags": []
   },
   "outputs": [],
   "source": [
    "df1=pd.DataFrame()\n",
    "df1['actual'] = pd.DataFrame(test_data_actual_pollution)\n",
    "df1['predicted']=pd.DataFrame(rescaled_prediction_pollution)\n",
    "plt.scatter(df1['actual'],df1['predicted'])\n",
    "plt.plot([0,df1['actual'].max()],[0,df1['predicted'].max()],color='red')"
   ]
  },
  {
   "cell_type": "markdown",
   "id": "6e720881-4141-4900-a2d4-465ccf17c5bf",
   "metadata": {},
   "source": [
    "# train"
   ]
  },
  {
   "cell_type": "code",
   "execution_count": null,
   "id": "e6c31c7c-602d-46fb-864f-e7aab98d6288",
   "metadata": {
    "tags": []
   },
   "outputs": [],
   "source": [
    "from keras.layers import concatenate\n",
    "print(train_data.shape)\n",
    "train1=train_data[24:,:]\n",
    "print(train1.shape)\n",
    "print(type(train1),type(prediction_train))\n",
    "pri1=concatenate((prediction_train,train1),axis=1)"
   ]
  },
  {
   "cell_type": "code",
   "execution_count": null,
   "id": "225be9e6-85e7-441d-962f-590c59956043",
   "metadata": {
    "tags": []
   },
   "outputs": [],
   "source": [
    "rescaled_prediction = scaler.inverse_transform(pri1)\n",
    "print('rescaled_prediction shape', rescaled_prediction.shape)\n",
    "#print(rescaled_prediction[-5:,0])\n",
    "#print(rescaled_prediction[:,0])\n",
    "rescaled_prediction_pollution=rescaled_prediction[:len(train_X),0]\n",
    "print(rescaled_prediction_pollution.shape)\n",
    "train_data_actual_scale=scaler.inverse_transform(train_data)\n",
    "print('train_data_actual_scale shape', train_data_actual_scale.shape)\n",
    "train_data_actual_pollution=train_data_actual_scale[22:len(train_X)+22,0]\n",
    "#train_data_actual_pollution=train_data_actual_scale[0:30,0]\n",
    "print(train_data_actual_pollution.shape)"
   ]
  },
  {
   "cell_type": "code",
   "execution_count": null,
   "id": "fd8137e0-fa1f-49a7-b218-006ac4e546fc",
   "metadata": {
    "tags": []
   },
   "outputs": [],
   "source": [
    "plt.figure(figsize=(30,6))  \n",
    "plt.plot(train_data_actual_pollution , color = 'red', label = 'Actual Pollution level')\n",
    "plt.plot(rescaled_prediction_pollution, color= 'green', label = 'Predicted Pollution level')\n",
    "\n",
    "plt.title(\"Air Pollution Prediction (Multivariate)\")\n",
    "plt.xlabel(\"Date\")\n",
    "plt.ylabel(\"Pollution level\")\n",
    "plt.legend()\n",
    "plt.show()"
   ]
  },
  {
   "cell_type": "code",
   "execution_count": null,
   "id": "87769e83-4427-4a66-9d72-a6d0ce6b9417",
   "metadata": {
    "tags": []
   },
   "outputs": [],
   "source": [
    "rmse = sqrt(mean_squared_error(rescaled_prediction_pollution,train_data_actual_pollution))\n",
    "print('Train RMSE: %.3f' % rmse)"
   ]
  },
  {
   "cell_type": "code",
   "execution_count": null,
   "id": "5aa7e057-fcbf-4b7e-9450-8b7e10892cd9",
   "metadata": {
    "tags": []
   },
   "outputs": [],
   "source": [
    "mae=mean_absolute_error(train_data_actual_pollution,rescaled_prediction_pollution)\n",
    "print('Train MAE: %.3f' % mae)"
   ]
  },
  {
   "cell_type": "code",
   "execution_count": null,
   "id": "261fb94e-ee42-418f-b430-290e67f51ce2",
   "metadata": {
    "tags": []
   },
   "outputs": [],
   "source": [
    "mape=mean_absolute_percentage_error(train_data_actual_pollution,rescaled_prediction_pollution)\n",
    "print('Train MAPE: %.3f' % mape)"
   ]
  },
  {
   "cell_type": "code",
   "execution_count": null,
   "id": "19a143dc-06af-4aa0-a4ce-852131e3e889",
   "metadata": {
    "tags": []
   },
   "outputs": [],
   "source": [
    "df1=pd.DataFrame()\n",
    "df1['actual'] = pd.DataFrame(test_data_actual_pollution)\n",
    "df1['predicted']=pd.DataFrame(rescaled_prediction_pollution)\n",
    "plt.scatter(df1['actual'],df1['predicted'])\n",
    "plt.plot([0,df1['actual'].max()],[0,df1['predicted'].max()],color='red')"
   ]
  },
  {
   "cell_type": "code",
   "execution_count": null,
   "id": "510fa56c-cb19-4dc1-805e-a015ddef8963",
   "metadata": {},
   "outputs": [],
   "source": []
  }
 ],
 "metadata": {
  "kernelspec": {
   "display_name": "Python 3 (ipykernel)",
   "language": "python",
   "name": "python3"
  },
  "language_info": {
   "codemirror_mode": {
    "name": "ipython",
    "version": 3
   },
   "file_extension": ".py",
   "mimetype": "text/x-python",
   "name": "python",
   "nbconvert_exporter": "python",
   "pygments_lexer": "ipython3",
   "version": "3.11.2"
  },
  "widgets": {
   "application/vnd.jupyter.widget-state+json": {
    "state": {},
    "version_major": 2,
    "version_minor": 0
   }
  }
 },
 "nbformat": 4,
 "nbformat_minor": 5
}
